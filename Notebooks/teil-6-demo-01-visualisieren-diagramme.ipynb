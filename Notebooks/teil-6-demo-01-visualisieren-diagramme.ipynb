{
 "cells": [
  {
   "cell_type": "markdown",
   "id": "thick-romantic",
   "metadata": {},
   "source": [
    "# Teil 6 Demo 1: Visualisierung mit Diagrammen"
   ]
  },
  {
   "cell_type": "markdown",
   "id": "regional-examination",
   "metadata": {},
   "source": [
    "## Bibliotheken & Konfiguration"
   ]
  },
  {
   "cell_type": "code",
   "execution_count": null,
   "id": "accomplished-italy",
   "metadata": {
    "ExecuteTime": {
     "end_time": "2023-06-06T16:13:40.213598500Z",
     "start_time": "2023-06-06T16:13:39.499713100Z"
    }
   },
   "outputs": [],
   "source": [
    "packages <- c(\"readr\", \"dplyr\", \"tidyr\", \"ggplot2\")\n",
    "install.packages(setdiff(packages, rownames(installed.packages())))\n",
    "lapply(packages, require, character.only = TRUE)"
   ]
  },
  {
   "cell_type": "markdown",
   "id": "hispanic-myrtle",
   "metadata": {},
   "source": [
    "## Mannheimer Bevölkerungsdaten aus dem Open Data-Portal laden und in \"long\"-Format pivotieren"
   ]
  },
  {
   "cell_type": "code",
   "execution_count": null,
   "id": "frank-opening",
   "metadata": {
    "ExecuteTime": {
     "end_time": "2023-06-06T16:13:43.321128Z",
     "start_time": "2023-06-06T16:13:42.675857100Z"
    }
   },
   "outputs": [],
   "source": [
    "mannheim.population.raw <- read_delim(\"https://mannheim.opendatasoft.com/explore/dataset/bevolkerungsbestand-in-mannheim-2009-2021/download/?format=csv&timezone=Europe/Berlin&lang=de&use_labels_for_header=true&csv_separator=%3B\",\n",
    "                                      col_names =    c(\"id\", \"jahr\", \"stadtteil_id\", \"stadtteil_name\", \"n_gesamt\", \"n_weiblich\", \"n_ohne_migration\", \"n_mit_migration\", \"n_auslaender\"),\n",
    "                                      col_types = cols(\"i\",  \"i\",    \"c\",            \"c\",              \"i\",        \"i\",          \"i\",                \"i\",               \"i\"),\n",
    "                                      skip = 1, delim=\";\")\n",
    "mannheim.population.long <- mannheim.population.raw %>% pivot_longer(!c(id, jahr, stadtteil_id, stadtteil_name), names_to=\"variable\", values_to=\"n\")\n",
    "head(mannheim.population.long)"
   ]
  },
  {
   "cell_type": "markdown",
   "id": "heard-console",
   "metadata": {},
   "source": [
    "## Einfaches Barchart der Gesamtbevölkerung vs. Zeit"
   ]
  },
  {
   "cell_type": "code",
   "execution_count": null,
   "id": "nonprofit-duplicate",
   "metadata": {
    "ExecuteTime": {
     "end_time": "2023-06-06T16:13:47.320946500Z",
     "start_time": "2023-06-06T16:13:46.874654500Z"
    }
   },
   "outputs": [],
   "source": [
    "options(repr.plot.width = 10, repr.plot.height = 5) # die Option gibt Größe/Seitenverhältnis des Outputs in Jupyter an\n",
    "ggplot(data = mannheim.population.long %>% filter(variable == \"n_gesamt\"),\n",
    "       aes(x=jahr, y=n)) +\n",
    "    geom_bar(stat = \"identity\") # Option stat=\"identity\" ist nötig, da geom_bar sonst defaultmäßig die Zahl der Datensätze zählen würde"
   ]
  },
  {
   "cell_type": "markdown",
   "id": "caring-mistake",
   "metadata": {},
   "source": [
    "## Erweiterung um Differenzierung nach Stadtteil (stacked Barchart)\n",
    "\n",
    "Hierzu nur Aufnahme von *fill=stadteil_name* in aes() nötig:"
   ]
  },
  {
   "cell_type": "code",
   "execution_count": null,
   "id": "desperate-hardware",
   "metadata": {
    "ExecuteTime": {
     "end_time": "2023-06-06T16:13:50.997870400Z",
     "start_time": "2023-06-06T16:13:49.587970600Z"
    }
   },
   "outputs": [],
   "source": [
    "options(repr.plot.width = 10, repr.plot.height = 5)\n",
    "ggplot(data = mannheim.population.long %>% filter(variable == \"n_gesamt\"),\n",
    "       aes(x=jahr, y=n, fill=stadtteil_name)) +\n",
    "    geom_bar(stat = \"identity\")"
   ]
  },
  {
   "cell_type": "markdown",
   "id": "pregnant-boating",
   "metadata": {},
   "source": [
    "## Darstellung als grouped Barchart\n",
    "\n",
    "Der Übersichtlichkeit halber auf 3 Stadtteile gefiltert\n",
    "\n",
    "Hierzu nur Ergänzung von *position=\"dodge\"* im geom_bar() nötig:"
   ]
  },
  {
   "cell_type": "code",
   "execution_count": null,
   "id": "strategic-robert",
   "metadata": {
    "ExecuteTime": {
     "end_time": "2023-06-06T16:13:54.073171900Z",
     "start_time": "2023-06-06T16:13:53.686910100Z"
    }
   },
   "outputs": [],
   "source": [
    "options(repr.plot.width = 10, repr.plot.height = 5)\n",
    "ggplot(data = mannheim.population.long %>% filter(variable == \"n_gesamt\", stadtteil_name %in% c(\"Innenstadt\", \"Jungbusch\", \"Seckenheim\")),\n",
    "       aes(x=jahr, y=n, fill=stadtteil_name)) +\n",
    "    geom_bar(stat = \"identity\", position=\"dodge\")"
   ]
  },
  {
   "cell_type": "markdown",
   "id": "improving-dealer",
   "metadata": {},
   "source": [
    "## Darstellung als Barchart mit prozentualem Anteil\n",
    "\n",
    "Der Übersichtlichkeit halber auf 3 Stadtteile gefiltert\n",
    "\n",
    "Hierzu nur Änderung auf *position=\"fill\"* im geom_bar() nötig:"
   ]
  },
  {
   "cell_type": "code",
   "execution_count": null,
   "id": "convenient-economics",
   "metadata": {
    "ExecuteTime": {
     "end_time": "2023-06-06T16:14:00.642387600Z",
     "start_time": "2023-06-06T16:14:00.257701Z"
    }
   },
   "outputs": [],
   "source": [
    "options(repr.plot.width = 10, repr.plot.height = 5)\n",
    "ggplot(data = mannheim.population.long %>% filter(variable == \"n_gesamt\", stadtteil_name %in% c(\"Innenstadt\", \"Jungbusch\", \"Seckenheim\")),\n",
    "       aes(x=jahr, y=n, fill=stadtteil_name)) +\n",
    "    geom_bar(stat = \"identity\", position=\"fill\")"
   ]
  },
  {
   "cell_type": "markdown",
   "id": "dangerous-questionnaire",
   "metadata": {},
   "source": [
    "## Darstellung Bevölkerung nach Stadtteil in 2020 als Piechart\n",
    "\n",
    "Der Übersichtlichkeit halber auf 3 Stadtteile gefiltert\n",
    "\n",
    "ggplot sieht kein eigenes geom für Kuchendiagramme vor, stattdessen wird ein Barchart auf ein Polar-Koordinatensystem abgebildet:"
   ]
  },
  {
   "cell_type": "code",
   "execution_count": null,
   "id": "seeing-promise",
   "metadata": {
    "ExecuteTime": {
     "end_time": "2023-06-06T16:14:04.408042300Z",
     "start_time": "2023-06-06T16:14:03.942295600Z"
    }
   },
   "outputs": [],
   "source": [
    "options(repr.plot.width = 10, repr.plot.height = 5)\n",
    "ggplot(data = mannheim.population.long %>% filter(variable == \"n_gesamt\", jahr == 2020, stadtteil_name %in% c(\"Innenstadt\", \"Jungbusch\", \"Seckenheim\")),\n",
    "       aes(x=jahr, y=n, fill=stadtteil_name)) +\n",
    "    geom_bar(stat = \"identity\", position=\"fill\") +\n",
    "    coord_polar(\"y\", start=0)"
   ]
  },
  {
   "cell_type": "markdown",
   "id": "played-dependence",
   "metadata": {},
   "source": [
    "# Aufteilung auf mehrere Subplots nach Stadtteil"
   ]
  },
  {
   "cell_type": "code",
   "execution_count": null,
   "id": "twelve-fiction",
   "metadata": {
    "ExecuteTime": {
     "end_time": "2023-06-06T16:14:12.262414900Z",
     "start_time": "2023-06-06T16:14:07.920147700Z"
    }
   },
   "outputs": [],
   "source": [
    "options(repr.plot.width = 10, repr.plot.height = 5)\n",
    "ggplot(data = mannheim.population.long %>% filter(variable == \"n_gesamt\"),\n",
    "       aes(x=jahr, y=n, fill=stadtteil_name)) +\n",
    "    geom_bar(stat = \"identity\") +\n",
    "    facet_wrap(~stadtteil_name)"
   ]
  },
  {
   "cell_type": "markdown",
   "id": "interesting-collaboration",
   "metadata": {},
   "source": [
    "# Gesamtmittelwert Bevölkerung (alle Jahre/alle Stadtteile) hinzufügen\n",
    "\n",
    "Hierzu wird ein zusätzliches geom ergänzt (geom_hline), dessen Wert \"on-the-fly\" aus den Daten des Gesamtplots berechnet wird:"
   ]
  },
  {
   "cell_type": "code",
   "execution_count": null,
   "id": "swedish-recipient",
   "metadata": {
    "ExecuteTime": {
     "end_time": "2023-06-06T16:14:19.613206400Z",
     "start_time": "2023-06-06T16:14:16.130995500Z"
    }
   },
   "outputs": [],
   "source": [
    "options(repr.plot.width = 10, repr.plot.height = 5)\n",
    "ggplot(data = mannheim.population.long %>% filter(variable == \"n_gesamt\"),\n",
    "       aes(x=jahr, y=n, fill=stadtteil_name)) +\n",
    "    geom_bar(stat = \"identity\") +\n",
    "    geom_hline(aes(yintercept=mean(n)), colour=\"grey50\") +\n",
    "    facet_wrap(~stadtteil_name)"
   ]
  },
  {
   "cell_type": "markdown",
   "id": "completed-detector",
   "metadata": {},
   "source": [
    "## Bevölkerung mit Migrationshintergrund als zweite Kennzahl hinzufügen\n",
    "\n",
    "Hierzu wird ein weiteres geom (geom_point) ergänzt, das eine separate Datenquelle hat (gleicher Grunddatensatz und X-Achse, aber auf eine andere Kennzahl gefiltert):"
   ]
  },
  {
   "cell_type": "code",
   "execution_count": null,
   "id": "present-radius",
   "metadata": {
    "ExecuteTime": {
     "end_time": "2023-06-06T16:14:26.907744700Z",
     "start_time": "2023-06-06T16:14:22.900065100Z"
    }
   },
   "outputs": [],
   "source": [
    "options(repr.plot.width = 10, repr.plot.height = 5)\n",
    "ggplot(data = mannheim.population.long %>% filter(variable == \"n_gesamt\"),\n",
    "       aes(x = jahr, y = n, fill = stadtteil_name)) +\n",
    "    geom_bar(stat = \"identity\") +\n",
    "    geom_point(data = mannheim.population.long %>% filter(variable == \"n_mit_migration\"),\n",
    "               aes(x = jahr, y = n), size = 0.5) +\n",
    "    facet_wrap(~stadtteil_name)"
   ]
  },
  {
   "cell_type": "markdown",
   "id": "appropriate-bahrain",
   "metadata": {},
   "source": [
    "## Formatierung anpassen\n",
    "\n",
    "* Beschriftung X-Achse kleiner und hochkant\n",
    "* Beschriftung Y-Achse noch kleiner\n",
    "* Beschriftung der Einzelplot-Titel kleiner\n",
    "* Ausblenden der Legende, da redundant mit den Einzelplot-Titeln"
   ]
  },
  {
   "cell_type": "code",
   "execution_count": null,
   "id": "surface-graph",
   "metadata": {
    "ExecuteTime": {
     "end_time": "2023-06-06T16:14:33.347190600Z",
     "start_time": "2023-06-06T16:14:30.601369100Z"
    },
    "tags": []
   },
   "outputs": [],
   "source": [
    "options(repr.plot.width = 10, repr.plot.height = 5)\n",
    "ggplot(data = mannheim.population.long %>% filter(variable == \"n_gesamt\"),\n",
    "       aes(x=jahr, y=n, fill=stadtteil_name)) +\n",
    "    geom_bar(stat = \"identity\") +\n",
    "    geom_point(data = mannheim.population.long %>% filter(variable == \"n_mit_migration\"),\n",
    "               aes(x = jahr, y = n), size = 0.5) +\n",
    "    facet_wrap(~stadtteil_name) +\n",
    "    theme(axis.text.x = element_text(size=6, angle = 90),\n",
    "          axis.text.y = element_text(size=4),\n",
    "          strip.text.x.top = element_text(size = 6)\n",
    "         ) +\n",
    "    guides(fill = \"none\")"
   ]
  }
 ],
 "metadata": {
  "kernelspec": {
   "display_name": "R",
   "language": "R",
   "name": "ir"
  },
  "language_info": {
   "codemirror_mode": "r",
   "file_extension": ".r",
   "mimetype": "text/x-r-source",
   "name": "R",
   "pygments_lexer": "r",
   "version": "4.2.3"
  }
 },
 "nbformat": 4,
 "nbformat_minor": 5
}
