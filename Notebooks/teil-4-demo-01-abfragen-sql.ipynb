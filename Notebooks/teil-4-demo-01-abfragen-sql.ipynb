{
 "cells": [
  {
   "cell_type": "markdown",
   "id": "diagnostic-concentrate",
   "metadata": {},
   "source": [
    "# Teil 4 Demo 1: Abfragen mit SQL"
   ]
  },
  {
   "cell_type": "markdown",
   "id": "bigger-protection",
   "metadata": {},
   "source": [
    "## Bibliotheken & Konfiguration"
   ]
  },
  {
   "cell_type": "code",
   "execution_count": null,
   "id": "advised-excellence",
   "metadata": {},
   "outputs": [],
   "source": [
    "packages <- c(\"readr\", \"DBI\", \"RSQLite\")\n",
    "install.packages(setdiff(packages, rownames(installed.packages())))\n",
    "lapply(packages, require, character.only = TRUE)\n",
    "\n",
    "base_url <- \"https://raw.githubusercontent.com/ganslats/TMF-School-2022-Block-4/master/Rohdaten/mimic-iii-demo/\""
   ]
  },
  {
   "cell_type": "markdown",
   "id": "higher-wages",
   "metadata": {},
   "source": [
    "## Ausgewählte MIMIC III-Rohdaten laden"
   ]
  },
  {
   "cell_type": "code",
   "execution_count": null,
   "id": "relative-passenger",
   "metadata": {},
   "outputs": [],
   "source": [
    "mimic.patients.raw      <- read_csv(paste(base_url, \"PATIENTS.csv\", sep=\"\"),\n",
    "                                    col_types = cols(row_id = col_double(), subject_id = col_double(), gender = col_character(), dob = col_datetime(format = \"\"), dod = col_datetime(format = \"\"), dod_hosp = col_datetime(format = \"\"), dod_ssn = col_datetime(format = \"\"), expire_flag = col_double()))\n",
    "mimic.admissions.raw    <- read_csv(paste(base_url, \"ADMISSIONS.csv\", sep=\"\"),\n",
    "                                    col_types = cols(  row_id = col_double(), subject_id = col_double(), hadm_id = col_double(), admittime = col_datetime(format = \"\"), dischtime = col_datetime(format = \"\"), deathtime = col_datetime(format = \"\"), admission_type = col_character(), admission_location = col_character(), discharge_location = col_character(), insurance = col_character(), language = col_character(), religion = col_character(), marital_status = col_character(), ethnicity = col_character(), edregtime = col_datetime(format = \"\"), edouttime = col_datetime(format = \"\"), diagnosis = col_character(), hospital_expire_flag = col_double(), has_chartevents_data = col_double()))\n",
    "mimic.prescriptions.raw <- read_csv(paste(base_url, \"PRESCRIPTIONS.csv\", sep=\"\"),\n",
    "                                    col_types = cols(row_id = col_double(), subject_id = col_double(), hadm_id = col_double(), icustay_id = col_double(), startdate = col_datetime(format = \"\"), enddate = col_datetime(format = \"\"), drug_type = col_character(), drug = col_character(), drug_name_poe = col_character(), drug_name_generic = col_character(), formulary_drug_cd = col_character(), gsn = col_character(), ndc = col_character(), prod_strength = col_character(), dose_val_rx = col_character(), dose_unit_rx = col_character(), form_val_disp = col_character(), form_unit_disp = col_character(), route = col_character()))\n",
    "head(mimic.patients.raw)\n",
    "head(mimic.admissions.raw)\n",
    "head(mimic.prescriptions.raw)"
   ]
  },
  {
   "cell_type": "markdown",
   "id": "deadly-brother",
   "metadata": {},
   "source": [
    "## Rohdaten in SQLite-Datenbank (im Speicher) laden"
   ]
  },
  {
   "cell_type": "code",
   "execution_count": null,
   "id": "twelve-collaboration",
   "metadata": {},
   "outputs": [],
   "source": [
    "con <- dbConnect(RSQLite::SQLite(), \":memory:\")\n",
    "dbWriteTable(con, \"patients\",      mimic.patients.raw)\n",
    "dbWriteTable(con, \"admissions\",    mimic.admissions.raw)\n",
    "dbWriteTable(con, \"prescriptions\", mimic.prescriptions.raw)\n",
    "dbListTables(con)"
   ]
  },
  {
   "cell_type": "markdown",
   "id": "rapid-shock",
   "metadata": {},
   "source": [
    "## Alle Spalten einer Tabelle abfragen"
   ]
  },
  {
   "cell_type": "code",
   "execution_count": null,
   "id": "boxed-ancient",
   "metadata": {},
   "outputs": [],
   "source": [
    "head(dbGetQuery(con, \"\n",
    "SELECT *\n",
    "  FROM patients\n",
    "\"), 6)"
   ]
  },
  {
   "cell_type": "markdown",
   "id": "knowing-miracle",
   "metadata": {},
   "source": [
    "## Ausgewählte Spalten einer Tabelle abfragen"
   ]
  },
  {
   "cell_type": "code",
   "execution_count": null,
   "id": "compact-amazon",
   "metadata": {},
   "outputs": [],
   "source": [
    "head(dbGetQuery(con, \"\n",
    "SELECT subject_id,\n",
    "       gender\n",
    "  FROM patients\n",
    "\"))"
   ]
  },
  {
   "cell_type": "markdown",
   "id": "returning-simulation",
   "metadata": {},
   "source": [
    "## Ausgewählte Zeilen einer Tabelle abfragen"
   ]
  },
  {
   "cell_type": "code",
   "execution_count": null,
   "id": "valid-strand",
   "metadata": {},
   "outputs": [],
   "source": [
    "head(dbGetQuery(con, \"\n",
    "SELECT *\n",
    "  FROM patients\n",
    " WHERE gender = 'M'\n",
    "\"))"
   ]
  },
  {
   "cell_type": "markdown",
   "id": "smoking-facial",
   "metadata": {},
   "source": [
    "## Ergebnis auf eindeutige Datensätze reduzieren (DISTINCT)"
   ]
  },
  {
   "cell_type": "code",
   "execution_count": null,
   "id": "informational-skating",
   "metadata": {},
   "outputs": [],
   "source": [
    "head(dbGetQuery(con, \"\n",
    "SELECT DISTINCT\n",
    "       gender\n",
    "  FROM patients\n",
    "\"))"
   ]
  },
  {
   "cell_type": "markdown",
   "id": "blocked-breakdown",
   "metadata": {},
   "source": [
    "## Einfache Aggregation: Gesamtzahl der Datensätze einer Tabelle abfragen"
   ]
  },
  {
   "cell_type": "code",
   "execution_count": null,
   "id": "conservative-tissue",
   "metadata": {},
   "outputs": [],
   "source": [
    "head(dbGetQuery(con, \"\n",
    "SELECT COUNT(*) AS n\n",
    "  FROM patients\n",
    "\"))"
   ]
  },
  {
   "cell_type": "markdown",
   "id": "suspected-staff",
   "metadata": {},
   "source": [
    "## Aggregation & Gruppierung: Anzahl nach Geschlecht ermitteln"
   ]
  },
  {
   "cell_type": "code",
   "execution_count": null,
   "id": "adequate-kennedy",
   "metadata": {},
   "outputs": [],
   "source": [
    "head(dbGetQuery(con, \"\n",
    "SELECT gender,\n",
    "       COUNT(*) AS n\n",
    "  FROM patients\n",
    " GROUP BY gender\n",
    "\"))"
   ]
  },
  {
   "cell_type": "markdown",
   "id": "tight-assurance",
   "metadata": {},
   "source": [
    "## Zeilen nach der Aggregation filtern"
   ]
  },
  {
   "cell_type": "code",
   "execution_count": null,
   "id": "classified-migration",
   "metadata": {},
   "outputs": [],
   "source": [
    "head(dbGetQuery(con, \"\n",
    "SELECT gender,\n",
    "       COUNT(*) AS n\n",
    "  FROM patients\n",
    " GROUP BY gender\n",
    "HAVING COUNT(*) > 50\n",
    "\"))"
   ]
  },
  {
   "cell_type": "markdown",
   "id": "molecular-contract",
   "metadata": {},
   "source": [
    "## Tabellen per JOIN miteinander verknüpfen"
   ]
  },
  {
   "cell_type": "code",
   "execution_count": null,
   "id": "sitting-relationship",
   "metadata": {},
   "outputs": [],
   "source": [
    "head(dbGetQuery(con, \"\n",
    "SELECT pat.subject_id,\n",
    "       pat.gender,\n",
    "       adm.diagnosis\n",
    "  FROM patients   pat\n",
    "  JOIN admissions adm ON pat.subject_id = adm.subject_id\n",
    "\"))"
   ]
  },
  {
   "cell_type": "markdown",
   "id": "applicable-oxide",
   "metadata": {},
   "source": [
    "## Patient:innen mit mehr als einem Intensiv-Aufenthalt abfragen"
   ]
  },
  {
   "cell_type": "code",
   "execution_count": null,
   "id": "brown-mounting",
   "metadata": {},
   "outputs": [],
   "source": [
    "head(dbGetQuery(con, \"\n",
    "SELECT pat.subject_id,\n",
    "       COUNT(*) AS n_admissions\n",
    "  FROM patients   pat\n",
    "  JOIN admissions adm ON pat.subject_id = adm.subject_id\n",
    " GROUP BY pat.subject_id\n",
    "HAVING COUNT(*) > 1\n",
    " ORDER BY COUNT(*) DESC\n",
    "\"))"
   ]
  },
  {
   "cell_type": "markdown",
   "id": "human-barrier",
   "metadata": {},
   "source": [
    "## 2 Subsets von Verschreibungen für die Demo verschiedener Joins erzeugen\n",
    "\n",
    "* Patient:innenen mit Hauptdiagnose Sepsis\n",
    "* Patient:innen mit Gabe von Vancomycin (Reserve-Antibiotikum z.B. bei MRSA)"
   ]
  },
  {
   "cell_type": "code",
   "execution_count": null,
   "id": "homeless-ability",
   "metadata": {},
   "outputs": [],
   "source": [
    "dbExecute(con, \"CREATE TABLE demo_sepsis     AS SELECT DISTINCT subject_id FROM admissions    WHERE LOWER(diagnosis) LIKE '%sepsis%'\")\n",
    "dbExecute(con, \"CREATE TABLE demo_vancomycin AS SELECT DISTINCT subject_id FROM prescriptions WHERE LOWER(drug)      LIKE '%vancomycin%'\")"
   ]
  },
  {
   "cell_type": "markdown",
   "id": "extra-athens",
   "metadata": {},
   "source": [
    "## Patient:innen abfragen, die sowohl eine Sepsis als Hauptdiagnose hatten als auch Vancomycin erhalten haben (INNER JOIN)"
   ]
  },
  {
   "cell_type": "code",
   "execution_count": null,
   "id": "dynamic-feature",
   "metadata": {},
   "outputs": [],
   "source": [
    "head(dbGetQuery(con, \"\n",
    "SELECT *\n",
    "  FROM demo_sepsis     sep\n",
    "  JOIN demo_vancomycin van on sep.subject_id = van.subject_id\n",
    "\"), 100)"
   ]
  },
  {
   "cell_type": "markdown",
   "id": "global-quantum",
   "metadata": {},
   "source": [
    "## Alle Patient:innen abfragen, die eine Sepsis als Hauptdiagnose hatten sowie die mit Vancomycingabe ergänzen (LEFT OUTER JOIN)"
   ]
  },
  {
   "cell_type": "code",
   "execution_count": null,
   "id": "organized-litigation",
   "metadata": {},
   "outputs": [],
   "source": [
    "head(dbGetQuery(con, \"\n",
    "SELECT *\n",
    "  FROM      demo_sepsis     sep\n",
    "  LEFT JOIN demo_vancomycin van on sep.subject_id = van.subject_id\n",
    "\"), 100)"
   ]
  },
  {
   "cell_type": "markdown",
   "id": "assured-powell",
   "metadata": {},
   "source": [
    "## Alle Patient:innen abfragen, die eine Vancomycingabe hatten und die keine Sepsisdiagnose hatten (RIGHT OUTER JOIN)\n",
    "\n",
    "### Hinweis: SQLite unterstützt keine RIGHT JOINS, deshalb ist das hier als LEFT JOIN mit vertauschter Reihenfolge dargestellt"
   ]
  },
  {
   "cell_type": "code",
   "execution_count": null,
   "id": "signed-destruction",
   "metadata": {},
   "outputs": [],
   "source": [
    "head(dbGetQuery(con, \"\n",
    "SELECT *\n",
    "  FROM      demo_vancomycin van\n",
    "  LEFT JOIN demo_sepsis     sep on van.subject_id = sep.subject_id\n",
    "\"), 100)"
   ]
  },
  {
   "cell_type": "markdown",
   "id": "neither-grenada",
   "metadata": {},
   "source": [
    "## Tatsächliche Hauptdiagnosen für die Patient:innen mit Vancomycingabe ohne Sepsis ermitteln"
   ]
  },
  {
   "cell_type": "code",
   "execution_count": null,
   "id": "reported-sussex",
   "metadata": {},
   "outputs": [],
   "source": [
    "head(dbGetQuery(con, \"\n",
    "SELECT adm.diagnosis,\n",
    "       COUNT(*)\n",
    "  FROM      demo_vancomycin van\n",
    "  JOIN      admissions      adm ON van.subject_id = adm.subject_id\n",
    "  LEFT JOIN demo_sepsis     sep on van.subject_id = sep.subject_id\n",
    " WHERE sep.subject_id IS NULL\n",
    " GROUP BY adm.diagnosis\n",
    " ORDER BY COUNT(*) DESC\n",
    "\"), 20)"
   ]
  },
  {
   "cell_type": "markdown",
   "id": "vital-jaguar",
   "metadata": {},
   "source": [
    "## Datenbankverbindung schließen"
   ]
  },
  {
   "cell_type": "code",
   "execution_count": null,
   "id": "eastern-samuel",
   "metadata": {},
   "outputs": [],
   "source": [
    "dbDisconnect(con)"
   ]
  }
 ],
 "metadata": {
  "kernelspec": {
   "display_name": "R",
   "language": "R",
   "name": "ir"
  },
  "language_info": {
   "codemirror_mode": "r",
   "file_extension": ".r",
   "mimetype": "text/x-r-source",
   "name": "R",
   "pygments_lexer": "r",
   "version": "4.0.5"
  }
 },
 "nbformat": 4,
 "nbformat_minor": 5
}
