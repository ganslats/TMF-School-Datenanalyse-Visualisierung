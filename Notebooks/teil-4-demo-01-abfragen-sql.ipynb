{
 "cells": [
  {
   "cell_type": "markdown",
   "id": "diagnostic-concentrate",
   "metadata": {},
   "source": [
    "# Teil 4 Demo 1: Abfragen mit SQL"
   ]
  },
  {
   "cell_type": "markdown",
   "id": "bigger-protection",
   "metadata": {},
   "source": [
    "## Bibliotheken & Konfiguration"
   ]
  },
  {
   "cell_type": "code",
   "execution_count": 1,
   "id": "advised-excellence",
   "metadata": {
    "ExecuteTime": {
     "end_time": "2023-06-06T16:15:01.560086400Z",
     "start_time": "2023-06-06T16:15:00.732026900Z"
    }
   },
   "outputs": [
    {
     "name": "stderr",
     "output_type": "stream",
     "text": [
      "Loading required package: readr\n",
      "\n",
      "Loading required package: DBI\n",
      "\n",
      "Loading required package: RSQLite\n",
      "\n"
     ]
    },
    {
     "data": {
      "text/html": "<ol>\n\t<li>TRUE</li>\n\t<li>TRUE</li>\n\t<li>TRUE</li>\n</ol>\n",
      "text/markdown": "1. TRUE\n2. TRUE\n3. TRUE\n\n\n",
      "text/latex": "\\begin{enumerate}\n\\item TRUE\n\\item TRUE\n\\item TRUE\n\\end{enumerate}\n",
      "text/plain": "[[1]]\n[1] TRUE\n\n[[2]]\n[1] TRUE\n\n[[3]]\n[1] TRUE\n"
     },
     "metadata": {},
     "output_type": "display_data"
    }
   ],
   "source": [
    "packages <- c(\"readr\", \"DBI\", \"RSQLite\")\n",
    "install.packages(setdiff(packages, rownames(installed.packages())))\n",
    "lapply(packages, require, character.only = TRUE)\n",
    "\n",
    "base_url <- \"https://raw.githubusercontent.com/ganslats/TMF-School-2022-Block-4/master/Rohdaten/mimic-iii-demo/\""
   ]
  },
  {
   "cell_type": "markdown",
   "id": "higher-wages",
   "metadata": {},
   "source": [
    "## Ausgewählte MIMIC III-Rohdaten laden"
   ]
  },
  {
   "cell_type": "code",
   "execution_count": 2,
   "id": "relative-passenger",
   "metadata": {
    "ExecuteTime": {
     "end_time": "2023-06-06T16:15:03.094636500Z",
     "start_time": "2023-06-06T16:15:01.585351200Z"
    }
   },
   "outputs": [
    {
     "data": {
      "text/html": "<table class=\"dataframe\">\n<caption>A tibble: 6 × 8</caption>\n<thead>\n\t<tr><th scope=col>row_id</th><th scope=col>subject_id</th><th scope=col>gender</th><th scope=col>dob</th><th scope=col>dod</th><th scope=col>dod_hosp</th><th scope=col>dod_ssn</th><th scope=col>expire_flag</th></tr>\n\t<tr><th scope=col>&lt;dbl&gt;</th><th scope=col>&lt;dbl&gt;</th><th scope=col>&lt;chr&gt;</th><th scope=col>&lt;dttm&gt;</th><th scope=col>&lt;dttm&gt;</th><th scope=col>&lt;dttm&gt;</th><th scope=col>&lt;dttm&gt;</th><th scope=col>&lt;dbl&gt;</th></tr>\n</thead>\n<tbody>\n\t<tr><td>9467</td><td>10006</td><td>F</td><td>2094-03-05</td><td>2165-08-12</td><td>2165-08-12</td><td>2165-08-12</td><td>1</td></tr>\n\t<tr><td>9472</td><td>10011</td><td>F</td><td>2090-06-05</td><td>2126-08-28</td><td>2126-08-28</td><td>NA</td><td>1</td></tr>\n\t<tr><td>9474</td><td>10013</td><td>F</td><td>2038-09-03</td><td>2125-10-07</td><td>2125-10-07</td><td>2125-10-07</td><td>1</td></tr>\n\t<tr><td>9478</td><td>10017</td><td>F</td><td>2075-09-21</td><td>2152-09-12</td><td>NA</td><td>2152-09-12</td><td>1</td></tr>\n\t<tr><td>9479</td><td>10019</td><td>M</td><td>2114-06-20</td><td>2163-05-15</td><td>2163-05-15</td><td>2163-05-15</td><td>1</td></tr>\n\t<tr><td>9486</td><td>10026</td><td>F</td><td>1895-05-17</td><td>2195-11-24</td><td>NA</td><td>2195-11-24</td><td>1</td></tr>\n</tbody>\n</table>\n",
      "text/markdown": "\nA tibble: 6 × 8\n\n| row_id &lt;dbl&gt; | subject_id &lt;dbl&gt; | gender &lt;chr&gt; | dob &lt;dttm&gt; | dod &lt;dttm&gt; | dod_hosp &lt;dttm&gt; | dod_ssn &lt;dttm&gt; | expire_flag &lt;dbl&gt; |\n|---|---|---|---|---|---|---|---|\n| 9467 | 10006 | F | 2094-03-05 | 2165-08-12 | 2165-08-12 | 2165-08-12 | 1 |\n| 9472 | 10011 | F | 2090-06-05 | 2126-08-28 | 2126-08-28 | NA | 1 |\n| 9474 | 10013 | F | 2038-09-03 | 2125-10-07 | 2125-10-07 | 2125-10-07 | 1 |\n| 9478 | 10017 | F | 2075-09-21 | 2152-09-12 | NA | 2152-09-12 | 1 |\n| 9479 | 10019 | M | 2114-06-20 | 2163-05-15 | 2163-05-15 | 2163-05-15 | 1 |\n| 9486 | 10026 | F | 1895-05-17 | 2195-11-24 | NA | 2195-11-24 | 1 |\n\n",
      "text/latex": "A tibble: 6 × 8\n\\begin{tabular}{llllllll}\n row\\_id & subject\\_id & gender & dob & dod & dod\\_hosp & dod\\_ssn & expire\\_flag\\\\\n <dbl> & <dbl> & <chr> & <dttm> & <dttm> & <dttm> & <dttm> & <dbl>\\\\\n\\hline\n\t 9467 & 10006 & F & 2094-03-05 & 2165-08-12 & 2165-08-12 & 2165-08-12 & 1\\\\\n\t 9472 & 10011 & F & 2090-06-05 & 2126-08-28 & 2126-08-28 & NA & 1\\\\\n\t 9474 & 10013 & F & 2038-09-03 & 2125-10-07 & 2125-10-07 & 2125-10-07 & 1\\\\\n\t 9478 & 10017 & F & 2075-09-21 & 2152-09-12 & NA & 2152-09-12 & 1\\\\\n\t 9479 & 10019 & M & 2114-06-20 & 2163-05-15 & 2163-05-15 & 2163-05-15 & 1\\\\\n\t 9486 & 10026 & F & 1895-05-17 & 2195-11-24 & NA & 2195-11-24 & 1\\\\\n\\end{tabular}\n",
      "text/plain": "  row_id subject_id gender dob        dod        dod_hosp   dod_ssn   \n1 9467   10006      F      2094-03-05 2165-08-12 2165-08-12 2165-08-12\n2 9472   10011      F      2090-06-05 2126-08-28 2126-08-28 <NA>      \n3 9474   10013      F      2038-09-03 2125-10-07 2125-10-07 2125-10-07\n4 9478   10017      F      2075-09-21 2152-09-12 <NA>       2152-09-12\n5 9479   10019      M      2114-06-20 2163-05-15 2163-05-15 2163-05-15\n6 9486   10026      F      1895-05-17 2195-11-24 <NA>       2195-11-24\n  expire_flag\n1 1          \n2 1          \n3 1          \n4 1          \n5 1          \n6 1          "
     },
     "metadata": {},
     "output_type": "display_data"
    },
    {
     "data": {
      "text/html": "<table class=\"dataframe\">\n<caption>A tibble: 6 × 19</caption>\n<thead>\n\t<tr><th scope=col>row_id</th><th scope=col>subject_id</th><th scope=col>hadm_id</th><th scope=col>admittime</th><th scope=col>dischtime</th><th scope=col>deathtime</th><th scope=col>admission_type</th><th scope=col>admission_location</th><th scope=col>discharge_location</th><th scope=col>insurance</th><th scope=col>language</th><th scope=col>religion</th><th scope=col>marital_status</th><th scope=col>ethnicity</th><th scope=col>edregtime</th><th scope=col>edouttime</th><th scope=col>diagnosis</th><th scope=col>hospital_expire_flag</th><th scope=col>has_chartevents_data</th></tr>\n\t<tr><th scope=col>&lt;dbl&gt;</th><th scope=col>&lt;dbl&gt;</th><th scope=col>&lt;dbl&gt;</th><th scope=col>&lt;dttm&gt;</th><th scope=col>&lt;dttm&gt;</th><th scope=col>&lt;dttm&gt;</th><th scope=col>&lt;chr&gt;</th><th scope=col>&lt;chr&gt;</th><th scope=col>&lt;chr&gt;</th><th scope=col>&lt;chr&gt;</th><th scope=col>&lt;chr&gt;</th><th scope=col>&lt;chr&gt;</th><th scope=col>&lt;chr&gt;</th><th scope=col>&lt;chr&gt;</th><th scope=col>&lt;dttm&gt;</th><th scope=col>&lt;dttm&gt;</th><th scope=col>&lt;chr&gt;</th><th scope=col>&lt;dbl&gt;</th><th scope=col>&lt;dbl&gt;</th></tr>\n</thead>\n<tbody>\n\t<tr><td>12258</td><td>10006</td><td>142345</td><td>2164-10-23 21:09:00</td><td>2164-11-01 17:15:00</td><td>NA</td><td>EMERGENCY</td><td>EMERGENCY ROOM ADMIT     </td><td>HOME HEALTH CARE        </td><td>Medicare</td><td>NA</td><td>CATHOLIC</td><td>SEPARATED</td><td>BLACK/AFRICAN AMERICAN</td><td>2164-10-23 16:43:00</td><td>2164-10-23 23:00:00</td><td>SEPSIS             </td><td>0</td><td>1</td></tr>\n\t<tr><td>12263</td><td>10011</td><td>105331</td><td>2126-08-14 22:32:00</td><td>2126-08-28 18:59:00</td><td>2126-08-28 18:59:00</td><td>EMERGENCY</td><td>TRANSFER FROM HOSP/EXTRAM</td><td>DEAD/EXPIRED            </td><td>Private </td><td>NA</td><td>CATHOLIC</td><td>SINGLE   </td><td>UNKNOWN/NOT SPECIFIED </td><td>NA</td><td>NA</td><td>HEPATITIS B        </td><td>1</td><td>1</td></tr>\n\t<tr><td>12265</td><td>10013</td><td>165520</td><td>2125-10-04 23:36:00</td><td>2125-10-07 15:13:00</td><td>2125-10-07 15:13:00</td><td>EMERGENCY</td><td>TRANSFER FROM HOSP/EXTRAM</td><td>DEAD/EXPIRED            </td><td>Medicare</td><td>NA</td><td>CATHOLIC</td><td>NA       </td><td>UNKNOWN/NOT SPECIFIED </td><td>NA</td><td>NA</td><td>SEPSIS             </td><td>1</td><td>1</td></tr>\n\t<tr><td>12269</td><td>10017</td><td>199207</td><td>2149-05-26 17:19:00</td><td>2149-06-03 18:42:00</td><td>NA</td><td>EMERGENCY</td><td>EMERGENCY ROOM ADMIT     </td><td>SNF                     </td><td>Medicare</td><td>NA</td><td>CATHOLIC</td><td>DIVORCED </td><td>WHITE                 </td><td>2149-05-26 12:08:00</td><td>2149-05-26 19:45:00</td><td>HUMERAL FRACTURE   </td><td>0</td><td>1</td></tr>\n\t<tr><td>12270</td><td>10019</td><td>177759</td><td>2163-05-14 20:43:00</td><td>2163-05-15 12:00:00</td><td>2163-05-15 12:00:00</td><td>EMERGENCY</td><td>TRANSFER FROM HOSP/EXTRAM</td><td>DEAD/EXPIRED            </td><td>Medicare</td><td>NA</td><td>CATHOLIC</td><td>DIVORCED </td><td>WHITE                 </td><td>NA</td><td>NA</td><td>ALCOHOLIC HEPATITIS</td><td>1</td><td>1</td></tr>\n\t<tr><td>12277</td><td>10026</td><td>103770</td><td>2195-05-17 07:39:00</td><td>2195-05-24 11:45:00</td><td>NA</td><td>EMERGENCY</td><td>EMERGENCY ROOM ADMIT     </td><td>REHAB/DISTINCT PART HOSP</td><td>Medicare</td><td>NA</td><td>OTHER   </td><td>NA       </td><td>WHITE                 </td><td>2195-05-17 01:49:00</td><td>2195-05-17 08:29:00</td><td>STROKE/TIA         </td><td>0</td><td>1</td></tr>\n</tbody>\n</table>\n",
      "text/markdown": "\nA tibble: 6 × 19\n\n| row_id &lt;dbl&gt; | subject_id &lt;dbl&gt; | hadm_id &lt;dbl&gt; | admittime &lt;dttm&gt; | dischtime &lt;dttm&gt; | deathtime &lt;dttm&gt; | admission_type &lt;chr&gt; | admission_location &lt;chr&gt; | discharge_location &lt;chr&gt; | insurance &lt;chr&gt; | language &lt;chr&gt; | religion &lt;chr&gt; | marital_status &lt;chr&gt; | ethnicity &lt;chr&gt; | edregtime &lt;dttm&gt; | edouttime &lt;dttm&gt; | diagnosis &lt;chr&gt; | hospital_expire_flag &lt;dbl&gt; | has_chartevents_data &lt;dbl&gt; |\n|---|---|---|---|---|---|---|---|---|---|---|---|---|---|---|---|---|---|---|\n| 12258 | 10006 | 142345 | 2164-10-23 21:09:00 | 2164-11-01 17:15:00 | NA | EMERGENCY | EMERGENCY ROOM ADMIT      | HOME HEALTH CARE         | Medicare | NA | CATHOLIC | SEPARATED | BLACK/AFRICAN AMERICAN | 2164-10-23 16:43:00 | 2164-10-23 23:00:00 | SEPSIS              | 0 | 1 |\n| 12263 | 10011 | 105331 | 2126-08-14 22:32:00 | 2126-08-28 18:59:00 | 2126-08-28 18:59:00 | EMERGENCY | TRANSFER FROM HOSP/EXTRAM | DEAD/EXPIRED             | Private  | NA | CATHOLIC | SINGLE    | UNKNOWN/NOT SPECIFIED  | NA | NA | HEPATITIS B         | 1 | 1 |\n| 12265 | 10013 | 165520 | 2125-10-04 23:36:00 | 2125-10-07 15:13:00 | 2125-10-07 15:13:00 | EMERGENCY | TRANSFER FROM HOSP/EXTRAM | DEAD/EXPIRED             | Medicare | NA | CATHOLIC | NA        | UNKNOWN/NOT SPECIFIED  | NA | NA | SEPSIS              | 1 | 1 |\n| 12269 | 10017 | 199207 | 2149-05-26 17:19:00 | 2149-06-03 18:42:00 | NA | EMERGENCY | EMERGENCY ROOM ADMIT      | SNF                      | Medicare | NA | CATHOLIC | DIVORCED  | WHITE                  | 2149-05-26 12:08:00 | 2149-05-26 19:45:00 | HUMERAL FRACTURE    | 0 | 1 |\n| 12270 | 10019 | 177759 | 2163-05-14 20:43:00 | 2163-05-15 12:00:00 | 2163-05-15 12:00:00 | EMERGENCY | TRANSFER FROM HOSP/EXTRAM | DEAD/EXPIRED             | Medicare | NA | CATHOLIC | DIVORCED  | WHITE                  | NA | NA | ALCOHOLIC HEPATITIS | 1 | 1 |\n| 12277 | 10026 | 103770 | 2195-05-17 07:39:00 | 2195-05-24 11:45:00 | NA | EMERGENCY | EMERGENCY ROOM ADMIT      | REHAB/DISTINCT PART HOSP | Medicare | NA | OTHER    | NA        | WHITE                  | 2195-05-17 01:49:00 | 2195-05-17 08:29:00 | STROKE/TIA          | 0 | 1 |\n\n",
      "text/latex": "A tibble: 6 × 19\n\\begin{tabular}{lllllllllllllllllll}\n row\\_id & subject\\_id & hadm\\_id & admittime & dischtime & deathtime & admission\\_type & admission\\_location & discharge\\_location & insurance & language & religion & marital\\_status & ethnicity & edregtime & edouttime & diagnosis & hospital\\_expire\\_flag & has\\_chartevents\\_data\\\\\n <dbl> & <dbl> & <dbl> & <dttm> & <dttm> & <dttm> & <chr> & <chr> & <chr> & <chr> & <chr> & <chr> & <chr> & <chr> & <dttm> & <dttm> & <chr> & <dbl> & <dbl>\\\\\n\\hline\n\t 12258 & 10006 & 142345 & 2164-10-23 21:09:00 & 2164-11-01 17:15:00 & NA & EMERGENCY & EMERGENCY ROOM ADMIT      & HOME HEALTH CARE         & Medicare & NA & CATHOLIC & SEPARATED & BLACK/AFRICAN AMERICAN & 2164-10-23 16:43:00 & 2164-10-23 23:00:00 & SEPSIS              & 0 & 1\\\\\n\t 12263 & 10011 & 105331 & 2126-08-14 22:32:00 & 2126-08-28 18:59:00 & 2126-08-28 18:59:00 & EMERGENCY & TRANSFER FROM HOSP/EXTRAM & DEAD/EXPIRED             & Private  & NA & CATHOLIC & SINGLE    & UNKNOWN/NOT SPECIFIED  & NA & NA & HEPATITIS B         & 1 & 1\\\\\n\t 12265 & 10013 & 165520 & 2125-10-04 23:36:00 & 2125-10-07 15:13:00 & 2125-10-07 15:13:00 & EMERGENCY & TRANSFER FROM HOSP/EXTRAM & DEAD/EXPIRED             & Medicare & NA & CATHOLIC & NA        & UNKNOWN/NOT SPECIFIED  & NA & NA & SEPSIS              & 1 & 1\\\\\n\t 12269 & 10017 & 199207 & 2149-05-26 17:19:00 & 2149-06-03 18:42:00 & NA & EMERGENCY & EMERGENCY ROOM ADMIT      & SNF                      & Medicare & NA & CATHOLIC & DIVORCED  & WHITE                  & 2149-05-26 12:08:00 & 2149-05-26 19:45:00 & HUMERAL FRACTURE    & 0 & 1\\\\\n\t 12270 & 10019 & 177759 & 2163-05-14 20:43:00 & 2163-05-15 12:00:00 & 2163-05-15 12:00:00 & EMERGENCY & TRANSFER FROM HOSP/EXTRAM & DEAD/EXPIRED             & Medicare & NA & CATHOLIC & DIVORCED  & WHITE                  & NA & NA & ALCOHOLIC HEPATITIS & 1 & 1\\\\\n\t 12277 & 10026 & 103770 & 2195-05-17 07:39:00 & 2195-05-24 11:45:00 & NA & EMERGENCY & EMERGENCY ROOM ADMIT      & REHAB/DISTINCT PART HOSP & Medicare & NA & OTHER    & NA        & WHITE                  & 2195-05-17 01:49:00 & 2195-05-17 08:29:00 & STROKE/TIA          & 0 & 1\\\\\n\\end{tabular}\n",
      "text/plain": "  row_id subject_id hadm_id admittime           dischtime          \n1 12258  10006      142345  2164-10-23 21:09:00 2164-11-01 17:15:00\n2 12263  10011      105331  2126-08-14 22:32:00 2126-08-28 18:59:00\n3 12265  10013      165520  2125-10-04 23:36:00 2125-10-07 15:13:00\n4 12269  10017      199207  2149-05-26 17:19:00 2149-06-03 18:42:00\n5 12270  10019      177759  2163-05-14 20:43:00 2163-05-15 12:00:00\n6 12277  10026      103770  2195-05-17 07:39:00 2195-05-24 11:45:00\n  deathtime           admission_type admission_location       \n1 <NA>                EMERGENCY      EMERGENCY ROOM ADMIT     \n2 2126-08-28 18:59:00 EMERGENCY      TRANSFER FROM HOSP/EXTRAM\n3 2125-10-07 15:13:00 EMERGENCY      TRANSFER FROM HOSP/EXTRAM\n4 <NA>                EMERGENCY      EMERGENCY ROOM ADMIT     \n5 2163-05-15 12:00:00 EMERGENCY      TRANSFER FROM HOSP/EXTRAM\n6 <NA>                EMERGENCY      EMERGENCY ROOM ADMIT     \n  discharge_location       insurance language religion marital_status\n1 HOME HEALTH CARE         Medicare  NA       CATHOLIC SEPARATED     \n2 DEAD/EXPIRED             Private   NA       CATHOLIC SINGLE        \n3 DEAD/EXPIRED             Medicare  NA       CATHOLIC NA            \n4 SNF                      Medicare  NA       CATHOLIC DIVORCED      \n5 DEAD/EXPIRED             Medicare  NA       CATHOLIC DIVORCED      \n6 REHAB/DISTINCT PART HOSP Medicare  NA       OTHER    NA            \n  ethnicity              edregtime           edouttime          \n1 BLACK/AFRICAN AMERICAN 2164-10-23 16:43:00 2164-10-23 23:00:00\n2 UNKNOWN/NOT SPECIFIED  <NA>                <NA>               \n3 UNKNOWN/NOT SPECIFIED  <NA>                <NA>               \n4 WHITE                  2149-05-26 12:08:00 2149-05-26 19:45:00\n5 WHITE                  <NA>                <NA>               \n6 WHITE                  2195-05-17 01:49:00 2195-05-17 08:29:00\n  diagnosis           hospital_expire_flag has_chartevents_data\n1 SEPSIS              0                    1                   \n2 HEPATITIS B         1                    1                   \n3 SEPSIS              1                    1                   \n4 HUMERAL FRACTURE    0                    1                   \n5 ALCOHOLIC HEPATITIS 1                    1                   \n6 STROKE/TIA          0                    1                   "
     },
     "metadata": {},
     "output_type": "display_data"
    },
    {
     "data": {
      "text/html": "<table class=\"dataframe\">\n<caption>A tibble: 6 × 19</caption>\n<thead>\n\t<tr><th scope=col>row_id</th><th scope=col>subject_id</th><th scope=col>hadm_id</th><th scope=col>icustay_id</th><th scope=col>startdate</th><th scope=col>enddate</th><th scope=col>drug_type</th><th scope=col>drug</th><th scope=col>drug_name_poe</th><th scope=col>drug_name_generic</th><th scope=col>formulary_drug_cd</th><th scope=col>gsn</th><th scope=col>ndc</th><th scope=col>prod_strength</th><th scope=col>dose_val_rx</th><th scope=col>dose_unit_rx</th><th scope=col>form_val_disp</th><th scope=col>form_unit_disp</th><th scope=col>route</th></tr>\n\t<tr><th scope=col>&lt;dbl&gt;</th><th scope=col>&lt;dbl&gt;</th><th scope=col>&lt;dbl&gt;</th><th scope=col>&lt;dbl&gt;</th><th scope=col>&lt;dttm&gt;</th><th scope=col>&lt;dttm&gt;</th><th scope=col>&lt;chr&gt;</th><th scope=col>&lt;chr&gt;</th><th scope=col>&lt;chr&gt;</th><th scope=col>&lt;chr&gt;</th><th scope=col>&lt;chr&gt;</th><th scope=col>&lt;chr&gt;</th><th scope=col>&lt;chr&gt;</th><th scope=col>&lt;chr&gt;</th><th scope=col>&lt;chr&gt;</th><th scope=col>&lt;chr&gt;</th><th scope=col>&lt;chr&gt;</th><th scope=col>&lt;chr&gt;</th><th scope=col>&lt;chr&gt;</th></tr>\n</thead>\n<tbody>\n\t<tr><td>32600</td><td>42458</td><td>159647</td><td>NA</td><td>2146-07-21</td><td>2146-07-22</td><td>MAIN</td><td>Pneumococcal Vac Polyvalent</td><td>Pneumococcal Vac Polyvalent</td><td>PNEUMOcoccal Vac Polyvalent</td><td>PNEU25I </td><td>048548</td><td>00006494300</td><td>25mcg/0.5mL Vial         </td><td>0.5 </td><td>mL  </td><td>1</td><td>VIAL </td><td>IM</td></tr>\n\t<tr><td>32601</td><td>42458</td><td>159647</td><td>NA</td><td>2146-07-21</td><td>2146-07-22</td><td>MAIN</td><td>Bisacodyl                  </td><td>Bisacodyl                  </td><td>Bisacodyl                  </td><td>BISA5   </td><td>002947</td><td>00536338101</td><td>5 mg Tab                 </td><td>10  </td><td>mg  </td><td>2</td><td>TAB  </td><td>PO</td></tr>\n\t<tr><td>32602</td><td>42458</td><td>159647</td><td>NA</td><td>2146-07-21</td><td>2146-07-22</td><td>MAIN</td><td>Bisacodyl                  </td><td>Bisacodyl                  </td><td>Bisacodyl (Rectal)         </td><td>BISA10R </td><td>002944</td><td>00574705050</td><td>10mg Suppository         </td><td>10  </td><td>mg  </td><td>1</td><td>SUPP </td><td>PR</td></tr>\n\t<tr><td>32603</td><td>42458</td><td>159647</td><td>NA</td><td>2146-07-21</td><td>2146-07-22</td><td>MAIN</td><td>Senna                      </td><td>Senna                      </td><td>Senna                      </td><td>SENN187 </td><td>019964</td><td>00904516561</td><td>1 Tablet                 </td><td>1   </td><td>TAB </td><td>1</td><td>TAB  </td><td>PO</td></tr>\n\t<tr><td>32604</td><td>42458</td><td>159647</td><td>NA</td><td>2146-07-21</td><td>2146-07-21</td><td>MAIN</td><td>Docusate Sodium (Liquid)   </td><td>Docusate Sodium (Liquid)   </td><td>Docusate Sodium (Liquid)   </td><td>DOCU100L</td><td>003017</td><td>00121054410</td><td>100mg UD Cup             </td><td>100 </td><td>mg  </td><td>1</td><td>UDCUP</td><td>PO</td></tr>\n\t<tr><td>32605</td><td>42458</td><td>159647</td><td>NA</td><td>2146-07-21</td><td>2146-07-22</td><td>MAIN</td><td>Heparin                    </td><td>Heparin                    </td><td>Heparin Sodium             </td><td>HEPA5I  </td><td>006549</td><td>63323026201</td><td>5000 Units / mL- 1mL Vial</td><td>5000</td><td>UNIT</td><td>1</td><td>mL   </td><td>SC</td></tr>\n</tbody>\n</table>\n",
      "text/markdown": "\nA tibble: 6 × 19\n\n| row_id &lt;dbl&gt; | subject_id &lt;dbl&gt; | hadm_id &lt;dbl&gt; | icustay_id &lt;dbl&gt; | startdate &lt;dttm&gt; | enddate &lt;dttm&gt; | drug_type &lt;chr&gt; | drug &lt;chr&gt; | drug_name_poe &lt;chr&gt; | drug_name_generic &lt;chr&gt; | formulary_drug_cd &lt;chr&gt; | gsn &lt;chr&gt; | ndc &lt;chr&gt; | prod_strength &lt;chr&gt; | dose_val_rx &lt;chr&gt; | dose_unit_rx &lt;chr&gt; | form_val_disp &lt;chr&gt; | form_unit_disp &lt;chr&gt; | route &lt;chr&gt; |\n|---|---|---|---|---|---|---|---|---|---|---|---|---|---|---|---|---|---|---|\n| 32600 | 42458 | 159647 | NA | 2146-07-21 | 2146-07-22 | MAIN | Pneumococcal Vac Polyvalent | Pneumococcal Vac Polyvalent | PNEUMOcoccal Vac Polyvalent | PNEU25I  | 048548 | 00006494300 | 25mcg/0.5mL Vial          | 0.5  | mL   | 1 | VIAL  | IM |\n| 32601 | 42458 | 159647 | NA | 2146-07-21 | 2146-07-22 | MAIN | Bisacodyl                   | Bisacodyl                   | Bisacodyl                   | BISA5    | 002947 | 00536338101 | 5 mg Tab                  | 10   | mg   | 2 | TAB   | PO |\n| 32602 | 42458 | 159647 | NA | 2146-07-21 | 2146-07-22 | MAIN | Bisacodyl                   | Bisacodyl                   | Bisacodyl (Rectal)          | BISA10R  | 002944 | 00574705050 | 10mg Suppository          | 10   | mg   | 1 | SUPP  | PR |\n| 32603 | 42458 | 159647 | NA | 2146-07-21 | 2146-07-22 | MAIN | Senna                       | Senna                       | Senna                       | SENN187  | 019964 | 00904516561 | 1 Tablet                  | 1    | TAB  | 1 | TAB   | PO |\n| 32604 | 42458 | 159647 | NA | 2146-07-21 | 2146-07-21 | MAIN | Docusate Sodium (Liquid)    | Docusate Sodium (Liquid)    | Docusate Sodium (Liquid)    | DOCU100L | 003017 | 00121054410 | 100mg UD Cup              | 100  | mg   | 1 | UDCUP | PO |\n| 32605 | 42458 | 159647 | NA | 2146-07-21 | 2146-07-22 | MAIN | Heparin                     | Heparin                     | Heparin Sodium              | HEPA5I   | 006549 | 63323026201 | 5000 Units / mL- 1mL Vial | 5000 | UNIT | 1 | mL    | SC |\n\n",
      "text/latex": "A tibble: 6 × 19\n\\begin{tabular}{lllllllllllllllllll}\n row\\_id & subject\\_id & hadm\\_id & icustay\\_id & startdate & enddate & drug\\_type & drug & drug\\_name\\_poe & drug\\_name\\_generic & formulary\\_drug\\_cd & gsn & ndc & prod\\_strength & dose\\_val\\_rx & dose\\_unit\\_rx & form\\_val\\_disp & form\\_unit\\_disp & route\\\\\n <dbl> & <dbl> & <dbl> & <dbl> & <dttm> & <dttm> & <chr> & <chr> & <chr> & <chr> & <chr> & <chr> & <chr> & <chr> & <chr> & <chr> & <chr> & <chr> & <chr>\\\\\n\\hline\n\t 32600 & 42458 & 159647 & NA & 2146-07-21 & 2146-07-22 & MAIN & Pneumococcal Vac Polyvalent & Pneumococcal Vac Polyvalent & PNEUMOcoccal Vac Polyvalent & PNEU25I  & 048548 & 00006494300 & 25mcg/0.5mL Vial          & 0.5  & mL   & 1 & VIAL  & IM\\\\\n\t 32601 & 42458 & 159647 & NA & 2146-07-21 & 2146-07-22 & MAIN & Bisacodyl                   & Bisacodyl                   & Bisacodyl                   & BISA5    & 002947 & 00536338101 & 5 mg Tab                  & 10   & mg   & 2 & TAB   & PO\\\\\n\t 32602 & 42458 & 159647 & NA & 2146-07-21 & 2146-07-22 & MAIN & Bisacodyl                   & Bisacodyl                   & Bisacodyl (Rectal)          & BISA10R  & 002944 & 00574705050 & 10mg Suppository          & 10   & mg   & 1 & SUPP  & PR\\\\\n\t 32603 & 42458 & 159647 & NA & 2146-07-21 & 2146-07-22 & MAIN & Senna                       & Senna                       & Senna                       & SENN187  & 019964 & 00904516561 & 1 Tablet                  & 1    & TAB  & 1 & TAB   & PO\\\\\n\t 32604 & 42458 & 159647 & NA & 2146-07-21 & 2146-07-21 & MAIN & Docusate Sodium (Liquid)    & Docusate Sodium (Liquid)    & Docusate Sodium (Liquid)    & DOCU100L & 003017 & 00121054410 & 100mg UD Cup              & 100  & mg   & 1 & UDCUP & PO\\\\\n\t 32605 & 42458 & 159647 & NA & 2146-07-21 & 2146-07-22 & MAIN & Heparin                     & Heparin                     & Heparin Sodium              & HEPA5I   & 006549 & 63323026201 & 5000 Units / mL- 1mL Vial & 5000 & UNIT & 1 & mL    & SC\\\\\n\\end{tabular}\n",
      "text/plain": "  row_id subject_id hadm_id icustay_id startdate  enddate    drug_type\n1 32600  42458      159647  NA         2146-07-21 2146-07-22 MAIN     \n2 32601  42458      159647  NA         2146-07-21 2146-07-22 MAIN     \n3 32602  42458      159647  NA         2146-07-21 2146-07-22 MAIN     \n4 32603  42458      159647  NA         2146-07-21 2146-07-22 MAIN     \n5 32604  42458      159647  NA         2146-07-21 2146-07-21 MAIN     \n6 32605  42458      159647  NA         2146-07-21 2146-07-22 MAIN     \n  drug                        drug_name_poe              \n1 Pneumococcal Vac Polyvalent Pneumococcal Vac Polyvalent\n2 Bisacodyl                   Bisacodyl                  \n3 Bisacodyl                   Bisacodyl                  \n4 Senna                       Senna                      \n5 Docusate Sodium (Liquid)    Docusate Sodium (Liquid)   \n6 Heparin                     Heparin                    \n  drug_name_generic           formulary_drug_cd gsn    ndc        \n1 PNEUMOcoccal Vac Polyvalent PNEU25I           048548 00006494300\n2 Bisacodyl                   BISA5             002947 00536338101\n3 Bisacodyl (Rectal)          BISA10R           002944 00574705050\n4 Senna                       SENN187           019964 00904516561\n5 Docusate Sodium (Liquid)    DOCU100L          003017 00121054410\n6 Heparin Sodium              HEPA5I            006549 63323026201\n  prod_strength             dose_val_rx dose_unit_rx form_val_disp\n1 25mcg/0.5mL Vial          0.5         mL           1            \n2 5 mg Tab                  10          mg           2            \n3 10mg Suppository          10          mg           1            \n4 1 Tablet                  1           TAB          1            \n5 100mg UD Cup              100         mg           1            \n6 5000 Units / mL- 1mL Vial 5000        UNIT         1            \n  form_unit_disp route\n1 VIAL           IM   \n2 TAB            PO   \n3 SUPP           PR   \n4 TAB            PO   \n5 UDCUP          PO   \n6 mL             SC   "
     },
     "metadata": {},
     "output_type": "display_data"
    }
   ],
   "source": [
    "mimic.patients.raw      <- read_csv(paste(base_url, \"PATIENTS.csv\", sep=\"\"),\n",
    "                                    col_types = cols(row_id = col_double(), subject_id = col_double(), gender = col_character(), dob = col_datetime(format = \"\"), dod = col_datetime(format = \"\"), dod_hosp = col_datetime(format = \"\"), dod_ssn = col_datetime(format = \"\"), expire_flag = col_double()))\n",
    "mimic.admissions.raw    <- read_csv(paste(base_url, \"ADMISSIONS.csv\", sep=\"\"),\n",
    "                                    col_types = cols(  row_id = col_double(), subject_id = col_double(), hadm_id = col_double(), admittime = col_datetime(format = \"\"), dischtime = col_datetime(format = \"\"), deathtime = col_datetime(format = \"\"), admission_type = col_character(), admission_location = col_character(), discharge_location = col_character(), insurance = col_character(), language = col_character(), religion = col_character(), marital_status = col_character(), ethnicity = col_character(), edregtime = col_datetime(format = \"\"), edouttime = col_datetime(format = \"\"), diagnosis = col_character(), hospital_expire_flag = col_double(), has_chartevents_data = col_double()))\n",
    "mimic.prescriptions.raw <- read_csv(paste(base_url, \"PRESCRIPTIONS.csv\", sep=\"\"),\n",
    "                                    col_types = cols(row_id = col_double(), subject_id = col_double(), hadm_id = col_double(), icustay_id = col_double(), startdate = col_datetime(format = \"\"), enddate = col_datetime(format = \"\"), drug_type = col_character(), drug = col_character(), drug_name_poe = col_character(), drug_name_generic = col_character(), formulary_drug_cd = col_character(), gsn = col_character(), ndc = col_character(), prod_strength = col_character(), dose_val_rx = col_character(), dose_unit_rx = col_character(), form_val_disp = col_character(), form_unit_disp = col_character(), route = col_character()))\n",
    "head(mimic.patients.raw)\n",
    "head(mimic.admissions.raw)\n",
    "head(mimic.prescriptions.raw)"
   ]
  },
  {
   "cell_type": "markdown",
   "id": "deadly-brother",
   "metadata": {},
   "source": [
    "## Rohdaten in SQLite-Datenbank (im Speicher) laden"
   ]
  },
  {
   "cell_type": "code",
   "execution_count": 3,
   "id": "twelve-collaboration",
   "metadata": {
    "ExecuteTime": {
     "end_time": "2023-06-06T16:15:03.287468600Z",
     "start_time": "2023-06-06T16:15:02.996859800Z"
    }
   },
   "outputs": [
    {
     "data": {
      "text/html": "<style>\n.list-inline {list-style: none; margin:0; padding: 0}\n.list-inline>li {display: inline-block}\n.list-inline>li:not(:last-child)::after {content: \"\\00b7\"; padding: 0 .5ex}\n</style>\n<ol class=list-inline><li>'admissions'</li><li>'patients'</li><li>'prescriptions'</li></ol>\n",
      "text/markdown": "1. 'admissions'\n2. 'patients'\n3. 'prescriptions'\n\n\n",
      "text/latex": "\\begin{enumerate*}\n\\item 'admissions'\n\\item 'patients'\n\\item 'prescriptions'\n\\end{enumerate*}\n",
      "text/plain": "[1] \"admissions\"    \"patients\"      \"prescriptions\""
     },
     "metadata": {},
     "output_type": "display_data"
    }
   ],
   "source": [
    "con <- dbConnect(RSQLite::SQLite(), \":memory:\")\n",
    "dbWriteTable(con, \"patients\",      mimic.patients.raw)\n",
    "dbWriteTable(con, \"admissions\",    mimic.admissions.raw)\n",
    "dbWriteTable(con, \"prescriptions\", mimic.prescriptions.raw)\n",
    "dbListTables(con)"
   ]
  },
  {
   "cell_type": "markdown",
   "id": "rapid-shock",
   "metadata": {},
   "source": [
    "## Alle Spalten einer Tabelle abfragen"
   ]
  },
  {
   "cell_type": "code",
   "execution_count": 4,
   "id": "boxed-ancient",
   "metadata": {
    "ExecuteTime": {
     "end_time": "2023-06-06T16:15:03.288464700Z",
     "start_time": "2023-06-06T16:15:03.168830900Z"
    }
   },
   "outputs": [
    {
     "data": {
      "text/html": "<table class=\"dataframe\">\n<caption>A data.frame: 6 × 8</caption>\n<thead>\n\t<tr><th></th><th scope=col>row_id</th><th scope=col>subject_id</th><th scope=col>gender</th><th scope=col>dob</th><th scope=col>dod</th><th scope=col>dod_hosp</th><th scope=col>dod_ssn</th><th scope=col>expire_flag</th></tr>\n\t<tr><th></th><th scope=col>&lt;dbl&gt;</th><th scope=col>&lt;dbl&gt;</th><th scope=col>&lt;chr&gt;</th><th scope=col>&lt;dbl&gt;</th><th scope=col>&lt;dbl&gt;</th><th scope=col>&lt;dbl&gt;</th><th scope=col>&lt;dbl&gt;</th><th scope=col>&lt;dbl&gt;</th></tr>\n</thead>\n<tbody>\n\t<tr><th scope=row>1</th><td>9467</td><td>10006</td><td>F</td><td> 3918585600</td><td>6172934400</td><td>6172934400</td><td>6172934400</td><td>1</td></tr>\n\t<tr><th scope=row>2</th><td>9472</td><td>10011</td><td>F</td><td> 3800304000</td><td>4943548800</td><td>4943548800</td><td>        NA</td><td>1</td></tr>\n\t<tr><th scope=row>3</th><td>9474</td><td>10013</td><td>F</td><td> 2167084800</td><td>4915468800</td><td>4915468800</td><td>4915468800</td><td>1</td></tr>\n\t<tr><th scope=row>4</th><td>9478</td><td>10017</td><td>F</td><td> 3336249600</td><td>5765385600</td><td>        NA</td><td>5765385600</td><td>1</td></tr>\n\t<tr><th scope=row>5</th><td>9479</td><td>10019</td><td>M</td><td> 4558896000</td><td>6102086400</td><td>6102086400</td><td>6102086400</td><td>1</td></tr>\n\t<tr><th scope=row>6</th><td>9486</td><td>10026</td><td>F</td><td>-2355004800</td><td>7128604800</td><td>        NA</td><td>7128604800</td><td>1</td></tr>\n</tbody>\n</table>\n",
      "text/markdown": "\nA data.frame: 6 × 8\n\n| <!--/--> | row_id &lt;dbl&gt; | subject_id &lt;dbl&gt; | gender &lt;chr&gt; | dob &lt;dbl&gt; | dod &lt;dbl&gt; | dod_hosp &lt;dbl&gt; | dod_ssn &lt;dbl&gt; | expire_flag &lt;dbl&gt; |\n|---|---|---|---|---|---|---|---|---|\n| 1 | 9467 | 10006 | F |  3918585600 | 6172934400 | 6172934400 | 6172934400 | 1 |\n| 2 | 9472 | 10011 | F |  3800304000 | 4943548800 | 4943548800 |         NA | 1 |\n| 3 | 9474 | 10013 | F |  2167084800 | 4915468800 | 4915468800 | 4915468800 | 1 |\n| 4 | 9478 | 10017 | F |  3336249600 | 5765385600 |         NA | 5765385600 | 1 |\n| 5 | 9479 | 10019 | M |  4558896000 | 6102086400 | 6102086400 | 6102086400 | 1 |\n| 6 | 9486 | 10026 | F | -2355004800 | 7128604800 |         NA | 7128604800 | 1 |\n\n",
      "text/latex": "A data.frame: 6 × 8\n\\begin{tabular}{r|llllllll}\n  & row\\_id & subject\\_id & gender & dob & dod & dod\\_hosp & dod\\_ssn & expire\\_flag\\\\\n  & <dbl> & <dbl> & <chr> & <dbl> & <dbl> & <dbl> & <dbl> & <dbl>\\\\\n\\hline\n\t1 & 9467 & 10006 & F &  3918585600 & 6172934400 & 6172934400 & 6172934400 & 1\\\\\n\t2 & 9472 & 10011 & F &  3800304000 & 4943548800 & 4943548800 &         NA & 1\\\\\n\t3 & 9474 & 10013 & F &  2167084800 & 4915468800 & 4915468800 & 4915468800 & 1\\\\\n\t4 & 9478 & 10017 & F &  3336249600 & 5765385600 &         NA & 5765385600 & 1\\\\\n\t5 & 9479 & 10019 & M &  4558896000 & 6102086400 & 6102086400 & 6102086400 & 1\\\\\n\t6 & 9486 & 10026 & F & -2355004800 & 7128604800 &         NA & 7128604800 & 1\\\\\n\\end{tabular}\n",
      "text/plain": "  row_id subject_id gender dob         dod        dod_hosp   dod_ssn   \n1 9467   10006      F       3918585600 6172934400 6172934400 6172934400\n2 9472   10011      F       3800304000 4943548800 4943548800         NA\n3 9474   10013      F       2167084800 4915468800 4915468800 4915468800\n4 9478   10017      F       3336249600 5765385600         NA 5765385600\n5 9479   10019      M       4558896000 6102086400 6102086400 6102086400\n6 9486   10026      F      -2355004800 7128604800         NA 7128604800\n  expire_flag\n1 1          \n2 1          \n3 1          \n4 1          \n5 1          \n6 1          "
     },
     "metadata": {},
     "output_type": "display_data"
    }
   ],
   "source": [
    "head(dbGetQuery(con, \"\n",
    "SELECT *\n",
    "  FROM patients\n",
    "\"), 6)"
   ]
  },
  {
   "cell_type": "markdown",
   "id": "knowing-miracle",
   "metadata": {},
   "source": [
    "## Ausgewählte Spalten einer Tabelle abfragen"
   ]
  },
  {
   "cell_type": "code",
   "execution_count": 5,
   "id": "compact-amazon",
   "metadata": {
    "ExecuteTime": {
     "end_time": "2023-06-06T16:15:03.289465800Z",
     "start_time": "2023-06-06T16:15:03.211411600Z"
    }
   },
   "outputs": [
    {
     "data": {
      "text/html": "<table class=\"dataframe\">\n<caption>A data.frame: 6 × 2</caption>\n<thead>\n\t<tr><th></th><th scope=col>subject_id</th><th scope=col>gender</th></tr>\n\t<tr><th></th><th scope=col>&lt;dbl&gt;</th><th scope=col>&lt;chr&gt;</th></tr>\n</thead>\n<tbody>\n\t<tr><th scope=row>1</th><td>10006</td><td>F</td></tr>\n\t<tr><th scope=row>2</th><td>10011</td><td>F</td></tr>\n\t<tr><th scope=row>3</th><td>10013</td><td>F</td></tr>\n\t<tr><th scope=row>4</th><td>10017</td><td>F</td></tr>\n\t<tr><th scope=row>5</th><td>10019</td><td>M</td></tr>\n\t<tr><th scope=row>6</th><td>10026</td><td>F</td></tr>\n</tbody>\n</table>\n",
      "text/markdown": "\nA data.frame: 6 × 2\n\n| <!--/--> | subject_id &lt;dbl&gt; | gender &lt;chr&gt; |\n|---|---|---|\n| 1 | 10006 | F |\n| 2 | 10011 | F |\n| 3 | 10013 | F |\n| 4 | 10017 | F |\n| 5 | 10019 | M |\n| 6 | 10026 | F |\n\n",
      "text/latex": "A data.frame: 6 × 2\n\\begin{tabular}{r|ll}\n  & subject\\_id & gender\\\\\n  & <dbl> & <chr>\\\\\n\\hline\n\t1 & 10006 & F\\\\\n\t2 & 10011 & F\\\\\n\t3 & 10013 & F\\\\\n\t4 & 10017 & F\\\\\n\t5 & 10019 & M\\\\\n\t6 & 10026 & F\\\\\n\\end{tabular}\n",
      "text/plain": "  subject_id gender\n1 10006      F     \n2 10011      F     \n3 10013      F     \n4 10017      F     \n5 10019      M     \n6 10026      F     "
     },
     "metadata": {},
     "output_type": "display_data"
    }
   ],
   "source": [
    "head(dbGetQuery(con, \"\n",
    "SELECT subject_id,\n",
    "       gender\n",
    "  FROM patients\n",
    "\"))"
   ]
  },
  {
   "cell_type": "markdown",
   "id": "returning-simulation",
   "metadata": {},
   "source": [
    "## Ausgewählte Zeilen einer Tabelle abfragen"
   ]
  },
  {
   "cell_type": "code",
   "execution_count": 6,
   "id": "valid-strand",
   "metadata": {
    "ExecuteTime": {
     "end_time": "2023-06-06T16:15:03.289465800Z",
     "start_time": "2023-06-06T16:15:03.248285Z"
    }
   },
   "outputs": [
    {
     "data": {
      "text/html": "<table class=\"dataframe\">\n<caption>A data.frame: 6 × 8</caption>\n<thead>\n\t<tr><th></th><th scope=col>row_id</th><th scope=col>subject_id</th><th scope=col>gender</th><th scope=col>dob</th><th scope=col>dod</th><th scope=col>dod_hosp</th><th scope=col>dod_ssn</th><th scope=col>expire_flag</th></tr>\n\t<tr><th></th><th scope=col>&lt;dbl&gt;</th><th scope=col>&lt;dbl&gt;</th><th scope=col>&lt;chr&gt;</th><th scope=col>&lt;dbl&gt;</th><th scope=col>&lt;dbl&gt;</th><th scope=col>&lt;dbl&gt;</th><th scope=col>&lt;dbl&gt;</th><th scope=col>&lt;dbl&gt;</th></tr>\n</thead>\n<tbody>\n\t<tr><th scope=row>1</th><td>9479</td><td>10019</td><td>M</td><td>4558896000</td><td>6102086400</td><td>6102086400</td><td>6102086400</td><td>1</td></tr>\n\t<tr><th scope=row>2</th><td>9489</td><td>10029</td><td>M</td><td>2880316800</td><td>5387472000</td><td>        NA</td><td>5387472000</td><td>1</td></tr>\n\t<tr><th scope=row>3</th><td>9491</td><td>10032</td><td>M</td><td>2532124800</td><td>5313686400</td><td>5313686400</td><td>5313686400</td><td>1</td></tr>\n\t<tr><th scope=row>4</th><td>9494</td><td>10035</td><td>M</td><td>2628115200</td><td>5151427200</td><td>        NA</td><td>5151427200</td><td>1</td></tr>\n\t<tr><th scope=row>5</th><td>9501</td><td>10042</td><td>M</td><td>3355948800</td><td>5709312000</td><td>        NA</td><td>5709312000</td><td>1</td></tr>\n\t<tr><th scope=row>6</th><td>9502</td><td>10043</td><td>M</td><td>4394736000</td><td>6977318400</td><td>        NA</td><td>6977318400</td><td>1</td></tr>\n</tbody>\n</table>\n",
      "text/markdown": "\nA data.frame: 6 × 8\n\n| <!--/--> | row_id &lt;dbl&gt; | subject_id &lt;dbl&gt; | gender &lt;chr&gt; | dob &lt;dbl&gt; | dod &lt;dbl&gt; | dod_hosp &lt;dbl&gt; | dod_ssn &lt;dbl&gt; | expire_flag &lt;dbl&gt; |\n|---|---|---|---|---|---|---|---|---|\n| 1 | 9479 | 10019 | M | 4558896000 | 6102086400 | 6102086400 | 6102086400 | 1 |\n| 2 | 9489 | 10029 | M | 2880316800 | 5387472000 |         NA | 5387472000 | 1 |\n| 3 | 9491 | 10032 | M | 2532124800 | 5313686400 | 5313686400 | 5313686400 | 1 |\n| 4 | 9494 | 10035 | M | 2628115200 | 5151427200 |         NA | 5151427200 | 1 |\n| 5 | 9501 | 10042 | M | 3355948800 | 5709312000 |         NA | 5709312000 | 1 |\n| 6 | 9502 | 10043 | M | 4394736000 | 6977318400 |         NA | 6977318400 | 1 |\n\n",
      "text/latex": "A data.frame: 6 × 8\n\\begin{tabular}{r|llllllll}\n  & row\\_id & subject\\_id & gender & dob & dod & dod\\_hosp & dod\\_ssn & expire\\_flag\\\\\n  & <dbl> & <dbl> & <chr> & <dbl> & <dbl> & <dbl> & <dbl> & <dbl>\\\\\n\\hline\n\t1 & 9479 & 10019 & M & 4558896000 & 6102086400 & 6102086400 & 6102086400 & 1\\\\\n\t2 & 9489 & 10029 & M & 2880316800 & 5387472000 &         NA & 5387472000 & 1\\\\\n\t3 & 9491 & 10032 & M & 2532124800 & 5313686400 & 5313686400 & 5313686400 & 1\\\\\n\t4 & 9494 & 10035 & M & 2628115200 & 5151427200 &         NA & 5151427200 & 1\\\\\n\t5 & 9501 & 10042 & M & 3355948800 & 5709312000 &         NA & 5709312000 & 1\\\\\n\t6 & 9502 & 10043 & M & 4394736000 & 6977318400 &         NA & 6977318400 & 1\\\\\n\\end{tabular}\n",
      "text/plain": "  row_id subject_id gender dob        dod        dod_hosp   dod_ssn   \n1 9479   10019      M      4558896000 6102086400 6102086400 6102086400\n2 9489   10029      M      2880316800 5387472000         NA 5387472000\n3 9491   10032      M      2532124800 5313686400 5313686400 5313686400\n4 9494   10035      M      2628115200 5151427200         NA 5151427200\n5 9501   10042      M      3355948800 5709312000         NA 5709312000\n6 9502   10043      M      4394736000 6977318400         NA 6977318400\n  expire_flag\n1 1          \n2 1          \n3 1          \n4 1          \n5 1          \n6 1          "
     },
     "metadata": {},
     "output_type": "display_data"
    }
   ],
   "source": [
    "head(dbGetQuery(con, \"\n",
    "SELECT *\n",
    "  FROM patients\n",
    " WHERE gender = 'M'\n",
    "\"))"
   ]
  },
  {
   "cell_type": "markdown",
   "id": "smoking-facial",
   "metadata": {},
   "source": [
    "## Ergebnis auf eindeutige Datensätze reduzieren (DISTINCT)"
   ]
  },
  {
   "cell_type": "code",
   "execution_count": 7,
   "id": "informational-skating",
   "metadata": {
    "ExecuteTime": {
     "end_time": "2023-06-06T16:15:03.587304300Z",
     "start_time": "2023-06-06T16:15:03.301505900Z"
    }
   },
   "outputs": [
    {
     "data": {
      "text/html": "<table class=\"dataframe\">\n<caption>A data.frame: 2 × 1</caption>\n<thead>\n\t<tr><th></th><th scope=col>gender</th></tr>\n\t<tr><th></th><th scope=col>&lt;chr&gt;</th></tr>\n</thead>\n<tbody>\n\t<tr><th scope=row>1</th><td>F</td></tr>\n\t<tr><th scope=row>2</th><td>M</td></tr>\n</tbody>\n</table>\n",
      "text/markdown": "\nA data.frame: 2 × 1\n\n| <!--/--> | gender &lt;chr&gt; |\n|---|---|\n| 1 | F |\n| 2 | M |\n\n",
      "text/latex": "A data.frame: 2 × 1\n\\begin{tabular}{r|l}\n  & gender\\\\\n  & <chr>\\\\\n\\hline\n\t1 & F\\\\\n\t2 & M\\\\\n\\end{tabular}\n",
      "text/plain": "  gender\n1 F     \n2 M     "
     },
     "metadata": {},
     "output_type": "display_data"
    }
   ],
   "source": [
    "head(dbGetQuery(con, \"\n",
    "SELECT DISTINCT\n",
    "       gender\n",
    "  FROM patients\n",
    "\"))"
   ]
  },
  {
   "cell_type": "markdown",
   "id": "blocked-breakdown",
   "metadata": {},
   "source": [
    "## Einfache Aggregation: Gesamtzahl der Datensätze einer Tabelle abfragen"
   ]
  },
  {
   "cell_type": "code",
   "execution_count": 8,
   "id": "conservative-tissue",
   "metadata": {
    "ExecuteTime": {
     "end_time": "2023-06-06T16:15:03.588305Z",
     "start_time": "2023-06-06T16:15:03.345157200Z"
    }
   },
   "outputs": [
    {
     "data": {
      "text/html": "<table class=\"dataframe\">\n<caption>A data.frame: 1 × 1</caption>\n<thead>\n\t<tr><th></th><th scope=col>n</th></tr>\n\t<tr><th></th><th scope=col>&lt;int&gt;</th></tr>\n</thead>\n<tbody>\n\t<tr><th scope=row>1</th><td>100</td></tr>\n</tbody>\n</table>\n",
      "text/markdown": "\nA data.frame: 1 × 1\n\n| <!--/--> | n &lt;int&gt; |\n|---|---|\n| 1 | 100 |\n\n",
      "text/latex": "A data.frame: 1 × 1\n\\begin{tabular}{r|l}\n  & n\\\\\n  & <int>\\\\\n\\hline\n\t1 & 100\\\\\n\\end{tabular}\n",
      "text/plain": "  n  \n1 100"
     },
     "metadata": {},
     "output_type": "display_data"
    }
   ],
   "source": [
    "head(dbGetQuery(con, \"\n",
    "SELECT COUNT(*) AS n\n",
    "  FROM patients\n",
    "\"))"
   ]
  },
  {
   "cell_type": "markdown",
   "id": "suspected-staff",
   "metadata": {},
   "source": [
    "## Aggregation & Gruppierung: Anzahl nach Geschlecht ermitteln"
   ]
  },
  {
   "cell_type": "code",
   "execution_count": 9,
   "id": "adequate-kennedy",
   "metadata": {
    "ExecuteTime": {
     "end_time": "2023-06-06T16:15:03.588305Z",
     "start_time": "2023-06-06T16:15:03.375770200Z"
    }
   },
   "outputs": [
    {
     "data": {
      "text/html": "<table class=\"dataframe\">\n<caption>A data.frame: 2 × 2</caption>\n<thead>\n\t<tr><th></th><th scope=col>gender</th><th scope=col>n</th></tr>\n\t<tr><th></th><th scope=col>&lt;chr&gt;</th><th scope=col>&lt;int&gt;</th></tr>\n</thead>\n<tbody>\n\t<tr><th scope=row>1</th><td>F</td><td>55</td></tr>\n\t<tr><th scope=row>2</th><td>M</td><td>45</td></tr>\n</tbody>\n</table>\n",
      "text/markdown": "\nA data.frame: 2 × 2\n\n| <!--/--> | gender &lt;chr&gt; | n &lt;int&gt; |\n|---|---|---|\n| 1 | F | 55 |\n| 2 | M | 45 |\n\n",
      "text/latex": "A data.frame: 2 × 2\n\\begin{tabular}{r|ll}\n  & gender & n\\\\\n  & <chr> & <int>\\\\\n\\hline\n\t1 & F & 55\\\\\n\t2 & M & 45\\\\\n\\end{tabular}\n",
      "text/plain": "  gender n \n1 F      55\n2 M      45"
     },
     "metadata": {},
     "output_type": "display_data"
    }
   ],
   "source": [
    "head(dbGetQuery(con, \"\n",
    "SELECT gender,\n",
    "       COUNT(*) AS n\n",
    "  FROM patients\n",
    " GROUP BY gender\n",
    "\"))"
   ]
  },
  {
   "cell_type": "markdown",
   "id": "tight-assurance",
   "metadata": {},
   "source": [
    "## Zeilen nach der Aggregation filtern"
   ]
  },
  {
   "cell_type": "code",
   "execution_count": 10,
   "id": "classified-migration",
   "metadata": {
    "ExecuteTime": {
     "end_time": "2023-06-06T16:15:03.589305Z",
     "start_time": "2023-06-06T16:15:03.419861700Z"
    }
   },
   "outputs": [
    {
     "data": {
      "text/html": "<table class=\"dataframe\">\n<caption>A data.frame: 1 × 2</caption>\n<thead>\n\t<tr><th></th><th scope=col>gender</th><th scope=col>n</th></tr>\n\t<tr><th></th><th scope=col>&lt;chr&gt;</th><th scope=col>&lt;int&gt;</th></tr>\n</thead>\n<tbody>\n\t<tr><th scope=row>1</th><td>F</td><td>55</td></tr>\n</tbody>\n</table>\n",
      "text/markdown": "\nA data.frame: 1 × 2\n\n| <!--/--> | gender &lt;chr&gt; | n &lt;int&gt; |\n|---|---|---|\n| 1 | F | 55 |\n\n",
      "text/latex": "A data.frame: 1 × 2\n\\begin{tabular}{r|ll}\n  & gender & n\\\\\n  & <chr> & <int>\\\\\n\\hline\n\t1 & F & 55\\\\\n\\end{tabular}\n",
      "text/plain": "  gender n \n1 F      55"
     },
     "metadata": {},
     "output_type": "display_data"
    }
   ],
   "source": [
    "head(dbGetQuery(con, \"\n",
    "SELECT gender,\n",
    "       COUNT(*) AS n\n",
    "  FROM patients\n",
    " GROUP BY gender\n",
    "HAVING COUNT(*) > 50\n",
    "\"))"
   ]
  },
  {
   "cell_type": "markdown",
   "id": "molecular-contract",
   "metadata": {},
   "source": [
    "## Tabellen per JOIN miteinander verknüpfen"
   ]
  },
  {
   "cell_type": "code",
   "execution_count": 11,
   "id": "sitting-relationship",
   "metadata": {
    "ExecuteTime": {
     "end_time": "2023-06-06T16:15:03.589305Z",
     "start_time": "2023-06-06T16:15:03.453961300Z"
    }
   },
   "outputs": [
    {
     "data": {
      "text/html": "<table class=\"dataframe\">\n<caption>A data.frame: 6 × 3</caption>\n<thead>\n\t<tr><th></th><th scope=col>subject_id</th><th scope=col>gender</th><th scope=col>diagnosis</th></tr>\n\t<tr><th></th><th scope=col>&lt;dbl&gt;</th><th scope=col>&lt;chr&gt;</th><th scope=col>&lt;chr&gt;</th></tr>\n</thead>\n<tbody>\n\t<tr><th scope=row>1</th><td>10006</td><td>F</td><td>SEPSIS             </td></tr>\n\t<tr><th scope=row>2</th><td>10011</td><td>F</td><td>HEPATITIS B        </td></tr>\n\t<tr><th scope=row>3</th><td>10013</td><td>F</td><td>SEPSIS             </td></tr>\n\t<tr><th scope=row>4</th><td>10017</td><td>F</td><td>HUMERAL FRACTURE   </td></tr>\n\t<tr><th scope=row>5</th><td>10019</td><td>M</td><td>ALCOHOLIC HEPATITIS</td></tr>\n\t<tr><th scope=row>6</th><td>10026</td><td>F</td><td>STROKE/TIA         </td></tr>\n</tbody>\n</table>\n",
      "text/markdown": "\nA data.frame: 6 × 3\n\n| <!--/--> | subject_id &lt;dbl&gt; | gender &lt;chr&gt; | diagnosis &lt;chr&gt; |\n|---|---|---|---|\n| 1 | 10006 | F | SEPSIS              |\n| 2 | 10011 | F | HEPATITIS B         |\n| 3 | 10013 | F | SEPSIS              |\n| 4 | 10017 | F | HUMERAL FRACTURE    |\n| 5 | 10019 | M | ALCOHOLIC HEPATITIS |\n| 6 | 10026 | F | STROKE/TIA          |\n\n",
      "text/latex": "A data.frame: 6 × 3\n\\begin{tabular}{r|lll}\n  & subject\\_id & gender & diagnosis\\\\\n  & <dbl> & <chr> & <chr>\\\\\n\\hline\n\t1 & 10006 & F & SEPSIS             \\\\\n\t2 & 10011 & F & HEPATITIS B        \\\\\n\t3 & 10013 & F & SEPSIS             \\\\\n\t4 & 10017 & F & HUMERAL FRACTURE   \\\\\n\t5 & 10019 & M & ALCOHOLIC HEPATITIS\\\\\n\t6 & 10026 & F & STROKE/TIA         \\\\\n\\end{tabular}\n",
      "text/plain": "  subject_id gender diagnosis          \n1 10006      F      SEPSIS             \n2 10011      F      HEPATITIS B        \n3 10013      F      SEPSIS             \n4 10017      F      HUMERAL FRACTURE   \n5 10019      M      ALCOHOLIC HEPATITIS\n6 10026      F      STROKE/TIA         "
     },
     "metadata": {},
     "output_type": "display_data"
    }
   ],
   "source": [
    "head(dbGetQuery(con, \"\n",
    "SELECT pat.subject_id,\n",
    "       pat.gender,\n",
    "       adm.diagnosis\n",
    "  FROM patients   pat\n",
    "  JOIN admissions adm ON pat.subject_id = adm.subject_id\n",
    "\"))"
   ]
  },
  {
   "cell_type": "markdown",
   "id": "applicable-oxide",
   "metadata": {},
   "source": [
    "## Patient:innen mit mehr als einem Intensiv-Aufenthalt abfragen"
   ]
  },
  {
   "cell_type": "code",
   "execution_count": 12,
   "id": "brown-mounting",
   "metadata": {
    "ExecuteTime": {
     "end_time": "2023-06-06T16:15:03.589305Z",
     "start_time": "2023-06-06T16:15:03.489553100Z"
    }
   },
   "outputs": [
    {
     "data": {
      "text/html": "<table class=\"dataframe\">\n<caption>A data.frame: 6 × 2</caption>\n<thead>\n\t<tr><th></th><th scope=col>subject_id</th><th scope=col>n_admissions</th></tr>\n\t<tr><th></th><th scope=col>&lt;dbl&gt;</th><th scope=col>&lt;int&gt;</th></tr>\n</thead>\n<tbody>\n\t<tr><th scope=row>1</th><td>41976</td><td>15</td></tr>\n\t<tr><th scope=row>2</th><td>44083</td><td> 3</td></tr>\n\t<tr><th scope=row>3</th><td>10088</td><td> 3</td></tr>\n\t<tr><th scope=row>4</th><td>43881</td><td> 2</td></tr>\n\t<tr><th scope=row>5</th><td>42346</td><td> 2</td></tr>\n\t<tr><th scope=row>6</th><td>42135</td><td> 2</td></tr>\n</tbody>\n</table>\n",
      "text/markdown": "\nA data.frame: 6 × 2\n\n| <!--/--> | subject_id &lt;dbl&gt; | n_admissions &lt;int&gt; |\n|---|---|---|\n| 1 | 41976 | 15 |\n| 2 | 44083 |  3 |\n| 3 | 10088 |  3 |\n| 4 | 43881 |  2 |\n| 5 | 42346 |  2 |\n| 6 | 42135 |  2 |\n\n",
      "text/latex": "A data.frame: 6 × 2\n\\begin{tabular}{r|ll}\n  & subject\\_id & n\\_admissions\\\\\n  & <dbl> & <int>\\\\\n\\hline\n\t1 & 41976 & 15\\\\\n\t2 & 44083 &  3\\\\\n\t3 & 10088 &  3\\\\\n\t4 & 43881 &  2\\\\\n\t5 & 42346 &  2\\\\\n\t6 & 42135 &  2\\\\\n\\end{tabular}\n",
      "text/plain": "  subject_id n_admissions\n1 41976      15          \n2 44083       3          \n3 10088       3          \n4 43881       2          \n5 42346       2          \n6 42135       2          "
     },
     "metadata": {},
     "output_type": "display_data"
    }
   ],
   "source": [
    "head(dbGetQuery(con, \"\n",
    "SELECT pat.subject_id,\n",
    "       COUNT(*) AS n_admissions\n",
    "  FROM patients   pat\n",
    "  JOIN admissions adm ON pat.subject_id = adm.subject_id\n",
    " GROUP BY pat.subject_id\n",
    "HAVING COUNT(*) > 1\n",
    " ORDER BY COUNT(*) DESC\n",
    "\"))"
   ]
  },
  {
   "cell_type": "markdown",
   "id": "human-barrier",
   "metadata": {},
   "source": [
    "## 2 Subsets von Verschreibungen für die Demo verschiedener Joins erzeugen\n",
    "\n",
    "* Patient:innenen mit Hauptdiagnose Sepsis\n",
    "* Patient:innen mit Gabe von Vancomycin (Reserve-Antibiotikum z.B. bei MRSA)"
   ]
  },
  {
   "cell_type": "code",
   "execution_count": 13,
   "id": "homeless-ability",
   "metadata": {
    "ExecuteTime": {
     "end_time": "2023-06-06T16:15:03.655821500Z",
     "start_time": "2023-06-06T16:15:03.559640400Z"
    }
   },
   "outputs": [
    {
     "data": {
      "text/html": "0",
      "text/markdown": "0",
      "text/latex": "0",
      "text/plain": "[1] 0"
     },
     "metadata": {},
     "output_type": "display_data"
    },
    {
     "data": {
      "text/html": "0",
      "text/markdown": "0",
      "text/latex": "0",
      "text/plain": "[1] 0"
     },
     "metadata": {},
     "output_type": "display_data"
    }
   ],
   "source": [
    "dbExecute(con, \"CREATE TABLE demo_sepsis     AS SELECT DISTINCT subject_id FROM admissions    WHERE LOWER(diagnosis) LIKE '%sepsis%'\")\n",
    "dbExecute(con, \"CREATE TABLE demo_vancomycin AS SELECT DISTINCT subject_id FROM prescriptions WHERE LOWER(drug)      LIKE '%vancomycin%'\")"
   ]
  },
  {
   "cell_type": "markdown",
   "id": "extra-athens",
   "metadata": {},
   "source": [
    "## Patient:innen abfragen, die sowohl eine Sepsis als Hauptdiagnose hatten als auch Vancomycin erhalten haben (INNER JOIN)"
   ]
  },
  {
   "cell_type": "code",
   "execution_count": 14,
   "id": "dynamic-feature",
   "metadata": {
    "ExecuteTime": {
     "end_time": "2023-06-06T16:15:03.853989100Z",
     "start_time": "2023-06-06T16:15:03.598825Z"
    }
   },
   "outputs": [
    {
     "data": {
      "text/html": "<table class=\"dataframe\">\n<caption>A data.frame: 6 × 2</caption>\n<thead>\n\t<tr><th></th><th scope=col>subject_id</th><th scope=col>subject_id</th></tr>\n\t<tr><th></th><th scope=col>&lt;dbl&gt;</th><th scope=col>&lt;dbl&gt;</th></tr>\n</thead>\n<tbody>\n\t<tr><th scope=row>1</th><td>10006</td><td>10006</td></tr>\n\t<tr><th scope=row>2</th><td>10036</td><td>10036</td></tr>\n\t<tr><th scope=row>3</th><td>10056</td><td>10056</td></tr>\n\t<tr><th scope=row>4</th><td>10088</td><td>10088</td></tr>\n\t<tr><th scope=row>5</th><td>10094</td><td>10094</td></tr>\n\t<tr><th scope=row>6</th><td>41976</td><td>41976</td></tr>\n</tbody>\n</table>\n",
      "text/markdown": "\nA data.frame: 6 × 2\n\n| <!--/--> | subject_id &lt;dbl&gt; | subject_id &lt;dbl&gt; |\n|---|---|---|\n| 1 | 10006 | 10006 |\n| 2 | 10036 | 10036 |\n| 3 | 10056 | 10056 |\n| 4 | 10088 | 10088 |\n| 5 | 10094 | 10094 |\n| 6 | 41976 | 41976 |\n\n",
      "text/latex": "A data.frame: 6 × 2\n\\begin{tabular}{r|ll}\n  & subject\\_id & subject\\_id\\\\\n  & <dbl> & <dbl>\\\\\n\\hline\n\t1 & 10006 & 10006\\\\\n\t2 & 10036 & 10036\\\\\n\t3 & 10056 & 10056\\\\\n\t4 & 10088 & 10088\\\\\n\t5 & 10094 & 10094\\\\\n\t6 & 41976 & 41976\\\\\n\\end{tabular}\n",
      "text/plain": "  subject_id subject_id\n1 10006      10006     \n2 10036      10036     \n3 10056      10056     \n4 10088      10088     \n5 10094      10094     \n6 41976      41976     "
     },
     "metadata": {},
     "output_type": "display_data"
    }
   ],
   "source": [
    "head(dbGetQuery(con, \"\n",
    "SELECT *\n",
    "  FROM demo_sepsis     sep\n",
    "  JOIN demo_vancomycin van on sep.subject_id = van.subject_id\n",
    "\"), 100)"
   ]
  },
  {
   "cell_type": "markdown",
   "id": "global-quantum",
   "metadata": {},
   "source": [
    "## Alle Patient:innen abfragen, die eine Sepsis als Hauptdiagnose hatten sowie die mit Vancomycingabe ergänzen (LEFT OUTER JOIN)"
   ]
  },
  {
   "cell_type": "code",
   "execution_count": 15,
   "id": "organized-litigation",
   "metadata": {
    "ExecuteTime": {
     "end_time": "2023-06-06T16:15:03.854957400Z",
     "start_time": "2023-06-06T16:15:03.647289100Z"
    }
   },
   "outputs": [
    {
     "data": {
      "text/html": "<table class=\"dataframe\">\n<caption>A data.frame: 8 × 2</caption>\n<thead>\n\t<tr><th></th><th scope=col>subject_id</th><th scope=col>subject_id</th></tr>\n\t<tr><th></th><th scope=col>&lt;dbl&gt;</th><th scope=col>&lt;dbl&gt;</th></tr>\n</thead>\n<tbody>\n\t<tr><th scope=row>1</th><td>10006</td><td>10006</td></tr>\n\t<tr><th scope=row>2</th><td>10013</td><td>   NA</td></tr>\n\t<tr><th scope=row>3</th><td>10036</td><td>10036</td></tr>\n\t<tr><th scope=row>4</th><td>10056</td><td>10056</td></tr>\n\t<tr><th scope=row>5</th><td>10088</td><td>10088</td></tr>\n\t<tr><th scope=row>6</th><td>10094</td><td>10094</td></tr>\n\t<tr><th scope=row>7</th><td>40601</td><td>   NA</td></tr>\n\t<tr><th scope=row>8</th><td>41976</td><td>41976</td></tr>\n</tbody>\n</table>\n",
      "text/markdown": "\nA data.frame: 8 × 2\n\n| <!--/--> | subject_id &lt;dbl&gt; | subject_id &lt;dbl&gt; |\n|---|---|---|\n| 1 | 10006 | 10006 |\n| 2 | 10013 |    NA |\n| 3 | 10036 | 10036 |\n| 4 | 10056 | 10056 |\n| 5 | 10088 | 10088 |\n| 6 | 10094 | 10094 |\n| 7 | 40601 |    NA |\n| 8 | 41976 | 41976 |\n\n",
      "text/latex": "A data.frame: 8 × 2\n\\begin{tabular}{r|ll}\n  & subject\\_id & subject\\_id\\\\\n  & <dbl> & <dbl>\\\\\n\\hline\n\t1 & 10006 & 10006\\\\\n\t2 & 10013 &    NA\\\\\n\t3 & 10036 & 10036\\\\\n\t4 & 10056 & 10056\\\\\n\t5 & 10088 & 10088\\\\\n\t6 & 10094 & 10094\\\\\n\t7 & 40601 &    NA\\\\\n\t8 & 41976 & 41976\\\\\n\\end{tabular}\n",
      "text/plain": "  subject_id subject_id\n1 10006      10006     \n2 10013         NA     \n3 10036      10036     \n4 10056      10056     \n5 10088      10088     \n6 10094      10094     \n7 40601         NA     \n8 41976      41976     "
     },
     "metadata": {},
     "output_type": "display_data"
    }
   ],
   "source": [
    "head(dbGetQuery(con, \"\n",
    "SELECT *\n",
    "  FROM      demo_sepsis     sep\n",
    "  LEFT JOIN demo_vancomycin van on sep.subject_id = van.subject_id\n",
    "\"), 100)"
   ]
  },
  {
   "cell_type": "markdown",
   "id": "assured-powell",
   "metadata": {},
   "source": [
    "## Alle Patient:innen abfragen, die eine Vancomycingabe hatten und die keine Sepsisdiagnose hatten (RIGHT OUTER JOIN)\n",
    "\n",
    "### Hinweis: SQLite unterstützt keine RIGHT JOINS, deshalb ist das hier als LEFT JOIN mit vertauschter Reihenfolge dargestellt"
   ]
  },
  {
   "cell_type": "code",
   "execution_count": 16,
   "id": "signed-destruction",
   "metadata": {
    "ExecuteTime": {
     "end_time": "2023-06-06T16:15:03.855985300Z",
     "start_time": "2023-06-06T16:15:03.705839900Z"
    }
   },
   "outputs": [
    {
     "data": {
      "text/html": "<table class=\"dataframe\">\n<caption>A data.frame: 55 × 2</caption>\n<thead>\n\t<tr><th></th><th scope=col>subject_id</th><th scope=col>subject_id</th></tr>\n\t<tr><th></th><th scope=col>&lt;dbl&gt;</th><th scope=col>&lt;dbl&gt;</th></tr>\n</thead>\n<tbody>\n\t<tr><th scope=row>1</th><td>43735</td><td>   NA</td></tr>\n\t<tr><th scope=row>2</th><td>10006</td><td>10006</td></tr>\n\t<tr><th scope=row>3</th><td>10088</td><td>10088</td></tr>\n\t<tr><th scope=row>4</th><td>10056</td><td>10056</td></tr>\n\t<tr><th scope=row>5</th><td>10065</td><td>   NA</td></tr>\n\t<tr><th scope=row>6</th><td>44228</td><td>   NA</td></tr>\n\t<tr><th scope=row>7</th><td>10124</td><td>   NA</td></tr>\n\t<tr><th scope=row>8</th><td>10111</td><td>   NA</td></tr>\n\t<tr><th scope=row>9</th><td>10036</td><td>10036</td></tr>\n\t<tr><th scope=row>10</th><td>10044</td><td>   NA</td></tr>\n\t<tr><th scope=row>11</th><td>41795</td><td>   NA</td></tr>\n\t<tr><th scope=row>12</th><td>10117</td><td>   NA</td></tr>\n\t<tr><th scope=row>13</th><td>10038</td><td>   NA</td></tr>\n\t<tr><th scope=row>14</th><td>10045</td><td>   NA</td></tr>\n\t<tr><th scope=row>15</th><td>10017</td><td>   NA</td></tr>\n\t<tr><th scope=row>16</th><td>10106</td><td>   NA</td></tr>\n\t<tr><th scope=row>17</th><td>40655</td><td>   NA</td></tr>\n\t<tr><th scope=row>18</th><td>40204</td><td>   NA</td></tr>\n\t<tr><th scope=row>19</th><td>40687</td><td>   NA</td></tr>\n\t<tr><th scope=row>20</th><td>41914</td><td>   NA</td></tr>\n\t<tr><th scope=row>21</th><td>42367</td><td>   NA</td></tr>\n\t<tr><th scope=row>22</th><td>10061</td><td>   NA</td></tr>\n\t<tr><th scope=row>23</th><td>43909</td><td>   NA</td></tr>\n\t<tr><th scope=row>24</th><td>10102</td><td>   NA</td></tr>\n\t<tr><th scope=row>25</th><td>10076</td><td>   NA</td></tr>\n\t<tr><th scope=row>26</th><td>10042</td><td>   NA</td></tr>\n\t<tr><th scope=row>27</th><td>10132</td><td>   NA</td></tr>\n\t<tr><th scope=row>28</th><td>10126</td><td>   NA</td></tr>\n\t<tr><th scope=row>29</th><td>43870</td><td>   NA</td></tr>\n\t<tr><th scope=row>30</th><td>42346</td><td>   NA</td></tr>\n\t<tr><th scope=row>31</th><td>10074</td><td>   NA</td></tr>\n\t<tr><th scope=row>32</th><td>10043</td><td>   NA</td></tr>\n\t<tr><th scope=row>33</th><td>10040</td><td>   NA</td></tr>\n\t<tr><th scope=row>34</th><td>10119</td><td>   NA</td></tr>\n\t<tr><th scope=row>35</th><td>43881</td><td>   NA</td></tr>\n\t<tr><th scope=row>36</th><td>40304</td><td>   NA</td></tr>\n\t<tr><th scope=row>37</th><td>10094</td><td>10094</td></tr>\n\t<tr><th scope=row>38</th><td>40177</td><td>   NA</td></tr>\n\t<tr><th scope=row>39</th><td>10120</td><td>   NA</td></tr>\n\t<tr><th scope=row>40</th><td>10127</td><td>   NA</td></tr>\n\t<tr><th scope=row>41</th><td>10059</td><td>   NA</td></tr>\n\t<tr><th scope=row>42</th><td>10083</td><td>   NA</td></tr>\n\t<tr><th scope=row>43</th><td>10029</td><td>   NA</td></tr>\n\t<tr><th scope=row>44</th><td>10093</td><td>   NA</td></tr>\n\t<tr><th scope=row>45</th><td>40124</td><td>   NA</td></tr>\n\t<tr><th scope=row>46</th><td>41976</td><td>41976</td></tr>\n\t<tr><th scope=row>47</th><td>40595</td><td>   NA</td></tr>\n\t<tr><th scope=row>48</th><td>42281</td><td>   NA</td></tr>\n\t<tr><th scope=row>49</th><td>44212</td><td>   NA</td></tr>\n\t<tr><th scope=row>50</th><td>42075</td><td>   NA</td></tr>\n\t<tr><th scope=row>51</th><td>40310</td><td>   NA</td></tr>\n\t<tr><th scope=row>52</th><td>42135</td><td>   NA</td></tr>\n\t<tr><th scope=row>53</th><td>40612</td><td>   NA</td></tr>\n\t<tr><th scope=row>54</th><td>42066</td><td>   NA</td></tr>\n\t<tr><th scope=row>55</th><td>42430</td><td>   NA</td></tr>\n</tbody>\n</table>\n",
      "text/markdown": "\nA data.frame: 55 × 2\n\n| <!--/--> | subject_id &lt;dbl&gt; | subject_id &lt;dbl&gt; |\n|---|---|---|\n| 1 | 43735 |    NA |\n| 2 | 10006 | 10006 |\n| 3 | 10088 | 10088 |\n| 4 | 10056 | 10056 |\n| 5 | 10065 |    NA |\n| 6 | 44228 |    NA |\n| 7 | 10124 |    NA |\n| 8 | 10111 |    NA |\n| 9 | 10036 | 10036 |\n| 10 | 10044 |    NA |\n| 11 | 41795 |    NA |\n| 12 | 10117 |    NA |\n| 13 | 10038 |    NA |\n| 14 | 10045 |    NA |\n| 15 | 10017 |    NA |\n| 16 | 10106 |    NA |\n| 17 | 40655 |    NA |\n| 18 | 40204 |    NA |\n| 19 | 40687 |    NA |\n| 20 | 41914 |    NA |\n| 21 | 42367 |    NA |\n| 22 | 10061 |    NA |\n| 23 | 43909 |    NA |\n| 24 | 10102 |    NA |\n| 25 | 10076 |    NA |\n| 26 | 10042 |    NA |\n| 27 | 10132 |    NA |\n| 28 | 10126 |    NA |\n| 29 | 43870 |    NA |\n| 30 | 42346 |    NA |\n| 31 | 10074 |    NA |\n| 32 | 10043 |    NA |\n| 33 | 10040 |    NA |\n| 34 | 10119 |    NA |\n| 35 | 43881 |    NA |\n| 36 | 40304 |    NA |\n| 37 | 10094 | 10094 |\n| 38 | 40177 |    NA |\n| 39 | 10120 |    NA |\n| 40 | 10127 |    NA |\n| 41 | 10059 |    NA |\n| 42 | 10083 |    NA |\n| 43 | 10029 |    NA |\n| 44 | 10093 |    NA |\n| 45 | 40124 |    NA |\n| 46 | 41976 | 41976 |\n| 47 | 40595 |    NA |\n| 48 | 42281 |    NA |\n| 49 | 44212 |    NA |\n| 50 | 42075 |    NA |\n| 51 | 40310 |    NA |\n| 52 | 42135 |    NA |\n| 53 | 40612 |    NA |\n| 54 | 42066 |    NA |\n| 55 | 42430 |    NA |\n\n",
      "text/latex": "A data.frame: 55 × 2\n\\begin{tabular}{r|ll}\n  & subject\\_id & subject\\_id\\\\\n  & <dbl> & <dbl>\\\\\n\\hline\n\t1 & 43735 &    NA\\\\\n\t2 & 10006 & 10006\\\\\n\t3 & 10088 & 10088\\\\\n\t4 & 10056 & 10056\\\\\n\t5 & 10065 &    NA\\\\\n\t6 & 44228 &    NA\\\\\n\t7 & 10124 &    NA\\\\\n\t8 & 10111 &    NA\\\\\n\t9 & 10036 & 10036\\\\\n\t10 & 10044 &    NA\\\\\n\t11 & 41795 &    NA\\\\\n\t12 & 10117 &    NA\\\\\n\t13 & 10038 &    NA\\\\\n\t14 & 10045 &    NA\\\\\n\t15 & 10017 &    NA\\\\\n\t16 & 10106 &    NA\\\\\n\t17 & 40655 &    NA\\\\\n\t18 & 40204 &    NA\\\\\n\t19 & 40687 &    NA\\\\\n\t20 & 41914 &    NA\\\\\n\t21 & 42367 &    NA\\\\\n\t22 & 10061 &    NA\\\\\n\t23 & 43909 &    NA\\\\\n\t24 & 10102 &    NA\\\\\n\t25 & 10076 &    NA\\\\\n\t26 & 10042 &    NA\\\\\n\t27 & 10132 &    NA\\\\\n\t28 & 10126 &    NA\\\\\n\t29 & 43870 &    NA\\\\\n\t30 & 42346 &    NA\\\\\n\t31 & 10074 &    NA\\\\\n\t32 & 10043 &    NA\\\\\n\t33 & 10040 &    NA\\\\\n\t34 & 10119 &    NA\\\\\n\t35 & 43881 &    NA\\\\\n\t36 & 40304 &    NA\\\\\n\t37 & 10094 & 10094\\\\\n\t38 & 40177 &    NA\\\\\n\t39 & 10120 &    NA\\\\\n\t40 & 10127 &    NA\\\\\n\t41 & 10059 &    NA\\\\\n\t42 & 10083 &    NA\\\\\n\t43 & 10029 &    NA\\\\\n\t44 & 10093 &    NA\\\\\n\t45 & 40124 &    NA\\\\\n\t46 & 41976 & 41976\\\\\n\t47 & 40595 &    NA\\\\\n\t48 & 42281 &    NA\\\\\n\t49 & 44212 &    NA\\\\\n\t50 & 42075 &    NA\\\\\n\t51 & 40310 &    NA\\\\\n\t52 & 42135 &    NA\\\\\n\t53 & 40612 &    NA\\\\\n\t54 & 42066 &    NA\\\\\n\t55 & 42430 &    NA\\\\\n\\end{tabular}\n",
      "text/plain": "   subject_id subject_id\n1  43735         NA     \n2  10006      10006     \n3  10088      10088     \n4  10056      10056     \n5  10065         NA     \n6  44228         NA     \n7  10124         NA     \n8  10111         NA     \n9  10036      10036     \n10 10044         NA     \n11 41795         NA     \n12 10117         NA     \n13 10038         NA     \n14 10045         NA     \n15 10017         NA     \n16 10106         NA     \n17 40655         NA     \n18 40204         NA     \n19 40687         NA     \n20 41914         NA     \n21 42367         NA     \n22 10061         NA     \n23 43909         NA     \n24 10102         NA     \n25 10076         NA     \n26 10042         NA     \n27 10132         NA     \n28 10126         NA     \n29 43870         NA     \n30 42346         NA     \n31 10074         NA     \n32 10043         NA     \n33 10040         NA     \n34 10119         NA     \n35 43881         NA     \n36 40304         NA     \n37 10094      10094     \n38 40177         NA     \n39 10120         NA     \n40 10127         NA     \n41 10059         NA     \n42 10083         NA     \n43 10029         NA     \n44 10093         NA     \n45 40124         NA     \n46 41976      41976     \n47 40595         NA     \n48 42281         NA     \n49 44212         NA     \n50 42075         NA     \n51 40310         NA     \n52 42135         NA     \n53 40612         NA     \n54 42066         NA     \n55 42430         NA     "
     },
     "metadata": {},
     "output_type": "display_data"
    }
   ],
   "source": [
    "head(dbGetQuery(con, \"\n",
    "SELECT *\n",
    "  FROM      demo_vancomycin van\n",
    "  LEFT JOIN demo_sepsis     sep on van.subject_id = sep.subject_id\n",
    "\"), 100)"
   ]
  },
  {
   "cell_type": "markdown",
   "id": "neither-grenada",
   "metadata": {},
   "source": [
    "## Tatsächliche Hauptdiagnosen für die Patient:innen mit Vancomycingabe ohne Sepsis ermitteln"
   ]
  },
  {
   "cell_type": "code",
   "execution_count": 17,
   "id": "reported-sussex",
   "metadata": {
    "ExecuteTime": {
     "end_time": "2023-06-06T16:15:03.855985300Z",
     "start_time": "2023-06-06T16:15:03.775624700Z"
    }
   },
   "outputs": [
    {
     "data": {
      "text/html": "<table class=\"dataframe\">\n<caption>A data.frame: 20 × 2</caption>\n<thead>\n\t<tr><th></th><th scope=col>diagnosis</th><th scope=col>COUNT(*)</th></tr>\n\t<tr><th></th><th scope=col>&lt;chr&gt;</th><th scope=col>&lt;int&gt;</th></tr>\n</thead>\n<tbody>\n\t<tr><th scope=row>1</th><td>FEVER                           </td><td>3</td></tr>\n\t<tr><th scope=row>2</th><td>UPPER GI BLEED                  </td><td>2</td></tr>\n\t<tr><th scope=row>3</th><td>PNEUMONIA                       </td><td>2</td></tr>\n\t<tr><th scope=row>4</th><td>LIVER FAILURE                   </td><td>2</td></tr>\n\t<tr><th scope=row>5</th><td>HYPOTENSION                     </td><td>2</td></tr>\n\t<tr><th scope=row>6</th><td>GASTROINTESTINAL BLEED          </td><td>2</td></tr>\n\t<tr><th scope=row>7</th><td>FAILURE TO THRIVE               </td><td>2</td></tr>\n\t<tr><th scope=row>8</th><td>CONGESTIVE HEART FAILURE        </td><td>2</td></tr>\n\t<tr><th scope=row>9</th><td>ASTHMA;CHRONIC OBST PULM DISEASE</td><td>2</td></tr>\n\t<tr><th scope=row>10</th><td>VOLVULUS                        </td><td>1</td></tr>\n\t<tr><th scope=row>11</th><td>VARICEAL BLEED                  </td><td>1</td></tr>\n\t<tr><th scope=row>12</th><td>UNSTABLE ANGINA                 </td><td>1</td></tr>\n\t<tr><th scope=row>13</th><td>TRACHEAL STENOSIS               </td><td>1</td></tr>\n\t<tr><th scope=row>14</th><td>TRACHEAL ESOPHAGEAL FISTULA     </td><td>1</td></tr>\n\t<tr><th scope=row>15</th><td>SYNCOPE;TELEMETRY               </td><td>1</td></tr>\n\t<tr><th scope=row>16</th><td>STROKE/TIA                      </td><td>1</td></tr>\n\t<tr><th scope=row>17</th><td>SHORTNESS OF BREATH             </td><td>1</td></tr>\n\t<tr><th scope=row>18</th><td>SEIZURE;STATUS EPILEPTICUS      </td><td>1</td></tr>\n\t<tr><th scope=row>19</th><td>S/P MOTOR VEHICLE ACCIDENT      </td><td>1</td></tr>\n\t<tr><th scope=row>20</th><td>RESPIRATORY DISTRESS            </td><td>1</td></tr>\n</tbody>\n</table>\n",
      "text/markdown": "\nA data.frame: 20 × 2\n\n| <!--/--> | diagnosis &lt;chr&gt; | COUNT(*) &lt;int&gt; |\n|---|---|---|\n| 1 | FEVER                            | 3 |\n| 2 | UPPER GI BLEED                   | 2 |\n| 3 | PNEUMONIA                        | 2 |\n| 4 | LIVER FAILURE                    | 2 |\n| 5 | HYPOTENSION                      | 2 |\n| 6 | GASTROINTESTINAL BLEED           | 2 |\n| 7 | FAILURE TO THRIVE                | 2 |\n| 8 | CONGESTIVE HEART FAILURE         | 2 |\n| 9 | ASTHMA;CHRONIC OBST PULM DISEASE | 2 |\n| 10 | VOLVULUS                         | 1 |\n| 11 | VARICEAL BLEED                   | 1 |\n| 12 | UNSTABLE ANGINA                  | 1 |\n| 13 | TRACHEAL STENOSIS                | 1 |\n| 14 | TRACHEAL ESOPHAGEAL FISTULA      | 1 |\n| 15 | SYNCOPE;TELEMETRY                | 1 |\n| 16 | STROKE/TIA                       | 1 |\n| 17 | SHORTNESS OF BREATH              | 1 |\n| 18 | SEIZURE;STATUS EPILEPTICUS       | 1 |\n| 19 | S/P MOTOR VEHICLE ACCIDENT       | 1 |\n| 20 | RESPIRATORY DISTRESS             | 1 |\n\n",
      "text/latex": "A data.frame: 20 × 2\n\\begin{tabular}{r|ll}\n  & diagnosis & COUNT(*)\\\\\n  & <chr> & <int>\\\\\n\\hline\n\t1 & FEVER                            & 3\\\\\n\t2 & UPPER GI BLEED                   & 2\\\\\n\t3 & PNEUMONIA                        & 2\\\\\n\t4 & LIVER FAILURE                    & 2\\\\\n\t5 & HYPOTENSION                      & 2\\\\\n\t6 & GASTROINTESTINAL BLEED           & 2\\\\\n\t7 & FAILURE TO THRIVE                & 2\\\\\n\t8 & CONGESTIVE HEART FAILURE         & 2\\\\\n\t9 & ASTHMA;CHRONIC OBST PULM DISEASE & 2\\\\\n\t10 & VOLVULUS                         & 1\\\\\n\t11 & VARICEAL BLEED                   & 1\\\\\n\t12 & UNSTABLE ANGINA                  & 1\\\\\n\t13 & TRACHEAL STENOSIS                & 1\\\\\n\t14 & TRACHEAL ESOPHAGEAL FISTULA      & 1\\\\\n\t15 & SYNCOPE;TELEMETRY                & 1\\\\\n\t16 & STROKE/TIA                       & 1\\\\\n\t17 & SHORTNESS OF BREATH              & 1\\\\\n\t18 & SEIZURE;STATUS EPILEPTICUS       & 1\\\\\n\t19 & S/P MOTOR VEHICLE ACCIDENT       & 1\\\\\n\t20 & RESPIRATORY DISTRESS             & 1\\\\\n\\end{tabular}\n",
      "text/plain": "   diagnosis                        COUNT(*)\n1  FEVER                            3       \n2  UPPER GI BLEED                   2       \n3  PNEUMONIA                        2       \n4  LIVER FAILURE                    2       \n5  HYPOTENSION                      2       \n6  GASTROINTESTINAL BLEED           2       \n7  FAILURE TO THRIVE                2       \n8  CONGESTIVE HEART FAILURE         2       \n9  ASTHMA;CHRONIC OBST PULM DISEASE 2       \n10 VOLVULUS                         1       \n11 VARICEAL BLEED                   1       \n12 UNSTABLE ANGINA                  1       \n13 TRACHEAL STENOSIS                1       \n14 TRACHEAL ESOPHAGEAL FISTULA      1       \n15 SYNCOPE;TELEMETRY                1       \n16 STROKE/TIA                       1       \n17 SHORTNESS OF BREATH              1       \n18 SEIZURE;STATUS EPILEPTICUS       1       \n19 S/P MOTOR VEHICLE ACCIDENT       1       \n20 RESPIRATORY DISTRESS             1       "
     },
     "metadata": {},
     "output_type": "display_data"
    }
   ],
   "source": [
    "head(dbGetQuery(con, \"\n",
    "SELECT adm.diagnosis,\n",
    "       COUNT(*)\n",
    "  FROM      demo_vancomycin van\n",
    "  JOIN      admissions      adm ON van.subject_id = adm.subject_id\n",
    "  LEFT JOIN demo_sepsis     sep on van.subject_id = sep.subject_id\n",
    " WHERE sep.subject_id IS NULL\n",
    " GROUP BY adm.diagnosis\n",
    " ORDER BY COUNT(*) DESC\n",
    "\"), 20)"
   ]
  },
  {
   "cell_type": "markdown",
   "id": "vital-jaguar",
   "metadata": {},
   "source": [
    "## Datenbankverbindung schließen"
   ]
  },
  {
   "cell_type": "code",
   "execution_count": 18,
   "id": "eastern-samuel",
   "metadata": {
    "ExecuteTime": {
     "end_time": "2023-06-06T16:15:03.855985300Z",
     "start_time": "2023-06-06T16:15:03.819785100Z"
    }
   },
   "outputs": [],
   "source": [
    "dbDisconnect(con)"
   ]
  }
 ],
 "metadata": {
  "kernelspec": {
   "display_name": "R",
   "language": "R",
   "name": "ir"
  },
  "language_info": {
   "codemirror_mode": "r",
   "file_extension": ".r",
   "mimetype": "text/x-r-source",
   "name": "R",
   "pygments_lexer": "r",
   "version": "4.0.5"
  }
 },
 "nbformat": 4,
 "nbformat_minor": 5
}
