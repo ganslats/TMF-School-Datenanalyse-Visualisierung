{
 "cells": [
  {
   "cell_type": "markdown",
   "id": "abroad-institute",
   "metadata": {},
   "source": [
    "# Block 7 Übung 4: Visualisierung von Laborparametern für die Kohorten"
   ]
  },
  {
   "cell_type": "markdown",
   "id": "streaming-johnston",
   "metadata": {},
   "source": [
    "## Bibliotheken & Konfiguration"
   ]
  },
  {
   "cell_type": "code",
   "execution_count": null,
   "id": "refined-calendar",
   "metadata": {},
   "outputs": [],
   "source": [
    "packages <- c(\"readr\", \"dplyr\", \"tidyr\", \"ggplot2\")\n",
    "install.packages(setdiff(packages, rownames(installed.packages())))\n",
    "lapply(packages, require, character.only = TRUE)\n",
    "\n",
    "base_url <- \"https://raw.githubusercontent.com/ganslats/TMF-School-2022-Block-4/master/Rohdaten/\""
   ]
  },
  {
   "cell_type": "markdown",
   "id": "sorted-wedding",
   "metadata": {},
   "source": [
    "## MIMIC III-Basisdaten laden"
   ]
  },
  {
   "cell_type": "code",
   "execution_count": null,
   "id": "excellent-frank",
   "metadata": {},
   "outputs": [],
   "source": [
    "# Patientenstammdaten laden\n",
    "mimic.patients.raw <- read_csv(paste(base_url, \"mimic-iii-demo/PATIENTS.csv\", sep=\"\"),\n",
    "                               col_types = cols(row_id = col_integer(), subject_id = col_integer(), gender = col_character(), dob = col_datetime(format = \"\"), dod = col_datetime(format = \"\"), dod_hosp = col_datetime(format = \"\"), dod_ssn = col_datetime(format = \"\"), expire_flag = col_double()))\n",
    "\n",
    "# Behandlungsfälle laden\n",
    "mimic.admissions.raw <- read_csv(paste(base_url, \"mimic-iii-demo/ADMISSIONS.csv\", sep=\"\"),\n",
    "                                 col_types = cols(  row_id = col_integer(), subject_id = col_integer(), hadm_id = col_integer(), admittime = col_datetime(format = \"\"), dischtime = col_datetime(format = \"\"), deathtime = col_datetime(format = \"\"), admission_type = col_character(), admission_location = col_character(), discharge_location = col_character(), insurance = col_character(), language = col_character(), religion = col_character(), marital_status = col_character(), ethnicity = col_character(), edregtime = col_datetime(format = \"\"), edouttime = col_datetime(format = \"\"), diagnosis = col_character(), hospital_expire_flag = col_double(), has_chartevents_data = col_double()))\n",
    "\n",
    "# Intensivaufenthalte laden\n",
    "mimic.icustays.raw <- read_csv(paste(base_url, \"mimic-iii-demo/ICUSTAYS.csv\", sep=\"\"),\n",
    "                               col_types = cols(row_id = col_integer(), subject_id = col_integer(), hadm_id = col_integer(), icustay_id = col_integer(), dbsource = col_character(), first_careunit = col_character(), last_careunit = col_character(), first_wardid = col_double(), last_wardid = col_double(), intime = col_datetime(format = \"\"), outtime = col_datetime(format = \"\"), los = col_double()))\n"
   ]
  },
  {
   "cell_type": "markdown",
   "id": "gothic-cookbook",
   "metadata": {},
   "source": [
    "## MIMIC III-Diagnosen laden & Bezeichner ergänzen"
   ]
  },
  {
   "cell_type": "code",
   "execution_count": null,
   "id": "front-formula",
   "metadata": {},
   "outputs": [],
   "source": [
    "# Diagnosen laden\n",
    "mimic.diagnoses.raw <- read_csv(paste(base_url, \"mimic-iii-demo/DIAGNOSES_ICD.csv\", sep=\"\"),\n",
    "                                col_types = cols(row_id = col_integer(), subject_id = col_integer(), hadm_id = col_integer(), seq_num = col_integer(), icd9_code = col_character()))\n",
    "\n",
    "# Diagnosebezeichner laden\n",
    "mimic.d_icd_diagnoses.raw <- read_csv(paste(base_url, \"mimic-iii-demo/D_ICD_DIAGNOSES.csv\", sep=\"\"),\n",
    "                                      col_types = cols(row_id = col_integer(), icd9_code = col_character(), short_title = col_character(), long_title = col_character()))\n",
    "\n",
    "# Diagnosebezeichner hinzufügen\n",
    "mimic.diagnoses.annotated <- mimic.diagnoses.raw %>% inner_join(mimic.d_icd_diagnoses.raw %>% select(icd9_code, short_title, long_title), by = \"icd9_code\")"
   ]
  },
  {
   "cell_type": "markdown",
   "id": "ignored-amateur",
   "metadata": {},
   "source": [
    "## MIMIC III-Labordaten laden & Bezeichner ergänzen"
   ]
  },
  {
   "cell_type": "code",
   "execution_count": null,
   "id": "waiting-heritage",
   "metadata": {},
   "outputs": [],
   "source": [
    "# Laborbefunde laden\n",
    "mimic.labevents.raw <- read_csv(paste(base_url, \"mimic-iii-demo/LABEVENTS.csv\", sep=\"\"),\n",
    "                                col_types = cols(row_id = col_integer(), subject_id = col_integer(), hadm_id = col_integer(), itemid = col_integer(), charttime = col_datetime(format = \"\"), value = col_character(), valuenum = col_double(), valueuom = col_character(), flag = col_character()))\n",
    "\n",
    "# Bezeichner laden\n",
    "mimic.d_labitems.raw <- read_csv(paste(base_url, \"mimic-iii-demo/D_LABITEMS.csv\", sep=\"\"),\n",
    "                                 col_types = cols(row_id = col_integer(), itemid = col_integer(), label = col_character(), fluid = col_character(), category = col_character(), loinc_code = col_character()))\n",
    "\n",
    "# Bezeichner hinzufügen\n",
    "mimic.labevents.annotated <- mimic.labevents.raw %>% \n",
    "  inner_join(mimic.d_labitems.raw %>% select(itemid, label, fluid, category, loinc_code), by = \"itemid\")\n",
    "\n",
    "head(mimic.labevents.annotated)"
   ]
  },
  {
   "cell_type": "markdown",
   "id": "funny-disposal",
   "metadata": {},
   "source": [
    "## Kohorten für Sepsis (sep), akuten Myokardinfarkt (ami) und akutes Nierenversagen (acf) erneut selektieren"
   ]
  },
  {
   "cell_type": "code",
   "execution_count": null,
   "id": "exciting-shopping",
   "metadata": {},
   "outputs": [],
   "source": [
    "# Sepsis-Kohorte\n",
    "cohort.sep <- mimic.diagnoses.annotated %>% \n",
    "    filter(grepl(\"Sepsis\", long_title)) %>%\n",
    "    select(hadm_id) %>%\n",
    "    distinct() %>%\n",
    "    mutate(cohort_sep_flag = TRUE)\n",
    "\n",
    "# AMI-Kohorte\n",
    "cohort.ami <- mimic.diagnoses.annotated %>% \n",
    "    filter(grepl(\"Acute myocardial infarction\", long_title)) %>%\n",
    "    select(hadm_id) %>%\n",
    "    distinct() %>%\n",
    "    mutate(cohort_ami_flag = TRUE)\n",
    "\n",
    "# ACF-Kohorte\n",
    "cohort.acf <- mimic.diagnoses.annotated %>% \n",
    "    filter(grepl(\"Acute kidney failure\", long_title)) %>%\n",
    "    select(hadm_id) %>%\n",
    "    distinct() %>%\n",
    "    mutate(cohort_acf_flag = TRUE)"
   ]
  },
  {
   "cell_type": "markdown",
   "id": "extensive-worker",
   "metadata": {},
   "source": [
    "## Falltabelle (admissions) um die Kohorten-Flags ergänzen\n",
    "\n",
    "Die Aufnahmetabelle wird im folgenden Block schrittweise mit left Joins um die Flags der 3 Kohorten ergänzt. Ergebnis ist die vollständige Falltabelle mit 3 zusätzlichen Spalten, in denen jeweils mit TRUE oder FALSE angegeben ist, ob dieser Fall in eine der drei Kohorten (oder ggf. mehrere) fällt."
   ]
  },
  {
   "cell_type": "code",
   "execution_count": null,
   "id": "conditional-serial",
   "metadata": {},
   "outputs": [],
   "source": [
    "cohort.all <- mimic.admissions.raw %>%\n",
    "    left_join(cohort.sep, by = \"hadm_id\") %>%  # Sepsis-Kohorte hinzufügen\n",
    "    left_join(cohort.ami, by = \"hadm_id\") %>%  # AMI-Kohorte hinzufügen\n",
    "    left_join(cohort.acf, by = \"hadm_id\") %>%  # ACF-Kohorte hinzufügen\n",
    "    replace_na(list(cohort_sep_flag = FALSE,   # \"NA\"-Einträge in den Kohorten-Flags durch FALSE ersetzen\n",
    "                    cohort_ami_flag = FALSE,\n",
    "                    cohort_acf_flag = FALSE))\n",
    "\n",
    "head(cohort.all)"
   ]
  },
  {
   "cell_type": "markdown",
   "id": "every-commons",
   "metadata": {},
   "source": [
    "## Laboranalyte für Troponin (Herzenzym, u.a. bei Myokardinfarkt erhöht) heraussuchen"
   ]
  },
  {
   "cell_type": "code",
   "execution_count": null,
   "id": "sudden-nursery",
   "metadata": {},
   "outputs": [],
   "source": [
    "mimic.d_labitems.raw %>%\n",
    "    filter(grepl(\"Troponin\", label))"
   ]
  },
  {
   "cell_type": "markdown",
   "id": "eligible-embassy",
   "metadata": {},
   "source": [
    "### Häufigkeit der gefundenen Troponin-Analyte in den Befunden anzeigen"
   ]
  },
  {
   "cell_type": "code",
   "execution_count": null,
   "id": "subtle-swimming",
   "metadata": {},
   "outputs": [],
   "source": [
    "mimic.labevents.annotated %>%\n",
    "    filter(grepl(\"Troponin\", label)) %>%\n",
    "    group_by(label, fluid, loinc_code) %>%\n",
    "    summarize(n = n(), .groups = \"keep\")"
   ]
  },
  {
   "cell_type": "markdown",
   "id": "academic-ranking",
   "metadata": {},
   "source": [
    "## Verteilung der Troponin-Befunde mit/ohne Zugehörigkeit zur Herzinfarkt-Kohorte visualisieren"
   ]
  },
  {
   "cell_type": "code",
   "execution_count": null,
   "id": "unlimited-speed",
   "metadata": {},
   "outputs": [],
   "source": [
    "# Labordaten auf Troponin filtern & Kohortenflag ergänzen\n",
    "troponin <- mimic.labevents.annotated %>%\n",
    "    filter(grepl(\"Troponin\", label)) %>%\n",
    "    inner_join(cohort.all %>% select(hadm_id, cohort_ami_flag), by = \"hadm_id\")\n",
    "head(troponin)\n",
    "\n",
    "# Boxplot ausgeben\n",
    "options(repr.plot.width = 10, repr.plot.height = 5)\n",
    "ggplot(data = troponin, aes(x = label, y = valuenum, fill = cohort_ami_flag)) +\n",
    "    geom_boxplot()"
   ]
  },
  {
   "cell_type": "markdown",
   "id": "automatic-nebraska",
   "metadata": {},
   "source": [
    "## Aufgabe: Finden & visualisieren Sie passende Laborbefunde für die ACF- und Sepsis-Kohorten\n",
    "\n",
    "Hier können Sie das Wissen aus dem Abschnitt 4, Demo 2 (Daten abfragen mit Tidyverse) und dem Abschnitt 6, Demo 1 (Daten visualisieren, Diagramme) anwenden.\n",
    "* zugehörige Notebooks: [teil-4-demo-02-abfragen-tidyverse.ipynb](https://github.com/ganslats/TMF-School-2021-Block-7/blob/main/Notebooks/teil-4-demo-02-abfragen-tidyverse.ipynb), [teil-6-demo-01-visualisieren-diagramme.ipynb](https://github.com/ganslats/TMF-School-2021-Block-7/blob/main/Notebooks/teil-6-demo-01-visualisieren-diagramme.ipynb)\n",
    "* nutzen Sie gerne auch das [ggplot2-Cheat Sheet von RStudio](https://github.com/rstudio/cheatsheets/raw/master/data-visualization-2.1.pdf)\n",
    "\n",
    "Sonstige Tipps:\n",
    "* nutzen Sie die `category`-Spalte in der Laborbefundtabelle und achten Sie auch darauf, dass gleichnamige Untersuchungen an verschiedenen Materialien (z.B. Blut, Urin) durchgeführt werden können\n",
    "* falls der Bezeichner (`label`) eines Analyts für sich nicht eindeutig in Bezug auf das Untersuchungsmaterial ist, können Sie alternativ auch  dessen LOINC-Code als Filterkriterium nutzen, da es eindeutig inkl. des verwendeten Untersuchungsmaterials ist\n",
    "* suchen Sie ggf. auch nach Synonymen, da die Benennung selbst innerhalb dieses Datensatzes nicht immer einheitlich ist (z.B. *Leukocytes* und *White blood cells*)"
   ]
  },
  {
   "cell_type": "markdown",
   "id": "simple-leonard",
   "metadata": {},
   "source": [
    "### Visualisierung Laborbefunde für die ACF-Kohorte (akutes Nierenversagen)"
   ]
  },
  {
   "cell_type": "code",
   "execution_count": null,
   "id": "robust-armor",
   "metadata": {},
   "outputs": [],
   "source": []
  },
  {
   "cell_type": "markdown",
   "id": "color-lesson",
   "metadata": {},
   "source": [
    "### Visualisierung Laborbefunde für die Sepsis-Kohorte"
   ]
  },
  {
   "cell_type": "code",
   "execution_count": null,
   "id": "editorial-skill",
   "metadata": {},
   "outputs": [],
   "source": []
  }
 ],
 "metadata": {
  "kernelspec": {
   "display_name": "R",
   "language": "R",
   "name": "ir"
  },
  "language_info": {
   "codemirror_mode": "r",
   "file_extension": ".r",
   "mimetype": "text/x-r-source",
   "name": "R",
   "pygments_lexer": "r",
   "version": "4.0.5"
  }
 },
 "nbformat": 4,
 "nbformat_minor": 5
}
