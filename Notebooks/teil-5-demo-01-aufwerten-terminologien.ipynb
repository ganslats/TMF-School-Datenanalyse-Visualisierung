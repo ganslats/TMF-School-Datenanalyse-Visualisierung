{
 "cells": [
  {
   "cell_type": "markdown",
   "id": "joint-popularity",
   "metadata": {},
   "source": [
    "# Teil 5 Demo 1: Aufwertung von Daten mit Terminologien"
   ]
  },
  {
   "cell_type": "markdown",
   "id": "large-congo",
   "metadata": {},
   "source": [
    "## Bibliotheken & Konfiguration"
   ]
  },
  {
   "cell_type": "code",
   "execution_count": 1,
   "id": "seasonal-rates",
   "metadata": {
    "ExecuteTime": {
     "end_time": "2023-06-06T16:15:54.868329500Z",
     "start_time": "2023-06-06T16:15:54.003231500Z"
    }
   },
   "outputs": [
    {
     "name": "stderr",
     "output_type": "stream",
     "text": [
      "Loading required package: readr\n",
      "\n",
      "Loading required package: dplyr\n",
      "\n",
      "\n",
      "Attaching package: 'dplyr'\n",
      "\n",
      "\n",
      "The following objects are masked from 'package:stats':\n",
      "\n",
      "    filter, lag\n",
      "\n",
      "\n",
      "The following objects are masked from 'package:base':\n",
      "\n",
      "    intersect, setdiff, setequal, union\n",
      "\n",
      "\n",
      "Loading required package: stringr\n",
      "\n",
      "Loading required package: tidyr\n",
      "\n",
      "Loading required package: icd.data\n",
      "\n"
     ]
    },
    {
     "data": {
      "text/html": "<ol>\n\t<li>TRUE</li>\n\t<li>TRUE</li>\n\t<li>TRUE</li>\n\t<li>TRUE</li>\n\t<li>TRUE</li>\n</ol>\n",
      "text/markdown": "1. TRUE\n2. TRUE\n3. TRUE\n4. TRUE\n5. TRUE\n\n\n",
      "text/latex": "\\begin{enumerate}\n\\item TRUE\n\\item TRUE\n\\item TRUE\n\\item TRUE\n\\item TRUE\n\\end{enumerate}\n",
      "text/plain": "[[1]]\n[1] TRUE\n\n[[2]]\n[1] TRUE\n\n[[3]]\n[1] TRUE\n\n[[4]]\n[1] TRUE\n\n[[5]]\n[1] TRUE\n"
     },
     "metadata": {},
     "output_type": "display_data"
    }
   ],
   "source": [
    "packages <- c(\"readr\", \"dplyr\", \"stringr\", \"tidyr\", \"icd.data\")\n",
    "install.packages(setdiff(packages, rownames(installed.packages())))\n",
    "lapply(packages, require, character.only = TRUE)\n",
    "\n",
    "base_url <- \"https://raw.githubusercontent.com/ganslats/TMF-School-2022-Block-4/master/Rohdaten/mimic-iii-demo/\""
   ]
  },
  {
   "cell_type": "markdown",
   "id": "vulnerable-greece",
   "metadata": {},
   "source": [
    "## Ausgewählte MIMIC III-Rohdaten laden"
   ]
  },
  {
   "cell_type": "code",
   "execution_count": 2,
   "id": "other-violin",
   "metadata": {
    "ExecuteTime": {
     "end_time": "2023-06-06T16:15:55.828594Z",
     "start_time": "2023-06-06T16:15:54.826224300Z"
    }
   },
   "outputs": [],
   "source": [
    "mimic.diagnoses.raw     <- read_csv(paste(base_url, \"DIAGNOSES_ICD.csv\", sep=\"\"),\n",
    "                                    col_types = cols(row_id = col_double(), subject_id = col_double(), hadm_id = col_double(), seq_num = col_double(), icd9_code = col_character()))\n",
    "mimic.d_icd.raw         <- read_csv(paste(base_url, \"D_ICD_DIAGNOSES.csv\", sep=\"\"),\n",
    "                                    col_types = cols(row_id = col_double(), icd9_code = col_character(), short_title = col_character(), long_title = col_character()))\n",
    "#head(mimic.patients.raw)\n",
    "#head(mimic.admissions.raw)\n",
    "#head(mimic.diagnoses.raw)\n",
    "#head(mimic.d_icd.raw)"
   ]
  },
  {
   "cell_type": "markdown",
   "id": "framed-labor",
   "metadata": {},
   "source": [
    "## Häufigste Diagnosen ermitteln"
   ]
  },
  {
   "cell_type": "code",
   "execution_count": 3,
   "id": "copyrighted-involvement",
   "metadata": {
    "ExecuteTime": {
     "end_time": "2023-06-06T16:15:55.943178900Z",
     "start_time": "2023-06-06T16:15:55.836085100Z"
    }
   },
   "outputs": [
    {
     "data": {
      "text/html": "<table class=\"dataframe\">\n<caption>A grouped_df: 10 × 2</caption>\n<thead>\n\t<tr><th scope=col>icd9_code</th><th scope=col>n</th></tr>\n\t<tr><th scope=col>&lt;chr&gt;</th><th scope=col>&lt;int&gt;</th></tr>\n</thead>\n<tbody>\n\t<tr><td>4019 </td><td>53</td></tr>\n\t<tr><td>42731</td><td>48</td></tr>\n\t<tr><td>5849 </td><td>45</td></tr>\n\t<tr><td>4280 </td><td>39</td></tr>\n\t<tr><td>25000</td><td>31</td></tr>\n\t<tr><td>51881</td><td>31</td></tr>\n\t<tr><td>2724 </td><td>29</td></tr>\n\t<tr><td>5990 </td><td>27</td></tr>\n\t<tr><td>486  </td><td>26</td></tr>\n\t<tr><td>2859 </td><td>25</td></tr>\n</tbody>\n</table>\n",
      "text/markdown": "\nA grouped_df: 10 × 2\n\n| icd9_code &lt;chr&gt; | n &lt;int&gt; |\n|---|---|\n| 4019  | 53 |\n| 42731 | 48 |\n| 5849  | 45 |\n| 4280  | 39 |\n| 25000 | 31 |\n| 51881 | 31 |\n| 2724  | 29 |\n| 5990  | 27 |\n| 486   | 26 |\n| 2859  | 25 |\n\n",
      "text/latex": "A grouped\\_df: 10 × 2\n\\begin{tabular}{ll}\n icd9\\_code & n\\\\\n <chr> & <int>\\\\\n\\hline\n\t 4019  & 53\\\\\n\t 42731 & 48\\\\\n\t 5849  & 45\\\\\n\t 4280  & 39\\\\\n\t 25000 & 31\\\\\n\t 51881 & 31\\\\\n\t 2724  & 29\\\\\n\t 5990  & 27\\\\\n\t 486   & 26\\\\\n\t 2859  & 25\\\\\n\\end{tabular}\n",
      "text/plain": "   icd9_code n \n1  4019      53\n2  42731     48\n3  5849      45\n4  4280      39\n5  25000     31\n6  51881     31\n7  2724      29\n8  5990      27\n9  486       26\n10 2859      25"
     },
     "metadata": {},
     "output_type": "display_data"
    }
   ],
   "source": [
    "head(mimic.diagnoses.raw %>%\n",
    "    group_by(icd9_code) %>%\n",
    "    summarize(n = n(), .groups = \"keep\") %>%\n",
    "    arrange(desc(n)),\n",
    "10)"
   ]
  },
  {
   "cell_type": "markdown",
   "id": "civic-spokesman",
   "metadata": {},
   "source": [
    "## Bezeichner aus dem ICD9-Katalog ergänzen"
   ]
  },
  {
   "cell_type": "code",
   "execution_count": 4,
   "id": "current-bankruptcy",
   "metadata": {
    "ExecuteTime": {
     "end_time": "2023-06-06T16:15:56.051344900Z",
     "start_time": "2023-06-06T16:15:55.952412600Z"
    }
   },
   "outputs": [
    {
     "data": {
      "text/html": "<table class=\"dataframe\">\n<caption>A grouped_df: 10 × 3</caption>\n<thead>\n\t<tr><th scope=col>icd9_code</th><th scope=col>short_title</th><th scope=col>n</th></tr>\n\t<tr><th scope=col>&lt;chr&gt;</th><th scope=col>&lt;chr&gt;</th><th scope=col>&lt;int&gt;</th></tr>\n</thead>\n<tbody>\n\t<tr><td>4019 </td><td>Hypertension NOS        </td><td>53</td></tr>\n\t<tr><td>42731</td><td>Atrial fibrillation     </td><td>48</td></tr>\n\t<tr><td>5849 </td><td>Acute kidney failure NOS</td><td>45</td></tr>\n\t<tr><td>4280 </td><td>CHF NOS                 </td><td>39</td></tr>\n\t<tr><td>25000</td><td>DMII wo cmp nt st uncntr</td><td>31</td></tr>\n\t<tr><td>51881</td><td>Acute respiratry failure</td><td>31</td></tr>\n\t<tr><td>2724 </td><td>Hyperlipidemia NEC/NOS  </td><td>29</td></tr>\n\t<tr><td>5990 </td><td>Urin tract infection NOS</td><td>27</td></tr>\n\t<tr><td>486  </td><td>Pneumonia, organism NOS </td><td>26</td></tr>\n\t<tr><td>2859 </td><td>Anemia NOS              </td><td>25</td></tr>\n</tbody>\n</table>\n",
      "text/markdown": "\nA grouped_df: 10 × 3\n\n| icd9_code &lt;chr&gt; | short_title &lt;chr&gt; | n &lt;int&gt; |\n|---|---|---|\n| 4019  | Hypertension NOS         | 53 |\n| 42731 | Atrial fibrillation      | 48 |\n| 5849  | Acute kidney failure NOS | 45 |\n| 4280  | CHF NOS                  | 39 |\n| 25000 | DMII wo cmp nt st uncntr | 31 |\n| 51881 | Acute respiratry failure | 31 |\n| 2724  | Hyperlipidemia NEC/NOS   | 29 |\n| 5990  | Urin tract infection NOS | 27 |\n| 486   | Pneumonia, organism NOS  | 26 |\n| 2859  | Anemia NOS               | 25 |\n\n",
      "text/latex": "A grouped\\_df: 10 × 3\n\\begin{tabular}{lll}\n icd9\\_code & short\\_title & n\\\\\n <chr> & <chr> & <int>\\\\\n\\hline\n\t 4019  & Hypertension NOS         & 53\\\\\n\t 42731 & Atrial fibrillation      & 48\\\\\n\t 5849  & Acute kidney failure NOS & 45\\\\\n\t 4280  & CHF NOS                  & 39\\\\\n\t 25000 & DMII wo cmp nt st uncntr & 31\\\\\n\t 51881 & Acute respiratry failure & 31\\\\\n\t 2724  & Hyperlipidemia NEC/NOS   & 29\\\\\n\t 5990  & Urin tract infection NOS & 27\\\\\n\t 486   & Pneumonia, organism NOS  & 26\\\\\n\t 2859  & Anemia NOS               & 25\\\\\n\\end{tabular}\n",
      "text/plain": "   icd9_code short_title              n \n1  4019      Hypertension NOS         53\n2  42731     Atrial fibrillation      48\n3  5849      Acute kidney failure NOS 45\n4  4280      CHF NOS                  39\n5  25000     DMII wo cmp nt st uncntr 31\n6  51881     Acute respiratry failure 31\n7  2724      Hyperlipidemia NEC/NOS   29\n8  5990      Urin tract infection NOS 27\n9  486       Pneumonia, organism NOS  26\n10 2859      Anemia NOS               25"
     },
     "metadata": {},
     "output_type": "display_data"
    }
   ],
   "source": [
    "head(mimic.diagnoses.raw %>%\n",
    "    inner_join(mimic.d_icd.raw %>% select(icd9_code, short_title), by = \"icd9_code\") %>%\n",
    "    group_by(icd9_code, short_title) %>%\n",
    "    summarize(n = n(), .groups = \"keep\") %>%\n",
    "    arrange(desc(n)),\n",
    "10)"
   ]
  },
  {
   "cell_type": "code",
   "execution_count": 5,
   "id": "composite-shirt",
   "metadata": {
    "ExecuteTime": {
     "end_time": "2023-06-06T16:15:56.160147700Z",
     "start_time": "2023-06-06T16:15:56.063879900Z"
    }
   },
   "outputs": [
    {
     "data": {
      "text/html": "<table class=\"dataframe\">\n<caption>A data.frame: 6 × 9</caption>\n<thead>\n\t<tr><th></th><th scope=col>code</th><th scope=col>billable</th><th scope=col>short_desc</th><th scope=col>long_desc</th><th scope=col>three_digit</th><th scope=col>major</th><th scope=col>sub_chapter</th><th scope=col>chapter</th><th scope=col>icd9_code</th></tr>\n\t<tr><th></th><th scope=col>&lt;chr&gt;</th><th scope=col>&lt;lgl&gt;</th><th scope=col>&lt;chr&gt;</th><th scope=col>&lt;chr&gt;</th><th scope=col>&lt;fct&gt;</th><th scope=col>&lt;fct&gt;</th><th scope=col>&lt;fct&gt;</th><th scope=col>&lt;fct&gt;</th><th scope=col>&lt;chr&gt;</th></tr>\n</thead>\n<tbody>\n\t<tr><th scope=row>1</th><td>001 </td><td>FALSE</td><td>Cholera                       </td><td>Cholera                              </td><td>001</td><td>Cholera                       </td><td>Intestinal Infectious Diseases</td><td>Infectious And Parasitic Diseases</td><td>001 </td></tr>\n\t<tr><th scope=row>2</th><td>0010</td><td> TRUE</td><td>Cholera d/t vib cholerae      </td><td>Cholera due to vibrio cholerae       </td><td>001</td><td>Cholera                       </td><td>Intestinal Infectious Diseases</td><td>Infectious And Parasitic Diseases</td><td>0010</td></tr>\n\t<tr><th scope=row>3</th><td>0011</td><td> TRUE</td><td>Cholera d/t vib el tor        </td><td>Cholera due to vibrio cholerae el tor</td><td>001</td><td>Cholera                       </td><td>Intestinal Infectious Diseases</td><td>Infectious And Parasitic Diseases</td><td>0011</td></tr>\n\t<tr><th scope=row>4</th><td>0019</td><td> TRUE</td><td>Cholera NOS                   </td><td>Cholera, unspecified                 </td><td>001</td><td>Cholera                       </td><td>Intestinal Infectious Diseases</td><td>Infectious And Parasitic Diseases</td><td>0019</td></tr>\n\t<tr><th scope=row>5</th><td>002 </td><td>FALSE</td><td>Typhoid and paratyphoid fevers</td><td>Typhoid and paratyphoid fevers       </td><td>002</td><td>Typhoid and paratyphoid fevers</td><td>Intestinal Infectious Diseases</td><td>Infectious And Parasitic Diseases</td><td>002 </td></tr>\n\t<tr><th scope=row>6</th><td>0020</td><td> TRUE</td><td>Typhoid fever                 </td><td>Typhoid fever                        </td><td>002</td><td>Typhoid and paratyphoid fevers</td><td>Intestinal Infectious Diseases</td><td>Infectious And Parasitic Diseases</td><td>0020</td></tr>\n</tbody>\n</table>\n",
      "text/markdown": "\nA data.frame: 6 × 9\n\n| <!--/--> | code &lt;chr&gt; | billable &lt;lgl&gt; | short_desc &lt;chr&gt; | long_desc &lt;chr&gt; | three_digit &lt;fct&gt; | major &lt;fct&gt; | sub_chapter &lt;fct&gt; | chapter &lt;fct&gt; | icd9_code &lt;chr&gt; |\n|---|---|---|---|---|---|---|---|---|---|\n| 1 | 001  | FALSE | Cholera                        | Cholera                               | 001 | Cholera                        | Intestinal Infectious Diseases | Infectious And Parasitic Diseases | 001  |\n| 2 | 0010 |  TRUE | Cholera d/t vib cholerae       | Cholera due to vibrio cholerae        | 001 | Cholera                        | Intestinal Infectious Diseases | Infectious And Parasitic Diseases | 0010 |\n| 3 | 0011 |  TRUE | Cholera d/t vib el tor         | Cholera due to vibrio cholerae el tor | 001 | Cholera                        | Intestinal Infectious Diseases | Infectious And Parasitic Diseases | 0011 |\n| 4 | 0019 |  TRUE | Cholera NOS                    | Cholera, unspecified                  | 001 | Cholera                        | Intestinal Infectious Diseases | Infectious And Parasitic Diseases | 0019 |\n| 5 | 002  | FALSE | Typhoid and paratyphoid fevers | Typhoid and paratyphoid fevers        | 002 | Typhoid and paratyphoid fevers | Intestinal Infectious Diseases | Infectious And Parasitic Diseases | 002  |\n| 6 | 0020 |  TRUE | Typhoid fever                  | Typhoid fever                         | 002 | Typhoid and paratyphoid fevers | Intestinal Infectious Diseases | Infectious And Parasitic Diseases | 0020 |\n\n",
      "text/latex": "A data.frame: 6 × 9\n\\begin{tabular}{r|lllllllll}\n  & code & billable & short\\_desc & long\\_desc & three\\_digit & major & sub\\_chapter & chapter & icd9\\_code\\\\\n  & <chr> & <lgl> & <chr> & <chr> & <fct> & <fct> & <fct> & <fct> & <chr>\\\\\n\\hline\n\t1 & 001  & FALSE & Cholera                        & Cholera                               & 001 & Cholera                        & Intestinal Infectious Diseases & Infectious And Parasitic Diseases & 001 \\\\\n\t2 & 0010 &  TRUE & Cholera d/t vib cholerae       & Cholera due to vibrio cholerae        & 001 & Cholera                        & Intestinal Infectious Diseases & Infectious And Parasitic Diseases & 0010\\\\\n\t3 & 0011 &  TRUE & Cholera d/t vib el tor         & Cholera due to vibrio cholerae el tor & 001 & Cholera                        & Intestinal Infectious Diseases & Infectious And Parasitic Diseases & 0011\\\\\n\t4 & 0019 &  TRUE & Cholera NOS                    & Cholera, unspecified                  & 001 & Cholera                        & Intestinal Infectious Diseases & Infectious And Parasitic Diseases & 0019\\\\\n\t5 & 002  & FALSE & Typhoid and paratyphoid fevers & Typhoid and paratyphoid fevers        & 002 & Typhoid and paratyphoid fevers & Intestinal Infectious Diseases & Infectious And Parasitic Diseases & 002 \\\\\n\t6 & 0020 &  TRUE & Typhoid fever                  & Typhoid fever                         & 002 & Typhoid and paratyphoid fevers & Intestinal Infectious Diseases & Infectious And Parasitic Diseases & 0020\\\\\n\\end{tabular}\n",
      "text/plain": "  code billable short_desc                    \n1 001  FALSE    Cholera                       \n2 0010  TRUE    Cholera d/t vib cholerae      \n3 0011  TRUE    Cholera d/t vib el tor        \n4 0019  TRUE    Cholera NOS                   \n5 002  FALSE    Typhoid and paratyphoid fevers\n6 0020  TRUE    Typhoid fever                 \n  long_desc                             three_digit\n1 Cholera                               001        \n2 Cholera due to vibrio cholerae        001        \n3 Cholera due to vibrio cholerae el tor 001        \n4 Cholera, unspecified                  001        \n5 Typhoid and paratyphoid fevers        002        \n6 Typhoid fever                         002        \n  major                          sub_chapter                   \n1 Cholera                        Intestinal Infectious Diseases\n2 Cholera                        Intestinal Infectious Diseases\n3 Cholera                        Intestinal Infectious Diseases\n4 Cholera                        Intestinal Infectious Diseases\n5 Typhoid and paratyphoid fevers Intestinal Infectious Diseases\n6 Typhoid and paratyphoid fevers Intestinal Infectious Diseases\n  chapter                           icd9_code\n1 Infectious And Parasitic Diseases 001      \n2 Infectious And Parasitic Diseases 0010     \n3 Infectious And Parasitic Diseases 0011     \n4 Infectious And Parasitic Diseases 0019     \n5 Infectious And Parasitic Diseases 002      \n6 Infectious And Parasitic Diseases 0020     "
     },
     "metadata": {},
     "output_type": "display_data"
    }
   ],
   "source": [
    "icd9.hierarchy.raw <- icd9cm_hierarchy\n",
    "icd9.hierarchy.raw$icd9_code <- as.character(icd9.hierarchy.raw$code)\n",
    "head(icd9.hierarchy.raw)"
   ]
  },
  {
   "cell_type": "markdown",
   "id": "japanese-reflection",
   "metadata": {},
   "source": [
    "## ICD9-Hierarchie ergänzen\n",
    "\n",
    "### ICD9-Hierarchy aus dem R-Paket \"icd.data\" laden und String-Version des ICD-Codes ergänzen"
   ]
  },
  {
   "cell_type": "code",
   "execution_count": 6,
   "id": "simplified-permission",
   "metadata": {
    "scrolled": true,
    "ExecuteTime": {
     "end_time": "2023-06-06T16:15:56.249263100Z",
     "start_time": "2023-06-06T16:15:56.159149Z"
    }
   },
   "outputs": [
    {
     "data": {
      "text/html": "<table class=\"dataframe\">\n<caption>A data.frame: 6 × 9</caption>\n<thead>\n\t<tr><th></th><th scope=col>code</th><th scope=col>billable</th><th scope=col>short_desc</th><th scope=col>long_desc</th><th scope=col>three_digit</th><th scope=col>major</th><th scope=col>sub_chapter</th><th scope=col>chapter</th><th scope=col>icd9_code</th></tr>\n\t<tr><th></th><th scope=col>&lt;chr&gt;</th><th scope=col>&lt;lgl&gt;</th><th scope=col>&lt;chr&gt;</th><th scope=col>&lt;chr&gt;</th><th scope=col>&lt;fct&gt;</th><th scope=col>&lt;fct&gt;</th><th scope=col>&lt;fct&gt;</th><th scope=col>&lt;fct&gt;</th><th scope=col>&lt;chr&gt;</th></tr>\n</thead>\n<tbody>\n\t<tr><th scope=row>1</th><td>001 </td><td>FALSE</td><td>Cholera                       </td><td>Cholera                              </td><td>001</td><td>Cholera                       </td><td>Intestinal Infectious Diseases</td><td>Infectious And Parasitic Diseases</td><td>001 </td></tr>\n\t<tr><th scope=row>2</th><td>0010</td><td> TRUE</td><td>Cholera d/t vib cholerae      </td><td>Cholera due to vibrio cholerae       </td><td>001</td><td>Cholera                       </td><td>Intestinal Infectious Diseases</td><td>Infectious And Parasitic Diseases</td><td>0010</td></tr>\n\t<tr><th scope=row>3</th><td>0011</td><td> TRUE</td><td>Cholera d/t vib el tor        </td><td>Cholera due to vibrio cholerae el tor</td><td>001</td><td>Cholera                       </td><td>Intestinal Infectious Diseases</td><td>Infectious And Parasitic Diseases</td><td>0011</td></tr>\n\t<tr><th scope=row>4</th><td>0019</td><td> TRUE</td><td>Cholera NOS                   </td><td>Cholera, unspecified                 </td><td>001</td><td>Cholera                       </td><td>Intestinal Infectious Diseases</td><td>Infectious And Parasitic Diseases</td><td>0019</td></tr>\n\t<tr><th scope=row>5</th><td>002 </td><td>FALSE</td><td>Typhoid and paratyphoid fevers</td><td>Typhoid and paratyphoid fevers       </td><td>002</td><td>Typhoid and paratyphoid fevers</td><td>Intestinal Infectious Diseases</td><td>Infectious And Parasitic Diseases</td><td>002 </td></tr>\n\t<tr><th scope=row>6</th><td>0020</td><td> TRUE</td><td>Typhoid fever                 </td><td>Typhoid fever                        </td><td>002</td><td>Typhoid and paratyphoid fevers</td><td>Intestinal Infectious Diseases</td><td>Infectious And Parasitic Diseases</td><td>0020</td></tr>\n</tbody>\n</table>\n",
      "text/markdown": "\nA data.frame: 6 × 9\n\n| <!--/--> | code &lt;chr&gt; | billable &lt;lgl&gt; | short_desc &lt;chr&gt; | long_desc &lt;chr&gt; | three_digit &lt;fct&gt; | major &lt;fct&gt; | sub_chapter &lt;fct&gt; | chapter &lt;fct&gt; | icd9_code &lt;chr&gt; |\n|---|---|---|---|---|---|---|---|---|---|\n| 1 | 001  | FALSE | Cholera                        | Cholera                               | 001 | Cholera                        | Intestinal Infectious Diseases | Infectious And Parasitic Diseases | 001  |\n| 2 | 0010 |  TRUE | Cholera d/t vib cholerae       | Cholera due to vibrio cholerae        | 001 | Cholera                        | Intestinal Infectious Diseases | Infectious And Parasitic Diseases | 0010 |\n| 3 | 0011 |  TRUE | Cholera d/t vib el tor         | Cholera due to vibrio cholerae el tor | 001 | Cholera                        | Intestinal Infectious Diseases | Infectious And Parasitic Diseases | 0011 |\n| 4 | 0019 |  TRUE | Cholera NOS                    | Cholera, unspecified                  | 001 | Cholera                        | Intestinal Infectious Diseases | Infectious And Parasitic Diseases | 0019 |\n| 5 | 002  | FALSE | Typhoid and paratyphoid fevers | Typhoid and paratyphoid fevers        | 002 | Typhoid and paratyphoid fevers | Intestinal Infectious Diseases | Infectious And Parasitic Diseases | 002  |\n| 6 | 0020 |  TRUE | Typhoid fever                  | Typhoid fever                         | 002 | Typhoid and paratyphoid fevers | Intestinal Infectious Diseases | Infectious And Parasitic Diseases | 0020 |\n\n",
      "text/latex": "A data.frame: 6 × 9\n\\begin{tabular}{r|lllllllll}\n  & code & billable & short\\_desc & long\\_desc & three\\_digit & major & sub\\_chapter & chapter & icd9\\_code\\\\\n  & <chr> & <lgl> & <chr> & <chr> & <fct> & <fct> & <fct> & <fct> & <chr>\\\\\n\\hline\n\t1 & 001  & FALSE & Cholera                        & Cholera                               & 001 & Cholera                        & Intestinal Infectious Diseases & Infectious And Parasitic Diseases & 001 \\\\\n\t2 & 0010 &  TRUE & Cholera d/t vib cholerae       & Cholera due to vibrio cholerae        & 001 & Cholera                        & Intestinal Infectious Diseases & Infectious And Parasitic Diseases & 0010\\\\\n\t3 & 0011 &  TRUE & Cholera d/t vib el tor         & Cholera due to vibrio cholerae el tor & 001 & Cholera                        & Intestinal Infectious Diseases & Infectious And Parasitic Diseases & 0011\\\\\n\t4 & 0019 &  TRUE & Cholera NOS                    & Cholera, unspecified                  & 001 & Cholera                        & Intestinal Infectious Diseases & Infectious And Parasitic Diseases & 0019\\\\\n\t5 & 002  & FALSE & Typhoid and paratyphoid fevers & Typhoid and paratyphoid fevers        & 002 & Typhoid and paratyphoid fevers & Intestinal Infectious Diseases & Infectious And Parasitic Diseases & 002 \\\\\n\t6 & 0020 &  TRUE & Typhoid fever                  & Typhoid fever                         & 002 & Typhoid and paratyphoid fevers & Intestinal Infectious Diseases & Infectious And Parasitic Diseases & 0020\\\\\n\\end{tabular}\n",
      "text/plain": "  code billable short_desc                    \n1 001  FALSE    Cholera                       \n2 0010  TRUE    Cholera d/t vib cholerae      \n3 0011  TRUE    Cholera d/t vib el tor        \n4 0019  TRUE    Cholera NOS                   \n5 002  FALSE    Typhoid and paratyphoid fevers\n6 0020  TRUE    Typhoid fever                 \n  long_desc                             three_digit\n1 Cholera                               001        \n2 Cholera due to vibrio cholerae        001        \n3 Cholera due to vibrio cholerae el tor 001        \n4 Cholera, unspecified                  001        \n5 Typhoid and paratyphoid fevers        002        \n6 Typhoid fever                         002        \n  major                          sub_chapter                   \n1 Cholera                        Intestinal Infectious Diseases\n2 Cholera                        Intestinal Infectious Diseases\n3 Cholera                        Intestinal Infectious Diseases\n4 Cholera                        Intestinal Infectious Diseases\n5 Typhoid and paratyphoid fevers Intestinal Infectious Diseases\n6 Typhoid and paratyphoid fevers Intestinal Infectious Diseases\n  chapter                           icd9_code\n1 Infectious And Parasitic Diseases 001      \n2 Infectious And Parasitic Diseases 0010     \n3 Infectious And Parasitic Diseases 0011     \n4 Infectious And Parasitic Diseases 0019     \n5 Infectious And Parasitic Diseases 002      \n6 Infectious And Parasitic Diseases 0020     "
     },
     "metadata": {},
     "output_type": "display_data"
    }
   ],
   "source": [
    "icd9.hierarchy.raw <- icd9cm_hierarchy\n",
    "icd9.hierarchy.raw$icd9_code <- as.character(icd9.hierarchy.raw$code)\n",
    "head(icd9.hierarchy.raw)"
   ]
  },
  {
   "cell_type": "markdown",
   "id": "union-albert",
   "metadata": {},
   "source": [
    "## Aggregation auf Ebene der Unterkapitel des ICD9-Katalogs"
   ]
  },
  {
   "cell_type": "code",
   "execution_count": 7,
   "id": "fluid-glucose",
   "metadata": {
    "ExecuteTime": {
     "end_time": "2023-06-06T16:15:56.305103900Z",
     "start_time": "2023-06-06T16:15:56.204156Z"
    }
   },
   "outputs": [
    {
     "data": {
      "text/html": "<table class=\"dataframe\">\n<caption>A grouped_df: 10 × 2</caption>\n<thead>\n\t<tr><th scope=col>sub_chapter</th><th scope=col>n</th></tr>\n\t<tr><th scope=col>&lt;fct&gt;</th><th scope=col>&lt;int&gt;</th></tr>\n</thead>\n<tbody>\n\t<tr><td>Other Forms Of Heart Disease                                                </td><td>152</td></tr>\n\t<tr><td>Other Metabolic And Immunity Disorders                                      </td><td>134</td></tr>\n\t<tr><td>Diseases Of The Blood And Blood-Forming Organs                              </td><td> 82</td></tr>\n\t<tr><td>Nephritis, Nephrotic Syndrome, And Nephrosis                                </td><td> 74</td></tr>\n\t<tr><td>Hypertensive Disease                                                        </td><td> 73</td></tr>\n\t<tr><td>Other Diseases Of Respiratory System                                        </td><td> 66</td></tr>\n\t<tr><td>Symptoms                                                                    </td><td> 63</td></tr>\n\t<tr><td>Diseases Of Other Endocrine Glands                                          </td><td> 58</td></tr>\n\t<tr><td>Other Bacterial Diseases                                                    </td><td> 57</td></tr>\n\t<tr><td>Persons With Potential Health Hazards Related To Personal And Family History</td><td> 54</td></tr>\n</tbody>\n</table>\n",
      "text/markdown": "\nA grouped_df: 10 × 2\n\n| sub_chapter &lt;fct&gt; | n &lt;int&gt; |\n|---|---|\n| Other Forms Of Heart Disease                                                 | 152 |\n| Other Metabolic And Immunity Disorders                                       | 134 |\n| Diseases Of The Blood And Blood-Forming Organs                               |  82 |\n| Nephritis, Nephrotic Syndrome, And Nephrosis                                 |  74 |\n| Hypertensive Disease                                                         |  73 |\n| Other Diseases Of Respiratory System                                         |  66 |\n| Symptoms                                                                     |  63 |\n| Diseases Of Other Endocrine Glands                                           |  58 |\n| Other Bacterial Diseases                                                     |  57 |\n| Persons With Potential Health Hazards Related To Personal And Family History |  54 |\n\n",
      "text/latex": "A grouped\\_df: 10 × 2\n\\begin{tabular}{ll}\n sub\\_chapter & n\\\\\n <fct> & <int>\\\\\n\\hline\n\t Other Forms Of Heart Disease                                                 & 152\\\\\n\t Other Metabolic And Immunity Disorders                                       & 134\\\\\n\t Diseases Of The Blood And Blood-Forming Organs                               &  82\\\\\n\t Nephritis, Nephrotic Syndrome, And Nephrosis                                 &  74\\\\\n\t Hypertensive Disease                                                         &  73\\\\\n\t Other Diseases Of Respiratory System                                         &  66\\\\\n\t Symptoms                                                                     &  63\\\\\n\t Diseases Of Other Endocrine Glands                                           &  58\\\\\n\t Other Bacterial Diseases                                                     &  57\\\\\n\t Persons With Potential Health Hazards Related To Personal And Family History &  54\\\\\n\\end{tabular}\n",
      "text/plain": "   sub_chapter                                                                 \n1  Other Forms Of Heart Disease                                                \n2  Other Metabolic And Immunity Disorders                                      \n3  Diseases Of The Blood And Blood-Forming Organs                              \n4  Nephritis, Nephrotic Syndrome, And Nephrosis                                \n5  Hypertensive Disease                                                        \n6  Other Diseases Of Respiratory System                                        \n7  Symptoms                                                                    \n8  Diseases Of Other Endocrine Glands                                          \n9  Other Bacterial Diseases                                                    \n10 Persons With Potential Health Hazards Related To Personal And Family History\n   n  \n1  152\n2  134\n3   82\n4   74\n5   73\n6   66\n7   63\n8   58\n9   57\n10  54"
     },
     "metadata": {},
     "output_type": "display_data"
    }
   ],
   "source": [
    "head(mimic.diagnoses.raw %>%\n",
    "    inner_join(icd9.hierarchy.raw, by = \"icd9_code\") %>%\n",
    "    group_by(sub_chapter) %>%\n",
    "    summarize(n = n(), .groups = \"keep\") %>%\n",
    "    arrange(desc(n)),\n",
    "10)"
   ]
  }
 ],
 "metadata": {
  "kernelspec": {
   "display_name": "R",
   "language": "R",
   "name": "ir"
  },
  "language_info": {
   "codemirror_mode": "r",
   "file_extension": ".r",
   "mimetype": "text/x-r-source",
   "name": "R",
   "pygments_lexer": "r",
   "version": "4.0.5"
  }
 },
 "nbformat": 4,
 "nbformat_minor": 5
}
