{
 "cells": [
  {
   "cell_type": "markdown",
   "id": "joint-popularity",
   "metadata": {},
   "source": [
    "# Teil 5 Demo 1: Aufwertung von Daten mit Terminologien"
   ]
  },
  {
   "cell_type": "markdown",
   "id": "large-congo",
   "metadata": {},
   "source": [
    "## Bibliotheken & Konfiguration"
   ]
  },
  {
   "cell_type": "code",
   "execution_count": null,
   "id": "seasonal-rates",
   "metadata": {
    "ExecuteTime": {
     "end_time": "2023-06-06T16:15:54.868329500Z",
     "start_time": "2023-06-06T16:15:54.003231500Z"
    }
   },
   "outputs": [],
   "source": [
    "packages <- c(\"readr\", \"dplyr\", \"stringr\", \"tidyr\", \"icd.data\")\n",
    "install.packages(setdiff(packages, rownames(installed.packages())))\n",
    "lapply(packages, require, character.only = TRUE)\n",
    "\n",
    "base_url <- \"https://raw.githubusercontent.com/ganslats/TMF-School-Datenanalyse-Visualisierung/master/Rohdaten/mimic-iii-demo/\""
   ]
  },
  {
   "cell_type": "markdown",
   "id": "vulnerable-greece",
   "metadata": {},
   "source": [
    "## Ausgewählte MIMIC III-Rohdaten laden"
   ]
  },
  {
   "cell_type": "code",
   "execution_count": null,
   "id": "other-violin",
   "metadata": {
    "ExecuteTime": {
     "end_time": "2023-06-06T16:15:55.828594Z",
     "start_time": "2023-06-06T16:15:54.826224300Z"
    }
   },
   "outputs": [],
   "source": [
    "mimic.diagnoses.raw     <- read_csv(paste(base_url, \"DIAGNOSES_ICD.csv\", sep=\"\"),\n",
    "                                    col_types = cols(row_id = col_double(), subject_id = col_double(), hadm_id = col_double(), seq_num = col_double(), icd9_code = col_character()))\n",
    "mimic.d_icd.raw         <- read_csv(paste(base_url, \"D_ICD_DIAGNOSES.csv\", sep=\"\"),\n",
    "                                    col_types = cols(row_id = col_double(), icd9_code = col_character(), short_title = col_character(), long_title = col_character()))\n",
    "#head(mimic.patients.raw)\n",
    "#head(mimic.admissions.raw)\n",
    "#head(mimic.diagnoses.raw)\n",
    "#head(mimic.d_icd.raw)"
   ]
  },
  {
   "cell_type": "markdown",
   "id": "framed-labor",
   "metadata": {},
   "source": [
    "## Häufigste Diagnosen ermitteln"
   ]
  },
  {
   "cell_type": "code",
   "execution_count": null,
   "id": "copyrighted-involvement",
   "metadata": {
    "ExecuteTime": {
     "end_time": "2023-06-06T16:15:55.943178900Z",
     "start_time": "2023-06-06T16:15:55.836085100Z"
    }
   },
   "outputs": [],
   "source": [
    "head(mimic.diagnoses.raw %>%\n",
    "    group_by(icd9_code) %>%\n",
    "    summarize(n = n(), .groups = \"keep\") %>%\n",
    "    arrange(desc(n)),\n",
    "10)"
   ]
  },
  {
   "cell_type": "markdown",
   "id": "civic-spokesman",
   "metadata": {},
   "source": [
    "## Bezeichner aus dem ICD9-Katalog ergänzen"
   ]
  },
  {
   "cell_type": "code",
   "execution_count": null,
   "id": "current-bankruptcy",
   "metadata": {
    "ExecuteTime": {
     "end_time": "2023-06-06T16:15:56.051344900Z",
     "start_time": "2023-06-06T16:15:55.952412600Z"
    }
   },
   "outputs": [],
   "source": [
    "head(mimic.diagnoses.raw %>%\n",
    "    inner_join(mimic.d_icd.raw %>% select(icd9_code, short_title), by = \"icd9_code\") %>%\n",
    "    group_by(icd9_code, short_title) %>%\n",
    "    summarize(n = n(), .groups = \"keep\") %>%\n",
    "    arrange(desc(n)),\n",
    "10)"
   ]
  },
  {
   "cell_type": "code",
   "execution_count": null,
   "id": "composite-shirt",
   "metadata": {
    "ExecuteTime": {
     "end_time": "2023-06-06T16:15:56.160147700Z",
     "start_time": "2023-06-06T16:15:56.063879900Z"
    }
   },
   "outputs": [],
   "source": [
    "icd9.hierarchy.raw <- icd9cm_hierarchy\n",
    "icd9.hierarchy.raw$icd9_code <- as.character(icd9.hierarchy.raw$code)\n",
    "head(icd9.hierarchy.raw)"
   ]
  },
  {
   "cell_type": "markdown",
   "id": "japanese-reflection",
   "metadata": {},
   "source": [
    "## ICD9-Hierarchie ergänzen\n",
    "\n",
    "### ICD9-Hierarchy aus dem R-Paket \"icd.data\" laden und String-Version des ICD-Codes ergänzen"
   ]
  },
  {
   "cell_type": "code",
   "execution_count": null,
   "id": "simplified-permission",
   "metadata": {
    "ExecuteTime": {
     "end_time": "2023-06-06T16:15:56.249263100Z",
     "start_time": "2023-06-06T16:15:56.159149Z"
    },
    "scrolled": true
   },
   "outputs": [],
   "source": [
    "icd9.hierarchy.raw <- icd9cm_hierarchy\n",
    "icd9.hierarchy.raw$icd9_code <- as.character(icd9.hierarchy.raw$code)\n",
    "head(icd9.hierarchy.raw)"
   ]
  },
  {
   "cell_type": "markdown",
   "id": "union-albert",
   "metadata": {},
   "source": [
    "## Aggregation auf Ebene der Unterkapitel des ICD9-Katalogs"
   ]
  },
  {
   "cell_type": "code",
   "execution_count": null,
   "id": "fluid-glucose",
   "metadata": {
    "ExecuteTime": {
     "end_time": "2023-06-06T16:15:56.305103900Z",
     "start_time": "2023-06-06T16:15:56.204156Z"
    },
    "tags": []
   },
   "outputs": [],
   "source": [
    "head(mimic.diagnoses.raw %>%\n",
    "    inner_join(icd9.hierarchy.raw, by = \"icd9_code\") %>%\n",
    "    group_by(sub_chapter) %>%\n",
    "    summarize(n = n(), .groups = \"keep\") %>%\n",
    "    arrange(desc(n)),\n",
    "10)"
   ]
  }
 ],
 "metadata": {
  "kernelspec": {
   "display_name": "R",
   "language": "R",
   "name": "ir"
  },
  "language_info": {
   "codemirror_mode": "r",
   "file_extension": ".r",
   "mimetype": "text/x-r-source",
   "name": "R",
   "pygments_lexer": "r",
   "version": "4.2.3"
  }
 },
 "nbformat": 4,
 "nbformat_minor": 5
}
