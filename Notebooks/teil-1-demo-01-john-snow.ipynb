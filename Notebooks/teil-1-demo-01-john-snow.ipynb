{
 "cells": [
  {
   "cell_type": "markdown",
   "id": "rough-shaft",
   "metadata": {},
   "source": [
    "# Teil 1, Demo 1: Cholera-Daten von John Snow"
   ]
  },
  {
   "cell_type": "markdown",
   "id": "computational-campbell",
   "metadata": {},
   "source": [
    "## Bibliotheken & Konfiguration"
   ]
  },
  {
   "cell_type": "code",
   "execution_count": null,
   "id": "suburban-toronto",
   "metadata": {},
   "outputs": [],
   "source": [
    "packages <- c(\"leaflet\", \"ggmap\", \"readr\", \"tidyr\", \"ggplot2\", \"ggmap\", \"leaflet\")\n",
    "install.packages(setdiff(packages, rownames(installed.packages())))\n",
    "lapply(packages, require, character.only = TRUE)\n",
    "\n",
    "base_url <- \"https://raw.githubusercontent.com/ganslats/TMF-School-2022-Block-4/master/Rohdaten/john-snow/\""
   ]
  },
  {
   "cell_type": "markdown",
   "id": "bound-accommodation",
   "metadata": {},
   "source": [
    "## Zeitverlauf Infektionen & Todesfälle laden"
   ]
  },
  {
   "cell_type": "code",
   "execution_count": null,
   "id": "sunrise-jefferson",
   "metadata": {},
   "outputs": [],
   "source": [
    "snow.dates.raw <- read_csv(paste(base_url, \"snow.dates.csv\", sep=\"\"), \n",
    "                           col_names = c(\"index\", \"date\", \"attacks\", \"deaths\"),\n",
    "                           col_types = cols(\"i\", col_date(format = \"%Y-%m-%d\"), \"i\", \"i\"),\n",
    "                           skip = 1)\n",
    "head(snow.dates.raw)"
   ]
  },
  {
   "cell_type": "markdown",
   "id": "exceptional-bacon",
   "metadata": {},
   "source": [
    "## Zeitverlauf plotten"
   ]
  },
  {
   "cell_type": "code",
   "execution_count": null,
   "id": "italic-harbor",
   "metadata": {
    "scrolled": true
   },
   "outputs": [],
   "source": [
    "snow.dates.long <- snow.dates.raw %>% pivot_longer(!c(index, date), names_to=\"variable\", values_to=\"n\")\n",
    "options(repr.plot.width = 10, repr.plot.height = 2.5)\n",
    "ggplot(snow.dates.long) +\n",
    "    geom_area(aes(x=date, y=n, fill=variable), alpha=0.5, position=\"identity\") "
   ]
  },
  {
   "cell_type": "markdown",
   "id": "popular-express",
   "metadata": {},
   "source": [
    "## Karte von London laden"
   ]
  },
  {
   "cell_type": "code",
   "execution_count": null,
   "id": "superior-training",
   "metadata": {},
   "outputs": [],
   "source": [
    "# bbox <- make_bbox(lon = snow.deaths.raw$lon, lat = snow.deaths.raw$lat, f = 0.25)\n",
    "boundingbox <- c(-0.14185925, 51.5108615, -0.13114775, 51.5168285)\n",
    "basemap <- get_stamenmap(bbox = boundingbox, center = c(lon = -0.136722, lat = 51.513578), maptype=\"toner-lite\", crop=TRUE, zoom = 16)\n",
    "options(repr.plot.width = 10, repr.plot.height = 10)\n",
    "ggmap(basemap)"
   ]
  },
  {
   "cell_type": "markdown",
   "id": "northern-laptop",
   "metadata": {},
   "source": [
    "## Koordinaten der Todesfälle laden"
   ]
  },
  {
   "cell_type": "code",
   "execution_count": null,
   "id": "sunset-retention",
   "metadata": {},
   "outputs": [],
   "source": [
    "snow.deaths.raw <- read_csv(paste(base_url, \"cholera_deaths.csv\", sep=\"\"), \n",
    "                            col_names=c(\"index\", \"deaths\", \"lon\", \"lat\"), \n",
    "                            col_types = cols(\"i\",\"i\",\"d\",\"d\"), \n",
    "                            skip=1)\n",
    "head(snow.deaths.raw)"
   ]
  },
  {
   "cell_type": "markdown",
   "id": "representative-tobago",
   "metadata": {},
   "source": [
    "## Todesfälle auf der Karte anzeigen"
   ]
  },
  {
   "cell_type": "code",
   "execution_count": null,
   "id": "classified-taylor",
   "metadata": {},
   "outputs": [],
   "source": [
    "map <- ggmap(basemap) + \n",
    "    geom_point(data = snow.deaths.raw, aes(x = lon, y = lat, size=deaths), color=\"blue\", alpha=0.5)\n",
    "options(repr.plot.width = 10, repr.plot.height = 10)\n",
    "map"
   ]
  },
  {
   "cell_type": "markdown",
   "id": "digital-premiere",
   "metadata": {},
   "source": [
    "## Koordinaten der Wasserpumpen laden"
   ]
  },
  {
   "cell_type": "code",
   "execution_count": null,
   "id": "abstract-conversation",
   "metadata": {},
   "outputs": [],
   "source": [
    "snow.pumps.raw <- read_csv(paste(base_url, \"johnsnow_pumps.csv\", sep=\"\"), \n",
    "                           col_names=c(\"index\", \"lon\", \"lat\"), \n",
    "                           col_types = cols(\"i\",\"d\",\"d\"), \n",
    "                           skip=1)\n",
    "head(snow.pumps.raw)"
   ]
  },
  {
   "cell_type": "markdown",
   "id": "recreational-journalist",
   "metadata": {},
   "source": [
    "## Wasserpumpen auf der Karte anzeigen"
   ]
  },
  {
   "cell_type": "code",
   "execution_count": null,
   "id": "greatest-deputy",
   "metadata": {},
   "outputs": [],
   "source": [
    "map <- map + \n",
    "    geom_point(data = snow.pumps.raw, aes(x = lon, y = lat, size=5), color=\"red\", alpha=0.75)\n",
    "options(repr.plot.width = 10, repr.plot.height = 10)\n",
    "map"
   ]
  },
  {
   "cell_type": "markdown",
   "id": "connected-experience",
   "metadata": {},
   "source": [
    "## Interaktive Karte mit Leaflet\n",
    "\n",
    "### Hinweis: kann in Google Colab leider nicht angezeigt werden"
   ]
  },
  {
   "cell_type": "code",
   "execution_count": null,
   "id": "suburban-poland",
   "metadata": {
    "scrolled": false
   },
   "outputs": [],
   "source": [
    "leafletmap <- leaflet() %>%\n",
    "    setView(-0.136722, 51.513578, zoom=16) %>%\n",
    "    addProviderTiles(providers$Stamen.TonerLite) %>% \n",
    "    addCircleMarkers(\n",
    "        data = snow.deaths.raw, ~lon, ~lat,\n",
    "        radius = ~deaths * 2,\n",
    "        color = \"red\",\n",
    "        stroke = FALSE, \n",
    "        fillOpacity = 0.5\n",
    "    ) %>% \n",
    "    addMarkers(\n",
    "        data = snow.pumps.raw, ~lon, ~lat,\n",
    "    )\n",
    "leafletmap"
   ]
  }
 ],
 "metadata": {
  "kernelspec": {
   "display_name": "R",
   "language": "R",
   "name": "ir"
  },
  "language_info": {
   "codemirror_mode": "r",
   "file_extension": ".r",
   "mimetype": "text/x-r-source",
   "name": "R",
   "pygments_lexer": "r",
   "version": "4.0.5"
  }
 },
 "nbformat": 4,
 "nbformat_minor": 5
}
