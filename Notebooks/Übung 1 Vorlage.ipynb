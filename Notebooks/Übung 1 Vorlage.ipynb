{
 "cells": [
  {
   "cell_type": "markdown",
   "id": "abroad-institute",
   "metadata": {},
   "source": [
    "# Block 7 Übung 1: Orientierung in den Daten der MIMIC-Tabelle Chartevents"
   ]
  },
  {
   "cell_type": "markdown",
   "id": "streaming-johnston",
   "metadata": {},
   "source": [
    "## Bibliotheken & Konfiguration"
   ]
  },
  {
   "cell_type": "code",
   "execution_count": null,
   "id": "refined-calendar",
   "metadata": {},
   "outputs": [],
   "source": [
    "packages <- c(\"readr\", \"dplyr\")\n",
    "install.packages(setdiff(packages, rownames(installed.packages())))\n",
    "lapply(packages, require, character.only = TRUE)\n",
    "\n",
    "base_url <- \"https://raw.githubusercontent.com/ganslats/TMF-School-2022-Block-4/master/Rohdaten/\""
   ]
  },
  {
   "cell_type": "markdown",
   "id": "sorted-wedding",
   "metadata": {},
   "source": [
    "## MIMIC III-Basisdaten laden"
   ]
  },
  {
   "cell_type": "code",
   "execution_count": null,
   "id": "excellent-frank",
   "metadata": {},
   "outputs": [],
   "source": [
    "# Patientenstammdaten laden\n",
    "mimic.patients.raw <- read_csv(paste(base_url, \"mimic-iii-demo/PATIENTS.csv\", sep=\"\"),\n",
    "                               col_types = cols(row_id = col_integer(), subject_id = col_integer(), gender = col_character(), dob = col_datetime(format = \"\"), dod = col_datetime(format = \"\"), dod_hosp = col_datetime(format = \"\"), dod_ssn = col_datetime(format = \"\"), expire_flag = col_double()))\n",
    "\n",
    "# Behandlungsfälle laden\n",
    "mimic.admissions.raw <- read_csv(paste(base_url, \"mimic-iii-demo/ADMISSIONS.csv\", sep=\"\"),\n",
    "                                 col_types = cols(  row_id = col_integer(), subject_id = col_integer(), hadm_id = col_integer(), admittime = col_datetime(format = \"\"), dischtime = col_datetime(format = \"\"), deathtime = col_datetime(format = \"\"), admission_type = col_character(), admission_location = col_character(), discharge_location = col_character(), insurance = col_character(), language = col_character(), religion = col_character(), marital_status = col_character(), ethnicity = col_character(), edregtime = col_datetime(format = \"\"), edouttime = col_datetime(format = \"\"), diagnosis = col_character(), hospital_expire_flag = col_double(), has_chartevents_data = col_double()))\n",
    "\n",
    "# Intensivaufenthalte laden\n",
    "mimic.icustays.raw <- read_csv(paste(base_url, \"mimic-iii-demo/ICUSTAYS.csv\", sep=\"\"),\n",
    "                               col_types = cols(row_id = col_integer(), subject_id = col_integer(), hadm_id = col_integer(), icustay_id = col_integer(), dbsource = col_character(), first_careunit = col_character(), last_careunit = col_character(), first_wardid = col_double(), last_wardid = col_double(), intime = col_datetime(format = \"\"), outtime = col_datetime(format = \"\"), los = col_double()))\n"
   ]
  },
  {
   "cell_type": "markdown",
   "id": "gothic-cookbook",
   "metadata": {},
   "source": [
    "## MIMIC III-Chartevents laden"
   ]
  },
  {
   "cell_type": "code",
   "execution_count": null,
   "id": "front-formula",
   "metadata": {},
   "outputs": [],
   "source": [
    "# Chartevents laden\n",
    "mimic.chartevents.raw <- read_csv(paste(base_url, \"mimic-iii-demo/CHARTEVENTS.csv\", sep=\"\"),\n",
    "                                  col_types = cols(row_id = col_integer(), subject_id = col_integer(), hadm_id = col_integer(), icustay_id = col_integer(), itemid = col_integer(), charttime = col_datetime(format = \"\"), storetime = col_datetime(format = \"\"), cgid = col_double(), value = col_character(), valuenum = col_double(), valueuom = col_character(), warning = col_double(), error = col_double(), resultstatus = col_character(), stopped = col_character()))\n",
    "head(mimic.chartevents.raw)"
   ]
  },
  {
   "cell_type": "markdown",
   "id": "finnish-density",
   "metadata": {},
   "source": [
    "### Bezeichner ergänzen"
   ]
  },
  {
   "cell_type": "code",
   "execution_count": null,
   "id": "seven-manufacturer",
   "metadata": {},
   "outputs": [],
   "source": [
    "# Bezeichner laden\n",
    "mimic.d_items.raw <- read_csv(paste(base_url, \"mimic-iii-demo/D_ITEMS.csv\", sep=\"\"),\n",
    "                              col_types = cols(row_id = col_integer(), itemid = col_integer(), label = col_character(), abbreviation = col_character(), dbsource = col_character(), linksto = col_character(), category = col_character(), unitname = col_character(), param_type = col_character(), conceptid = col_character()))\n",
    "\n",
    "# Bezeichner hinzufügen\n",
    "mimic.chartevents.annotated <- mimic.chartevents.raw %>%\n",
    "  inner_join(mimic.d_items.raw %>% select(itemid, category, label), by = \"itemid\")\n",
    "\n",
    "head(mimic.chartevents.annotated)"
   ]
  },
  {
   "cell_type": "markdown",
   "id": "sporting-hamburg",
   "metadata": {},
   "source": [
    "## Aufgabe: Finden Sie häufig verwendete Items für den Blutdruck und Puls!\n",
    "\n",
    "Hier können Sie das Wissen aus dem Abschnitt 4, Demo 2 (Daten abfragen mit Tidyverse) anwenden.\n",
    "* zugehöriges Notebook: [teil-4-demo-02-abfragen-tidyverse.ipynb](https://github.com/ganslats/TMF-School-2021-Block-7/blob/main/Notebooks/teil-4-demo-02-abfragen-tidyverse.ipynb)\n",
    "\n",
    "Filtern Sie die Rohdaten mit der `filter()`-Funktion nach Inhalten, die Sie für Blutdruck & Puls erwarten würden (z.B. Maßeinheiten in der Spalte `valueuom` oder Bezeichner in der Spalte `label`. Finden Sie häufig verwendete Attribute, indem Sie die Anzahl der Zeilen mit den `group_by()`- und `summarize()`-Funktionen aggregieren.\n",
    "\n",
    "Tipps zur `filter()`-Funktion:\n",
    "* Wenn Sie mehrere mit Komma getrennte Kriterien angeben, werden sie mit logisch \"und\" verknüpft\n",
    "* Sie können Kriterien mit dem `|`-Operator auch als logisch \"oder\" kombinieren\n",
    "* Sie können mit dem `%in%`-Operator auch nach mehreren verschiedenen Ausprägungen eines Textes suchen (z.B. `filter(farbe %in% c(\"rot\", \"blau\"))`)\n",
    "* Sie können auch nach Teilstrings suchen, indem Sie die Funktion `grepl(\"Suchbegriff\", Spalte)` nutzen\n",
    "\n",
    "Sonstige Tipps:\n",
    "* Denken Sie daran, dass Sie bei der `summarize()`-Funktion die Option `.groups = \"keep\"` angeben müssen, wenn die Gruppierungsmerkmale beibehalten werden sollen. Sie erhalten sonst nur das aggregierte Ergebnis als Zahl, aber nicht die (meistens benötigten) Merkmale, nach denen zuvor gruppiert wurde."
   ]
  },
  {
   "cell_type": "code",
   "execution_count": null,
   "id": "unlikely-commissioner",
   "metadata": {},
   "outputs": [],
   "source": [
    "# Mögliche Ausprägungen für den Blutdruck finden\n",
    "\n"
   ]
  },
  {
   "cell_type": "code",
   "execution_count": null,
   "id": "mental-jenny",
   "metadata": {},
   "outputs": [],
   "source": [
    "# Mögliche Ausprägungen für den Puls finden\n",
    "\n"
   ]
  }
 ],
 "metadata": {
  "kernelspec": {
   "display_name": "R",
   "language": "R",
   "name": "ir"
  },
  "language_info": {
   "codemirror_mode": "r",
   "file_extension": ".r",
   "mimetype": "text/x-r-source",
   "name": "R",
   "pygments_lexer": "r",
   "version": "4.0.5"
  }
 },
 "nbformat": 4,
 "nbformat_minor": 5
}
