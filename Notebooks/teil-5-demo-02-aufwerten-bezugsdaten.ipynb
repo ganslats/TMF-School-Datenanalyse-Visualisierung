{
 "cells": [
  {
   "cell_type": "markdown",
   "id": "descending-surprise",
   "metadata": {},
   "source": [
    "# Teil 5 Demo 2: Aufwertung von Daten mit Bezugsdaten"
   ]
  },
  {
   "cell_type": "markdown",
   "id": "christian-class",
   "metadata": {},
   "source": [
    "## Bibliotheken & Konfiguration"
   ]
  },
  {
   "cell_type": "code",
   "execution_count": null,
   "id": "elementary-nightlife",
   "metadata": {},
   "outputs": [],
   "source": [
    "packages <- c(\"readr\", \"dplyr\", \"tidyr\", \"lubridate\", \"ggplot2\", \"zoo\", \"forcats\", \"grid\", \"gtable\")\n",
    "install.packages(setdiff(packages, rownames(installed.packages())))\n",
    "lapply(packages, require, character.only = TRUE)\n",
    "\n",
    "base_url <- \"https://raw.githubusercontent.com/ganslats/TMF-School-2022-Block-4/master/Rohdaten/covid/\""
   ]
  },
  {
   "cell_type": "markdown",
   "id": "logical-obligation",
   "metadata": {},
   "source": [
    "## Covid19-Inzidenzdaten Mannheim laden\n",
    "\n",
    "### Quelle\n",
    "\n",
    "COVID-19 Datenhub des RKI beim Bundesamt für Kartographie und Geodäsie\n",
    "URL: https://npgeo-corona-npgeo-de.hub.arcgis.com/datasets/dd4580c810204019a7b8eb3e0b329dd6_0\n",
    "Die Daten sind die „Fallzahlen in Deutschland“ des Robert Koch-Institut (RKI) und stehen unter der Open Data Datenlizenz Deutschland – Namensnennung – Version 2.0 zur Verfügung. (https://www.govdata.de/dl-de/by-2-0)\n",
    "Quellenvermerk: Robert Koch-Institut (RKI), dl-de/by-2-0\n",
    "\n",
    "Aufbereitung für den Kurs: Filterung auf Mannheim, Auswahl relevanter Spalten, Aggregation von Teilmeldungen pro Tag"
   ]
  },
  {
   "cell_type": "code",
   "execution_count": null,
   "id": "underlying-realtor",
   "metadata": {},
   "outputs": [],
   "source": [
    "mannheim.incidence.long <- read_delim(paste(base_url, \"covid_mannheim_incidence.csv\", sep=\"\"),\n",
    "                                      col_types = cols(date = col_date(format = \"\"), category = col_character(), variable = col_character(), value = col_double()),\n",
    "                                      delim = \";\")\n",
    "head(mannheim.incidence.long)"
   ]
  },
  {
   "cell_type": "markdown",
   "id": "differential-shopping",
   "metadata": {},
   "source": [
    "## Mannheimer Covid19-Inzidenz plotten"
   ]
  },
  {
   "cell_type": "code",
   "execution_count": null,
   "id": "academic-paragraph",
   "metadata": {},
   "outputs": [],
   "source": [
    "options(repr.plot.width = 10, repr.plot.height = 5)\n",
    "ggplot(data = mannheim.incidence.long, aes(x=date, y=value)) +\n",
    "  geom_bar(stat=\"identity\")"
   ]
  },
  {
   "cell_type": "markdown",
   "id": "selective-impact",
   "metadata": {},
   "source": [
    "### Darstellung mit gleitendem 7-Tage-Durchschnitt"
   ]
  },
  {
   "cell_type": "code",
   "execution_count": null,
   "id": "handed-welding",
   "metadata": {},
   "outputs": [],
   "source": [
    "options(repr.plot.width = 10, repr.plot.height = 5)\n",
    "ggplot(data = mannheim.incidence.long, aes(x=date, y=rollmean(value, 7, na.pad=TRUE))) +\n",
    "  geom_bar(stat=\"identity\")"
   ]
  },
  {
   "cell_type": "markdown",
   "id": "intermediate-nelson",
   "metadata": {},
   "source": [
    "## Daten zu Maßnahmen gegen Covid19-Pandemie ergänzen\n",
    "\n",
    "### Quelle: Covid19 Government Response Tracker der Oxford University\n",
    "\n",
    "* Homepage: https://www.bsg.ox.ac.uk/research/research-projects/covid-19-government-response-tracker\n",
    "* Github Repo: https://github.com/OxCGRT/covid-policy-tracker\n",
    "    * Rohdatensatz (CSV): https://github.com/OxCGRT/covid-policy-tracker/blob/master/data/OxCGRT_latest.csv\n",
    "    * Codebook: https://github.com/OxCGRT/covid-policy-tracker/blob/master/documentation/codebook.md\n",
    "\n",
    "Quellenangabe:\n",
    "Oxford COVID-19 Government Response Tracker, Blavatnik School of Government, University of Oxford.\n",
    "\n",
    "Thomas Hale , Noam Angrist , Rafael Goldszmidt, Beatriz Kira , Anna Petherick , Toby Phillips, Samuel Webster, Emily Cameron-Blake , Laura Hallas, Saptarshi Majumdar, and Helen Tatlow. (2021). “A global panel database of pandemic policies (Oxford COVID-19 Government Response Tracker).” Nature Human Behaviour.\n"
   ]
  },
  {
   "cell_type": "code",
   "execution_count": null,
   "id": "current-corporation",
   "metadata": {},
   "outputs": [],
   "source": [
    "germany.response.raw <- read_csv(\"https://raw.githubusercontent.com/OxCGRT/covid-policy-tracker/master/data/OxCGRT_latest.csv\",\n",
    "                                 col_types = cols(CountryName = col_character(),CountryCode = col_character(),RegionName = col_character(),RegionCode = col_character(),Jurisdiction = col_character(),Date = col_double(),`C1_School closing` = col_double(),C1_Flag = col_double(),`C2_Workplace closing` = col_double(),C2_Flag = col_double(),`C3_Cancel public events` = col_double(),C3_Flag = col_double(),`C4_Restrictions on gatherings` = col_double(),C4_Flag = col_double(),`C5_Close public transport` = col_double(),C5_Flag = col_double(),`C6_Stay at home requirements` = col_double(),C6_Flag = col_double(),`C7_Restrictions on internal movement` = col_double(),C7_Flag = col_double(),`C8_International travel controls` = col_double(),`E1_Income support` = col_double(),E1_Flag = col_double(),`E2_Debt/contract relief` = col_double(),`E3_Fiscal measures` = col_double(),`E4_International support` = col_double(),`H1_Public information campaigns` = col_double(),H1_Flag = col_double(),`H2_Testing policy` = col_double(),`H3_Contact tracing` = col_double(),`H4_Emergency investment in healthcare` = col_double(),`H5_Investment in vaccines` = col_double(),`H6_Facial Coverings` = col_double(),H6_Flag = col_double(),`H7_Vaccination policy` = col_double(),H7_Flag = col_double(),`H8_Protection of elderly people` = col_double(),H8_Flag = col_double(),M1_Wildcard = col_character(),ConfirmedCases = col_double(),ConfirmedDeaths = col_double(),StringencyIndex = col_double(),StringencyIndexForDisplay = col_double(),StringencyLegacyIndex = col_double(),StringencyLegacyIndexForDisplay = col_double(),GovernmentResponseIndex = col_double(),GovernmentResponseIndexForDisplay = col_double(),ContainmentHealthIndex = col_double(),ContainmentHealthIndexForDisplay = col_double(),EconomicSupportIndex = col_double(),EconomicSupportIndexForDisplay = col_double()))\n",
    "head(germany.response.raw %>% filter(CountryName == \"Germany\", grepl(\"202101\", Date)))"
   ]
  },
  {
   "cell_type": "markdown",
   "id": "polish-macintosh",
   "metadata": {},
   "source": [
    "## Beispielhafte Konvertierung von 3 Attributen in ein Long-Format"
   ]
  },
  {
   "cell_type": "code",
   "execution_count": null,
   "id": "inside-tampa",
   "metadata": {},
   "outputs": [],
   "source": [
    "germany.response.long <- pivot_longer(germany.response.raw %>%\n",
    "             filter(CountryName == \"Germany\") %>% # Filterung auf Deutschland\n",
    "             select(Date, `C1_School closing`, `C4_Restrictions on gatherings`, `C6_Stay at home requirements`), # benötigte Spalten selektieren\n",
    "             !Date, # Spalte(n), die \"im rechten Teil\" pivotiert werden sollen. \n",
    "                    # Vorsicht Trick: hier wird mit dem Ausrufezeichen \"negiert\", d.h. wir geben die (eine) Spalte an, \n",
    "                    # die \"im linken Teil\" stehenbleiben soll\n",
    "             names_to = \"variable\", # Spalte, in die die Namen der pivotierten Spalten überführt werden sollen\n",
    "             values_to = \"value\"    # Spalte, in die die Inhalte der pivotierten Spalten überführt werden sollen\n",
    ")\n",
    "germany.response.long$Date <- ymd(germany.response.long$Date) # Text in Date-Spalte in echtes Datum konvertieren\n",
    "germany.response.long$category <- \"response\" # Spalte mit Datenkategorie ergänzen\n",
    "germany.response.long <- germany.response.long %>% rename(date = Date) # Date-Spalte umbenennen, um sie mit den Inzidenzdaten zu vereinheitlichen\n",
    "\n",
    "head(germany.response.long %>% filter(grepl(\"2021-01\", date)), 10)"
   ]
  },
  {
   "cell_type": "markdown",
   "id": "otherwise-express",
   "metadata": {},
   "source": [
    "## Maßnahmen plotten"
   ]
  },
  {
   "cell_type": "code",
   "execution_count": null,
   "id": "earlier-herald",
   "metadata": {},
   "outputs": [],
   "source": [
    "options(repr.plot.width = 10, repr.plot.height = 5)\n",
    "ggplot(data = germany.response.long, aes(x=date, y=value, fill=variable)) +\n",
    "  geom_bar(stat=\"identity\") +\n",
    "  facet_wrap(~variable, ncol=1)"
   ]
  },
  {
   "cell_type": "markdown",
   "id": "other-least",
   "metadata": {},
   "source": [
    "## Inzidenz & Maßnahmen zusammenführen & gemeinsam plotten"
   ]
  },
  {
   "cell_type": "code",
   "execution_count": null,
   "id": "close-thompson",
   "metadata": {},
   "outputs": [],
   "source": [
    "# Teildatensätze \"hintereinander\" zusammenführen (vgl. SQL UNION Statement)\n",
    "mannheim.all.long <- bind_rows(mannheim.incidence.long, germany.response.long)\n",
    "\n",
    "# Reihenfolge der Plots definieren\n",
    "mannheim.all.long$variable <- factor(mannheim.all.long$variable, levels = c(\"incidence\", \"C1_School closing\", \"C4_Restrictions on gatherings\", \"C6_Stay at home requirements\"))\n",
    "\n",
    "# Daten in gemeinsamem Plot darstellen\n",
    "ggplot(data = mannheim.all.long) +\n",
    "  # Inzidenz-Plot (Darstellung mit gleitendendem Mittelwert)\n",
    "  geom_bar(data = mannheim.all.long %>% filter(category %in% c(\"incidence\")), aes(x=date, y=rollmean(value, 7, na.pad=TRUE), fill=variable), stat=\"identity\") +\n",
    "  # Maßnahmen-Plots (direkte Darstellung der Werte ohne gleitenden Mittelwert)\n",
    "  geom_bar(data = mannheim.all.long %>% filter(category %in% c(\"response\")), aes(x=date, y=value, fill=variable), stat=\"identity\") +\n",
    "  # Verteilung der Kurven n auf getrennte Plots\n",
    "  facet_grid(fct_rev(variable) ~ ., scales=\"free_y\") +\n",
    "  # Darstellung der Plot-Titel rechts und nicht hochkant\n",
    "  theme(strip.text.y.right = element_text(angle = 0)) +\n",
    "  # Ausblenden der Legende\n",
    "  guides(fill=FALSE)"
   ]
  },
  {
   "cell_type": "markdown",
   "id": "helpful-antique",
   "metadata": {},
   "source": [
    "## Mobilitätsdaten hinzufügen\n",
    "\n",
    "### Quelle: Apple Covid19 Mobilitätstrends\n",
    "\n",
    "* Homepage: https://covid19.apple.com/mobility\n",
    "    * siehe dort für Nutzungsbedingungen (kein direkter Link verfügbar), Download der Rohdaten\n",
    "    \n",
    "Daten liegen in \"wide\"-Format mit einer Zeile pro Verkehrsmittel (Laufen, ÖPNV, Auto) und je einer Spalte pro Tag vor, aufgelöst für Deutschland bis auf Kreise (also 3 Zeilen von Kreis)\n",
    "\n",
    "Aufbereitung für den Kurs: Filterung auf Mannheim, Selektion relevanter Spalten, Verschiebung der Skale von 100 +/- Änderung auf 0 +/- Änderung, Pivotierung in \"long\"-Format"
   ]
  },
  {
   "cell_type": "code",
   "execution_count": null,
   "id": "chinese-shark",
   "metadata": {},
   "outputs": [],
   "source": [
    "mannheim.mobility.long <- read_delim(paste(base_url, \"covid_mannheim_mobility.csv\", sep=\"\"),\n",
    "                                     col_types = cols(date = col_date(format = \"\"), category = col_character(), variable = col_character(), value = col_double()),\n",
    "                                     delim = \";\", locale=locale(decimal_mark = \",\"))\n",
    "head(mannheim.mobility.long)"
   ]
  },
  {
   "cell_type": "markdown",
   "id": "level-fairy",
   "metadata": {},
   "source": [
    "## Inzidenz-, Maßnahmen & Mobilitätsdaten gemeinsam plotten"
   ]
  },
  {
   "cell_type": "code",
   "execution_count": null,
   "id": "capable-saint",
   "metadata": {},
   "outputs": [],
   "source": [
    "# Teildatensätze \"hintereinander\" zusammenführen (vgl. SQL UNION Statement)\n",
    "mannheim.all.long <- bind_rows(mannheim.incidence.long, germany.response.long, mannheim.mobility.long)\n",
    "\n",
    "# Reihenfolge der Plots definieren\n",
    "mannheim.all.long$variable <- factor(mannheim.all.long$variable, levels = c(\"incidence\", \"walking\", \"transit\", \"driving\", \"C1_School closing\", \"C4_Restrictions on gatherings\", \"C6_Stay at home requirements\"))\n",
    "\n",
    "# Daten in gemeinsamem Plot darstellen\n",
    "options(repr.plot.width = 7, repr.plot.height = 5)\n",
    "plot <- ggplot(data = mannheim.all.long) +\n",
    "  # Inzidenz- & Mobility-Plots (Darstellung mit gleitendendem Mittelwert)\n",
    "  geom_bar(data = mannheim.all.long %>% filter(category %in% c(\"incidence\", \"mobility\")), aes(x=date, y=rollmean(value, 7, na.pad=TRUE), fill=variable), stat=\"identity\") +\n",
    "  # Maßnahmen-Plots (direkte Darstellung der Werte ohne gleitenden Mittelwert)\n",
    "  geom_bar(data = mannheim.all.long %>% filter(category %in% c(\"response\")), aes(x=date, y=value, fill=variable), stat=\"identity\") +\n",
    "  # Verteilung der Kurven auf getrennte Plots\n",
    "  facet_grid(fct_rev(variable) ~ ., scales=\"free_y\") +\n",
    "  # Darstellung der Plot-Titel rechts und nicht hochkant, kleine Achsenbeschriftung\n",
    "  theme(strip.text.y.right = element_text(angle = 0), axis.text.y = element_text(size=4)) +\n",
    "  # Ausblenden der Legende\n",
    "  guides(fill=\"none\")\n",
    "\n",
    "# Größen der Plots anpassen\n",
    "gt = ggplot_gtable(ggplot_build(plot))\n",
    "gt$heights[7]  = 0.5*gt$heights[7]\n",
    "gt$heights[9]  = 0.5*gt$heights[9]\n",
    "gt$heights[11] = 0.5*gt$heights[11]\n",
    "gt$heights[19] = 5  *gt$heights[19]\n",
    "grid.draw(gt)"
   ]
  }
 ],
 "metadata": {
  "kernelspec": {
   "display_name": "R",
   "language": "R",
   "name": "ir"
  },
  "language_info": {
   "codemirror_mode": "r",
   "file_extension": ".r",
   "mimetype": "text/x-r-source",
   "name": "R",
   "pygments_lexer": "r",
   "version": "4.1.3"
  }
 },
 "nbformat": 4,
 "nbformat_minor": 5
}
