{
 "cells": [
  {
   "cell_type": "markdown",
   "id": "prompt-bunch",
   "metadata": {},
   "source": [
    "# Teil 3, Demo 1: Datenabfrage & -visualisierung aus Open Data-Portal Mannheim"
   ]
  },
  {
   "cell_type": "markdown",
   "id": "loving-operations",
   "metadata": {},
   "source": [
    "## Bibliotheken & Konfiguration"
   ]
  },
  {
   "cell_type": "code",
   "execution_count": null,
   "id": "missing-official",
   "metadata": {},
   "outputs": [],
   "source": [
    "packages <- c(\"readr\", \"tidyr\", \"dplyr\", \"ggplot2\")\n",
    "install.packages(setdiff(packages, rownames(installed.packages())))\n",
    "lapply(packages, require, character.only = TRUE)"
   ]
  },
  {
   "cell_type": "markdown",
   "id": "controlling-venezuela",
   "metadata": {},
   "source": [
    "## Bevölkerungsbestand vom Portal einlesen"
   ]
  },
  {
   "cell_type": "code",
   "execution_count": null,
   "id": "electric-independence",
   "metadata": {
    "scrolled": true
   },
   "outputs": [],
   "source": [
    "mannheim.population.raw <- read_delim(\"https://mannheim.opendatasoft.com/explore/dataset/bevolkerungsbestand-in-mannheim-2009-2020/download/?format=csv&timezone=Europe/Berlin&lang=de&use_labels_for_header=true&csv_separator=%3B\",\n",
    "                                      col_names =    c(\"id\", \"jahr\", \"stadtteil_id\", \"stadtteil_name\", \"n_gesamt\", \"n_weiblich\", \"n_ohne_migration\", \"n_mit_migration\", \"n_auslaender\"),\n",
    "                                      col_types = cols(\"i\",  \"i\",    \"c\",            \"c\",              \"i\",        \"i\",          \"i\",                \"i\",               \"i\"),\n",
    "                                      skip = 1, delim = \";\")\n",
    "head(mannheim.population.raw)"
   ]
  },
  {
   "cell_type": "markdown",
   "id": "exciting-stage",
   "metadata": {},
   "source": [
    "## Tabelle aus \"Querformat\" in \"Längsformat\" kippen"
   ]
  },
  {
   "cell_type": "code",
   "execution_count": null,
   "id": "alone-computer",
   "metadata": {},
   "outputs": [],
   "source": [
    "mannheim.population.long <- mannheim.population.raw %>% pivot_longer(!c(id, jahr, stadtteil_id, stadtteil_name), names_to=\"variable\", values_to=\"n\")\n",
    "head(mannheim.population.long)"
   ]
  },
  {
   "cell_type": "markdown",
   "id": "imposed-packaging",
   "metadata": {},
   "source": [
    "## Visualisierung Gesamtbevölkerung vs. Zeit"
   ]
  },
  {
   "cell_type": "code",
   "execution_count": null,
   "id": "faced-asian",
   "metadata": {},
   "outputs": [],
   "source": [
    "options(repr.plot.width = 10, repr.plot.height = 5)\n",
    "ggplot(data = mannheim.population.long %>% filter(variable == \"n_gesamt\") %>% group_by(jahr) %>% summarize(n = sum(n), .groups=\"keep\"), \n",
    "       aes(x=jahr, y=n)) + \n",
    "    geom_bar(stat=\"identity\")"
   ]
  },
  {
   "cell_type": "markdown",
   "id": "exact-helicopter",
   "metadata": {},
   "source": [
    "## Visualisierung Migrationsanteil vs. Zeit"
   ]
  },
  {
   "cell_type": "code",
   "execution_count": null,
   "id": "further-values",
   "metadata": {},
   "outputs": [],
   "source": [
    "options(repr.plot.width = 10, repr.plot.height = 5)\n",
    "ggplot(data = mannheim.population.long %>% filter(variable %in% c(\"n_mit_migration\", \"n_ohne_migration\")) %>% group_by(jahr, variable) %>% summarize(n = sum(n), .groups=\"keep\"), \n",
    "       aes(x=jahr, y=n, fill=variable)) + \n",
    "    geom_bar(stat = \"identity\",\n",
    "             position = \"fill\")"
   ]
  },
  {
   "cell_type": "markdown",
   "id": "korean-rescue",
   "metadata": {},
   "source": [
    "## Visualisierung Migrationsanteil vs Stadtteil"
   ]
  },
  {
   "cell_type": "code",
   "execution_count": null,
   "id": "governing-block",
   "metadata": {},
   "outputs": [],
   "source": [
    "options(repr.plot.width = 10, repr.plot.height = 5)\n",
    "ggplot(data = mannheim.population.long %>% filter(variable %in% c(\"n_mit_migration\", \"n_ohne_migration\")) %>% group_by(stadtteil_name, variable) %>% summarize(n = sum(n), .groups=\"keep\"), \n",
    "       aes(x=stadtteil_name, y=n, fill=variable)) + \n",
    "    geom_bar(stat = \"identity\", \n",
    "             position = \"fill\") +\n",
    "    theme(axis.text.x = element_text(angle = 90))"
   ]
  },
  {
   "cell_type": "markdown",
   "id": "greatest-california",
   "metadata": {},
   "source": [
    "## Visualisierung Migrationsanteil vs. Stadteil & Zeit"
   ]
  },
  {
   "cell_type": "code",
   "execution_count": null,
   "id": "angry-dodge",
   "metadata": {},
   "outputs": [],
   "source": [
    "ggplot(data = mannheim.population.long %>% filter(variable %in% c(\"n_mit_migration\", \"n_ohne_migration\")) %>% group_by(jahr, stadtteil_name, variable) %>% summarize(n = sum(n), .groups=\"keep\"), \n",
    "       aes(x=jahr, y=n, fill=variable)) + \n",
    "    geom_bar(stat = \"identity\", \n",
    "             position = \"fill\") +\n",
    "    theme(axis.text.x = element_text(angle = 90)) +\n",
    "    facet_wrap(~stadtteil_name)"
   ]
  }
 ],
 "metadata": {
  "kernelspec": {
   "display_name": "R",
   "language": "R",
   "name": "ir"
  },
  "language_info": {
   "codemirror_mode": "r",
   "file_extension": ".r",
   "mimetype": "text/x-r-source",
   "name": "R",
   "pygments_lexer": "r",
   "version": "4.1.3"
  }
 },
 "nbformat": 4,
 "nbformat_minor": 5
}
