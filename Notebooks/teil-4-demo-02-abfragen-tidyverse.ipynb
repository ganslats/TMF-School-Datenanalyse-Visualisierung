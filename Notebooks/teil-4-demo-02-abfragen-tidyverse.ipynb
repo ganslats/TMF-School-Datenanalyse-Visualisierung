{
 "cells": [
  {
   "cell_type": "markdown",
   "id": "diagnostic-concentrate",
   "metadata": {},
   "source": [
    "# Teil 4 Demo 2: Abfragen mit Tidyverse"
   ]
  },
  {
   "cell_type": "markdown",
   "id": "bigger-protection",
   "metadata": {},
   "source": [
    "## Bibliotheken & Konfiguration"
   ]
  },
  {
   "cell_type": "code",
   "execution_count": null,
   "id": "advised-excellence",
   "metadata": {
    "ExecuteTime": {
     "end_time": "2023-06-06T16:15:26.085582200Z",
     "start_time": "2023-06-06T16:15:24.642373300Z"
    }
   },
   "outputs": [],
   "source": [
    "packages <- c(\"readr\", \"dplyr\", \"stringr\", \"tidyr\")\n",
    "install.packages(setdiff(packages, rownames(installed.packages())))\n",
    "lapply(packages, require, character.only = TRUE)\n",
    "\n",
    "base_url <- \"https://raw.githubusercontent.com/ganslats/TMF-School-Datenanalyse-Visualisierung/master/Rohdaten/mimic-iii-demo/\""
   ]
  },
  {
   "cell_type": "markdown",
   "id": "higher-wages",
   "metadata": {},
   "source": [
    "## Ausgewählte MIMIC III-Rohdaten laden"
   ]
  },
  {
   "cell_type": "code",
   "execution_count": null,
   "id": "relative-passenger",
   "metadata": {
    "ExecuteTime": {
     "end_time": "2023-06-06T16:15:26.650860400Z",
     "start_time": "2023-06-06T16:15:26.074177800Z"
    }
   },
   "outputs": [],
   "source": [
    "mimic.patients.raw      <- read_csv(paste(base_url, \"PATIENTS.csv\", sep=\"\"),\n",
    "                                    col_types = cols(row_id = col_double(), subject_id = col_double(), gender = col_character(), dob = col_datetime(format = \"\"), dod = col_datetime(format = \"\"), dod_hosp = col_datetime(format = \"\"), dod_ssn = col_datetime(format = \"\"), expire_flag = col_double()))\n",
    "mimic.admissions.raw    <- read_csv(paste(base_url, \"ADMISSIONS.csv\", sep=\"\"),\n",
    "                                    col_types = cols(  row_id = col_double(), subject_id = col_double(), hadm_id = col_double(), admittime = col_datetime(format = \"\"), dischtime = col_datetime(format = \"\"), deathtime = col_datetime(format = \"\"), admission_type = col_character(), admission_location = col_character(), discharge_location = col_character(), insurance = col_character(), language = col_character(), religion = col_character(), marital_status = col_character(), ethnicity = col_character(), edregtime = col_datetime(format = \"\"), edouttime = col_datetime(format = \"\"), diagnosis = col_character(), hospital_expire_flag = col_double(), has_chartevents_data = col_double()))\n",
    "mimic.prescriptions.raw <- read_csv(paste(base_url, \"PRESCRIPTIONS.csv\", sep=\"\"),\n",
    "                                    col_types = cols(row_id = col_double(), subject_id = col_double(), hadm_id = col_double(), icustay_id = col_double(), startdate = col_datetime(format = \"\"), enddate = col_datetime(format = \"\"), drug_type = col_character(), drug = col_character(), drug_name_poe = col_character(), drug_name_generic = col_character(), formulary_drug_cd = col_character(), gsn = col_character(), ndc = col_character(), prod_strength = col_character(), dose_val_rx = col_character(), dose_unit_rx = col_character(), form_val_disp = col_character(), form_unit_disp = col_character(), route = col_character()))\n",
    "#head(mimic.patients.raw)\n",
    "#head(mimic.admissions.raw)\n",
    "#head(mimic.prescriptions.raw)"
   ]
  },
  {
   "cell_type": "markdown",
   "id": "rapid-shock",
   "metadata": {},
   "source": [
    "## Alle Spalten eines Tibble abfragen"
   ]
  },
  {
   "cell_type": "code",
   "execution_count": null,
   "id": "boxed-ancient",
   "metadata": {
    "ExecuteTime": {
     "end_time": "2023-06-06T16:15:26.697246900Z",
     "start_time": "2023-06-06T16:15:26.660966300Z"
    }
   },
   "outputs": [],
   "source": [
    "head(mimic.patients.raw)"
   ]
  },
  {
   "cell_type": "markdown",
   "id": "knowing-miracle",
   "metadata": {},
   "source": [
    "## Ausgewählte Spalten eines Tibble abfragen"
   ]
  },
  {
   "cell_type": "code",
   "execution_count": null,
   "id": "compact-amazon",
   "metadata": {
    "ExecuteTime": {
     "end_time": "2023-06-06T16:15:26.868345100Z",
     "start_time": "2023-06-06T16:15:26.702778700Z"
    }
   },
   "outputs": [],
   "source": [
    "head(mimic.patients.raw %>% select(subject_id, gender))"
   ]
  },
  {
   "cell_type": "markdown",
   "id": "returning-simulation",
   "metadata": {},
   "source": [
    "## Ausgewählte Zeilen eines Tibble abfragen"
   ]
  },
  {
   "cell_type": "code",
   "execution_count": null,
   "id": "valid-strand",
   "metadata": {
    "ExecuteTime": {
     "end_time": "2023-06-06T16:15:26.925491200Z",
     "start_time": "2023-06-06T16:15:26.795698Z"
    }
   },
   "outputs": [],
   "source": [
    "head(mimic.patients.raw %>% filter(gender == 'M'))\n",
    "\n",
    "# Merke: bei Vergleichen muss das doppelte Gleichheitszeichen (==) verwendet werden!"
   ]
  },
  {
   "cell_type": "markdown",
   "id": "smoking-facial",
   "metadata": {},
   "source": [
    "## Ergebnis auf eindeutige Datensätze reduzieren (DISTINCT)"
   ]
  },
  {
   "cell_type": "code",
   "execution_count": null,
   "id": "informational-skating",
   "metadata": {
    "ExecuteTime": {
     "end_time": "2023-06-06T16:15:26.963153900Z",
     "start_time": "2023-06-06T16:15:26.897906500Z"
    }
   },
   "outputs": [],
   "source": [
    "mimic.patients.raw %>% \n",
    "    select(gender) %>% \n",
    "    distinct()"
   ]
  },
  {
   "cell_type": "markdown",
   "id": "blocked-breakdown",
   "metadata": {},
   "source": [
    "## Einfache Aggregation: Gesamtzahl der Datensätze eines Tibble abfragen"
   ]
  },
  {
   "cell_type": "code",
   "execution_count": null,
   "id": "conservative-tissue",
   "metadata": {
    "ExecuteTime": {
     "end_time": "2023-06-06T16:15:27.046880500Z",
     "start_time": "2023-06-06T16:15:26.959636800Z"
    }
   },
   "outputs": [],
   "source": [
    "mimic.patients.raw %>% summarize(n = n())"
   ]
  },
  {
   "cell_type": "markdown",
   "id": "suspected-staff",
   "metadata": {},
   "source": [
    "## Aggregation & Gruppierung: Anzahl nach Geschlecht ermitteln"
   ]
  },
  {
   "cell_type": "code",
   "execution_count": null,
   "id": "adequate-kennedy",
   "metadata": {
    "ExecuteTime": {
     "end_time": "2023-06-06T16:15:27.089145400Z",
     "start_time": "2023-06-06T16:15:27.009040300Z"
    }
   },
   "outputs": [],
   "source": [
    "mimic.patients.raw %>% \n",
    "    group_by(gender) %>% \n",
    "    summarize(n = n(), .groups=\"keep\")\n",
    "\n",
    "# Merke: die Option .groups=\"keep\" ist nötig, damit das Gruppierungsmerkmal in der Ausgabe übernommen wird!"
   ]
  },
  {
   "cell_type": "markdown",
   "id": "tight-assurance",
   "metadata": {},
   "source": [
    "## Zeilen nach der Aggregation filtern"
   ]
  },
  {
   "cell_type": "code",
   "execution_count": null,
   "id": "classified-migration",
   "metadata": {
    "ExecuteTime": {
     "end_time": "2023-06-06T16:15:27.170884800Z",
     "start_time": "2023-06-06T16:15:27.060936100Z"
    }
   },
   "outputs": [],
   "source": [
    "mimic.patients.raw %>% \n",
    "    group_by(gender) %>% \n",
    "    summarize(n = n(), .groups=\"keep\") %>% \n",
    "    filter(n > 50)"
   ]
  },
  {
   "cell_type": "markdown",
   "id": "molecular-contract",
   "metadata": {},
   "source": [
    "## Tibbles per JOIN miteinander verknüpfen"
   ]
  },
  {
   "cell_type": "code",
   "execution_count": null,
   "id": "sitting-relationship",
   "metadata": {
    "ExecuteTime": {
     "end_time": "2023-06-06T16:15:27.231951400Z",
     "start_time": "2023-06-06T16:15:27.126246500Z"
    }
   },
   "outputs": [],
   "source": [
    "head(mimic.patients.raw %>% \n",
    "     inner_join(mimic.admissions.raw, by = \"subject_id\") %>% \n",
    "     select(subject_id, gender, diagnosis)\n",
    ")"
   ]
  },
  {
   "cell_type": "markdown",
   "id": "applicable-oxide",
   "metadata": {},
   "source": [
    "## Patient:innen mit mehr als einem Intensiv-Aufenthalt abfragen"
   ]
  },
  {
   "cell_type": "code",
   "execution_count": null,
   "id": "brown-mounting",
   "metadata": {
    "ExecuteTime": {
     "end_time": "2023-06-06T16:15:27.284542Z",
     "start_time": "2023-06-06T16:15:27.202597900Z"
    }
   },
   "outputs": [],
   "source": [
    "head(mimic.patients.raw %>% \n",
    "     inner_join(mimic.admissions.raw, by = \"subject_id\") %>% \n",
    "     group_by(subject_id) %>% \n",
    "     summarize(n = n(), .groups=\"keep\") %>% \n",
    "     filter(n > 1)\n",
    ")"
   ]
  },
  {
   "cell_type": "markdown",
   "id": "human-barrier",
   "metadata": {},
   "source": [
    "## 2 Subsets von Verschreibungen für die Demo verschiedener Joins erzeugen\n",
    "\n",
    "* Patient:innenen mit Hauptdiagnose Sepsis\n",
    "* Patient:innen mit Gabe von Vancomycin (Reserve-Antibiotikum z.B. bei MRSA)"
   ]
  },
  {
   "cell_type": "code",
   "execution_count": null,
   "id": "homeless-ability",
   "metadata": {
    "ExecuteTime": {
     "end_time": "2023-06-06T16:15:27.402500100Z",
     "start_time": "2023-06-06T16:15:27.282534100Z"
    }
   },
   "outputs": [],
   "source": [
    "demo.sepsis     <- mimic.admissions.raw %>% \n",
    "                        filter(str_detect(tolower(diagnosis), \"sepsis\")) %>% \n",
    "                        select(subject_id) %>%\n",
    "                        distinct()\n",
    "demo.vancomycin <- mimic.prescriptions.raw %>% \n",
    "                        filter(str_detect(tolower(drug), \"vancomycin\")) %>% \n",
    "                        select(subject_id) %>% \n",
    "                        distinct()"
   ]
  },
  {
   "cell_type": "markdown",
   "id": "extra-athens",
   "metadata": {},
   "source": [
    "## Patient:innen abfragen, die sowohl eine Sepsis als Hauptdiagnose hatten als auch Vancomycin erhalten haben (INNER JOIN)"
   ]
  },
  {
   "cell_type": "code",
   "execution_count": null,
   "id": "dynamic-feature",
   "metadata": {
    "ExecuteTime": {
     "end_time": "2023-06-06T16:15:27.487064400Z",
     "start_time": "2023-06-06T16:15:27.386443600Z"
    }
   },
   "outputs": [],
   "source": [
    "demo.sepsis %>% \n",
    "    inner_join(demo.vancomycin, by = \"subject_id\", keep=TRUE, suffix = c(\"_sepsis\", \"_vanco\"))"
   ]
  },
  {
   "cell_type": "markdown",
   "id": "global-quantum",
   "metadata": {},
   "source": [
    "## Alle Patient:innen abfragen, die eine Sepsis als Hauptdiagnose hatten sowie die mit Vancomycingabe ergänzen (LEFT OUTER JOIN)"
   ]
  },
  {
   "cell_type": "code",
   "execution_count": null,
   "id": "organized-litigation",
   "metadata": {
    "ExecuteTime": {
     "end_time": "2023-06-06T16:15:27.580902500Z",
     "start_time": "2023-06-06T16:15:27.479541100Z"
    }
   },
   "outputs": [],
   "source": [
    "demo.sepsis %>% \n",
    "    left_join(demo.vancomycin, by = \"subject_id\", keep=TRUE, suffix = c(\"_sepsis\", \"_vanco\"))"
   ]
  },
  {
   "cell_type": "markdown",
   "id": "assured-powell",
   "metadata": {},
   "source": [
    "## Alle Patient:innen abfragen, die eine Vancomycingabe hatten und die keine Sepsisdiagnose hatten (RIGHT OUTER JOIN)"
   ]
  },
  {
   "cell_type": "code",
   "execution_count": null,
   "id": "signed-destruction",
   "metadata": {
    "ExecuteTime": {
     "end_time": "2023-06-06T16:15:27.582843400Z",
     "start_time": "2023-06-06T16:15:27.529200800Z"
    }
   },
   "outputs": [],
   "source": [
    "head(demo.sepsis %>% \n",
    "     right_join(demo.vancomycin, by = \"subject_id\", keep=TRUE, suffix = c(\"_sepsis\", \"_vanco\")),\n",
    "15)"
   ]
  },
  {
   "cell_type": "markdown",
   "id": "neither-grenada",
   "metadata": {},
   "source": [
    "## Tatsächliche Hauptdiagnosen für die Patient:innen mit Vancomycingabe ohne Sepsis ermitteln"
   ]
  },
  {
   "cell_type": "code",
   "execution_count": null,
   "id": "reported-sussex",
   "metadata": {
    "ExecuteTime": {
     "end_time": "2023-06-06T16:15:27.673579100Z",
     "start_time": "2023-06-06T16:15:27.570790900Z"
    },
    "tags": []
   },
   "outputs": [],
   "source": [
    "head(demo.vancomycin %>% \n",
    "     inner_join(mimic.admissions.raw, by = \"subject_id\") %>% \n",
    "     left_join(demo.sepsis, by = \"subject_id\", keep=TRUE, suffix=c(\"\", \"_sepsis\")) %>% \n",
    "     filter(is.na(subject_id_sepsis)) %>% \n",
    "     group_by(diagnosis) %>% \n",
    "     summarize(n = n(), .groups=\"keep\") %>% \n",
    "     arrange(desc(n)) \n",
    ", 20)"
   ]
  }
 ],
 "metadata": {
  "kernelspec": {
   "display_name": "R",
   "language": "R",
   "name": "ir"
  },
  "language_info": {
   "codemirror_mode": "r",
   "file_extension": ".r",
   "mimetype": "text/x-r-source",
   "name": "R",
   "pygments_lexer": "r",
   "version": "4.2.3"
  }
 },
 "nbformat": 4,
 "nbformat_minor": 5
}
