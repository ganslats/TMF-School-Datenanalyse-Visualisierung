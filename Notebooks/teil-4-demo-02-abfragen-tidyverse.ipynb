{
 "cells": [
  {
   "cell_type": "markdown",
   "id": "diagnostic-concentrate",
   "metadata": {},
   "source": [
    "# Teil 4 Demo 2: Abfragen mit Tidyverse"
   ]
  },
  {
   "cell_type": "markdown",
   "id": "bigger-protection",
   "metadata": {},
   "source": [
    "## Bibliotheken & Konfiguration"
   ]
  },
  {
   "cell_type": "code",
   "execution_count": 1,
   "id": "advised-excellence",
   "metadata": {
    "ExecuteTime": {
     "end_time": "2023-06-06T16:15:26.085582200Z",
     "start_time": "2023-06-06T16:15:24.642373300Z"
    }
   },
   "outputs": [
    {
     "name": "stderr",
     "output_type": "stream",
     "text": [
      "Loading required package: readr\n",
      "\n",
      "Loading required package: dplyr\n",
      "\n",
      "\n",
      "Attaching package: 'dplyr'\n",
      "\n",
      "\n",
      "The following objects are masked from 'package:stats':\n",
      "\n",
      "    filter, lag\n",
      "\n",
      "\n",
      "The following objects are masked from 'package:base':\n",
      "\n",
      "    intersect, setdiff, setequal, union\n",
      "\n",
      "\n",
      "Loading required package: stringr\n",
      "\n",
      "Loading required package: tidyr\n",
      "\n"
     ]
    },
    {
     "data": {
      "text/html": "<ol>\n\t<li>TRUE</li>\n\t<li>TRUE</li>\n\t<li>TRUE</li>\n\t<li>TRUE</li>\n</ol>\n",
      "text/markdown": "1. TRUE\n2. TRUE\n3. TRUE\n4. TRUE\n\n\n",
      "text/latex": "\\begin{enumerate}\n\\item TRUE\n\\item TRUE\n\\item TRUE\n\\item TRUE\n\\end{enumerate}\n",
      "text/plain": "[[1]]\n[1] TRUE\n\n[[2]]\n[1] TRUE\n\n[[3]]\n[1] TRUE\n\n[[4]]\n[1] TRUE\n"
     },
     "metadata": {},
     "output_type": "display_data"
    }
   ],
   "source": [
    "packages <- c(\"readr\", \"dplyr\", \"stringr\", \"tidyr\")\n",
    "install.packages(setdiff(packages, rownames(installed.packages())))\n",
    "lapply(packages, require, character.only = TRUE)\n",
    "\n",
    "base_url <- \"https://raw.githubusercontent.com/ganslats/TMF-School-2022-Block-4/master/Rohdaten/mimic-iii-demo/\""
   ]
  },
  {
   "cell_type": "markdown",
   "id": "higher-wages",
   "metadata": {},
   "source": [
    "## Ausgewählte MIMIC III-Rohdaten laden"
   ]
  },
  {
   "cell_type": "code",
   "execution_count": 2,
   "id": "relative-passenger",
   "metadata": {
    "ExecuteTime": {
     "end_time": "2023-06-06T16:15:26.650860400Z",
     "start_time": "2023-06-06T16:15:26.074177800Z"
    }
   },
   "outputs": [],
   "source": [
    "mimic.patients.raw      <- read_csv(paste(base_url, \"PATIENTS.csv\", sep=\"\"),\n",
    "                                    col_types = cols(row_id = col_double(), subject_id = col_double(), gender = col_character(), dob = col_datetime(format = \"\"), dod = col_datetime(format = \"\"), dod_hosp = col_datetime(format = \"\"), dod_ssn = col_datetime(format = \"\"), expire_flag = col_double()))\n",
    "mimic.admissions.raw    <- read_csv(paste(base_url, \"ADMISSIONS.csv\", sep=\"\"),\n",
    "                                    col_types = cols(  row_id = col_double(), subject_id = col_double(), hadm_id = col_double(), admittime = col_datetime(format = \"\"), dischtime = col_datetime(format = \"\"), deathtime = col_datetime(format = \"\"), admission_type = col_character(), admission_location = col_character(), discharge_location = col_character(), insurance = col_character(), language = col_character(), religion = col_character(), marital_status = col_character(), ethnicity = col_character(), edregtime = col_datetime(format = \"\"), edouttime = col_datetime(format = \"\"), diagnosis = col_character(), hospital_expire_flag = col_double(), has_chartevents_data = col_double()))\n",
    "mimic.prescriptions.raw <- read_csv(paste(base_url, \"PRESCRIPTIONS.csv\", sep=\"\"),\n",
    "                                    col_types = cols(row_id = col_double(), subject_id = col_double(), hadm_id = col_double(), icustay_id = col_double(), startdate = col_datetime(format = \"\"), enddate = col_datetime(format = \"\"), drug_type = col_character(), drug = col_character(), drug_name_poe = col_character(), drug_name_generic = col_character(), formulary_drug_cd = col_character(), gsn = col_character(), ndc = col_character(), prod_strength = col_character(), dose_val_rx = col_character(), dose_unit_rx = col_character(), form_val_disp = col_character(), form_unit_disp = col_character(), route = col_character()))\n",
    "#head(mimic.patients.raw)\n",
    "#head(mimic.admissions.raw)\n",
    "#head(mimic.prescriptions.raw)"
   ]
  },
  {
   "cell_type": "markdown",
   "id": "rapid-shock",
   "metadata": {},
   "source": [
    "## Alle Spalten eines Tibble abfragen"
   ]
  },
  {
   "cell_type": "code",
   "execution_count": 3,
   "id": "boxed-ancient",
   "metadata": {
    "ExecuteTime": {
     "end_time": "2023-06-06T16:15:26.697246900Z",
     "start_time": "2023-06-06T16:15:26.660966300Z"
    }
   },
   "outputs": [
    {
     "data": {
      "text/html": "<table class=\"dataframe\">\n<caption>A tibble: 6 × 8</caption>\n<thead>\n\t<tr><th scope=col>row_id</th><th scope=col>subject_id</th><th scope=col>gender</th><th scope=col>dob</th><th scope=col>dod</th><th scope=col>dod_hosp</th><th scope=col>dod_ssn</th><th scope=col>expire_flag</th></tr>\n\t<tr><th scope=col>&lt;dbl&gt;</th><th scope=col>&lt;dbl&gt;</th><th scope=col>&lt;chr&gt;</th><th scope=col>&lt;dttm&gt;</th><th scope=col>&lt;dttm&gt;</th><th scope=col>&lt;dttm&gt;</th><th scope=col>&lt;dttm&gt;</th><th scope=col>&lt;dbl&gt;</th></tr>\n</thead>\n<tbody>\n\t<tr><td>9467</td><td>10006</td><td>F</td><td>2094-03-05</td><td>2165-08-12</td><td>2165-08-12</td><td>2165-08-12</td><td>1</td></tr>\n\t<tr><td>9472</td><td>10011</td><td>F</td><td>2090-06-05</td><td>2126-08-28</td><td>2126-08-28</td><td>NA</td><td>1</td></tr>\n\t<tr><td>9474</td><td>10013</td><td>F</td><td>2038-09-03</td><td>2125-10-07</td><td>2125-10-07</td><td>2125-10-07</td><td>1</td></tr>\n\t<tr><td>9478</td><td>10017</td><td>F</td><td>2075-09-21</td><td>2152-09-12</td><td>NA</td><td>2152-09-12</td><td>1</td></tr>\n\t<tr><td>9479</td><td>10019</td><td>M</td><td>2114-06-20</td><td>2163-05-15</td><td>2163-05-15</td><td>2163-05-15</td><td>1</td></tr>\n\t<tr><td>9486</td><td>10026</td><td>F</td><td>1895-05-17</td><td>2195-11-24</td><td>NA</td><td>2195-11-24</td><td>1</td></tr>\n</tbody>\n</table>\n",
      "text/markdown": "\nA tibble: 6 × 8\n\n| row_id &lt;dbl&gt; | subject_id &lt;dbl&gt; | gender &lt;chr&gt; | dob &lt;dttm&gt; | dod &lt;dttm&gt; | dod_hosp &lt;dttm&gt; | dod_ssn &lt;dttm&gt; | expire_flag &lt;dbl&gt; |\n|---|---|---|---|---|---|---|---|\n| 9467 | 10006 | F | 2094-03-05 | 2165-08-12 | 2165-08-12 | 2165-08-12 | 1 |\n| 9472 | 10011 | F | 2090-06-05 | 2126-08-28 | 2126-08-28 | NA | 1 |\n| 9474 | 10013 | F | 2038-09-03 | 2125-10-07 | 2125-10-07 | 2125-10-07 | 1 |\n| 9478 | 10017 | F | 2075-09-21 | 2152-09-12 | NA | 2152-09-12 | 1 |\n| 9479 | 10019 | M | 2114-06-20 | 2163-05-15 | 2163-05-15 | 2163-05-15 | 1 |\n| 9486 | 10026 | F | 1895-05-17 | 2195-11-24 | NA | 2195-11-24 | 1 |\n\n",
      "text/latex": "A tibble: 6 × 8\n\\begin{tabular}{llllllll}\n row\\_id & subject\\_id & gender & dob & dod & dod\\_hosp & dod\\_ssn & expire\\_flag\\\\\n <dbl> & <dbl> & <chr> & <dttm> & <dttm> & <dttm> & <dttm> & <dbl>\\\\\n\\hline\n\t 9467 & 10006 & F & 2094-03-05 & 2165-08-12 & 2165-08-12 & 2165-08-12 & 1\\\\\n\t 9472 & 10011 & F & 2090-06-05 & 2126-08-28 & 2126-08-28 & NA & 1\\\\\n\t 9474 & 10013 & F & 2038-09-03 & 2125-10-07 & 2125-10-07 & 2125-10-07 & 1\\\\\n\t 9478 & 10017 & F & 2075-09-21 & 2152-09-12 & NA & 2152-09-12 & 1\\\\\n\t 9479 & 10019 & M & 2114-06-20 & 2163-05-15 & 2163-05-15 & 2163-05-15 & 1\\\\\n\t 9486 & 10026 & F & 1895-05-17 & 2195-11-24 & NA & 2195-11-24 & 1\\\\\n\\end{tabular}\n",
      "text/plain": "  row_id subject_id gender dob        dod        dod_hosp   dod_ssn   \n1 9467   10006      F      2094-03-05 2165-08-12 2165-08-12 2165-08-12\n2 9472   10011      F      2090-06-05 2126-08-28 2126-08-28 <NA>      \n3 9474   10013      F      2038-09-03 2125-10-07 2125-10-07 2125-10-07\n4 9478   10017      F      2075-09-21 2152-09-12 <NA>       2152-09-12\n5 9479   10019      M      2114-06-20 2163-05-15 2163-05-15 2163-05-15\n6 9486   10026      F      1895-05-17 2195-11-24 <NA>       2195-11-24\n  expire_flag\n1 1          \n2 1          \n3 1          \n4 1          \n5 1          \n6 1          "
     },
     "metadata": {},
     "output_type": "display_data"
    }
   ],
   "source": [
    "head(mimic.patients.raw)"
   ]
  },
  {
   "cell_type": "markdown",
   "id": "knowing-miracle",
   "metadata": {},
   "source": [
    "## Ausgewählte Spalten eines Tibble abfragen"
   ]
  },
  {
   "cell_type": "code",
   "execution_count": 4,
   "id": "compact-amazon",
   "metadata": {
    "ExecuteTime": {
     "end_time": "2023-06-06T16:15:26.868345100Z",
     "start_time": "2023-06-06T16:15:26.702778700Z"
    }
   },
   "outputs": [
    {
     "data": {
      "text/html": "<table class=\"dataframe\">\n<caption>A tibble: 6 × 2</caption>\n<thead>\n\t<tr><th scope=col>subject_id</th><th scope=col>gender</th></tr>\n\t<tr><th scope=col>&lt;dbl&gt;</th><th scope=col>&lt;chr&gt;</th></tr>\n</thead>\n<tbody>\n\t<tr><td>10006</td><td>F</td></tr>\n\t<tr><td>10011</td><td>F</td></tr>\n\t<tr><td>10013</td><td>F</td></tr>\n\t<tr><td>10017</td><td>F</td></tr>\n\t<tr><td>10019</td><td>M</td></tr>\n\t<tr><td>10026</td><td>F</td></tr>\n</tbody>\n</table>\n",
      "text/markdown": "\nA tibble: 6 × 2\n\n| subject_id &lt;dbl&gt; | gender &lt;chr&gt; |\n|---|---|\n| 10006 | F |\n| 10011 | F |\n| 10013 | F |\n| 10017 | F |\n| 10019 | M |\n| 10026 | F |\n\n",
      "text/latex": "A tibble: 6 × 2\n\\begin{tabular}{ll}\n subject\\_id & gender\\\\\n <dbl> & <chr>\\\\\n\\hline\n\t 10006 & F\\\\\n\t 10011 & F\\\\\n\t 10013 & F\\\\\n\t 10017 & F\\\\\n\t 10019 & M\\\\\n\t 10026 & F\\\\\n\\end{tabular}\n",
      "text/plain": "  subject_id gender\n1 10006      F     \n2 10011      F     \n3 10013      F     \n4 10017      F     \n5 10019      M     \n6 10026      F     "
     },
     "metadata": {},
     "output_type": "display_data"
    }
   ],
   "source": [
    "head(mimic.patients.raw %>% select(subject_id, gender))"
   ]
  },
  {
   "cell_type": "markdown",
   "id": "returning-simulation",
   "metadata": {},
   "source": [
    "## Ausgewählte Zeilen eines Tibble abfragen"
   ]
  },
  {
   "cell_type": "code",
   "execution_count": 5,
   "id": "valid-strand",
   "metadata": {
    "ExecuteTime": {
     "end_time": "2023-06-06T16:15:26.925491200Z",
     "start_time": "2023-06-06T16:15:26.795698Z"
    }
   },
   "outputs": [
    {
     "data": {
      "text/html": "<table class=\"dataframe\">\n<caption>A tibble: 6 × 8</caption>\n<thead>\n\t<tr><th scope=col>row_id</th><th scope=col>subject_id</th><th scope=col>gender</th><th scope=col>dob</th><th scope=col>dod</th><th scope=col>dod_hosp</th><th scope=col>dod_ssn</th><th scope=col>expire_flag</th></tr>\n\t<tr><th scope=col>&lt;dbl&gt;</th><th scope=col>&lt;dbl&gt;</th><th scope=col>&lt;chr&gt;</th><th scope=col>&lt;dttm&gt;</th><th scope=col>&lt;dttm&gt;</th><th scope=col>&lt;dttm&gt;</th><th scope=col>&lt;dttm&gt;</th><th scope=col>&lt;dbl&gt;</th></tr>\n</thead>\n<tbody>\n\t<tr><td>9479</td><td>10019</td><td>M</td><td>2114-06-20</td><td>2163-05-15</td><td>2163-05-15</td><td>2163-05-15</td><td>1</td></tr>\n\t<tr><td>9489</td><td>10029</td><td>M</td><td>2061-04-10</td><td>2140-09-21</td><td>NA</td><td>2140-09-21</td><td>1</td></tr>\n\t<tr><td>9491</td><td>10032</td><td>M</td><td>2050-03-29</td><td>2138-05-21</td><td>2138-05-21</td><td>2138-05-21</td><td>1</td></tr>\n\t<tr><td>9494</td><td>10035</td><td>M</td><td>2053-04-13</td><td>2133-03-30</td><td>NA</td><td>2133-03-30</td><td>1</td></tr>\n\t<tr><td>9501</td><td>10042</td><td>M</td><td>2076-05-06</td><td>2150-12-03</td><td>NA</td><td>2150-12-03</td><td>1</td></tr>\n\t<tr><td>9502</td><td>10043</td><td>M</td><td>2109-04-07</td><td>2191-02-07</td><td>NA</td><td>2191-02-07</td><td>1</td></tr>\n</tbody>\n</table>\n",
      "text/markdown": "\nA tibble: 6 × 8\n\n| row_id &lt;dbl&gt; | subject_id &lt;dbl&gt; | gender &lt;chr&gt; | dob &lt;dttm&gt; | dod &lt;dttm&gt; | dod_hosp &lt;dttm&gt; | dod_ssn &lt;dttm&gt; | expire_flag &lt;dbl&gt; |\n|---|---|---|---|---|---|---|---|\n| 9479 | 10019 | M | 2114-06-20 | 2163-05-15 | 2163-05-15 | 2163-05-15 | 1 |\n| 9489 | 10029 | M | 2061-04-10 | 2140-09-21 | NA | 2140-09-21 | 1 |\n| 9491 | 10032 | M | 2050-03-29 | 2138-05-21 | 2138-05-21 | 2138-05-21 | 1 |\n| 9494 | 10035 | M | 2053-04-13 | 2133-03-30 | NA | 2133-03-30 | 1 |\n| 9501 | 10042 | M | 2076-05-06 | 2150-12-03 | NA | 2150-12-03 | 1 |\n| 9502 | 10043 | M | 2109-04-07 | 2191-02-07 | NA | 2191-02-07 | 1 |\n\n",
      "text/latex": "A tibble: 6 × 8\n\\begin{tabular}{llllllll}\n row\\_id & subject\\_id & gender & dob & dod & dod\\_hosp & dod\\_ssn & expire\\_flag\\\\\n <dbl> & <dbl> & <chr> & <dttm> & <dttm> & <dttm> & <dttm> & <dbl>\\\\\n\\hline\n\t 9479 & 10019 & M & 2114-06-20 & 2163-05-15 & 2163-05-15 & 2163-05-15 & 1\\\\\n\t 9489 & 10029 & M & 2061-04-10 & 2140-09-21 & NA & 2140-09-21 & 1\\\\\n\t 9491 & 10032 & M & 2050-03-29 & 2138-05-21 & 2138-05-21 & 2138-05-21 & 1\\\\\n\t 9494 & 10035 & M & 2053-04-13 & 2133-03-30 & NA & 2133-03-30 & 1\\\\\n\t 9501 & 10042 & M & 2076-05-06 & 2150-12-03 & NA & 2150-12-03 & 1\\\\\n\t 9502 & 10043 & M & 2109-04-07 & 2191-02-07 & NA & 2191-02-07 & 1\\\\\n\\end{tabular}\n",
      "text/plain": "  row_id subject_id gender dob        dod        dod_hosp   dod_ssn   \n1 9479   10019      M      2114-06-20 2163-05-15 2163-05-15 2163-05-15\n2 9489   10029      M      2061-04-10 2140-09-21 <NA>       2140-09-21\n3 9491   10032      M      2050-03-29 2138-05-21 2138-05-21 2138-05-21\n4 9494   10035      M      2053-04-13 2133-03-30 <NA>       2133-03-30\n5 9501   10042      M      2076-05-06 2150-12-03 <NA>       2150-12-03\n6 9502   10043      M      2109-04-07 2191-02-07 <NA>       2191-02-07\n  expire_flag\n1 1          \n2 1          \n3 1          \n4 1          \n5 1          \n6 1          "
     },
     "metadata": {},
     "output_type": "display_data"
    }
   ],
   "source": [
    "head(mimic.patients.raw %>% filter(gender == 'M'))\n",
    "\n",
    "# Merke: bei Vergleichen muss das doppelte Gleichheitszeichen (==) verwendet werden!"
   ]
  },
  {
   "cell_type": "markdown",
   "id": "smoking-facial",
   "metadata": {},
   "source": [
    "## Ergebnis auf eindeutige Datensätze reduzieren (DISTINCT)"
   ]
  },
  {
   "cell_type": "code",
   "execution_count": 6,
   "id": "informational-skating",
   "metadata": {
    "ExecuteTime": {
     "end_time": "2023-06-06T16:15:26.963153900Z",
     "start_time": "2023-06-06T16:15:26.897906500Z"
    }
   },
   "outputs": [
    {
     "data": {
      "text/html": "<table class=\"dataframe\">\n<caption>A tibble: 2 × 1</caption>\n<thead>\n\t<tr><th scope=col>gender</th></tr>\n\t<tr><th scope=col>&lt;chr&gt;</th></tr>\n</thead>\n<tbody>\n\t<tr><td>F</td></tr>\n\t<tr><td>M</td></tr>\n</tbody>\n</table>\n",
      "text/markdown": "\nA tibble: 2 × 1\n\n| gender &lt;chr&gt; |\n|---|\n| F |\n| M |\n\n",
      "text/latex": "A tibble: 2 × 1\n\\begin{tabular}{l}\n gender\\\\\n <chr>\\\\\n\\hline\n\t F\\\\\n\t M\\\\\n\\end{tabular}\n",
      "text/plain": "  gender\n1 F     \n2 M     "
     },
     "metadata": {},
     "output_type": "display_data"
    }
   ],
   "source": [
    "mimic.patients.raw %>% \n",
    "    select(gender) %>% \n",
    "    distinct()"
   ]
  },
  {
   "cell_type": "markdown",
   "id": "blocked-breakdown",
   "metadata": {},
   "source": [
    "## Einfache Aggregation: Gesamtzahl der Datensätze eines Tibble abfragen"
   ]
  },
  {
   "cell_type": "code",
   "execution_count": 7,
   "id": "conservative-tissue",
   "metadata": {
    "ExecuteTime": {
     "end_time": "2023-06-06T16:15:27.046880500Z",
     "start_time": "2023-06-06T16:15:26.959636800Z"
    }
   },
   "outputs": [
    {
     "data": {
      "text/html": "<table class=\"dataframe\">\n<caption>A tibble: 1 × 1</caption>\n<thead>\n\t<tr><th scope=col>n</th></tr>\n\t<tr><th scope=col>&lt;int&gt;</th></tr>\n</thead>\n<tbody>\n\t<tr><td>100</td></tr>\n</tbody>\n</table>\n",
      "text/markdown": "\nA tibble: 1 × 1\n\n| n &lt;int&gt; |\n|---|\n| 100 |\n\n",
      "text/latex": "A tibble: 1 × 1\n\\begin{tabular}{l}\n n\\\\\n <int>\\\\\n\\hline\n\t 100\\\\\n\\end{tabular}\n",
      "text/plain": "  n  \n1 100"
     },
     "metadata": {},
     "output_type": "display_data"
    }
   ],
   "source": [
    "mimic.patients.raw %>% summarize(n = n())"
   ]
  },
  {
   "cell_type": "markdown",
   "id": "suspected-staff",
   "metadata": {},
   "source": [
    "## Aggregation & Gruppierung: Anzahl nach Geschlecht ermitteln"
   ]
  },
  {
   "cell_type": "code",
   "execution_count": 8,
   "id": "adequate-kennedy",
   "metadata": {
    "ExecuteTime": {
     "end_time": "2023-06-06T16:15:27.089145400Z",
     "start_time": "2023-06-06T16:15:27.009040300Z"
    }
   },
   "outputs": [
    {
     "name": "stderr",
     "output_type": "stream",
     "text": [
      "Your code contains a unicode char which cannot be displayed in your\n",
      "current locale and R will silently convert it to an escaped form when the\n",
      "R kernel executes this code. This can lead to subtle errors if you use\n",
      "such chars to do comparisons. For more information, please see\n",
      "https://github.com/IRkernel/repr/wiki/Problems-with-unicode-on-windows"
     ]
    },
    {
     "data": {
      "text/html": "<table class=\"dataframe\">\n<caption>A grouped_df: 2 × 2</caption>\n<thead>\n\t<tr><th scope=col>gender</th><th scope=col>n</th></tr>\n\t<tr><th scope=col>&lt;chr&gt;</th><th scope=col>&lt;int&gt;</th></tr>\n</thead>\n<tbody>\n\t<tr><td>F</td><td>55</td></tr>\n\t<tr><td>M</td><td>45</td></tr>\n</tbody>\n</table>\n",
      "text/markdown": "\nA grouped_df: 2 × 2\n\n| gender &lt;chr&gt; | n &lt;int&gt; |\n|---|---|\n| F | 55 |\n| M | 45 |\n\n",
      "text/latex": "A grouped\\_df: 2 × 2\n\\begin{tabular}{ll}\n gender & n\\\\\n <chr> & <int>\\\\\n\\hline\n\t F & 55\\\\\n\t M & 45\\\\\n\\end{tabular}\n",
      "text/plain": "  gender n \n1 F      55\n2 M      45"
     },
     "metadata": {},
     "output_type": "display_data"
    }
   ],
   "source": [
    "mimic.patients.raw %>% \n",
    "    group_by(gender) %>% \n",
    "    summarize(n = n(), .groups=\"keep\")\n",
    "\n",
    "# Merke: die Option .groups=\"keep\" ist nötig, damit das Gruppierungsmerkmal in der Ausgabe übernommen wird!"
   ]
  },
  {
   "cell_type": "markdown",
   "id": "tight-assurance",
   "metadata": {},
   "source": [
    "## Zeilen nach der Aggregation filtern"
   ]
  },
  {
   "cell_type": "code",
   "execution_count": 9,
   "id": "classified-migration",
   "metadata": {
    "ExecuteTime": {
     "end_time": "2023-06-06T16:15:27.170884800Z",
     "start_time": "2023-06-06T16:15:27.060936100Z"
    }
   },
   "outputs": [
    {
     "data": {
      "text/html": "<table class=\"dataframe\">\n<caption>A grouped_df: 1 × 2</caption>\n<thead>\n\t<tr><th scope=col>gender</th><th scope=col>n</th></tr>\n\t<tr><th scope=col>&lt;chr&gt;</th><th scope=col>&lt;int&gt;</th></tr>\n</thead>\n<tbody>\n\t<tr><td>F</td><td>55</td></tr>\n</tbody>\n</table>\n",
      "text/markdown": "\nA grouped_df: 1 × 2\n\n| gender &lt;chr&gt; | n &lt;int&gt; |\n|---|---|\n| F | 55 |\n\n",
      "text/latex": "A grouped\\_df: 1 × 2\n\\begin{tabular}{ll}\n gender & n\\\\\n <chr> & <int>\\\\\n\\hline\n\t F & 55\\\\\n\\end{tabular}\n",
      "text/plain": "  gender n \n1 F      55"
     },
     "metadata": {},
     "output_type": "display_data"
    }
   ],
   "source": [
    "mimic.patients.raw %>% \n",
    "    group_by(gender) %>% \n",
    "    summarize(n = n(), .groups=\"keep\") %>% \n",
    "    filter(n > 50)"
   ]
  },
  {
   "cell_type": "markdown",
   "id": "molecular-contract",
   "metadata": {},
   "source": [
    "## Tibbles per JOIN miteinander verknüpfen"
   ]
  },
  {
   "cell_type": "code",
   "execution_count": 10,
   "id": "sitting-relationship",
   "metadata": {
    "ExecuteTime": {
     "end_time": "2023-06-06T16:15:27.231951400Z",
     "start_time": "2023-06-06T16:15:27.126246500Z"
    }
   },
   "outputs": [
    {
     "data": {
      "text/html": "<table class=\"dataframe\">\n<caption>A tibble: 6 × 3</caption>\n<thead>\n\t<tr><th scope=col>subject_id</th><th scope=col>gender</th><th scope=col>diagnosis</th></tr>\n\t<tr><th scope=col>&lt;dbl&gt;</th><th scope=col>&lt;chr&gt;</th><th scope=col>&lt;chr&gt;</th></tr>\n</thead>\n<tbody>\n\t<tr><td>10006</td><td>F</td><td>SEPSIS             </td></tr>\n\t<tr><td>10011</td><td>F</td><td>HEPATITIS B        </td></tr>\n\t<tr><td>10013</td><td>F</td><td>SEPSIS             </td></tr>\n\t<tr><td>10017</td><td>F</td><td>HUMERAL FRACTURE   </td></tr>\n\t<tr><td>10019</td><td>M</td><td>ALCOHOLIC HEPATITIS</td></tr>\n\t<tr><td>10026</td><td>F</td><td>STROKE/TIA         </td></tr>\n</tbody>\n</table>\n",
      "text/markdown": "\nA tibble: 6 × 3\n\n| subject_id &lt;dbl&gt; | gender &lt;chr&gt; | diagnosis &lt;chr&gt; |\n|---|---|---|\n| 10006 | F | SEPSIS              |\n| 10011 | F | HEPATITIS B         |\n| 10013 | F | SEPSIS              |\n| 10017 | F | HUMERAL FRACTURE    |\n| 10019 | M | ALCOHOLIC HEPATITIS |\n| 10026 | F | STROKE/TIA          |\n\n",
      "text/latex": "A tibble: 6 × 3\n\\begin{tabular}{lll}\n subject\\_id & gender & diagnosis\\\\\n <dbl> & <chr> & <chr>\\\\\n\\hline\n\t 10006 & F & SEPSIS             \\\\\n\t 10011 & F & HEPATITIS B        \\\\\n\t 10013 & F & SEPSIS             \\\\\n\t 10017 & F & HUMERAL FRACTURE   \\\\\n\t 10019 & M & ALCOHOLIC HEPATITIS\\\\\n\t 10026 & F & STROKE/TIA         \\\\\n\\end{tabular}\n",
      "text/plain": "  subject_id gender diagnosis          \n1 10006      F      SEPSIS             \n2 10011      F      HEPATITIS B        \n3 10013      F      SEPSIS             \n4 10017      F      HUMERAL FRACTURE   \n5 10019      M      ALCOHOLIC HEPATITIS\n6 10026      F      STROKE/TIA         "
     },
     "metadata": {},
     "output_type": "display_data"
    }
   ],
   "source": [
    "head(mimic.patients.raw %>% \n",
    "     inner_join(mimic.admissions.raw, by = \"subject_id\") %>% \n",
    "     select(subject_id, gender, diagnosis)\n",
    ")"
   ]
  },
  {
   "cell_type": "markdown",
   "id": "applicable-oxide",
   "metadata": {},
   "source": [
    "## Patient:innen mit mehr als einem Intensiv-Aufenthalt abfragen"
   ]
  },
  {
   "cell_type": "code",
   "execution_count": 11,
   "id": "brown-mounting",
   "metadata": {
    "ExecuteTime": {
     "end_time": "2023-06-06T16:15:27.284542Z",
     "start_time": "2023-06-06T16:15:27.202597900Z"
    }
   },
   "outputs": [
    {
     "data": {
      "text/html": "<table class=\"dataframe\">\n<caption>A grouped_df: 6 × 2</caption>\n<thead>\n\t<tr><th scope=col>subject_id</th><th scope=col>n</th></tr>\n\t<tr><th scope=col>&lt;dbl&gt;</th><th scope=col>&lt;int&gt;</th></tr>\n</thead>\n<tbody>\n\t<tr><td>10059</td><td>2</td></tr>\n\t<tr><td>10088</td><td>3</td></tr>\n\t<tr><td>10094</td><td>2</td></tr>\n\t<tr><td>10117</td><td>2</td></tr>\n\t<tr><td>10119</td><td>2</td></tr>\n\t<tr><td>10124</td><td>2</td></tr>\n</tbody>\n</table>\n",
      "text/markdown": "\nA grouped_df: 6 × 2\n\n| subject_id &lt;dbl&gt; | n &lt;int&gt; |\n|---|---|\n| 10059 | 2 |\n| 10088 | 3 |\n| 10094 | 2 |\n| 10117 | 2 |\n| 10119 | 2 |\n| 10124 | 2 |\n\n",
      "text/latex": "A grouped\\_df: 6 × 2\n\\begin{tabular}{ll}\n subject\\_id & n\\\\\n <dbl> & <int>\\\\\n\\hline\n\t 10059 & 2\\\\\n\t 10088 & 3\\\\\n\t 10094 & 2\\\\\n\t 10117 & 2\\\\\n\t 10119 & 2\\\\\n\t 10124 & 2\\\\\n\\end{tabular}\n",
      "text/plain": "  subject_id n\n1 10059      2\n2 10088      3\n3 10094      2\n4 10117      2\n5 10119      2\n6 10124      2"
     },
     "metadata": {},
     "output_type": "display_data"
    }
   ],
   "source": [
    "head(mimic.patients.raw %>% \n",
    "     inner_join(mimic.admissions.raw, by = \"subject_id\") %>% \n",
    "     group_by(subject_id) %>% \n",
    "     summarize(n = n(), .groups=\"keep\") %>% \n",
    "     filter(n > 1)\n",
    ")"
   ]
  },
  {
   "cell_type": "markdown",
   "id": "human-barrier",
   "metadata": {},
   "source": [
    "## 2 Subsets von Verschreibungen für die Demo verschiedener Joins erzeugen\n",
    "\n",
    "* Patient:innenen mit Hauptdiagnose Sepsis\n",
    "* Patient:innen mit Gabe von Vancomycin (Reserve-Antibiotikum z.B. bei MRSA)"
   ]
  },
  {
   "cell_type": "code",
   "execution_count": 12,
   "id": "homeless-ability",
   "metadata": {
    "ExecuteTime": {
     "end_time": "2023-06-06T16:15:27.402500100Z",
     "start_time": "2023-06-06T16:15:27.282534100Z"
    }
   },
   "outputs": [],
   "source": [
    "demo.sepsis     <- mimic.admissions.raw %>% \n",
    "                        filter(str_detect(tolower(diagnosis), \"sepsis\")) %>% \n",
    "                        select(subject_id) %>%\n",
    "                        distinct()\n",
    "demo.vancomycin <- mimic.prescriptions.raw %>% \n",
    "                        filter(str_detect(tolower(drug), \"vancomycin\")) %>% \n",
    "                        select(subject_id) %>% \n",
    "                        distinct()"
   ]
  },
  {
   "cell_type": "markdown",
   "id": "extra-athens",
   "metadata": {},
   "source": [
    "## Patient:innen abfragen, die sowohl eine Sepsis als Hauptdiagnose hatten als auch Vancomycin erhalten haben (INNER JOIN)"
   ]
  },
  {
   "cell_type": "code",
   "execution_count": 13,
   "id": "dynamic-feature",
   "metadata": {
    "ExecuteTime": {
     "end_time": "2023-06-06T16:15:27.487064400Z",
     "start_time": "2023-06-06T16:15:27.386443600Z"
    }
   },
   "outputs": [
    {
     "data": {
      "text/html": "<table class=\"dataframe\">\n<caption>A tibble: 6 × 2</caption>\n<thead>\n\t<tr><th scope=col>subject_id_sepsis</th><th scope=col>subject_id_vanco</th></tr>\n\t<tr><th scope=col>&lt;dbl&gt;</th><th scope=col>&lt;dbl&gt;</th></tr>\n</thead>\n<tbody>\n\t<tr><td>10006</td><td>10006</td></tr>\n\t<tr><td>10036</td><td>10036</td></tr>\n\t<tr><td>10056</td><td>10056</td></tr>\n\t<tr><td>10088</td><td>10088</td></tr>\n\t<tr><td>10094</td><td>10094</td></tr>\n\t<tr><td>41976</td><td>41976</td></tr>\n</tbody>\n</table>\n",
      "text/markdown": "\nA tibble: 6 × 2\n\n| subject_id_sepsis &lt;dbl&gt; | subject_id_vanco &lt;dbl&gt; |\n|---|---|\n| 10006 | 10006 |\n| 10036 | 10036 |\n| 10056 | 10056 |\n| 10088 | 10088 |\n| 10094 | 10094 |\n| 41976 | 41976 |\n\n",
      "text/latex": "A tibble: 6 × 2\n\\begin{tabular}{ll}\n subject\\_id\\_sepsis & subject\\_id\\_vanco\\\\\n <dbl> & <dbl>\\\\\n\\hline\n\t 10006 & 10006\\\\\n\t 10036 & 10036\\\\\n\t 10056 & 10056\\\\\n\t 10088 & 10088\\\\\n\t 10094 & 10094\\\\\n\t 41976 & 41976\\\\\n\\end{tabular}\n",
      "text/plain": "  subject_id_sepsis subject_id_vanco\n1 10006             10006           \n2 10036             10036           \n3 10056             10056           \n4 10088             10088           \n5 10094             10094           \n6 41976             41976           "
     },
     "metadata": {},
     "output_type": "display_data"
    }
   ],
   "source": [
    "demo.sepsis %>% \n",
    "    inner_join(demo.vancomycin, by = \"subject_id\", keep=TRUE, suffix = c(\"_sepsis\", \"_vanco\"))"
   ]
  },
  {
   "cell_type": "markdown",
   "id": "global-quantum",
   "metadata": {},
   "source": [
    "## Alle Patient:innen abfragen, die eine Sepsis als Hauptdiagnose hatten sowie die mit Vancomycingabe ergänzen (LEFT OUTER JOIN)"
   ]
  },
  {
   "cell_type": "code",
   "execution_count": 14,
   "id": "organized-litigation",
   "metadata": {
    "ExecuteTime": {
     "end_time": "2023-06-06T16:15:27.580902500Z",
     "start_time": "2023-06-06T16:15:27.479541100Z"
    }
   },
   "outputs": [
    {
     "data": {
      "text/html": "<table class=\"dataframe\">\n<caption>A tibble: 8 × 2</caption>\n<thead>\n\t<tr><th scope=col>subject_id_sepsis</th><th scope=col>subject_id_vanco</th></tr>\n\t<tr><th scope=col>&lt;dbl&gt;</th><th scope=col>&lt;dbl&gt;</th></tr>\n</thead>\n<tbody>\n\t<tr><td>10006</td><td>10006</td></tr>\n\t<tr><td>10013</td><td>   NA</td></tr>\n\t<tr><td>10036</td><td>10036</td></tr>\n\t<tr><td>10056</td><td>10056</td></tr>\n\t<tr><td>10088</td><td>10088</td></tr>\n\t<tr><td>10094</td><td>10094</td></tr>\n\t<tr><td>40601</td><td>   NA</td></tr>\n\t<tr><td>41976</td><td>41976</td></tr>\n</tbody>\n</table>\n",
      "text/markdown": "\nA tibble: 8 × 2\n\n| subject_id_sepsis &lt;dbl&gt; | subject_id_vanco &lt;dbl&gt; |\n|---|---|\n| 10006 | 10006 |\n| 10013 |    NA |\n| 10036 | 10036 |\n| 10056 | 10056 |\n| 10088 | 10088 |\n| 10094 | 10094 |\n| 40601 |    NA |\n| 41976 | 41976 |\n\n",
      "text/latex": "A tibble: 8 × 2\n\\begin{tabular}{ll}\n subject\\_id\\_sepsis & subject\\_id\\_vanco\\\\\n <dbl> & <dbl>\\\\\n\\hline\n\t 10006 & 10006\\\\\n\t 10013 &    NA\\\\\n\t 10036 & 10036\\\\\n\t 10056 & 10056\\\\\n\t 10088 & 10088\\\\\n\t 10094 & 10094\\\\\n\t 40601 &    NA\\\\\n\t 41976 & 41976\\\\\n\\end{tabular}\n",
      "text/plain": "  subject_id_sepsis subject_id_vanco\n1 10006             10006           \n2 10013                NA           \n3 10036             10036           \n4 10056             10056           \n5 10088             10088           \n6 10094             10094           \n7 40601                NA           \n8 41976             41976           "
     },
     "metadata": {},
     "output_type": "display_data"
    }
   ],
   "source": [
    "demo.sepsis %>% \n",
    "    left_join(demo.vancomycin, by = \"subject_id\", keep=TRUE, suffix = c(\"_sepsis\", \"_vanco\"))"
   ]
  },
  {
   "cell_type": "markdown",
   "id": "assured-powell",
   "metadata": {},
   "source": [
    "## Alle Patient:innen abfragen, die eine Vancomycingabe hatten und die keine Sepsisdiagnose hatten (RIGHT OUTER JOIN)"
   ]
  },
  {
   "cell_type": "code",
   "execution_count": 15,
   "id": "signed-destruction",
   "metadata": {
    "ExecuteTime": {
     "end_time": "2023-06-06T16:15:27.582843400Z",
     "start_time": "2023-06-06T16:15:27.529200800Z"
    }
   },
   "outputs": [
    {
     "data": {
      "text/html": "<table class=\"dataframe\">\n<caption>A tibble: 15 × 2</caption>\n<thead>\n\t<tr><th scope=col>subject_id_sepsis</th><th scope=col>subject_id_vanco</th></tr>\n\t<tr><th scope=col>&lt;dbl&gt;</th><th scope=col>&lt;dbl&gt;</th></tr>\n</thead>\n<tbody>\n\t<tr><td>10006</td><td>10006</td></tr>\n\t<tr><td>10036</td><td>10036</td></tr>\n\t<tr><td>10056</td><td>10056</td></tr>\n\t<tr><td>10088</td><td>10088</td></tr>\n\t<tr><td>10094</td><td>10094</td></tr>\n\t<tr><td>41976</td><td>41976</td></tr>\n\t<tr><td>   NA</td><td>43735</td></tr>\n\t<tr><td>   NA</td><td>10065</td></tr>\n\t<tr><td>   NA</td><td>44228</td></tr>\n\t<tr><td>   NA</td><td>10124</td></tr>\n\t<tr><td>   NA</td><td>10111</td></tr>\n\t<tr><td>   NA</td><td>10044</td></tr>\n\t<tr><td>   NA</td><td>41795</td></tr>\n\t<tr><td>   NA</td><td>10117</td></tr>\n\t<tr><td>   NA</td><td>10038</td></tr>\n</tbody>\n</table>\n",
      "text/markdown": "\nA tibble: 15 × 2\n\n| subject_id_sepsis &lt;dbl&gt; | subject_id_vanco &lt;dbl&gt; |\n|---|---|\n| 10006 | 10006 |\n| 10036 | 10036 |\n| 10056 | 10056 |\n| 10088 | 10088 |\n| 10094 | 10094 |\n| 41976 | 41976 |\n|    NA | 43735 |\n|    NA | 10065 |\n|    NA | 44228 |\n|    NA | 10124 |\n|    NA | 10111 |\n|    NA | 10044 |\n|    NA | 41795 |\n|    NA | 10117 |\n|    NA | 10038 |\n\n",
      "text/latex": "A tibble: 15 × 2\n\\begin{tabular}{ll}\n subject\\_id\\_sepsis & subject\\_id\\_vanco\\\\\n <dbl> & <dbl>\\\\\n\\hline\n\t 10006 & 10006\\\\\n\t 10036 & 10036\\\\\n\t 10056 & 10056\\\\\n\t 10088 & 10088\\\\\n\t 10094 & 10094\\\\\n\t 41976 & 41976\\\\\n\t    NA & 43735\\\\\n\t    NA & 10065\\\\\n\t    NA & 44228\\\\\n\t    NA & 10124\\\\\n\t    NA & 10111\\\\\n\t    NA & 10044\\\\\n\t    NA & 41795\\\\\n\t    NA & 10117\\\\\n\t    NA & 10038\\\\\n\\end{tabular}\n",
      "text/plain": "   subject_id_sepsis subject_id_vanco\n1  10006             10006           \n2  10036             10036           \n3  10056             10056           \n4  10088             10088           \n5  10094             10094           \n6  41976             41976           \n7     NA             43735           \n8     NA             10065           \n9     NA             44228           \n10    NA             10124           \n11    NA             10111           \n12    NA             10044           \n13    NA             41795           \n14    NA             10117           \n15    NA             10038           "
     },
     "metadata": {},
     "output_type": "display_data"
    }
   ],
   "source": [
    "head(demo.sepsis %>% \n",
    "     right_join(demo.vancomycin, by = \"subject_id\", keep=TRUE, suffix = c(\"_sepsis\", \"_vanco\")),\n",
    "15)"
   ]
  },
  {
   "cell_type": "markdown",
   "id": "neither-grenada",
   "metadata": {},
   "source": [
    "## Tatsächliche Hauptdiagnosen für die Patient:innen mit Vancomycingabe ohne Sepsis ermitteln"
   ]
  },
  {
   "cell_type": "code",
   "execution_count": 16,
   "id": "reported-sussex",
   "metadata": {
    "ExecuteTime": {
     "end_time": "2023-06-06T16:15:27.673579100Z",
     "start_time": "2023-06-06T16:15:27.570790900Z"
    }
   },
   "outputs": [
    {
     "data": {
      "text/html": "<table class=\"dataframe\">\n<caption>A grouped_df: 20 × 2</caption>\n<thead>\n\t<tr><th scope=col>diagnosis</th><th scope=col>n</th></tr>\n\t<tr><th scope=col>&lt;chr&gt;</th><th scope=col>&lt;int&gt;</th></tr>\n</thead>\n<tbody>\n\t<tr><td>FEVER                                                  </td><td>3</td></tr>\n\t<tr><td>ASTHMA;CHRONIC OBST PULM DISEASE                       </td><td>2</td></tr>\n\t<tr><td>CONGESTIVE HEART FAILURE                               </td><td>2</td></tr>\n\t<tr><td>FAILURE TO THRIVE                                      </td><td>2</td></tr>\n\t<tr><td>GASTROINTESTINAL BLEED                                 </td><td>2</td></tr>\n\t<tr><td>HYPOTENSION                                            </td><td>2</td></tr>\n\t<tr><td>LIVER FAILURE                                          </td><td>2</td></tr>\n\t<tr><td>PNEUMONIA                                              </td><td>2</td></tr>\n\t<tr><td>UPPER GI BLEED                                         </td><td>2</td></tr>\n\t<tr><td>ABDOMINAL PAIN                                         </td><td>1</td></tr>\n\t<tr><td>ACUTE CHOLANGITIS                                      </td><td>1</td></tr>\n\t<tr><td>ACUTE CHOLECYSTITIS                                    </td><td>1</td></tr>\n\t<tr><td>ACUTE PULMONARY EMBOLISM                               </td><td>1</td></tr>\n\t<tr><td>ACUTE RESPIRATORY DISTRESS SYNDROME;ACUTE RENAL FAILURE</td><td>1</td></tr>\n\t<tr><td>AROMEGLEY;BURKITTS LYMPHOMA                            </td><td>1</td></tr>\n\t<tr><td>CELLULITIS                                             </td><td>1</td></tr>\n\t<tr><td>CEREBROVASCULAR ACCIDENT                               </td><td>1</td></tr>\n\t<tr><td>CHEST PAIN/ CATH                                       </td><td>1</td></tr>\n\t<tr><td>CHOLANGITIS                                            </td><td>1</td></tr>\n\t<tr><td>CHOLECYSTITIS                                          </td><td>1</td></tr>\n</tbody>\n</table>\n",
      "text/markdown": "\nA grouped_df: 20 × 2\n\n| diagnosis &lt;chr&gt; | n &lt;int&gt; |\n|---|---|\n| FEVER                                                   | 3 |\n| ASTHMA;CHRONIC OBST PULM DISEASE                        | 2 |\n| CONGESTIVE HEART FAILURE                                | 2 |\n| FAILURE TO THRIVE                                       | 2 |\n| GASTROINTESTINAL BLEED                                  | 2 |\n| HYPOTENSION                                             | 2 |\n| LIVER FAILURE                                           | 2 |\n| PNEUMONIA                                               | 2 |\n| UPPER GI BLEED                                          | 2 |\n| ABDOMINAL PAIN                                          | 1 |\n| ACUTE CHOLANGITIS                                       | 1 |\n| ACUTE CHOLECYSTITIS                                     | 1 |\n| ACUTE PULMONARY EMBOLISM                                | 1 |\n| ACUTE RESPIRATORY DISTRESS SYNDROME;ACUTE RENAL FAILURE | 1 |\n| AROMEGLEY;BURKITTS LYMPHOMA                             | 1 |\n| CELLULITIS                                              | 1 |\n| CEREBROVASCULAR ACCIDENT                                | 1 |\n| CHEST PAIN/ CATH                                        | 1 |\n| CHOLANGITIS                                             | 1 |\n| CHOLECYSTITIS                                           | 1 |\n\n",
      "text/latex": "A grouped\\_df: 20 × 2\n\\begin{tabular}{ll}\n diagnosis & n\\\\\n <chr> & <int>\\\\\n\\hline\n\t FEVER                                                   & 3\\\\\n\t ASTHMA;CHRONIC OBST PULM DISEASE                        & 2\\\\\n\t CONGESTIVE HEART FAILURE                                & 2\\\\\n\t FAILURE TO THRIVE                                       & 2\\\\\n\t GASTROINTESTINAL BLEED                                  & 2\\\\\n\t HYPOTENSION                                             & 2\\\\\n\t LIVER FAILURE                                           & 2\\\\\n\t PNEUMONIA                                               & 2\\\\\n\t UPPER GI BLEED                                          & 2\\\\\n\t ABDOMINAL PAIN                                          & 1\\\\\n\t ACUTE CHOLANGITIS                                       & 1\\\\\n\t ACUTE CHOLECYSTITIS                                     & 1\\\\\n\t ACUTE PULMONARY EMBOLISM                                & 1\\\\\n\t ACUTE RESPIRATORY DISTRESS SYNDROME;ACUTE RENAL FAILURE & 1\\\\\n\t AROMEGLEY;BURKITTS LYMPHOMA                             & 1\\\\\n\t CELLULITIS                                              & 1\\\\\n\t CEREBROVASCULAR ACCIDENT                                & 1\\\\\n\t CHEST PAIN/ CATH                                        & 1\\\\\n\t CHOLANGITIS                                             & 1\\\\\n\t CHOLECYSTITIS                                           & 1\\\\\n\\end{tabular}\n",
      "text/plain": "   diagnosis                                               n\n1  FEVER                                                   3\n2  ASTHMA;CHRONIC OBST PULM DISEASE                        2\n3  CONGESTIVE HEART FAILURE                                2\n4  FAILURE TO THRIVE                                       2\n5  GASTROINTESTINAL BLEED                                  2\n6  HYPOTENSION                                             2\n7  LIVER FAILURE                                           2\n8  PNEUMONIA                                               2\n9  UPPER GI BLEED                                          2\n10 ABDOMINAL PAIN                                          1\n11 ACUTE CHOLANGITIS                                       1\n12 ACUTE CHOLECYSTITIS                                     1\n13 ACUTE PULMONARY EMBOLISM                                1\n14 ACUTE RESPIRATORY DISTRESS SYNDROME;ACUTE RENAL FAILURE 1\n15 AROMEGLEY;BURKITTS LYMPHOMA                             1\n16 CELLULITIS                                              1\n17 CEREBROVASCULAR ACCIDENT                                1\n18 CHEST PAIN/ CATH                                        1\n19 CHOLANGITIS                                             1\n20 CHOLECYSTITIS                                           1"
     },
     "metadata": {},
     "output_type": "display_data"
    }
   ],
   "source": [
    "head(demo.vancomycin %>% \n",
    "     inner_join(mimic.admissions.raw, by = \"subject_id\") %>% \n",
    "     left_join(demo.sepsis, by = \"subject_id\", keep=TRUE, suffix=c(\"\", \"_sepsis\")) %>% \n",
    "     filter(is.na(subject_id_sepsis)) %>% \n",
    "     group_by(diagnosis) %>% \n",
    "     summarize(n = n(), .groups=\"keep\") %>% \n",
    "     arrange(desc(n)) \n",
    ", 20)"
   ]
  }
 ],
 "metadata": {
  "kernelspec": {
   "display_name": "R",
   "language": "R",
   "name": "ir"
  },
  "language_info": {
   "codemirror_mode": "r",
   "file_extension": ".r",
   "mimetype": "text/x-r-source",
   "name": "R",
   "pygments_lexer": "r",
   "version": "4.0.5"
  }
 },
 "nbformat": 4,
 "nbformat_minor": 5
}
