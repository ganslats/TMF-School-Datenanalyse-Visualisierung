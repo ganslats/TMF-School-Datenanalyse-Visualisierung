{
 "cells": [
  {
   "cell_type": "markdown",
   "id": "abroad-institute",
   "metadata": {},
   "source": [
    "# Block 7 Übung 5: Exploration von Messdaten gegenüber Diagnosen"
   ]
  },
  {
   "cell_type": "markdown",
   "id": "streaming-johnston",
   "metadata": {},
   "source": [
    "## Bibliotheken & Konfiguration"
   ]
  },
  {
   "cell_type": "code",
   "execution_count": null,
   "id": "refined-calendar",
   "metadata": {},
   "outputs": [],
   "source": [
    "packages <- c(\"readr\", \"dplyr\", \"tidyr\", \"icd.data\", \"ggplot2\", \"stringr\")\n",
    "install.packages(setdiff(packages, rownames(installed.packages())))\n",
    "lapply(packages, require, character.only = TRUE)\n",
    "\n",
    "base_url <- \"https://raw.githubusercontent.com/ganslats/TMF-School-2022-Block-4/master/Rohdaten/\""
   ]
  },
  {
   "cell_type": "markdown",
   "id": "sorted-wedding",
   "metadata": {},
   "source": [
    "## MIMIC III-Basisdaten laden"
   ]
  },
  {
   "cell_type": "code",
   "execution_count": null,
   "id": "excellent-frank",
   "metadata": {},
   "outputs": [],
   "source": [
    "# Patientenstammdaten laden\n",
    "mimic.patients.raw <- read_csv(paste(base_url, \"mimic-iii-demo/PATIENTS.csv\", sep=\"\"),\n",
    "                               col_types = cols(row_id = col_integer(), subject_id = col_integer(), gender = col_character(), dob = col_datetime(format = \"\"), dod = col_datetime(format = \"\"), dod_hosp = col_datetime(format = \"\"), dod_ssn = col_datetime(format = \"\"), expire_flag = col_double()))\n",
    "\n",
    "# Behandlungsfälle laden\n",
    "mimic.admissions.raw <- read_csv(paste(base_url, \"mimic-iii-demo/ADMISSIONS.csv\", sep=\"\"),\n",
    "                                 col_types = cols(  row_id = col_integer(), subject_id = col_integer(), hadm_id = col_integer(), admittime = col_datetime(format = \"\"), dischtime = col_datetime(format = \"\"), deathtime = col_datetime(format = \"\"), admission_type = col_character(), admission_location = col_character(), discharge_location = col_character(), insurance = col_character(), language = col_character(), religion = col_character(), marital_status = col_character(), ethnicity = col_character(), edregtime = col_datetime(format = \"\"), edouttime = col_datetime(format = \"\"), diagnosis = col_character(), hospital_expire_flag = col_double(), has_chartevents_data = col_double()))\n",
    "\n",
    "# Intensivaufenthalte laden\n",
    "mimic.icustays.raw <- read_csv(paste(base_url, \"mimic-iii-demo/ICUSTAYS.csv\", sep=\"\"),\n",
    "                               col_types = cols(row_id = col_integer(), subject_id = col_integer(), hadm_id = col_integer(), icustay_id = col_integer(), dbsource = col_character(), first_careunit = col_character(), last_careunit = col_character(), first_wardid = col_double(), last_wardid = col_double(), intime = col_datetime(format = \"\"), outtime = col_datetime(format = \"\"), los = col_double()))\n"
   ]
  },
  {
   "cell_type": "markdown",
   "id": "gothic-cookbook",
   "metadata": {},
   "source": [
    "## MIMIC III-Diagnosen laden & Bezeichner ergänzen"
   ]
  },
  {
   "cell_type": "code",
   "execution_count": null,
   "id": "front-formula",
   "metadata": {},
   "outputs": [],
   "source": [
    "# Diagnosen laden\n",
    "mimic.diagnoses.raw <- read_csv(paste(base_url, \"mimic-iii-demo/DIAGNOSES_ICD.csv\", sep=\"\"),\n",
    "                                col_types = cols(row_id = col_integer(), subject_id = col_integer(), hadm_id = col_integer(), seq_num = col_integer(), icd9_code = col_character()))\n",
    "\n",
    "# Diagnosebezeichner laden\n",
    "mimic.d_icd_diagnoses.raw <- read_csv(paste(base_url, \"mimic-iii-demo/D_ICD_DIAGNOSES.csv\", sep=\"\"),\n",
    "                                      col_types = cols(row_id = col_integer(), icd9_code = col_character(), short_title = col_character(), long_title = col_character()))\n",
    "\n",
    "# Diagnosebezeichner hinzufügen\n",
    "mimic.diagnoses.annotated <- mimic.diagnoses.raw %>% inner_join(mimic.d_icd_diagnoses.raw %>% select(icd9_code, short_title, long_title), by = \"icd9_code\")"
   ]
  },
  {
   "cell_type": "markdown",
   "id": "ignored-amateur",
   "metadata": {},
   "source": [
    "## MIMIC III-Labordaten laden & Bezeichner ergänzen"
   ]
  },
  {
   "cell_type": "code",
   "execution_count": null,
   "id": "waiting-heritage",
   "metadata": {},
   "outputs": [],
   "source": [
    "# Laborbefunde laden\n",
    "mimic.labevents.raw <- read_csv(paste(base_url, \"mimic-iii-demo/LABEVENTS.csv\", sep=\"\"),\n",
    "                                col_types = cols(row_id = col_integer(), subject_id = col_integer(), hadm_id = col_integer(), itemid = col_integer(), charttime = col_datetime(format = \"\"), value = col_character(), valuenum = col_double(), valueuom = col_character(), flag = col_character()))\n",
    "\n",
    "# Bezeichner laden\n",
    "mimic.d_labitems.raw <- read_csv(paste(base_url, \"mimic-iii-demo/D_LABITEMS.csv\", sep=\"\"),\n",
    "                                 col_types = cols(row_id = col_integer(), itemid = col_integer(), label = col_character(), fluid = col_character(), category = col_character(), loinc_code = col_character()))\n",
    "\n",
    "# Bezeichner hinzufügen\n",
    "mimic.labevents.annotated <- mimic.labevents.raw %>% \n",
    "  inner_join(mimic.d_labitems.raw %>% select(itemid, label, fluid, category, loinc_code), by = \"itemid\")"
   ]
  },
  {
   "cell_type": "markdown",
   "id": "funny-disposal",
   "metadata": {},
   "source": [
    "## ICD9-Diagnosekatalog (inkl. Kapitel-Hierarchie) laden"
   ]
  },
  {
   "cell_type": "code",
   "execution_count": null,
   "id": "exciting-shopping",
   "metadata": {},
   "outputs": [],
   "source": [
    "# ICD9-Hierarchie aus Package in ein Tibble überführen\n",
    "icd9.hierarchy.raw <- icd9cm_hierarchy\n",
    "\n",
    "# Datentypanpassung der \"code\"-Spalte, um einen Join mit den MIMIC-Diagnosen zu ermöglichen\n",
    "icd9.hierarchy.raw$icd9_code <- as.character(icd9.hierarchy.raw$code)"
   ]
  },
  {
   "cell_type": "markdown",
   "id": "extensive-worker",
   "metadata": {},
   "source": [
    "## Hauptdiagnosen auf ICD9-Kapitel abbilden und den Labordaten zuordnen\n",
    "\n",
    "Hinweis: Laut Dokumentation wird die Hauptdiagnose in der Regel \"als erstes\" angegeben und ist über die Spalte seq_num == 1 selektierbar"
   ]
  },
  {
   "cell_type": "code",
   "execution_count": null,
   "id": "conditional-serial",
   "metadata": {},
   "outputs": [],
   "source": [
    "diagnoses_labs <- mimic.diagnoses.raw %>% \n",
    "    # Hauptdiagnose filtern\n",
    "    filter(seq_num == 1) %>%\n",
    "    # nur Spalten Fallnummer und ICD9-Code selektieren\n",
    "    select(hadm_id, icd9_code) %>%\n",
    "    # ICD9-Kapitel aus Hierarchie ergänzen\n",
    "    inner_join(icd9.hierarchy.raw %>% select(icd9_code, chapter), by = \"icd9_code\") %>%\n",
    "    # Mehrfachdiagnosen entfernen\n",
    "    distinct() %>%\n",
    "    # Relevante Spalten der Laborbefunde hinzufügen\n",
    "    inner_join(mimic.labevents.annotated %>% select(hadm_id, loinc_code, label, fluid, valuenum, valueuom), by = \"hadm_id\")\n",
    "head(diagnoses_labs)"
   ]
  },
  {
   "cell_type": "markdown",
   "id": "every-commons",
   "metadata": {},
   "source": [
    "## Laboranalyte für Kreatinin heraussuchen"
   ]
  },
  {
   "cell_type": "code",
   "execution_count": null,
   "id": "sudden-nursery",
   "metadata": {},
   "outputs": [],
   "source": [
    "# Verfügbare Analyte & Befunde zum Kreatinin anzeigen\n",
    "mimic.labevents.annotated %>%\n",
    "    filter(grepl(\"Creatinine\", label)) %>%\n",
    "    group_by(label, fluid, loinc_code) %>%\n",
    "    summarize(n = n(), .groups = \"keep\")"
   ]
  },
  {
   "cell_type": "markdown",
   "id": "eligible-embassy",
   "metadata": {},
   "source": [
    "## Kreatininbefunde gegenüber den ICD9-Kapiteln darstellen\n",
    "\n",
    "Hinweise:\n",
    "* es gibt einen Ausreißer, dessen Befund eher in den Wertebereich von Kreatininmessungen im Urin fällt (Fehldokumentation?); dieser wird durch ein entsprechendes Filterkriterium im data-segment der `ggplot()`-Funktion entfernt. **Wichtig**: nicht vergessen, dieses Filterkriterium bei der Wiederverwendung des Codefragments für andere Analyte herauszunehmen oder ggf. anzupassen.\n",
    "* mit str `str_wrap()`-Funktion aus dem Package `stringr`können lange Bezeichner automatisch umgebrochen werden, um die Darstellung lesbarer zu machen b zw. den nötigen Platz für die Achsenbeschriftung/Legende zu reduzieren"
   ]
  },
  {
   "cell_type": "code",
   "execution_count": null,
   "id": "subtle-swimming",
   "metadata": {},
   "outputs": [],
   "source": [
    "options(repr.plot.width = 10, repr.plot.height = 5)\n",
    "ggplot(data = diagnoses_labs %>% filter(label == \"Creatinine\", \n",
    "                                        valuenum < 100),  # Ausfilterung eines einzelnen Ausreißers\n",
    "       aes(x = str_wrap(chapter, 30), y = valuenum, fill = str_wrap(chapter, 30))) +\n",
    "  geom_boxplot() +\n",
    "  theme(axis.text.x = element_text(angle = 45, hjust = 1, size = 8),\n",
    "        legend.text = element_text(size = 8))"
   ]
  },
  {
   "cell_type": "markdown",
   "id": "automatic-nebraska",
   "metadata": {},
   "source": [
    "## Aufgabe: Finden & visualisieren Sie Laborbefunde, bei denen Sie Unterschiede zwischen den verschiedenen ICD9-Diagnosekapiteln erwarten würden!\n",
    "\n",
    "Hier können Sie das Wissen aus dem Abschnitt 4, Demo 2 (Daten abfragen mit Tidyverse) und dem Abschnitt 6, Demo 1 (Daten visualisieren, Diagramme) anwenden.\n",
    "* zugehörige Notebooks: [teil-4-demo-02-abfragen-tidyverse.ipynb](https://github.com/ganslats/TMF-School-2021-Block-7/blob/main/Notebooks/teil-4-demo-02-abfragen-tidyverse.ipynb), [teil-6-demo-01-visualisieren-diagramme.ipynb](https://github.com/ganslats/TMF-School-2021-Block-7/blob/main/Notebooks/teil-6-demo-01-visualisieren-diagramme.ipynb)\n",
    "* nutzen Sie gerne auch das [ggplot2-Cheat Sheet von RStudio](https://github.com/rstudio/cheatsheets/raw/master/data-visualization-2.1.pdf)\n",
    "\n",
    "Hinweise:\n",
    "* aufgrund der niedrigen Fallzahl & des komplexen Patientenguts (Intensivstation), gerade auch durch mehrere parallel bestehende Diagnosen, werden die Ergebnisse häufig eher heterogen ausfallen - es geht hier mehr um die grundsätzliche Vorgehensweise\n",
    "* die Auswertung kann zusätzlich auch dadurch verzerrt sein, dass Laboruntersuchungen erkrankungs- & symptombezogen angefordert werden und daher ggf. bestimmte Analyte bei Patient:innen in anderen ICD9-Diagnosekapiteln nicht oder nur selten bestimmt werden\n",
    "* es sollten deshalb Analyte ausgewählt werden, die häufig angefordert wurden"
   ]
  },
  {
   "cell_type": "code",
   "execution_count": null,
   "id": "jewish-revolution",
   "metadata": {},
   "outputs": [],
   "source": []
  }
 ],
 "metadata": {
  "kernelspec": {
   "display_name": "R",
   "language": "R",
   "name": "ir"
  },
  "language_info": {
   "codemirror_mode": "r",
   "file_extension": ".r",
   "mimetype": "text/x-r-source",
   "name": "R",
   "pygments_lexer": "r",
   "version": "4.0.5"
  }
 },
 "nbformat": 4,
 "nbformat_minor": 5
}
