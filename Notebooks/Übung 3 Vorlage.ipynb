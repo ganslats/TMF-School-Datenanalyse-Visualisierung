{
 "cells": [
  {
   "cell_type": "markdown",
   "id": "abroad-institute",
   "metadata": {},
   "source": [
    "# Übung 3: Selektion von Patientenkohorten nach Diagnose"
   ]
  },
  {
   "cell_type": "markdown",
   "id": "streaming-johnston",
   "metadata": {},
   "source": [
    "## Bibliotheken & Konfiguration"
   ]
  },
  {
   "cell_type": "code",
   "execution_count": null,
   "id": "refined-calendar",
   "metadata": {},
   "outputs": [],
   "source": [
    "packages <- c(\"readr\", \"dplyr\", \"lubridate\", \"tidyr\", \"ggplot2\")\n",
    "install.packages(setdiff(packages, rownames(installed.packages())))\n",
    "lapply(packages, require, character.only = TRUE)\n",
    "\n",
    "base_url <- \"https://raw.githubusercontent.com/ganslats/TMF-School-Datenanalyse-Visualisierung/master/Rohdaten/\""
   ]
  },
  {
   "cell_type": "markdown",
   "id": "sorted-wedding",
   "metadata": {},
   "source": [
    "## Vorbereitende Schritte\n",
    "\n",
    "#### MIMIC III-Daten laden\n",
    "\n",
    "Hinweis: das Laden der Daten (vor allem Chartevents-Tabelle) kann etwas dauern"
   ]
  },
  {
   "cell_type": "code",
   "execution_count": null,
   "id": "excellent-frank",
   "metadata": {},
   "outputs": [],
   "source": [
    "# Patientenstammdaten laden\n",
    "mimic.patients.raw <- read_csv(paste(base_url, \"mimic-iii-demo/PATIENTS.csv\", sep=\"\"),\n",
    "                               col_types = cols(row_id = col_integer(), subject_id = col_integer(), gender = col_character(), dob = col_datetime(format = \"\"), dod = col_datetime(format = \"\"), dod_hosp = col_datetime(format = \"\"), dod_ssn = col_datetime(format = \"\"), expire_flag = col_double()))\n",
    "\n",
    "# Behandlungsfälle laden\n",
    "mimic.admissions.raw <- read_csv(paste(base_url, \"mimic-iii-demo/ADMISSIONS.csv\", sep=\"\"),\n",
    "                                 col_types = cols(  row_id = col_integer(), subject_id = col_integer(), hadm_id = col_integer(), admittime = col_datetime(format = \"\"), dischtime = col_datetime(format = \"\"), deathtime = col_datetime(format = \"\"), admission_type = col_character(), admission_location = col_character(), discharge_location = col_character(), insurance = col_character(), language = col_character(), religion = col_character(), marital_status = col_character(), ethnicity = col_character(), edregtime = col_datetime(format = \"\"), edouttime = col_datetime(format = \"\"), diagnosis = col_character(), hospital_expire_flag = col_double(), has_chartevents_data = col_double()))\n",
    "\n",
    "# Intensivaufenthalte laden\n",
    "mimic.icustays.raw <- read_csv(paste(base_url, \"mimic-iii-demo/ICUSTAYS.csv\", sep=\"\"),\n",
    "                               col_types = cols(row_id = col_integer(), subject_id = col_integer(), hadm_id = col_integer(), icustay_id = col_integer(), dbsource = col_character(), first_careunit = col_character(), last_careunit = col_character(), first_wardid = col_double(), last_wardid = col_double(), intime = col_datetime(format = \"\"), outtime = col_datetime(format = \"\"), los = col_double()))\n",
    "\n",
    "# Diagnosen laden\n",
    "mimic.diagnoses.raw <- read_csv(paste(base_url, \"mimic-iii-demo/DIAGNOSES_ICD.csv\", sep=\"\"),\n",
    "                                col_types = cols(row_id = col_integer(), subject_id = col_integer(), hadm_id = col_integer(), seq_num = col_integer(), icd9_code = col_character()))\n",
    "\n",
    "# Diagnosebezeichner laden\n",
    "mimic.d_icd_diagnoses.raw <- read_csv(paste(base_url, \"mimic-iii-demo/D_ICD_DIAGNOSES.csv\", sep=\"\"),\n",
    "                                      col_types = cols(row_id = col_integer(), icd9_code = col_character(), short_title = col_character(), long_title = col_character()))\n",
    "\n",
    "# Diagnosebezeichner hinzufügen\n",
    "mimic.diagnoses.annotated <- mimic.diagnoses.raw %>% inner_join(mimic.d_icd_diagnoses.raw %>% select(icd9_code, short_title, long_title), by = \"icd9_code\")\n",
    "\n",
    "# Laborbefunde laden\n",
    "mimic.labevents.raw <- read_csv(paste(base_url, \"mimic-iii-demo/LABEVENTS.csv\", sep=\"\"),\n",
    "                                col_types = cols(row_id = col_integer(), subject_id = col_integer(), hadm_id = col_integer(), itemid = col_integer(), charttime = col_datetime(format = \"\"), value = col_character(), valuenum = col_double(), valueuom = col_character(), flag = col_character()))\n",
    "\n",
    "# Bezeichner laden\n",
    "mimic.d_labitems.raw <- read_csv(paste(base_url, \"mimic-iii-demo/D_LABITEMS.csv\", sep=\"\"),\n",
    "                                 col_types = cols(row_id = col_integer(), itemid = col_integer(), label = col_character(), fluid = col_character(), category = col_character(), loinc_code = col_character()))\n",
    "\n",
    "# Bezeichner hinzufügen\n",
    "mimic.labevents.annotated <- mimic.labevents.raw %>% \n",
    "    inner_join(mimic.d_labitems.raw %>% select(itemid, label, fluid, category, loinc_code), by = \"itemid\") %>%\n",
    "    select(hadm_id, category, fluid, itemid, label, valuenum, valueuom) %>%\n",
    "    filter(!is.na(hadm_id), !is.na(valuenum))"
   ]
  },
  {
   "cell_type": "markdown",
   "id": "7db9915b-5965-4af3-be58-1fc511bf0ae9",
   "metadata": {
    "tags": []
   },
   "source": [
    "### Kohorten kennzeichnen"
   ]
  },
  {
   "cell_type": "code",
   "execution_count": null,
   "id": "36456e6c-e56f-4709-a52d-2167d5f11ed9",
   "metadata": {
    "tags": []
   },
   "outputs": [],
   "source": [
    "# AMI-Kohorte (Akute Myocardial infarction)\n",
    "cohort.ami <- mimic.diagnoses.annotated %>% \n",
    "    filter(grepl(\"Acute myocardial infarction\", long_title)) %>%\n",
    "    select(hadm_id) %>%\n",
    "    distinct() %>%\n",
    "    mutate(cohort_ami_flag = TRUE)\n",
    "\n",
    "# AKF-Kohorte (Acute Kidney Failure)\n",
    "cohort.akf <- mimic.diagnoses.annotated %>% \n",
    "    filter(grepl(\"Acute kidney failure\", long_title)) %>%\n",
    "    select(hadm_id) %>%\n",
    "    distinct() %>%\n",
    "    mutate(cohort_akf_flag = TRUE)\n",
    "\n",
    "# Falltabelle (admissions) um die Kohorten-Flags ergänzen\n",
    "cohort.all <- mimic.admissions.raw %>%\n",
    "    left_join(cohort.ami, by = \"hadm_id\") %>%  # AMI-Kohorte hinzufügen\n",
    "    left_join(cohort.akf, by = \"hadm_id\") %>%  # AKF-Kohorte hinzufügen\n",
    "    replace_na(list(cohort_ami_flag = FALSE,   # \"NA\"-Einträge in den Kohorten-Flags durch FALSE ersetzen\n",
    "                    cohort_aKf_flag = FALSE)) %>%\n",
    "    select(hadm_id, diagnosis, cohort_ami_flag, cohort_akf_flag)"
   ]
  },
  {
   "cell_type": "markdown",
   "id": "1e1b348c-d17b-482d-82b1-5a4292511c62",
   "metadata": {},
   "source": [
    "## Überblick der geladenen Daten\n",
    "\n",
    "Wir haben zunächst die Behandlungsfälle und ihre Diagnosen geladen. Mit Hilfe der Diagnosen haben wir 2 Kohorten gebildet:\n",
    "* AMI-Kohorte: mit akutem Myokardinfarkt als Hauptdiagnose\n",
    "* AKF-Kohorte: mit auktem Nierenversagen als Hauptdiagnose\n",
    "\n",
    "Die Zuordnung zu einer der beiden (oder keiner) Kohorte wurde als je eine Spalte in der Falltabelle ergänzt und diese anschließend auf die tatsächlich benötigten Spalten reduziert:\n",
    "* hadm_id: Fallnummer\n",
    "* diagnosis: Hauptdiagnose\n",
    "* cohort_ami_flag: Flag, ob der Fall in der AMI-Kohorte ist (dann = 1)\n",
    "* cohort_akf_flag: Flag, ob der Fall in der AKF-Kohorte ist (dann = 1)"
   ]
  },
  {
   "cell_type": "code",
   "execution_count": null,
   "id": "0f23737c-f96a-401d-968b-567ef4d27e1a",
   "metadata": {
    "tags": []
   },
   "outputs": [],
   "source": [
    "head(cohort.all)"
   ]
  },
  {
   "cell_type": "markdown",
   "id": "d85aa4fd-2c08-47ba-9aea-a79982caf684",
   "metadata": {},
   "source": [
    "Außerdem wurden Laborwerte geladen und um Bezeichnet ergänzt, die hier auf ihren Bezug zu den beiden Kohorten untersucht werden sollen. Die resultierende Tabelle hat folgende Spalten:\n",
    "* hadm_id: Fallnummer\n",
    "* category: Kategorie des Laborwerts\n",
    "* fluid: Material, aus dem der Laborwert bestimmt wurde\n",
    "* itemid: ID für den bestimmten Laboranalyt\n",
    "* label: Name des bestimmten Laboranalyts\n",
    "* valuenum: Ausprägung des Ereignisses als Zahl (z.B. die Temperatur)\n",
    "* valueuom: Einheit der Ausprägung (Unit of measure, z.B. mmol/l)"
   ]
  },
  {
   "cell_type": "code",
   "execution_count": null,
   "id": "f040a256-9c28-415c-a279-90a406bdf488",
   "metadata": {
    "tags": []
   },
   "outputs": [],
   "source": [
    "head(mimic.labevents.annotated)"
   ]
  },
  {
   "cell_type": "markdown",
   "id": "f8caf46c-2ef3-4fe9-93ca-f5923b72eb94",
   "metadata": {
    "tags": []
   },
   "source": [
    "# Demo\n",
    "\n",
    "Im folgenden wollen wir für die AMI-Kohorte prüfen, ob sich ein für den Herzinfarkt typischer Laborbefund (Troponin) bei den Patienten innerhalb und außerhalb der Kohorte unterscheidet.\n",
    "\n",
    "Hierzu müssen wir als erstes herausfinden, ob unser Datensatz Troponinwerte enthält, und aus welchem Material sie bestimmt wurden. Wir können dazu genau so wie in Übung 1 vorgehen, und die Labels der Befunde durchsuchen."
   ]
  },
  {
   "cell_type": "code",
   "execution_count": null,
   "id": "43e884a3-9597-4c6d-8ab6-03c4804bcefd",
   "metadata": {
    "tags": []
   },
   "outputs": [],
   "source": [
    "# Troponin-Befunde suchen & mit dem Probenmaterial und Anzahl anzeigen\n",
    "mimic.labevents.annotated %>%\n",
    "    filter(grepl(\"troponin\", tolower(label))) %>%\n",
    "    group_by(itemid, label, fluid) %>%\n",
    "    summarize(n = n(), .groups = \"keep\")"
   ]
  },
  {
   "cell_type": "markdown",
   "id": "0a7bc5a3-e716-4314-9f2b-f003eed89ef2",
   "metadata": {},
   "source": [
    "Wir sehen, dass es genau 2 Troponin-Analyte gibt, die beide aus Blut bestimmt werden. Dies entspricht der Erwartung, so dass wir beide Analyte nutzen können, aber im Diagramm getrennt auswerten sollten.\n",
    "\n",
    "Als nächstes führen wir die Troponin-Befunde mit dem AMI-Kohortenstatus in einer neuen Tabelle zusammen.\n",
    "Hierzu verwenden wir die `inner_join()`-Funktion, um die beiden Tabellen über die gemeinsame Spalte `hadm_id` zu verbinden."
   ]
  },
  {
   "cell_type": "code",
   "execution_count": null,
   "id": "c485cc3d-d328-4617-b536-6646ea90c1ec",
   "metadata": {
    "tags": []
   },
   "outputs": [],
   "source": [
    "# Labordaten auf Troponin filtern & AMI-Kohortenflag ergänzen\n",
    "troponin <- mimic.labevents.annotated %>%\n",
    "    filter(grepl(\"troponin\", tolower(label))) %>%\n",
    "    inner_join(cohort.all %>% select(hadm_id, cohort_ami_flag), by = \"hadm_id\")\n",
    "head(troponin)"
   ]
  },
  {
   "cell_type": "markdown",
   "id": "2355a619-ad6d-47ef-88df-e0408bda4618",
   "metadata": {},
   "source": [
    "Die so generierte Tabelle können wir mit ggplot als Boxplot visualisieren.\n",
    "\n",
    "Wir verwenden hierzu wieder die `ggplot()`-Funktion und geben als Datensatz die Troponin-Tabelle an. In den Aesthetics setzen wir das Label des Laboranalyts auf die X-Achse, die Ausprägung auf die Y-Achse, und den AMI-Kohortenstatus auf die Füllfarbe der Box. Statt der Scatterplot-Darstellung aus Übung 2 verwenden wir hier die Funktion `geom_boxplot()`, um die Rohdaten als Boxplot darzustellen."
   ]
  },
  {
   "cell_type": "code",
   "execution_count": null,
   "id": "fc6e8ec6-302e-4501-88f7-376e991c5e17",
   "metadata": {
    "tags": []
   },
   "outputs": [],
   "source": [
    "# Größenverhältnis des Diagramms festlegen\n",
    "options(repr.plot.width = 7, repr.plot.height = 5)\n",
    "\n",
    "# Boxplot der Troponin-Auspräungen gegen den AMI-Kohortenstatus ausgeben\n",
    "ggplot(data = troponin, aes(x = label, y = valuenum, fill = cohort_ami_flag)) +\n",
    "    geom_boxplot()"
   ]
  },
  {
   "cell_type": "markdown",
   "id": "9800cfda-4246-469e-992c-00116155babd",
   "metadata": {},
   "source": [
    "Wir sehen, dass Troponin I nur bei Patienten außerhalb der AMI-Kohorte bestimmt wurde. Bei Troponin T können wir einen deutlichen Unterschied zwischen Patienten außerhalb der Kohorte (niedriger Wert, wenn auch mit einigen Outliern) und innerhalb der Kohorte (höherer Wert, keine Outlier) erkennen."
   ]
  },
  {
   "cell_type": "markdown",
   "id": "5b24624f-c431-47d0-a99a-3a090cf7749a",
   "metadata": {},
   "source": [
    "# Aufgaben\n",
    "\n",
    "Ab hier sollen Sie sich selbst in den Daten der Kohorten- & Laborbefundtabelle umschauen und dazu für konkrete Fragestellungen die im obigen Beispiel gezeigten Visualisierungen in kleinen Schritten anpassen.\n",
    "\n",
    "### Aufgabe 1: Kreatininwerte in der AKF-Kohorte auswerten\n",
    "\n",
    "Beim Nierenversagen ist in der Regel der Kreatininwert erhöht. Dies wollen wir anhand unserer Kohorten- & Laborbefunddaten nachvollziehen. Zu beachten ist allerdings, dass Kreatinin anders als Troponin nicht nur aus dem Blut, sondern auch anderen Probenmaterialien bestimmt werden können (z.B. Urin).\n",
    "\n",
    "Suchen Sie als erstes heraus, welche Kreatinin-Analyte (englisch: Creatinine) im Datensatz vorhanden sind, und aus welchen Probenmaterialien sie bestimmt wurden. Sie können hierzu die Abfrage für die Recherche des Troponins von oben kopieren und den Suchbegriff anpassen."
   ]
  },
  {
   "cell_type": "code",
   "execution_count": null,
   "id": "45e5cb0b-5a63-4341-8ba6-0fe333757d71",
   "metadata": {
    "tags": []
   },
   "outputs": [],
   "source": [
    "# Kreatinin-Befunde suchen & mit dem Probenmaterial und Anzahl anzeigen\n"
   ]
  },
  {
   "cell_type": "markdown",
   "id": "623dfa41-7120-4f07-b73e-98cb67f2bf8c",
   "metadata": {
    "tags": []
   },
   "source": [
    "Sie sehen, dass es insgesamt 6 Analyte für die Bestimmung von Kreatinin gibt. \n",
    "Nur ein Analyt (das am häufigsten bestimmte) wird aus Blut bestimmt. \n",
    "\n",
    "Als nächstes müssen wir die richtigen (aus Blut bestimmten) Kreatininbefunde mit dem AKF-Kohortenstatus zusammenführen.\n",
    "Sie können hierzu die Abfrage für die Zusammenführung der Troponin- & AMI-Daten kopieren und anpassen. Nötige Änderungen:\n",
    "* Filterung auf Kreatinin und Probenmaterial Blut anpassen\n",
    "* Zuordnung nicht des AMI, sondern des AKF-Kohortenflags"
   ]
  },
  {
   "cell_type": "code",
   "execution_count": null,
   "id": "836dce1c-d027-4080-af07-8de1e0045caf",
   "metadata": {
    "tags": []
   },
   "outputs": [],
   "source": [
    "# Labordaten auf Kreatinin (im Blut) filtern & AKF-Kohortenflag ergänzen\n"
   ]
  },
  {
   "cell_type": "markdown",
   "id": "2b8f3e69-97ae-4b36-a0d7-565f58d9cfd7",
   "metadata": {},
   "source": [
    "Abschließend visualisieren Sie die Befunddaten als Boxplot. Sie können hierzu das ggplot-Statement vom Troponin kopieren. Nötige Änderungen:\n",
    "* Umstellung des Quelldatensatzes von troponin auf creatinine\n",
    "* Änderung des AMI-Flags auf das AKF-Flag"
   ]
  },
  {
   "cell_type": "code",
   "execution_count": null,
   "id": "d894063a-a2a2-43dd-9310-d3ccf6b3688c",
   "metadata": {
    "tags": []
   },
   "outputs": [],
   "source": [
    "# Größenverhältnis des Diagramms festlegen\n",
    "\n",
    "# Boxplot der Kreatinin-Auspräungen gegen den AKF-Kohortenstatus ausgeben\n"
   ]
  },
  {
   "cell_type": "markdown",
   "id": "7ec7ab53-1cba-4df2-baa8-b6aa120b0bb9",
   "metadata": {},
   "source": [
    "Sie sehen, dass das Diagramm durch einen einzelnen Outlier so stark zusammengestaucht wird, dass es nicht mehr interpretiert werden kann. \n",
    "\n",
    "Um den Outlier zu entfernen, filtern Sie ihn einfach vor der Visualisierung mit einer Filterfunktion heraus (z.B. `filter(valuenum < 100)`."
   ]
  },
  {
   "cell_type": "code",
   "execution_count": null,
   "id": "c222f117-cae3-4ce2-8fda-217b088f568b",
   "metadata": {
    "tags": []
   },
   "outputs": [],
   "source": [
    "# Größenverhältnis des Diagramms festlegen\n",
    "\n",
    "\n",
    "# Boxplot der Kreatinin-Auspräungen gegen den AKF-Kohortenstatus ausgeben\n"
   ]
  },
  {
   "cell_type": "markdown",
   "id": "86925d04-33a9-4cb2-b336-a663312324e9",
   "metadata": {
    "tags": []
   },
   "source": [
    "Nach Entfernung des Outliers ist ein leichter Unterschied zwischen den Patienten innerhalb und außerhalb der AKF-Kohorte zu erkennen."
   ]
  }
 ],
 "metadata": {
  "kernelspec": {
   "display_name": "R",
   "language": "R",
   "name": "ir"
  },
  "language_info": {
   "codemirror_mode": "r",
   "file_extension": ".r",
   "mimetype": "text/x-r-source",
   "name": "R",
   "pygments_lexer": "r",
   "version": "4.2.3"
  }
 },
 "nbformat": 4,
 "nbformat_minor": 5
}
