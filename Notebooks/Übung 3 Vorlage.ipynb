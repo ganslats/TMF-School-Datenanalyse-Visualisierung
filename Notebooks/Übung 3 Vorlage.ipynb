{
 "cells": [
  {
   "cell_type": "markdown",
   "id": "abroad-institute",
   "metadata": {},
   "source": [
    "# Block 7 Übung 3: Selektion von Patientenkohorten nach Diagnose"
   ]
  },
  {
   "cell_type": "markdown",
   "id": "streaming-johnston",
   "metadata": {},
   "source": [
    "## Bibliotheken & Konfiguration"
   ]
  },
  {
   "cell_type": "code",
   "execution_count": null,
   "id": "refined-calendar",
   "metadata": {},
   "outputs": [],
   "source": [
    "packages <- c(\"readr\", \"dplyr\", \"lubridate\", \"ggplot2\")\n",
    "install.packages(setdiff(packages, rownames(installed.packages())))\n",
    "lapply(packages, require, character.only = TRUE)\n",
    "\n",
    "base_url <- \"https://raw.githubusercontent.com/ganslats/TMF-School-2022-Block-4/master/Rohdaten/\""
   ]
  },
  {
   "cell_type": "markdown",
   "id": "sorted-wedding",
   "metadata": {},
   "source": [
    "## MIMIC III-Basisdaten laden"
   ]
  },
  {
   "cell_type": "code",
   "execution_count": null,
   "id": "excellent-frank",
   "metadata": {},
   "outputs": [],
   "source": [
    "# Patientenstammdaten laden\n",
    "mimic.patients.raw <- read_csv(paste(base_url, \"mimic-iii-demo/PATIENTS.csv\", sep=\"\"),\n",
    "                               col_types = cols(row_id = col_integer(), subject_id = col_integer(), gender = col_character(), dob = col_datetime(format = \"\"), dod = col_datetime(format = \"\"), dod_hosp = col_datetime(format = \"\"), dod_ssn = col_datetime(format = \"\"), expire_flag = col_double()))\n",
    "\n",
    "# Behandlungsfälle laden\n",
    "mimic.admissions.raw <- read_csv(paste(base_url, \"mimic-iii-demo/ADMISSIONS.csv\", sep=\"\"),\n",
    "                                 col_types = cols(  row_id = col_integer(), subject_id = col_integer(), hadm_id = col_integer(), admittime = col_datetime(format = \"\"), dischtime = col_datetime(format = \"\"), deathtime = col_datetime(format = \"\"), admission_type = col_character(), admission_location = col_character(), discharge_location = col_character(), insurance = col_character(), language = col_character(), religion = col_character(), marital_status = col_character(), ethnicity = col_character(), edregtime = col_datetime(format = \"\"), edouttime = col_datetime(format = \"\"), diagnosis = col_character(), hospital_expire_flag = col_double(), has_chartevents_data = col_double()))\n",
    "\n",
    "# Intensivaufenthalte laden\n",
    "mimic.icustays.raw <- read_csv(paste(base_url, \"mimic-iii-demo/ICUSTAYS.csv\", sep=\"\"),\n",
    "                               col_types = cols(row_id = col_integer(), subject_id = col_integer(), hadm_id = col_integer(), icustay_id = col_integer(), dbsource = col_character(), first_careunit = col_character(), last_careunit = col_character(), first_wardid = col_double(), last_wardid = col_double(), intime = col_datetime(format = \"\"), outtime = col_datetime(format = \"\"), los = col_double()))\n"
   ]
  },
  {
   "cell_type": "markdown",
   "id": "gothic-cookbook",
   "metadata": {},
   "source": [
    "## MIMIC III-Diagnosen laden"
   ]
  },
  {
   "cell_type": "code",
   "execution_count": null,
   "id": "front-formula",
   "metadata": {},
   "outputs": [],
   "source": [
    "# Diagnosen laden\n",
    "mimic.diagnoses.raw <- read_csv(paste(base_url, \"mimic-iii-demo/DIAGNOSES_ICD.csv\", sep=\"\"),\n",
    "                                col_types = cols(row_id = col_integer(), subject_id = col_integer(), hadm_id = col_integer(), seq_num = col_integer(), icd9_code = col_character()))"
   ]
  },
  {
   "cell_type": "markdown",
   "id": "finnish-density",
   "metadata": {},
   "source": [
    "### Bezeichner ergänzen"
   ]
  },
  {
   "cell_type": "code",
   "execution_count": null,
   "id": "seven-manufacturer",
   "metadata": {},
   "outputs": [],
   "source": [
    "# Diagnosebezeichner laden\n",
    "mimic.d_icd_diagnoses.raw <- read_csv(paste(base_url, \"mimic-iii-demo/D_ICD_DIAGNOSES.csv\", sep=\"\"),\n",
    "                                      col_types = cols(row_id = col_integer(), icd9_code = col_character(), short_title = col_character(), long_title = col_character()))\n",
    "\n",
    "# Diagnosebezeichner hinzufügen\n",
    "mimic.diagnoses.annotated <- mimic.diagnoses.raw %>% inner_join(mimic.d_icd_diagnoses.raw %>% select(icd9_code, short_title, long_title), by = \"icd9_code\")\n",
    "\n",
    "head(mimic.diagnoses.annotated)"
   ]
  },
  {
   "cell_type": "markdown",
   "id": "funny-disposal",
   "metadata": {},
   "source": [
    "## Beispiel: Diagnosekatalog nach Begriff \"Sepsis\" durchsuchen"
   ]
  },
  {
   "cell_type": "code",
   "execution_count": null,
   "id": "breeding-sleeping",
   "metadata": {},
   "outputs": [],
   "source": [
    "mimic.d_icd_diagnoses.raw %>% \n",
    "    filter(grepl(\"Sepsis\", long_title))"
   ]
  },
  {
   "cell_type": "markdown",
   "id": "burning-diesel",
   "metadata": {},
   "source": [
    "## Aufenthalte mit Sepsis herausfiltern"
   ]
  },
  {
   "cell_type": "code",
   "execution_count": null,
   "id": "exciting-shopping",
   "metadata": {},
   "outputs": [],
   "source": [
    "# Kohorte abfragen\n",
    "cohort.sep <- mimic.diagnoses.annotated %>% \n",
    "    filter(grepl(\"Sepsis\", long_title)) %>% # Diagnosen mit (Teil-)Begriff \"Sepsis\" im Langbezeichner filtern\n",
    "    select(hadm_id) %>%                     # für die gefundenen Einträge nur die Fallnummer selektieren\n",
    "    distinct() %>%                          # doppelte Fallnummern zusammenführen\n",
    "    mutate(cohort_sep_flag = TRUE)          # Spalte mit Sepsis-Flag ergänzen\n",
    "\n",
    "# Anzahl der Treffer ausgeben\n",
    "cohort.sep %>% summarize(n = n())\n",
    "\n",
    "# Erste 6 Treffer ausgeben\n",
    "head(cohort.sep)"
   ]
  },
  {
   "cell_type": "markdown",
   "id": "automatic-nebraska",
   "metadata": {},
   "source": [
    "## Aufgabe: Filtern Sie je eine Kohorte mit akutem Herzinfarkt sowie akutem Nierenversagen heraus!\n",
    "\n",
    "Hier können Sie das Wissen aus dem Abschnitt 4, Demo 2 (Daten abfragen mit Tidyverse) anwenden.\n",
    "* zugehöriges Notebook: [teil-4-demo-02-abfragen-tidyverse.ipynb](https://github.com/ganslats/TMF-School-2021-Block-7/blob/main/Notebooks/teil-4-demo-02-abfragen-tidyverse.ipynb)\n",
    "\n",
    "Legen Sie die Kohorte jeweils in einem eigenen Tibble nach dem folgenden Schema ab:\n",
    "* Name des Tibbles: cohort.Kürzel (z.B. `cohort.ami` für acute myocardial infarction, `cohort.acf` für acute kidney failure)\n",
    "* Flag-Spalte für die Erkrankung mit dem gleichen Kürzel (z.B. `cohort_ami_flag`, `cohort_acf_flag`)\n",
    "\n",
    "Sonstige Tipps:\n",
    "* in der `grepl()`-Funktion können Sie neben den reinen Suchbegriffen auch *regular Expressions* verwenden, um z.B. mehrere Schreibweisen eines Wort wahlweise zuzulassen. Einen Überblick zu den in RegExes verwendbaren Matches finden Sie auf Seite des des [RStudio-Cheat Sheets zum stringr-Package](https://evoldyn.gitlab.io/evomics-2018/ref-sheets/R_strings.pdf)\n",
    "* auf [regex101.com](https://regex101.com/) können regular Expressions interaktiv getestet & debugged werden. Bitte denken Sie daran, dass es sich dabei um ein Internetangebot handelt & keine Texte mit personenbezogenen Daten für Tests dort verwendet werden dürfen."
   ]
  },
  {
   "cell_type": "code",
   "execution_count": null,
   "id": "electoral-leather",
   "metadata": {},
   "outputs": [],
   "source": [
    "# Kohorte mit akutem Herzinfarkt (Acute myocardial infarction)\n"
   ]
  },
  {
   "cell_type": "code",
   "execution_count": null,
   "id": "passing-mexican",
   "metadata": {},
   "outputs": [],
   "source": [
    "# Kohorte mit akutem Nierenversagen (Acute kidney failure)\n"
   ]
  },
  {
   "cell_type": "markdown",
   "id": "humanitarian-visibility",
   "metadata": {},
   "source": [
    "## Optionale Ergänzung: Visualisieren Sie die Demographie & Falldaten der Kohorten!"
   ]
  },
  {
   "cell_type": "markdown",
   "id": "homeless-arcade",
   "metadata": {},
   "source": [
    "### Beispiel für die Sepsis-Kohorte"
   ]
  },
  {
   "cell_type": "code",
   "execution_count": null,
   "id": "appreciated-frequency",
   "metadata": {},
   "outputs": [],
   "source": [
    "# Kohorte um Fall- & Patientenstammdaten ergänzen\n",
    "cases.sep <- cohort.sep %>%\n",
    "    # ausgewählte Falldaten joinen\n",
    "    inner_join(mimic.admissions.raw %>% select(subject_id, hadm_id, admittime, dischtime, discharge_location), by = \"hadm_id\") %>%\n",
    "    # ausgewählte Patientenstammdaten joinen\n",
    "    inner_join(mimic.patients.raw %>% select(subject_id, gender, dob), by = \"subject_id\") %>%\n",
    "    # Aufenthaltsdauer & Alter berechnen\n",
    "    mutate(length_of_stay_days = difftime(dischtime, admittime, units = \"days\"),\n",
    "           age                 = as.integer(interval(dob, admittime) / years(1)))\n",
    "\n",
    "head(cases.sep)\n",
    "\n",
    "# Alter & Geschlecht ausgeben\n",
    "options(repr.plot.width = 10, repr.plot.height = 2.5)\n",
    "ggplot(data = cases.sep, aes(x = age, fill = gender)) +\n",
    "    geom_histogram()\n",
    "\n",
    "# Aufenthaltsdauer & Entlassart ausgeben\n",
    "ggplot(data = cases.sep, aes(x = length_of_stay_days, y = discharge_location, fill = discharge_location)) +\n",
    "    geom_point()"
   ]
  },
  {
   "cell_type": "markdown",
   "id": "viral-neutral",
   "metadata": {},
   "source": [
    "### Visualisierung für AMI-Kohorte"
   ]
  },
  {
   "cell_type": "code",
   "execution_count": null,
   "id": "documented-ensemble",
   "metadata": {},
   "outputs": [],
   "source": []
  },
  {
   "cell_type": "markdown",
   "id": "mobile-match",
   "metadata": {},
   "source": [
    "### Visualisierung für ACF-Kohorte"
   ]
  },
  {
   "cell_type": "code",
   "execution_count": null,
   "id": "mobile-associate",
   "metadata": {},
   "outputs": [],
   "source": []
  }
 ],
 "metadata": {
  "kernelspec": {
   "display_name": "R",
   "language": "R",
   "name": "ir"
  },
  "language_info": {
   "codemirror_mode": "r",
   "file_extension": ".r",
   "mimetype": "text/x-r-source",
   "name": "R",
   "pygments_lexer": "r",
   "version": "4.0.5"
  }
 },
 "nbformat": 4,
 "nbformat_minor": 5
}
