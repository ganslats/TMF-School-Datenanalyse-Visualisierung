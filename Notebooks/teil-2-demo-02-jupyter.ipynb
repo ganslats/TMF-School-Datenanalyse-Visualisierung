{
 "cells": [
  {
   "cell_type": "code",
   "execution_count": null,
   "id": "developmental-passage",
   "metadata": {},
   "outputs": [],
   "source": [
    "# Code-Zelle, Kommentare beginnen mit #\n",
    "\n",
    "# Einfache Berechnungen können direkt eingegeben werden, Ergebnisse erscheinen unterhalb der Zelle\n",
    "2+2"
   ]
  },
  {
   "cell_type": "markdown",
   "id": "blank-blake",
   "metadata": {},
   "source": [
    "## Markdown-Zelle\n",
    "\n",
    "Der **Text** kann per *Doppelklick* editiert werden\n",
    "\n",
    "Markdown-*Cheatsheet* mit den wesentlichen Befehlen siehe hier: https://www.markdownguide.org/cheat-sheet/ "
   ]
  },
  {
   "cell_type": "code",
   "execution_count": null,
   "id": "adjusted-habitat",
   "metadata": {},
   "outputs": [],
   "source": [
    "# Variablen können zugewiesen & in Berechnungen verwendet werden\n",
    "a <- 3\n",
    "b <- 5\n",
    "a * b"
   ]
  },
  {
   "cell_type": "code",
   "execution_count": null,
   "id": "collectible-talent",
   "metadata": {},
   "outputs": [],
   "source": [
    "# R arbeitet vektorbasiert, so dass Operationen in einem Schritt auf alle Elemente eines Vektors angewendet werden können\n",
    "# hier: Multiplikation der Zahlen 1, 2 und 3 mit den Zahlen 4, 5 und 6\n",
    "a <- c(1, 2, 3)\n",
    "b <- c(4, 5, 6)\n",
    "a * b"
   ]
  }
 ],
 "metadata": {
  "kernelspec": {
   "display_name": "R",
   "language": "R",
   "name": "ir"
  },
  "language_info": {
   "codemirror_mode": "r",
   "file_extension": ".r",
   "mimetype": "text/x-r-source",
   "name": "R",
   "pygments_lexer": "r",
   "version": "3.6.1"
  }
 },
 "nbformat": 4,
 "nbformat_minor": 5
}
