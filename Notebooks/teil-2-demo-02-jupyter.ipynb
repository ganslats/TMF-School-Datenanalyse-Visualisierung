{
 "cells": [
  {
   "cell_type": "code",
   "execution_count": 1,
   "id": "developmental-passage",
   "metadata": {},
   "outputs": [
    {
     "data": {
      "text/html": [
       "4"
      ],
      "text/latex": [
       "4"
      ],
      "text/markdown": [
       "4"
      ],
      "text/plain": [
       "[1] 4"
      ]
     },
     "metadata": {},
     "output_type": "display_data"
    }
   ],
   "source": [
    "# Code-Zelle, Kommentare beginnen mit #\n",
    "\n",
    "# Einfache Berechnungen können direkt eingegeben werden, Ergebnisse erscheinen unterhalb der Zelle\n",
    "2+2"
   ]
  },
  {
   "cell_type": "markdown",
   "id": "blank-blake",
   "metadata": {},
   "source": [
    "## Markdown-Zelle\n",
    "\n",
    "Der **Text** kann per *Doppelklick* editiert werden\n",
    "\n",
    "Markdown-*Cheatsheet* mit den wesentlichen Befehlen siehe hier: https://www.markdownguide.org/cheat-sheet/ "
   ]
  },
  {
   "cell_type": "code",
   "execution_count": 2,
   "id": "adjusted-habitat",
   "metadata": {},
   "outputs": [
    {
     "data": {
      "text/html": [
       "15"
      ],
      "text/latex": [
       "15"
      ],
      "text/markdown": [
       "15"
      ],
      "text/plain": [
       "[1] 15"
      ]
     },
     "metadata": {},
     "output_type": "display_data"
    }
   ],
   "source": [
    "# Variablen können zugewiesen & in Berechnungen verwendet werden\n",
    "a <- 3\n",
    "b <- 5\n",
    "a * b"
   ]
  },
  {
   "cell_type": "code",
   "execution_count": 3,
   "id": "collectible-talent",
   "metadata": {},
   "outputs": [
    {
     "data": {
      "text/html": [
       "<ol class=list-inline>\n",
       "\t<li>4</li>\n",
       "\t<li>10</li>\n",
       "\t<li>18</li>\n",
       "</ol>\n"
      ],
      "text/latex": [
       "\\begin{enumerate*}\n",
       "\\item 4\n",
       "\\item 10\n",
       "\\item 18\n",
       "\\end{enumerate*}\n"
      ],
      "text/markdown": [
       "1. 4\n",
       "2. 10\n",
       "3. 18\n",
       "\n",
       "\n"
      ],
      "text/plain": [
       "[1]  4 10 18"
      ]
     },
     "metadata": {},
     "output_type": "display_data"
    }
   ],
   "source": [
    "# R arbeitet vektorbasiert, so dass Operationen in einem Schritt auf alle Elemente eines Vektors angewendet werden können\n",
    "# hier: Multiplikation der Zahlen 1, 2 und 3 mit den Zahlen 4, 5 und 6\n",
    "a <- c(1, 2, 3)\n",
    "b <- c(4, 5, 6)\n",
    "a * b"
   ]
  }
 ],
 "metadata": {
  "kernelspec": {
   "display_name": "R",
   "language": "R",
   "name": "ir"
  },
  "language_info": {
   "codemirror_mode": "r",
   "file_extension": ".r",
   "mimetype": "text/x-r-source",
   "name": "R",
   "pygments_lexer": "r",
   "version": "3.6.1"
  }
 },
 "nbformat": 4,
 "nbformat_minor": 5
}
