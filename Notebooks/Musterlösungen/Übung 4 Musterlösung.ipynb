{
 "cells": [
  {
   "cell_type": "markdown",
   "id": "abroad-institute",
   "metadata": {},
   "source": [
    "# Übung 4: Exploration von Laborbefunden gegenüber Diagnosen"
   ]
  },
  {
   "cell_type": "markdown",
   "id": "streaming-johnston",
   "metadata": {},
   "source": [
    "## Bibliotheken & Konfiguration"
   ]
  },
  {
   "cell_type": "code",
   "execution_count": null,
   "id": "refined-calendar",
   "metadata": {},
   "outputs": [],
   "source": [
    "packages <- c(\"readr\", \"dplyr\", \"tidyr\", \"ggplot2\", \"icd.data\", \"stringr\")\n",
    "install.packages(setdiff(packages, rownames(installed.packages())))\n",
    "lapply(packages, require, character.only = TRUE)\n",
    "\n",
    "base_url <- \"https://raw.githubusercontent.com/ganslats/TMF-School-Datenanalyse-Visualisierung/master/Rohdaten/\""
   ]
  },
  {
   "cell_type": "markdown",
   "id": "sorted-wedding",
   "metadata": {},
   "source": [
    "## Vorbereitende Schritte\n",
    "\n",
    "#### MIMIC III-Daten laden\n",
    "\n",
    "Hinweis: das Laden der Daten (vor allem Chartevents-Tabelle) kann etwas dauern"
   ]
  },
  {
   "cell_type": "code",
   "execution_count": null,
   "id": "excellent-frank",
   "metadata": {},
   "outputs": [],
   "source": [
    "# Patientenstammdaten laden\n",
    "mimic.patients.raw <- read_csv(paste(base_url, \"mimic-iii-demo/PATIENTS.csv\", sep=\"\"),\n",
    "                               col_types = cols(row_id = col_integer(), subject_id = col_integer(), gender = col_character(), dob = col_datetime(format = \"\"), dod = col_datetime(format = \"\"), dod_hosp = col_datetime(format = \"\"), dod_ssn = col_datetime(format = \"\"), expire_flag = col_double()))\n",
    "\n",
    "# Behandlungsfälle laden\n",
    "mimic.admissions.raw <- read_csv(paste(base_url, \"mimic-iii-demo/ADMISSIONS.csv\", sep=\"\"),\n",
    "                                 col_types = cols(  row_id = col_integer(), subject_id = col_integer(), hadm_id = col_integer(), admittime = col_datetime(format = \"\"), dischtime = col_datetime(format = \"\"), deathtime = col_datetime(format = \"\"), admission_type = col_character(), admission_location = col_character(), discharge_location = col_character(), insurance = col_character(), language = col_character(), religion = col_character(), marital_status = col_character(), ethnicity = col_character(), edregtime = col_datetime(format = \"\"), edouttime = col_datetime(format = \"\"), diagnosis = col_character(), hospital_expire_flag = col_double(), has_chartevents_data = col_double()))\n",
    "\n",
    "# Intensivaufenthalte laden\n",
    "mimic.icustays.raw <- read_csv(paste(base_url, \"mimic-iii-demo/ICUSTAYS.csv\", sep=\"\"),\n",
    "                               col_types = cols(row_id = col_integer(), subject_id = col_integer(), hadm_id = col_integer(), icustay_id = col_integer(), dbsource = col_character(), first_careunit = col_character(), last_careunit = col_character(), first_wardid = col_double(), last_wardid = col_double(), intime = col_datetime(format = \"\"), outtime = col_datetime(format = \"\"), los = col_double()))\n",
    "\n",
    "# Diagnosen laden\n",
    "mimic.diagnoses.raw <- read_csv(paste(base_url, \"mimic-iii-demo/DIAGNOSES_ICD.csv\", sep=\"\"),\n",
    "                                col_types = cols(row_id = col_integer(), subject_id = col_integer(), hadm_id = col_integer(), seq_num = col_integer(), icd9_code = col_character()))\n",
    "\n",
    "# Diagnosebezeichner laden\n",
    "mimic.d_icd_diagnoses.raw <- read_csv(paste(base_url, \"mimic-iii-demo/D_ICD_DIAGNOSES.csv\", sep=\"\"),\n",
    "                                      col_types = cols(row_id = col_integer(), icd9_code = col_character(), short_title = col_character(), long_title = col_character()))\n",
    "\n",
    "# Diagnosebezeichner hinzufügen\n",
    "mimic.diagnoses.annotated <- mimic.diagnoses.raw %>% inner_join(mimic.d_icd_diagnoses.raw %>% select(icd9_code, short_title, long_title), by = \"icd9_code\")\n",
    "\n",
    "# Laborbefunde laden\n",
    "mimic.labevents.raw <- read_csv(paste(base_url, \"mimic-iii-demo/LABEVENTS.csv\", sep=\"\"),\n",
    "                                col_types = cols(row_id = col_integer(), subject_id = col_integer(), hadm_id = col_integer(), itemid = col_integer(), charttime = col_datetime(format = \"\"), value = col_character(), valuenum = col_double(), valueuom = col_character(), flag = col_character()))\n",
    "\n",
    "# Bezeichner laden\n",
    "mimic.d_labitems.raw <- read_csv(paste(base_url, \"mimic-iii-demo/D_LABITEMS.csv\", sep=\"\"),\n",
    "                                 col_types = cols(row_id = col_integer(), itemid = col_integer(), label = col_character(), fluid = col_character(), category = col_character(), loinc_code = col_character()))\n",
    "\n",
    "# Bezeichner hinzufügen\n",
    "mimic.labevents.annotated <- mimic.labevents.raw %>% \n",
    "    inner_join(mimic.d_labitems.raw %>% select(itemid, label, fluid, category, loinc_code), by = \"itemid\") %>%\n",
    "    select(hadm_id, category, fluid, itemid, label, valuenum, valueuom) %>%\n",
    "    filter(!is.na(hadm_id), !is.na(valuenum))\n",
    "\n",
    "# ICD9-Hierarchie aus Package in ein Tibble überführen\n",
    "icd9.hierarchy.raw <- icd9cm_hierarchy\n",
    "\n",
    "# Datentypanpassung der \"code\"-Spalte, um einen Join mit den MIMIC-Diagnosen zu ermöglichen\n",
    "icd9.hierarchy.raw$icd9_code <- as.character(icd9.hierarchy.raw$code)\n",
    "\n",
    "# Hauptdiagnosen auf ICD9-Kapitel abbilden und den Labordaten zuordnen\n",
    "# Hinweis: Laut Dokumentation wird die Hauptdiagnose in der Regel \"als erstes\" angegeben und ist über die Spalte seq_num == 1 selektierbar\n",
    "diagnoses_labs <- mimic.diagnoses.raw %>% \n",
    "    # Hauptdiagnose filtern\n",
    "    filter(seq_num == 1) %>%\n",
    "    # nur Spalten Fallnummer und ICD9-Code selektieren\n",
    "    select(hadm_id, icd9_code) %>%\n",
    "    # ICD9-Kapitel aus Hierarchie ergänzen\n",
    "    inner_join(icd9.hierarchy.raw %>% select(icd9_code, chapter), by = \"icd9_code\") %>%\n",
    "    # Mehrfachdiagnosen entfernen\n",
    "    distinct() %>%\n",
    "    # Relevante Spalten der Laborbefunde hinzufügen\n",
    "    inner_join(mimic.labevents.annotated %>% select(hadm_id, label, fluid, valuenum, valueuom), by = \"hadm_id\") %>%\n",
    "    # auf relevante Spalten reduzieren\n",
    "    select(chapter, label, fluid, valuenum, valueuom)"
   ]
  },
  {
   "cell_type": "markdown",
   "id": "f47f852b-b56a-4256-a98c-ca49d59e5359",
   "metadata": {},
   "source": [
    "## Überblick der geladenen Daten\n",
    "\n",
    "Wir haben zunächst die Behandlungsfälle und ihre Diagnosen geladen. Den Diagnosen haben wir mit Hilfe des \n",
    "(in Amerika verwendeten) ICD9-Katalogs übergeordnete Kapitel zugeordnet, um sie in grobe Kategorien einzuteilen.\n",
    "Für jeden Behandlungsfall haben wir jeweils eine Hauptdiagnose zugeordnet, die in der Auswertung berücksichtigt werden soll (gemäß MIMIC-Dokumentation ist dies die erste dokumentierte Diagnose).\n",
    "\n",
    "Anschließend haben wir die Laborbefunde geladen und mit der Hauptdiagnose (bzw. dem ICD9-Kapitel) zusammengeführt.\n",
    "Die resultierende Tabelle enthält folgende Spalten:\n",
    "* chapter: ICD9-Diagnosekapitel\n",
    "* label: Bezeichner des untersuchten Laboranalyts\n",
    "* fluid: Probenmaterial, aus dem der Analyt bestimmt wurde\n",
    "* valuenum: Ausprägung des Befunds\n",
    "* valueuom: Einheit des Befunds"
   ]
  },
  {
   "cell_type": "code",
   "execution_count": null,
   "id": "692e46bb-c864-49d9-b30b-645c99b7ebc1",
   "metadata": {
    "tags": []
   },
   "outputs": [],
   "source": [
    "head(diagnoses_labs)"
   ]
  },
  {
   "cell_type": "markdown",
   "id": "0b625d9a-1af5-4899-91b1-934a97da9606",
   "metadata": {},
   "source": [
    "# Demo\n",
    "\n",
    "Im folgenden wollen wir für den Laborwert Kreatin darstellen, wie seine Verteilung in Bezug auf die verschiedenen Kapitel des ICD9-Katalogs aussieht. Die Annahme ist, dass das Kreatinin als Nierenwert vor allem bei den Nierenerkrankungen gegenüber den andere Kapiteln des ICD9-Katalogs erhöht sein sollte.\n",
    "\n",
    "Hierzu suchen wir wie in Übung 3 zunächst den Namen und die Probenmaterialien des Kreatinins heraus. Auch hier wollen wir nur die Messungen aus Blut einbeziehen."
   ]
  },
  {
   "cell_type": "code",
   "execution_count": null,
   "id": "2d173512-acc1-4e02-b4bd-6a1a7d2f65dd",
   "metadata": {
    "tags": []
   },
   "outputs": [],
   "source": [
    "# Kreatinin-Befunde suchen & mit dem Probenmaterial und Anzahl anzeigen\n",
    "mimic.labevents.annotated %>%\n",
    "    filter(grepl(\"creatinine\", tolower(label))) %>%\n",
    "    group_by(itemid, label, fluid) %>%\n",
    "    summarize(n = n(), .groups = \"keep\")"
   ]
  },
  {
   "cell_type": "markdown",
   "id": "90d3f900-55de-4229-b678-6231cada587f",
   "metadata": {},
   "source": [
    "Sie sehen, dass es insgesamt 6 Analyte für die Bestimmung von Kreatinin gibt. \n",
    "Nur ein Analyt (das am häufigsten bestimmte) wird aus Blut bestimmt. \n",
    "\n",
    "Wir können die Daten jetzt als Boxplot visualisieren. Hierzu verwenden wir wie in Übung 3 die `ggplot()`-Funktion zusammen mit der `geom_boxplot()`-Funktion. Bei den Aesthetics setzen wir das Diagnosekapitel auf die X-Achse und den Befundwert auf die Y-Achse. Als Füllfarbe setzen wir ebenfalls das Diagnosekapitel. Den Datensatz filtern wird direkt im data-Segment der `ggplot()`-Funktion auf Kreatinin-Befunde, die aus Blut bestimmt wurden."
   ]
  },
  {
   "cell_type": "code",
   "execution_count": null,
   "id": "07b203ed-417e-46e3-ad7b-fdceb3fa1870",
   "metadata": {
    "tags": []
   },
   "outputs": [],
   "source": [
    "# Größenverhältnis des Diagramms festlegen\n",
    "options(repr.plot.width = 10, repr.plot.height = 5)\n",
    "\n",
    "# Boxplots der Kreatininwerte gegenüber den ICD-Diagnosekapiteln darstellen\n",
    "ggplot(data = diagnoses_labs %>% filter(label == \"Creatinine\", fluid == \"Blood\"),\n",
    "       aes(x = chapter, y = valuenum, fill = chapter)) +\n",
    "  geom_boxplot()"
   ]
  },
  {
   "cell_type": "markdown",
   "id": "2c1ff1d6-314e-40f0-bfee-90b9e282af95",
   "metadata": {},
   "source": [
    "Sie sehen, dass der schon aus Übung 3 bekannte Outlier das Diagramm so stark staucht, dass es nicht interpretiert werden kann.\n",
    "\n",
    "Wir fügen deshalb einen weiteren Filter hinzu, der nur Ausprägungen < 100 zulässt:"
   ]
  },
  {
   "cell_type": "code",
   "execution_count": null,
   "id": "d39e1f18-111d-48ef-9185-cedf947fe9ca",
   "metadata": {
    "tags": []
   },
   "outputs": [],
   "source": [
    "# Größenverhältnis des Diagramms festlegen\n",
    "options(repr.plot.width = 10, repr.plot.height = 5)\n",
    "\n",
    "# Boxplots der Kreatininwerte gegenüber den ICD-Diagnosekapiteln darstellen\n",
    "ggplot(data = diagnoses_labs %>% filter(label == \"Creatinine\", fluid == \"Blood\", valuenum < 100),\n",
    "       aes(x = chapter, y = valuenum, fill = chapter)) +\n",
    "    geom_boxplot()"
   ]
  },
  {
   "cell_type": "markdown",
   "id": "cb1b72cf-1bcc-4cb7-9f61-7c6e5abd87ac",
   "metadata": {
    "tags": []
   },
   "source": [
    "Sie sehen, dass das Diagramm jetzt deutliche Unterschiede zwischen den ICD9-Kapiteln zeigt, und der Median bei den Erkrankungen des Urogenitalsystems erhöht ist.\n",
    "\n",
    "Die Beschriftungen sind allerdings schwer lesbar, da die Bezeichnungen der ICD9-Kapitel sehr lang sind. Hier können wir folgende Optimierungen vornehmen:\n",
    "* Zeilenumbruch der Kapitelnamen nach 30 Zeichen mit der Funktion `str_wrap()` (wichtig: dies muss sowohl für die X-Achse als auch die Füllfarbe identisch angegeben werden)\n",
    "* Verringerung der Schriftgröße für die Beschriftung der X-Achse sowie Kippen der Schreibrichtung um 45 Grad mit der `theme()`-Funktion"
   ]
  },
  {
   "cell_type": "code",
   "execution_count": null,
   "id": "24a394fb-b00b-49fb-b2bf-b53d37c65fb9",
   "metadata": {
    "tags": []
   },
   "outputs": [],
   "source": [
    "# Größenverhältnis des Diagramms festlegen\n",
    "options(repr.plot.width = 10, repr.plot.height = 5)\n",
    "\n",
    "# Boxplots der Kreatininwerte gegenüber den ICD-Diagnosekapiteln darstellen\n",
    "ggplot(data = diagnoses_labs %>% filter(label == \"Creatinine\", fluid == \"Blood\", valuenum < 100),\n",
    "       aes(x = str_wrap(chapter, 30), y = valuenum, fill = str_wrap(chapter, 30))) +\n",
    "    geom_boxplot() +\n",
    "    theme(axis.text.x = element_text(angle = 45, hjust = 1, size = 8),\n",
    "          legend.text = element_text(size = 8))"
   ]
  },
  {
   "cell_type": "markdown",
   "id": "0d0abdae-b400-48f5-a484-201994c96fd3",
   "metadata": {},
   "source": [
    "# Aufgaben\n",
    "\n",
    "Ab hier sollen Sie sich selbst in den Daten der Diagnosen- & Laborbefundtabelle umschauen und dazu für konkrete Fragestellungen die im obigen Beispiel gezeigten Visualisierungen in kleinen Schritten anpassen.\n",
    "\n",
    "### Aufgabe 1: Troponin T-Werte gegenüber den ICD9-Diagnosekapiteln auswerten\n",
    "\n",
    "Troponin T ist ein Laborbefund, der typischerweise bei Herzerkrankungen (z.B. Herzinfarkt) erhöht ist. Wir wollen deshalb überprüfen, ob wir diesen Zusammenhang an unseren Befunddaten nachvollziehen können.\n",
    "\n",
    "Hierzu müssen wir zunächst den Bezeichner und Probenmaterial für Troponin T in den Befunden heraussuchen. Sie können hierzu das Statement für die Suche der Kreatininwerte von oben kopieren und anpassen."
   ]
  },
  {
   "cell_type": "code",
   "execution_count": null,
   "id": "f1bdb908-8190-4ec1-b070-abaf60dba585",
   "metadata": {
    "tags": []
   },
   "outputs": [],
   "source": [
    "# Troponin-Befunde suchen & mit dem Probenmaterial und Anzahl anzeigen\n",
    "mimic.labevents.annotated %>%\n",
    "    filter(grepl(\"troponin\", tolower(label))) %>%\n",
    "    group_by(itemid, label, fluid) %>%\n",
    "    summarize(n = n(), .groups = \"keep\")"
   ]
  },
  {
   "cell_type": "markdown",
   "id": "dbbd14c1-86d0-4009-98e6-571b31686bf2",
   "metadata": {},
   "source": [
    "Wir sehen, dass es genau 2 Troponin-Analyte gibt, die beide aus Blut bestimmt werden. Wir wollen in dieser Aufgabe nur das Troponin T auswerten.\n",
    "\n",
    "Als nächstes können wir den Boxplot erstellen. Hierzu können Sie den Boxplot der letzten Kreatinin-Visualisierung von oben kopieren und anpassen. Nötige Änderungen:\n",
    "* Anpassung der Filterkriterien auf Troponin T. Die Filterung auf Probenmaterial Blut kann entfallen, da dieser Befund nur aus Blut erstellt wird. Wichtig: auch das Ausfiltern des Outliers muss gestrichen werden."
   ]
  },
  {
   "cell_type": "code",
   "execution_count": null,
   "id": "7d66cf6b-e010-4714-ba85-51a0019bdf05",
   "metadata": {
    "tags": []
   },
   "outputs": [],
   "source": [
    "# Größenverhältnis des Diagramms festlegen\n",
    "options(repr.plot.width = 10, repr.plot.height = 5)\n",
    "\n",
    "# Boxplots der Troponinwerte gegenüber den ICD-Diagnosekapiteln darstellen\n",
    "ggplot(data = diagnoses_labs %>% filter(label == \"Troponin T\"),\n",
    "       aes(x = str_wrap(chapter, 30), y = valuenum, fill = str_wrap(chapter, 30))) +\n",
    "    geom_boxplot() +\n",
    "    theme(axis.text.x = element_text(angle = 45, hjust = 1, size = 8),\n",
    "          legend.text = element_text(size = 8))"
   ]
  },
  {
   "cell_type": "markdown",
   "id": "3f37bb4c-d1ee-4c63-a004-1eef1eec732a",
   "metadata": {},
   "source": [
    "### Aufgabe 2: Auswertung für weitere Laborbefunde wiederholen\n",
    "\n",
    "Sie können beispielsweise den Mineralstoff Kalium (englisch: Potassium) oder den Leberwert Gesamt-Bilirubin im Vergleich der ICD9-Kapitel visualisieren. Suchen Sie hierzu wie gewohnt zunächst nach dem Bezeichner und Probenmaterial des jeweiligen Befunds und filtern für die Visualisierung entsprechend auf genau einen Parameter und ggf. ein Probenmaterial."
   ]
  },
  {
   "cell_type": "code",
   "execution_count": null,
   "id": "87e44316-ee03-40ba-9166-23177d4d6c60",
   "metadata": {
    "tags": []
   },
   "outputs": [],
   "source": [
    "# Größenverhältnis des Diagramms festlegen\n",
    "options(repr.plot.width = 10, repr.plot.height = 5)\n",
    "\n",
    "# Boxplots der Kaliumwerte gegenüber den ICD-Diagnosekapiteln darstellen\n",
    "ggplot(data = diagnoses_labs %>% filter(label == \"Potassium\"),\n",
    "       aes(x = str_wrap(chapter, 30), y = valuenum, fill = str_wrap(chapter, 30))) +\n",
    "    geom_boxplot() +\n",
    "    theme(axis.text.x = element_text(angle = 45, hjust = 1, size = 8),\n",
    "          legend.text = element_text(size = 8))"
   ]
  },
  {
   "cell_type": "code",
   "execution_count": null,
   "id": "3864d244-e775-4f5c-bc28-314b6a8ff1c5",
   "metadata": {
    "tags": []
   },
   "outputs": [],
   "source": [
    "# Größenverhältnis des Diagramms festlegen\n",
    "options(repr.plot.width = 10, repr.plot.height = 5)\n",
    "\n",
    "# Boxplots der Gesamt-Bilirubinwerte gegenüber den ICD-Diagnosekapiteln darstellen\n",
    "ggplot(data = diagnoses_labs %>% filter(label == \"Bilirubin, Total\"),\n",
    "       aes(x = str_wrap(chapter, 30), y = valuenum, fill = str_wrap(chapter, 30))) +\n",
    "    geom_boxplot() +\n",
    "    theme(axis.text.x = element_text(angle = 45, hjust = 1, size = 8),\n",
    "          legend.text = element_text(size = 8))"
   ]
  }
 ],
 "metadata": {
  "kernelspec": {
   "display_name": "R",
   "language": "R",
   "name": "ir"
  },
  "language_info": {
   "codemirror_mode": "r",
   "file_extension": ".r",
   "mimetype": "text/x-r-source",
   "name": "R",
   "pygments_lexer": "r",
   "version": "4.2.3"
  }
 },
 "nbformat": 4,
 "nbformat_minor": 5
}
