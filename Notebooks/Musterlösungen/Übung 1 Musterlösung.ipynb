{
 "cells": [
  {
   "cell_type": "markdown",
   "id": "abroad-institute",
   "metadata": {},
   "source": [
    "# Übung 1: Orientierung in den Daten der MIMIC-Tabelle Chartevents"
   ]
  },
  {
   "cell_type": "markdown",
   "id": "streaming-johnston",
   "metadata": {},
   "source": [
    "## Bibliotheken & Konfiguration"
   ]
  },
  {
   "cell_type": "code",
   "execution_count": null,
   "id": "refined-calendar",
   "metadata": {},
   "outputs": [],
   "source": [
    "packages <- c(\"readr\", \"dplyr\")\n",
    "install.packages(setdiff(packages, rownames(installed.packages())))\n",
    "lapply(packages, require, character.only = TRUE)\n",
    "\n",
    "base_url <- \"https://raw.githubusercontent.com/ganslats/TMF-School-Datenanalyse-Visualisierung/master/Rohdaten/\""
   ]
  },
  {
   "cell_type": "markdown",
   "id": "sorted-wedding",
   "metadata": {},
   "source": [
    "## MIMIC III-Basisdaten laden"
   ]
  },
  {
   "cell_type": "code",
   "execution_count": null,
   "id": "excellent-frank",
   "metadata": {},
   "outputs": [],
   "source": [
    "# Patientenstammdaten laden\n",
    "mimic.patients.raw <- read_csv(paste(base_url, \"mimic-iii-demo/PATIENTS.csv\", sep=\"\"),\n",
    "                               col_types = cols(row_id = col_integer(), subject_id = col_integer(), gender = col_character(), dob = col_datetime(format = \"\"), dod = col_datetime(format = \"\"), dod_hosp = col_datetime(format = \"\"), dod_ssn = col_datetime(format = \"\"), expire_flag = col_double()))\n",
    "\n",
    "# Behandlungsfälle laden\n",
    "mimic.admissions.raw <- read_csv(paste(base_url, \"mimic-iii-demo/ADMISSIONS.csv\", sep=\"\"),\n",
    "                                 col_types = cols(  row_id = col_integer(), subject_id = col_integer(), hadm_id = col_integer(), admittime = col_datetime(format = \"\"), dischtime = col_datetime(format = \"\"), deathtime = col_datetime(format = \"\"), admission_type = col_character(), admission_location = col_character(), discharge_location = col_character(), insurance = col_character(), language = col_character(), religion = col_character(), marital_status = col_character(), ethnicity = col_character(), edregtime = col_datetime(format = \"\"), edouttime = col_datetime(format = \"\"), diagnosis = col_character(), hospital_expire_flag = col_double(), has_chartevents_data = col_double()))\n",
    "\n",
    "# Intensivaufenthalte laden\n",
    "mimic.icustays.raw <- read_csv(paste(base_url, \"mimic-iii-demo/ICUSTAYS.csv\", sep=\"\"),\n",
    "                               col_types = cols(row_id = col_integer(), subject_id = col_integer(), hadm_id = col_integer(), icustay_id = col_integer(), dbsource = col_character(), first_careunit = col_character(), last_careunit = col_character(), first_wardid = col_double(), last_wardid = col_double(), intime = col_datetime(format = \"\"), outtime = col_datetime(format = \"\"), los = col_double()))\n"
   ]
  },
  {
   "cell_type": "markdown",
   "id": "gothic-cookbook",
   "metadata": {},
   "source": [
    "## MIMIC III-Chartevents laden"
   ]
  },
  {
   "cell_type": "code",
   "execution_count": null,
   "id": "front-formula",
   "metadata": {},
   "outputs": [],
   "source": [
    "# Chartevents laden\n",
    "mimic.chartevents.raw <- read_csv(paste(base_url, \"mimic-iii-demo/CHARTEVENTS.csv\", sep=\"\"),\n",
    "                                  col_types = cols(row_id = col_integer(), subject_id = col_integer(), hadm_id = col_integer(), icustay_id = col_integer(), itemid = col_integer(), charttime = col_datetime(format = \"\"), storetime = col_datetime(format = \"\"), cgid = col_double(), value = col_character(), valuenum = col_double(), valueuom = col_character(), warning = col_double(), error = col_double(), resultstatus = col_character(), stopped = col_character()))"
   ]
  },
  {
   "cell_type": "markdown",
   "id": "finnish-density",
   "metadata": {},
   "source": [
    "### Bezeichner ergänzen"
   ]
  },
  {
   "cell_type": "code",
   "execution_count": null,
   "id": "seven-manufacturer",
   "metadata": {},
   "outputs": [],
   "source": [
    "# Bezeichner laden\n",
    "mimic.d_items.raw <- read_csv(paste(base_url, \"mimic-iii-demo/D_ITEMS.csv\", sep=\"\"),\n",
    "                              col_types = cols(row_id = col_integer(), itemid = col_integer(), label = col_character(), abbreviation = col_character(), dbsource = col_character(), linksto = col_character(), category = col_character(), unitname = col_character(), param_type = col_character(), conceptid = col_character()))\n",
    "\n",
    "# Bezeichner hinzufügen\n",
    "mimic.chartevents.annotated <- mimic.chartevents.raw %>%\n",
    "  inner_join(mimic.d_items.raw %>% select(itemid, category, label), by = \"itemid\")\n",
    "\n",
    "head(mimic.chartevents.annotated)"
   ]
  },
  {
   "cell_type": "markdown",
   "id": "sporting-hamburg",
   "metadata": {},
   "source": [
    "## Aufgabe: Finden Sie häufig verwendete Items für den Blutdruck und Puls!\n",
    "\n",
    "Hier können Sie das Wissen aus dem Abschnitt 4, Demo 2 (Daten abfragen mit Tidyverse) anwenden.\n",
    "* zugehöriges Notebook: [teil-4-demo-02-abfragen-tidyverse.ipynb](https://github.com/ganslats/TMF-School-Datenanalyse-Visualisierung/blob/main/Notebooks/teil-4-demo-02-abfragen-tidyverse.ipynb)\n",
    "\n",
    "Filtern Sie die Rohdaten mit der `filter()`-Funktion nach Inhalten, die Sie für Blutdruck & Puls erwarten würden (z.B. Maßeinheiten in der Spalte `valueuom` oder Bezeichner in der Spalte `label`. Finden Sie häufig verwendete Attribute, indem Sie die Anzahl der Zeilen mit den `group_by()`- und `summarize()`-Funktionen aggregieren.\n",
    "\n",
    "Tipps zur `filter()`-Funktion:\n",
    "* Sie können auch nach Teilstrings suchen, indem Sie die Funktion `grepl(\"Suchbegriff\", Spalte)` nutzen\n",
    "* Wenn Sie mehrere mit Komma getrennte Kriterien angeben, werden sie mit logisch \"und\" verknüpft (z.B. `filter(farbe == \"rot\", seite == \"links\")` - schließt Datensätze mit roter Farbe *und* linker Seite ein)\n",
    "* Sie können Kriterien mit dem `|`-Operator auch als logisch \"oder\" kombinieren (z.B. `filter(farbe == \"rot\" | seite == \"links\")` - schließt Datensätze mit roter Farbe *oder* linker Seite ein)\n",
    "* Sie können mit dem `%in%`-Operator auch nach mehreren verschiedenen Ausprägungen eines Textes suchen (z.B. `filter(farbe %in% c(\"rot\", \"blau\"))` - schließt Datensätze mit roter oder blauer Farbe ein)\n",
    "\n",
    "Sonstige Tipps:\n",
    "* Denken Sie daran, dass Sie bei der `summarize()`-Funktion die Option `.groups = \"keep\"` angeben müssen, wenn die Gruppierungsmerkmale beibehalten werden sollen. Sie erhalten sonst nur das aggregierte Ergebnis als Zahl, aber nicht die (meistens benötigten) Merkmale, nach denen zuvor gruppiert wurde."
   ]
  },
  {
   "cell_type": "markdown",
   "id": "17d034f9-bc47-4557-ab21-33c8e82210a8",
   "metadata": {},
   "source": [
    "### Beispiel\n",
    "\n",
    "Das folgende Statement fragt mögliche Ausprägungen für die Körpertemperatur ab.\n",
    "\n",
    "Im ersten Schritt suchen wir dazu nach Datensätzen mit dem Wort \"temperature\" als Bezeichnung. "
   ]
  },
  {
   "cell_type": "code",
   "execution_count": null,
   "id": "aebd4566-7679-4c98-9818-c3e0341ef6cd",
   "metadata": {
    "tags": []
   },
   "outputs": [],
   "source": [
    "# Mögliche Ausprägungen für die Körpertemperatur finden\n",
    "mimic.chartevents.annotated %>% filter(label == \"temperature\") %>%\n",
    "    group_by(itemid, label, valueuom) %>%\n",
    "    summarize(n = n(), .groups = \"keep\")"
   ]
  },
  {
   "cell_type": "markdown",
   "id": "8c444767-b51b-474d-88ff-bae5701e11cc",
   "metadata": {},
   "source": [
    "Wir erhalten bei dieser Abfrage keine Treffer, es gibt also keine Datensätze mit der exakten Bezeichnung \"temperature\" in der Datenbank. \n",
    "\n",
    "Welche Ursachen sind möglich?\n",
    "* abweichende Groß-/Kleinschreibung\n",
    "* zusätzlicher Text im Feld\n",
    "\n",
    "Die Lösung besteht darin, mit der `grepl()`-Funktion nach Teilworten zu suchen und mit der `tolower()`-Funktion den Inhalte der Spalte \"label\" in Kleinbuchstaben zu verwandeln:"
   ]
  },
  {
   "cell_type": "code",
   "execution_count": null,
   "id": "cd1ed021-aca4-430e-b495-064cae145443",
   "metadata": {
    "tags": []
   },
   "outputs": [],
   "source": [
    "# Mögliche Ausprägungen für die Temperatur finden (in Kleinbuchstaben, Teil des Textes)\n",
    "mimic.chartevents.annotated %>% filter(grepl(\"temperature\", tolower(label))) %>%\n",
    "    group_by(itemid, label, valueuom) %>%\n",
    "    summarize(n = n(), .groups = \"keep\")"
   ]
  },
  {
   "cell_type": "markdown",
   "id": "ebb185d3-0776-40d4-926d-d1379ca81901",
   "metadata": {},
   "source": [
    "Das Ergebnis enthält verschiedene Datensätze mit unterschiedlichen Einheiten und Bedeutungen. Wir interessieren uns hier nur für die Körpertemperatur in Grad Celsius (hier \"Deg. C\"), so dass wir dies als zusätzliches Filterkriterium ergänzen:"
   ]
  },
  {
   "cell_type": "code",
   "execution_count": null,
   "id": "d01b9dfc-2d0e-46fa-b781-ef6f76524b5a",
   "metadata": {
    "tags": []
   },
   "outputs": [],
   "source": [
    "# Mögliche Ausprägungen für den Blutdruck finden\n",
    "mimic.chartevents.annotated %>% filter(grepl(\"temperature\", tolower(label)), valueuom == \"Deg. C\") %>%\n",
    "    group_by(itemid, label, valueuom) %>%\n",
    "    summarize(n = n(), .groups = \"keep\")"
   ]
  },
  {
   "cell_type": "markdown",
   "id": "bac98802-2536-44c5-bd21-85c62fcf5c2b",
   "metadata": {},
   "source": [
    "Wir erhalten so 2 Ergebnisdatensätze, die beide die Körpertemperatur in Grad Celsius angeben (einmal direkt gemessen, und einmal indirekt berechnet)."
   ]
  },
  {
   "cell_type": "markdown",
   "id": "5bc6f399-d4cb-4a77-8e0d-b07c231b0aee",
   "metadata": {
    "tags": []
   },
   "source": [
    "### Aufgabe 1: Suchen Sie mit der gleichen Vorgehensweise Ausprägungen für den Puls!\n",
    "\n",
    "Gehen Sie schrittweise vor und überlegen z.B. zunächst, ob es Maßeinheiten gibt, die typischerweise für die Herzfrequenz verwendet werden (z.B. beats per minute = bpm)"
   ]
  },
  {
   "cell_type": "code",
   "execution_count": null,
   "id": "mental-jenny",
   "metadata": {
    "tags": []
   },
   "outputs": [],
   "source": [
    "# Mögliche Ausprägungen für den Puls finden\n",
    "mimic.chartevents.annotated %>% filter(valueuom == \"bpm\") %>%\n",
    "    group_by(itemid, label, valueuom) %>%\n",
    "    summarize(n = n(), .groups = \"keep\")"
   ]
  },
  {
   "cell_type": "markdown",
   "id": "003b1f38-c507-40d9-8324-6fb4c0f5a423",
   "metadata": {
    "tags": []
   },
   "source": [
    "### Aufgabe 2: Suchen Sie mit der gleichen Vorgehensweise Ausprägungen für den Blutdruck!\n",
    "\n",
    "Gehen Sie schrittweise vor und überlegen z.B. zunächst, ob es Maßeinheiten gibt, die typischerweise für den Blutdruck verwendet werden (z.B. mmHg), oder auch Attribute, die typischerweise mit dem Blutdruck assoziiert sind (z.B. systolic/diastolic)"
   ]
  },
  {
   "cell_type": "code",
   "execution_count": null,
   "id": "unlikely-commissioner",
   "metadata": {},
   "outputs": [],
   "source": [
    "# Mögliche Ausprägungen für den Blutdruck finden\n",
    "mimic.chartevents.annotated %>% filter(valueuom == \"mmHg\", grepl(\"systolic\", tolower(label)) | grepl(\"diastolic\", tolower(label))) %>%\n",
    "    group_by(itemid, label, valueuom) %>%\n",
    "    summarize(n = n(), .groups = \"keep\")"
   ]
  }
 ],
 "metadata": {
  "kernelspec": {
   "display_name": "R",
   "language": "R",
   "name": "ir"
  },
  "language_info": {
   "codemirror_mode": "r",
   "file_extension": ".r",
   "mimetype": "text/x-r-source",
   "name": "R",
   "pygments_lexer": "r",
   "version": "4.2.3"
  }
 },
 "nbformat": 4,
 "nbformat_minor": 5
}
