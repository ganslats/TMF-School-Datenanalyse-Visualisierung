{
 "cells": [
  {
   "cell_type": "markdown",
   "id": "abroad-institute",
   "metadata": {},
   "source": [
    "# Block 7 Übung 1: Orientierung in den Daten der MIMIC-Tabelle Chartevents"
   ]
  },
  {
   "cell_type": "markdown",
   "id": "streaming-johnston",
   "metadata": {},
   "source": [
    "## Bibliotheken & Konfiguration"
   ]
  },
  {
   "cell_type": "code",
   "execution_count": 1,
   "id": "refined-calendar",
   "metadata": {},
   "outputs": [
    {
     "name": "stderr",
     "output_type": "stream",
     "text": [
      "Lade nötiges Paket: readr\n",
      "\n",
      "Lade nötiges Paket: dplyr\n",
      "\n",
      "\n",
      "Attache Paket: ‘dplyr’\n",
      "\n",
      "\n",
      "Die folgenden Objekte sind maskiert von ‘package:stats’:\n",
      "\n",
      "    filter, lag\n",
      "\n",
      "\n",
      "Die folgenden Objekte sind maskiert von ‘package:base’:\n",
      "\n",
      "    intersect, setdiff, setequal, union\n",
      "\n",
      "\n"
     ]
    },
    {
     "data": {
      "text/html": [
       "<ol>\n",
       "\t<li>TRUE</li>\n",
       "\t<li>TRUE</li>\n",
       "</ol>\n"
      ],
      "text/latex": [
       "\\begin{enumerate}\n",
       "\\item TRUE\n",
       "\\item TRUE\n",
       "\\end{enumerate}\n"
      ],
      "text/markdown": [
       "1. TRUE\n",
       "2. TRUE\n",
       "\n",
       "\n"
      ],
      "text/plain": [
       "[[1]]\n",
       "[1] TRUE\n",
       "\n",
       "[[2]]\n",
       "[1] TRUE\n"
      ]
     },
     "metadata": {},
     "output_type": "display_data"
    }
   ],
   "source": [
    "packages <- c(\"readr\", \"dplyr\")\n",
    "install.packages(setdiff(packages, rownames(installed.packages())))\n",
    "lapply(packages, require, character.only = TRUE)\n",
    "\n",
    "base_url <- \"https://raw.githubusercontent.com/ganslats/TMF-School-Datenanalyse-Visualisierung/master/Rohdaten/\""
   ]
  },
  {
   "cell_type": "markdown",
   "id": "sorted-wedding",
   "metadata": {},
   "source": [
    "## MIMIC III-Basisdaten laden"
   ]
  },
  {
   "cell_type": "code",
   "execution_count": 2,
   "id": "excellent-frank",
   "metadata": {},
   "outputs": [],
   "source": [
    "# Patientenstammdaten laden\n",
    "mimic.patients.raw <- read_csv(paste(base_url, \"mimic-iii-demo/PATIENTS.csv\", sep=\"\"),\n",
    "                               col_types = cols(row_id = col_integer(), subject_id = col_integer(), gender = col_character(), dob = col_datetime(format = \"\"), dod = col_datetime(format = \"\"), dod_hosp = col_datetime(format = \"\"), dod_ssn = col_datetime(format = \"\"), expire_flag = col_double()))\n",
    "\n",
    "# Behandlungsfälle laden\n",
    "mimic.admissions.raw <- read_csv(paste(base_url, \"mimic-iii-demo/ADMISSIONS.csv\", sep=\"\"),\n",
    "                                 col_types = cols(  row_id = col_integer(), subject_id = col_integer(), hadm_id = col_integer(), admittime = col_datetime(format = \"\"), dischtime = col_datetime(format = \"\"), deathtime = col_datetime(format = \"\"), admission_type = col_character(), admission_location = col_character(), discharge_location = col_character(), insurance = col_character(), language = col_character(), religion = col_character(), marital_status = col_character(), ethnicity = col_character(), edregtime = col_datetime(format = \"\"), edouttime = col_datetime(format = \"\"), diagnosis = col_character(), hospital_expire_flag = col_double(), has_chartevents_data = col_double()))\n",
    "\n",
    "# Intensivaufenthalte laden\n",
    "mimic.icustays.raw <- read_csv(paste(base_url, \"mimic-iii-demo/ICUSTAYS.csv\", sep=\"\"),\n",
    "                               col_types = cols(row_id = col_integer(), subject_id = col_integer(), hadm_id = col_integer(), icustay_id = col_integer(), dbsource = col_character(), first_careunit = col_character(), last_careunit = col_character(), first_wardid = col_double(), last_wardid = col_double(), intime = col_datetime(format = \"\"), outtime = col_datetime(format = \"\"), los = col_double()))\n"
   ]
  },
  {
   "cell_type": "markdown",
   "id": "gothic-cookbook",
   "metadata": {},
   "source": [
    "## MIMIC III-Chartevents laden"
   ]
  },
  {
   "cell_type": "code",
   "execution_count": 3,
   "id": "front-formula",
   "metadata": {},
   "outputs": [
    {
     "data": {
      "text/html": [
       "<table class=\"dataframe\">\n",
       "<caption>A tibble: 6 × 15</caption>\n",
       "<thead>\n",
       "\t<tr><th scope=col>row_id</th><th scope=col>subject_id</th><th scope=col>hadm_id</th><th scope=col>icustay_id</th><th scope=col>itemid</th><th scope=col>charttime</th><th scope=col>storetime</th><th scope=col>cgid</th><th scope=col>value</th><th scope=col>valuenum</th><th scope=col>valueuom</th><th scope=col>warning</th><th scope=col>error</th><th scope=col>resultstatus</th><th scope=col>stopped</th></tr>\n",
       "\t<tr><th scope=col>&lt;int&gt;</th><th scope=col>&lt;int&gt;</th><th scope=col>&lt;int&gt;</th><th scope=col>&lt;int&gt;</th><th scope=col>&lt;int&gt;</th><th scope=col>&lt;dttm&gt;</th><th scope=col>&lt;dttm&gt;</th><th scope=col>&lt;dbl&gt;</th><th scope=col>&lt;chr&gt;</th><th scope=col>&lt;dbl&gt;</th><th scope=col>&lt;chr&gt;</th><th scope=col>&lt;dbl&gt;</th><th scope=col>&lt;dbl&gt;</th><th scope=col>&lt;chr&gt;</th><th scope=col>&lt;chr&gt;</th></tr>\n",
       "</thead>\n",
       "<tbody>\n",
       "\t<tr><td>5279021</td><td>40124</td><td>126179</td><td>279554</td><td>223761</td><td>2130-02-04 04:00:00</td><td>2130-02-04 04:35:00</td><td>19085</td><td>95.9     </td><td>     95.9</td><td>?F      </td><td>0</td><td>0</td><td>NA</td><td>NA</td></tr>\n",
       "\t<tr><td>5279022</td><td>40124</td><td>126179</td><td>279554</td><td>224695</td><td>2130-02-04 04:25:00</td><td>2130-02-04 05:55:00</td><td>18999</td><td>2222221.7</td><td>2222221.7</td><td>cmH2O   </td><td>0</td><td>0</td><td>NA</td><td>NA</td></tr>\n",
       "\t<tr><td>5279023</td><td>40124</td><td>126179</td><td>279554</td><td>220210</td><td>2130-02-04 04:30:00</td><td>2130-02-04 04:43:00</td><td>21452</td><td>15       </td><td>     15.0</td><td>insp/min</td><td>0</td><td>0</td><td>NA</td><td>NA</td></tr>\n",
       "\t<tr><td>5279024</td><td>40124</td><td>126179</td><td>279554</td><td>220045</td><td>2130-02-04 04:32:00</td><td>2130-02-04 04:43:00</td><td>21452</td><td>94       </td><td>     94.0</td><td>bpm     </td><td>0</td><td>0</td><td>NA</td><td>NA</td></tr>\n",
       "\t<tr><td>5279025</td><td>40124</td><td>126179</td><td>279554</td><td>220179</td><td>2130-02-04 04:32:00</td><td>2130-02-04 04:43:00</td><td>21452</td><td>163      </td><td>    163.0</td><td>mmHg    </td><td>0</td><td>0</td><td>NA</td><td>NA</td></tr>\n",
       "\t<tr><td>5279026</td><td>40124</td><td>126179</td><td>279554</td><td>220180</td><td>2130-02-04 04:32:00</td><td>2130-02-04 04:43:00</td><td>21452</td><td>81       </td><td>     81.0</td><td>mmHg    </td><td>0</td><td>0</td><td>NA</td><td>NA</td></tr>\n",
       "</tbody>\n",
       "</table>\n"
      ],
      "text/latex": [
       "A tibble: 6 × 15\n",
       "\\begin{tabular}{lllllllllllllll}\n",
       " row\\_id & subject\\_id & hadm\\_id & icustay\\_id & itemid & charttime & storetime & cgid & value & valuenum & valueuom & warning & error & resultstatus & stopped\\\\\n",
       " <int> & <int> & <int> & <int> & <int> & <dttm> & <dttm> & <dbl> & <chr> & <dbl> & <chr> & <dbl> & <dbl> & <chr> & <chr>\\\\\n",
       "\\hline\n",
       "\t 5279021 & 40124 & 126179 & 279554 & 223761 & 2130-02-04 04:00:00 & 2130-02-04 04:35:00 & 19085 & 95.9      &      95.9 & ?F       & 0 & 0 & NA & NA\\\\\n",
       "\t 5279022 & 40124 & 126179 & 279554 & 224695 & 2130-02-04 04:25:00 & 2130-02-04 05:55:00 & 18999 & 2222221.7 & 2222221.7 & cmH2O    & 0 & 0 & NA & NA\\\\\n",
       "\t 5279023 & 40124 & 126179 & 279554 & 220210 & 2130-02-04 04:30:00 & 2130-02-04 04:43:00 & 21452 & 15        &      15.0 & insp/min & 0 & 0 & NA & NA\\\\\n",
       "\t 5279024 & 40124 & 126179 & 279554 & 220045 & 2130-02-04 04:32:00 & 2130-02-04 04:43:00 & 21452 & 94        &      94.0 & bpm      & 0 & 0 & NA & NA\\\\\n",
       "\t 5279025 & 40124 & 126179 & 279554 & 220179 & 2130-02-04 04:32:00 & 2130-02-04 04:43:00 & 21452 & 163       &     163.0 & mmHg     & 0 & 0 & NA & NA\\\\\n",
       "\t 5279026 & 40124 & 126179 & 279554 & 220180 & 2130-02-04 04:32:00 & 2130-02-04 04:43:00 & 21452 & 81        &      81.0 & mmHg     & 0 & 0 & NA & NA\\\\\n",
       "\\end{tabular}\n"
      ],
      "text/markdown": [
       "\n",
       "A tibble: 6 × 15\n",
       "\n",
       "| row_id &lt;int&gt; | subject_id &lt;int&gt; | hadm_id &lt;int&gt; | icustay_id &lt;int&gt; | itemid &lt;int&gt; | charttime &lt;dttm&gt; | storetime &lt;dttm&gt; | cgid &lt;dbl&gt; | value &lt;chr&gt; | valuenum &lt;dbl&gt; | valueuom &lt;chr&gt; | warning &lt;dbl&gt; | error &lt;dbl&gt; | resultstatus &lt;chr&gt; | stopped &lt;chr&gt; |\n",
       "|---|---|---|---|---|---|---|---|---|---|---|---|---|---|---|\n",
       "| 5279021 | 40124 | 126179 | 279554 | 223761 | 2130-02-04 04:00:00 | 2130-02-04 04:35:00 | 19085 | 95.9      |      95.9 | ?F       | 0 | 0 | NA | NA |\n",
       "| 5279022 | 40124 | 126179 | 279554 | 224695 | 2130-02-04 04:25:00 | 2130-02-04 05:55:00 | 18999 | 2222221.7 | 2222221.7 | cmH2O    | 0 | 0 | NA | NA |\n",
       "| 5279023 | 40124 | 126179 | 279554 | 220210 | 2130-02-04 04:30:00 | 2130-02-04 04:43:00 | 21452 | 15        |      15.0 | insp/min | 0 | 0 | NA | NA |\n",
       "| 5279024 | 40124 | 126179 | 279554 | 220045 | 2130-02-04 04:32:00 | 2130-02-04 04:43:00 | 21452 | 94        |      94.0 | bpm      | 0 | 0 | NA | NA |\n",
       "| 5279025 | 40124 | 126179 | 279554 | 220179 | 2130-02-04 04:32:00 | 2130-02-04 04:43:00 | 21452 | 163       |     163.0 | mmHg     | 0 | 0 | NA | NA |\n",
       "| 5279026 | 40124 | 126179 | 279554 | 220180 | 2130-02-04 04:32:00 | 2130-02-04 04:43:00 | 21452 | 81        |      81.0 | mmHg     | 0 | 0 | NA | NA |\n",
       "\n"
      ],
      "text/plain": [
       "  row_id  subject_id hadm_id icustay_id itemid charttime          \n",
       "1 5279021 40124      126179  279554     223761 2130-02-04 04:00:00\n",
       "2 5279022 40124      126179  279554     224695 2130-02-04 04:25:00\n",
       "3 5279023 40124      126179  279554     220210 2130-02-04 04:30:00\n",
       "4 5279024 40124      126179  279554     220045 2130-02-04 04:32:00\n",
       "5 5279025 40124      126179  279554     220179 2130-02-04 04:32:00\n",
       "6 5279026 40124      126179  279554     220180 2130-02-04 04:32:00\n",
       "  storetime           cgid  value     valuenum  valueuom warning error\n",
       "1 2130-02-04 04:35:00 19085 95.9           95.9 ?F       0       0    \n",
       "2 2130-02-04 05:55:00 18999 2222221.7 2222221.7 cmH2O    0       0    \n",
       "3 2130-02-04 04:43:00 21452 15             15.0 insp/min 0       0    \n",
       "4 2130-02-04 04:43:00 21452 94             94.0 bpm      0       0    \n",
       "5 2130-02-04 04:43:00 21452 163           163.0 mmHg     0       0    \n",
       "6 2130-02-04 04:43:00 21452 81             81.0 mmHg     0       0    \n",
       "  resultstatus stopped\n",
       "1 NA           NA     \n",
       "2 NA           NA     \n",
       "3 NA           NA     \n",
       "4 NA           NA     \n",
       "5 NA           NA     \n",
       "6 NA           NA     "
      ]
     },
     "metadata": {},
     "output_type": "display_data"
    }
   ],
   "source": [
    "# Chartevents laden\n",
    "mimic.chartevents.raw <- read_csv(paste(base_url, \"mimic-iii-demo/CHARTEVENTS.csv\", sep=\"\"),\n",
    "                                  col_types = cols(row_id = col_integer(), subject_id = col_integer(), hadm_id = col_integer(), icustay_id = col_integer(), itemid = col_integer(), charttime = col_datetime(format = \"\"), storetime = col_datetime(format = \"\"), cgid = col_double(), value = col_character(), valuenum = col_double(), valueuom = col_character(), warning = col_double(), error = col_double(), resultstatus = col_character(), stopped = col_character()))\n",
    "head(mimic.chartevents.raw)"
   ]
  },
  {
   "cell_type": "markdown",
   "id": "finnish-density",
   "metadata": {},
   "source": [
    "### Bezeichner ergänzen"
   ]
  },
  {
   "cell_type": "code",
   "execution_count": 4,
   "id": "seven-manufacturer",
   "metadata": {},
   "outputs": [
    {
     "data": {
      "text/html": [
       "<table class=\"dataframe\">\n",
       "<caption>A tibble: 6 × 17</caption>\n",
       "<thead>\n",
       "\t<tr><th scope=col>row_id</th><th scope=col>subject_id</th><th scope=col>hadm_id</th><th scope=col>icustay_id</th><th scope=col>itemid</th><th scope=col>charttime</th><th scope=col>storetime</th><th scope=col>cgid</th><th scope=col>value</th><th scope=col>valuenum</th><th scope=col>valueuom</th><th scope=col>warning</th><th scope=col>error</th><th scope=col>resultstatus</th><th scope=col>stopped</th><th scope=col>category</th><th scope=col>label</th></tr>\n",
       "\t<tr><th scope=col>&lt;int&gt;</th><th scope=col>&lt;int&gt;</th><th scope=col>&lt;int&gt;</th><th scope=col>&lt;int&gt;</th><th scope=col>&lt;int&gt;</th><th scope=col>&lt;dttm&gt;</th><th scope=col>&lt;dttm&gt;</th><th scope=col>&lt;dbl&gt;</th><th scope=col>&lt;chr&gt;</th><th scope=col>&lt;dbl&gt;</th><th scope=col>&lt;chr&gt;</th><th scope=col>&lt;dbl&gt;</th><th scope=col>&lt;dbl&gt;</th><th scope=col>&lt;chr&gt;</th><th scope=col>&lt;chr&gt;</th><th scope=col>&lt;chr&gt;</th><th scope=col>&lt;chr&gt;</th></tr>\n",
       "</thead>\n",
       "<tbody>\n",
       "\t<tr><td>5279021</td><td>40124</td><td>126179</td><td>279554</td><td>223761</td><td>2130-02-04 04:00:00</td><td>2130-02-04 04:35:00</td><td>19085</td><td>95.9     </td><td>     95.9</td><td>?F      </td><td>0</td><td>0</td><td>NA</td><td>NA</td><td>Routine Vital Signs</td><td>Temperature Fahrenheit               </td></tr>\n",
       "\t<tr><td>5279022</td><td>40124</td><td>126179</td><td>279554</td><td>224695</td><td>2130-02-04 04:25:00</td><td>2130-02-04 05:55:00</td><td>18999</td><td>2222221.7</td><td>2222221.7</td><td>cmH2O   </td><td>0</td><td>0</td><td>NA</td><td>NA</td><td>Respiratory        </td><td>Peak Insp. Pressure                  </td></tr>\n",
       "\t<tr><td>5279023</td><td>40124</td><td>126179</td><td>279554</td><td>220210</td><td>2130-02-04 04:30:00</td><td>2130-02-04 04:43:00</td><td>21452</td><td>15       </td><td>     15.0</td><td>insp/min</td><td>0</td><td>0</td><td>NA</td><td>NA</td><td>Respiratory        </td><td>Respiratory Rate                     </td></tr>\n",
       "\t<tr><td>5279024</td><td>40124</td><td>126179</td><td>279554</td><td>220045</td><td>2130-02-04 04:32:00</td><td>2130-02-04 04:43:00</td><td>21452</td><td>94       </td><td>     94.0</td><td>bpm     </td><td>0</td><td>0</td><td>NA</td><td>NA</td><td>Routine Vital Signs</td><td>Heart Rate                           </td></tr>\n",
       "\t<tr><td>5279025</td><td>40124</td><td>126179</td><td>279554</td><td>220179</td><td>2130-02-04 04:32:00</td><td>2130-02-04 04:43:00</td><td>21452</td><td>163      </td><td>    163.0</td><td>mmHg    </td><td>0</td><td>0</td><td>NA</td><td>NA</td><td>Routine Vital Signs</td><td>Non Invasive Blood Pressure systolic </td></tr>\n",
       "\t<tr><td>5279026</td><td>40124</td><td>126179</td><td>279554</td><td>220180</td><td>2130-02-04 04:32:00</td><td>2130-02-04 04:43:00</td><td>21452</td><td>81       </td><td>     81.0</td><td>mmHg    </td><td>0</td><td>0</td><td>NA</td><td>NA</td><td>Routine Vital Signs</td><td>Non Invasive Blood Pressure diastolic</td></tr>\n",
       "</tbody>\n",
       "</table>\n"
      ],
      "text/latex": [
       "A tibble: 6 × 17\n",
       "\\begin{tabular}{lllllllllllllllll}\n",
       " row\\_id & subject\\_id & hadm\\_id & icustay\\_id & itemid & charttime & storetime & cgid & value & valuenum & valueuom & warning & error & resultstatus & stopped & category & label\\\\\n",
       " <int> & <int> & <int> & <int> & <int> & <dttm> & <dttm> & <dbl> & <chr> & <dbl> & <chr> & <dbl> & <dbl> & <chr> & <chr> & <chr> & <chr>\\\\\n",
       "\\hline\n",
       "\t 5279021 & 40124 & 126179 & 279554 & 223761 & 2130-02-04 04:00:00 & 2130-02-04 04:35:00 & 19085 & 95.9      &      95.9 & ?F       & 0 & 0 & NA & NA & Routine Vital Signs & Temperature Fahrenheit               \\\\\n",
       "\t 5279022 & 40124 & 126179 & 279554 & 224695 & 2130-02-04 04:25:00 & 2130-02-04 05:55:00 & 18999 & 2222221.7 & 2222221.7 & cmH2O    & 0 & 0 & NA & NA & Respiratory         & Peak Insp. Pressure                  \\\\\n",
       "\t 5279023 & 40124 & 126179 & 279554 & 220210 & 2130-02-04 04:30:00 & 2130-02-04 04:43:00 & 21452 & 15        &      15.0 & insp/min & 0 & 0 & NA & NA & Respiratory         & Respiratory Rate                     \\\\\n",
       "\t 5279024 & 40124 & 126179 & 279554 & 220045 & 2130-02-04 04:32:00 & 2130-02-04 04:43:00 & 21452 & 94        &      94.0 & bpm      & 0 & 0 & NA & NA & Routine Vital Signs & Heart Rate                           \\\\\n",
       "\t 5279025 & 40124 & 126179 & 279554 & 220179 & 2130-02-04 04:32:00 & 2130-02-04 04:43:00 & 21452 & 163       &     163.0 & mmHg     & 0 & 0 & NA & NA & Routine Vital Signs & Non Invasive Blood Pressure systolic \\\\\n",
       "\t 5279026 & 40124 & 126179 & 279554 & 220180 & 2130-02-04 04:32:00 & 2130-02-04 04:43:00 & 21452 & 81        &      81.0 & mmHg     & 0 & 0 & NA & NA & Routine Vital Signs & Non Invasive Blood Pressure diastolic\\\\\n",
       "\\end{tabular}\n"
      ],
      "text/markdown": [
       "\n",
       "A tibble: 6 × 17\n",
       "\n",
       "| row_id &lt;int&gt; | subject_id &lt;int&gt; | hadm_id &lt;int&gt; | icustay_id &lt;int&gt; | itemid &lt;int&gt; | charttime &lt;dttm&gt; | storetime &lt;dttm&gt; | cgid &lt;dbl&gt; | value &lt;chr&gt; | valuenum &lt;dbl&gt; | valueuom &lt;chr&gt; | warning &lt;dbl&gt; | error &lt;dbl&gt; | resultstatus &lt;chr&gt; | stopped &lt;chr&gt; | category &lt;chr&gt; | label &lt;chr&gt; |\n",
       "|---|---|---|---|---|---|---|---|---|---|---|---|---|---|---|---|---|\n",
       "| 5279021 | 40124 | 126179 | 279554 | 223761 | 2130-02-04 04:00:00 | 2130-02-04 04:35:00 | 19085 | 95.9      |      95.9 | ?F       | 0 | 0 | NA | NA | Routine Vital Signs | Temperature Fahrenheit                |\n",
       "| 5279022 | 40124 | 126179 | 279554 | 224695 | 2130-02-04 04:25:00 | 2130-02-04 05:55:00 | 18999 | 2222221.7 | 2222221.7 | cmH2O    | 0 | 0 | NA | NA | Respiratory         | Peak Insp. Pressure                   |\n",
       "| 5279023 | 40124 | 126179 | 279554 | 220210 | 2130-02-04 04:30:00 | 2130-02-04 04:43:00 | 21452 | 15        |      15.0 | insp/min | 0 | 0 | NA | NA | Respiratory         | Respiratory Rate                      |\n",
       "| 5279024 | 40124 | 126179 | 279554 | 220045 | 2130-02-04 04:32:00 | 2130-02-04 04:43:00 | 21452 | 94        |      94.0 | bpm      | 0 | 0 | NA | NA | Routine Vital Signs | Heart Rate                            |\n",
       "| 5279025 | 40124 | 126179 | 279554 | 220179 | 2130-02-04 04:32:00 | 2130-02-04 04:43:00 | 21452 | 163       |     163.0 | mmHg     | 0 | 0 | NA | NA | Routine Vital Signs | Non Invasive Blood Pressure systolic  |\n",
       "| 5279026 | 40124 | 126179 | 279554 | 220180 | 2130-02-04 04:32:00 | 2130-02-04 04:43:00 | 21452 | 81        |      81.0 | mmHg     | 0 | 0 | NA | NA | Routine Vital Signs | Non Invasive Blood Pressure diastolic |\n",
       "\n"
      ],
      "text/plain": [
       "  row_id  subject_id hadm_id icustay_id itemid charttime          \n",
       "1 5279021 40124      126179  279554     223761 2130-02-04 04:00:00\n",
       "2 5279022 40124      126179  279554     224695 2130-02-04 04:25:00\n",
       "3 5279023 40124      126179  279554     220210 2130-02-04 04:30:00\n",
       "4 5279024 40124      126179  279554     220045 2130-02-04 04:32:00\n",
       "5 5279025 40124      126179  279554     220179 2130-02-04 04:32:00\n",
       "6 5279026 40124      126179  279554     220180 2130-02-04 04:32:00\n",
       "  storetime           cgid  value     valuenum  valueuom warning error\n",
       "1 2130-02-04 04:35:00 19085 95.9           95.9 ?F       0       0    \n",
       "2 2130-02-04 05:55:00 18999 2222221.7 2222221.7 cmH2O    0       0    \n",
       "3 2130-02-04 04:43:00 21452 15             15.0 insp/min 0       0    \n",
       "4 2130-02-04 04:43:00 21452 94             94.0 bpm      0       0    \n",
       "5 2130-02-04 04:43:00 21452 163           163.0 mmHg     0       0    \n",
       "6 2130-02-04 04:43:00 21452 81             81.0 mmHg     0       0    \n",
       "  resultstatus stopped category           \n",
       "1 NA           NA      Routine Vital Signs\n",
       "2 NA           NA      Respiratory        \n",
       "3 NA           NA      Respiratory        \n",
       "4 NA           NA      Routine Vital Signs\n",
       "5 NA           NA      Routine Vital Signs\n",
       "6 NA           NA      Routine Vital Signs\n",
       "  label                                \n",
       "1 Temperature Fahrenheit               \n",
       "2 Peak Insp. Pressure                  \n",
       "3 Respiratory Rate                     \n",
       "4 Heart Rate                           \n",
       "5 Non Invasive Blood Pressure systolic \n",
       "6 Non Invasive Blood Pressure diastolic"
      ]
     },
     "metadata": {},
     "output_type": "display_data"
    }
   ],
   "source": [
    "# Bezeichner laden\n",
    "mimic.d_items.raw <- read_csv(paste(base_url, \"mimic-iii-demo/D_ITEMS.csv\", sep=\"\"),\n",
    "                              col_types = cols(row_id = col_integer(), itemid = col_integer(), label = col_character(), abbreviation = col_character(), dbsource = col_character(), linksto = col_character(), category = col_character(), unitname = col_character(), param_type = col_character(), conceptid = col_character()))\n",
    "\n",
    "# Bezeichner hinzufügen\n",
    "mimic.chartevents.annotated <- mimic.chartevents.raw %>%\n",
    "  inner_join(mimic.d_items.raw %>% select(itemid, category, label), by = \"itemid\")\n",
    "\n",
    "head(mimic.chartevents.annotated)"
   ]
  },
  {
   "cell_type": "markdown",
   "id": "sporting-hamburg",
   "metadata": {},
   "source": [
    "## Aufgabe: Finden Sie häufig verwendete Items für den Blutdruck und Puls!\n",
    "\n",
    "Hier können Sie das Wissen aus dem Abschnitt 4, Demo 2 (Daten abfragen mit Tidyverse) anwenden.\n",
    "* zugehöriges Notebook: [teil-4-demo-02-abfragen-tidyverse.ipynb](https://github.com/ganslats/TMF-School-2021-Block-7/blob/main/Notebooks/teil-4-demo-02-abfragen-tidyverse.ipynb)\n",
    "\n",
    "Filtern Sie die Rohdaten mit der `filter()`-Funktion nach Inhalten, die Sie für Blutdruck & Puls erwarten würden (z.B. Maßeinheiten in der Spalte `valueuom` oder Bezeichner in der Spalte `label`. Finden Sie häufig verwendete Attribute, indem Sie die Anzahl der Zeilen mit den `group_by()`- und `summarize()`-Funktionen aggregieren.\n",
    "\n",
    "Tipps zur `filter()`-Funktion:\n",
    "* Wenn Sie mehrere mit Komma getrennte Kriterien angeben, werden sie mit logisch \"und\" verknüpft\n",
    "* Sie können Kriterien mit dem `|`-Operator auch als logisch \"oder\" kombinieren\n",
    "* Sie können mit dem `%in%`-Operator auch nach mehreren verschiedenen Ausprägungen eines Textes suchen (z.B. `filter(farbe %in% c(\"rot\", \"blau\"))`)\n",
    "* Sie können auch nach Teilstrings suchen, indem Sie die Funktion `grepl(\"Suchbegriff\", Spalte)` nutzen\n",
    "\n",
    "Sonstige Tipps:\n",
    "* Denken Sie daran, dass Sie bei der `summarize()`-Funktion die Option `.groups = \"keep\"` angeben müssen, wenn die Gruppierungsmerkmale beibehalten werden sollen. Sie erhalten sonst nur das aggregierte Ergebnis als Zahl, aber nicht die (meistens benötigten) Merkmale, nach denen zuvor gruppiert wurde."
   ]
  },
  {
   "cell_type": "code",
   "execution_count": 5,
   "id": "unlikely-commissioner",
   "metadata": {},
   "outputs": [
    {
     "data": {
      "text/html": [
       "<table class=\"dataframe\">\n",
       "<caption>A grouped_df: 22 × 4</caption>\n",
       "<thead>\n",
       "\t<tr><th scope=col>itemid</th><th scope=col>label</th><th scope=col>valueuom</th><th scope=col>n</th></tr>\n",
       "\t<tr><th scope=col>&lt;int&gt;</th><th scope=col>&lt;chr&gt;</th><th scope=col>&lt;chr&gt;</th><th scope=col>&lt;int&gt;</th></tr>\n",
       "</thead>\n",
       "<tbody>\n",
       "\t<tr><td>    51</td><td>Arterial BP [Systolic]               </td><td>mmHg</td><td>4506</td></tr>\n",
       "\t<tr><td>   442</td><td>Manual BP [Systolic]                 </td><td>mmHg</td><td>   1</td></tr>\n",
       "\t<tr><td>   455</td><td>NBP [Systolic]                       </td><td>mmHg</td><td>3208</td></tr>\n",
       "\t<tr><td>   492</td><td>PAP [Systolic]                       </td><td>mmHg</td><td>1446</td></tr>\n",
       "\t<tr><td>  6701</td><td>Arterial BP #2 [Systolic]            </td><td>mmHg</td><td>  27</td></tr>\n",
       "\t<tr><td>  8368</td><td>Arterial BP [Diastolic]              </td><td>mmHg</td><td>4504</td></tr>\n",
       "\t<tr><td>  8440</td><td>Manual BP [Diastolic]                </td><td>mmHg</td><td>   1</td></tr>\n",
       "\t<tr><td>  8441</td><td>NBP [Diastolic]                      </td><td>mmHg</td><td>3205</td></tr>\n",
       "\t<tr><td>  8448</td><td>PAP [Diastolic]                      </td><td>mmHg</td><td>1445</td></tr>\n",
       "\t<tr><td>  8555</td><td>Arterial BP #2 [Diastolic]           </td><td>mmHg</td><td>  27</td></tr>\n",
       "\t<tr><td>220050</td><td>Arterial Blood Pressure systolic     </td><td>mmHg</td><td>3018</td></tr>\n",
       "\t<tr><td>220051</td><td>Arterial Blood Pressure diastolic    </td><td>mmHg</td><td>3017</td></tr>\n",
       "\t<tr><td>220059</td><td>Pulmonary Artery Pressure systolic   </td><td>mmHg</td><td>  21</td></tr>\n",
       "\t<tr><td>220060</td><td>Pulmonary Artery Pressure diastolic  </td><td>mmHg</td><td>  22</td></tr>\n",
       "\t<tr><td>220179</td><td>Non Invasive Blood Pressure systolic </td><td>mmHg</td><td>4884</td></tr>\n",
       "\t<tr><td>220180</td><td>Non Invasive Blood Pressure diastolic</td><td>mmHg</td><td>4879</td></tr>\n",
       "\t<tr><td>224167</td><td>Manual Blood Pressure Systolic Left  </td><td>mmHg</td><td>   5</td></tr>\n",
       "\t<tr><td>224643</td><td>Manual Blood Pressure Diastolic Left </td><td>mmHg</td><td>   5</td></tr>\n",
       "\t<tr><td>225309</td><td>ART BP Systolic                      </td><td>mmHg</td><td> 295</td></tr>\n",
       "\t<tr><td>225310</td><td>ART BP Diastolic                     </td><td>mmHg</td><td> 295</td></tr>\n",
       "\t<tr><td>227242</td><td>Manual Blood Pressure Diastolic Right</td><td>mmHg</td><td>   1</td></tr>\n",
       "\t<tr><td>227243</td><td>Manual Blood Pressure Systolic Right </td><td>mmHg</td><td>   1</td></tr>\n",
       "</tbody>\n",
       "</table>\n"
      ],
      "text/latex": [
       "A grouped\\_df: 22 × 4\n",
       "\\begin{tabular}{llll}\n",
       " itemid & label & valueuom & n\\\\\n",
       " <int> & <chr> & <chr> & <int>\\\\\n",
       "\\hline\n",
       "\t     51 & Arterial BP {[}Systolic{]}                & mmHg & 4506\\\\\n",
       "\t    442 & Manual BP {[}Systolic{]}                  & mmHg &    1\\\\\n",
       "\t    455 & NBP {[}Systolic{]}                        & mmHg & 3208\\\\\n",
       "\t    492 & PAP {[}Systolic{]}                        & mmHg & 1446\\\\\n",
       "\t   6701 & Arterial BP \\#2 {[}Systolic{]}             & mmHg &   27\\\\\n",
       "\t   8368 & Arterial BP {[}Diastolic{]}               & mmHg & 4504\\\\\n",
       "\t   8440 & Manual BP {[}Diastolic{]}                 & mmHg &    1\\\\\n",
       "\t   8441 & NBP {[}Diastolic{]}                       & mmHg & 3205\\\\\n",
       "\t   8448 & PAP {[}Diastolic{]}                       & mmHg & 1445\\\\\n",
       "\t   8555 & Arterial BP \\#2 {[}Diastolic{]}            & mmHg &   27\\\\\n",
       "\t 220050 & Arterial Blood Pressure systolic      & mmHg & 3018\\\\\n",
       "\t 220051 & Arterial Blood Pressure diastolic     & mmHg & 3017\\\\\n",
       "\t 220059 & Pulmonary Artery Pressure systolic    & mmHg &   21\\\\\n",
       "\t 220060 & Pulmonary Artery Pressure diastolic   & mmHg &   22\\\\\n",
       "\t 220179 & Non Invasive Blood Pressure systolic  & mmHg & 4884\\\\\n",
       "\t 220180 & Non Invasive Blood Pressure diastolic & mmHg & 4879\\\\\n",
       "\t 224167 & Manual Blood Pressure Systolic Left   & mmHg &    5\\\\\n",
       "\t 224643 & Manual Blood Pressure Diastolic Left  & mmHg &    5\\\\\n",
       "\t 225309 & ART BP Systolic                       & mmHg &  295\\\\\n",
       "\t 225310 & ART BP Diastolic                      & mmHg &  295\\\\\n",
       "\t 227242 & Manual Blood Pressure Diastolic Right & mmHg &    1\\\\\n",
       "\t 227243 & Manual Blood Pressure Systolic Right  & mmHg &    1\\\\\n",
       "\\end{tabular}\n"
      ],
      "text/markdown": [
       "\n",
       "A grouped_df: 22 × 4\n",
       "\n",
       "| itemid &lt;int&gt; | label &lt;chr&gt; | valueuom &lt;chr&gt; | n &lt;int&gt; |\n",
       "|---|---|---|---|\n",
       "|     51 | Arterial BP [Systolic]                | mmHg | 4506 |\n",
       "|    442 | Manual BP [Systolic]                  | mmHg |    1 |\n",
       "|    455 | NBP [Systolic]                        | mmHg | 3208 |\n",
       "|    492 | PAP [Systolic]                        | mmHg | 1446 |\n",
       "|   6701 | Arterial BP #2 [Systolic]             | mmHg |   27 |\n",
       "|   8368 | Arterial BP [Diastolic]               | mmHg | 4504 |\n",
       "|   8440 | Manual BP [Diastolic]                 | mmHg |    1 |\n",
       "|   8441 | NBP [Diastolic]                       | mmHg | 3205 |\n",
       "|   8448 | PAP [Diastolic]                       | mmHg | 1445 |\n",
       "|   8555 | Arterial BP #2 [Diastolic]            | mmHg |   27 |\n",
       "| 220050 | Arterial Blood Pressure systolic      | mmHg | 3018 |\n",
       "| 220051 | Arterial Blood Pressure diastolic     | mmHg | 3017 |\n",
       "| 220059 | Pulmonary Artery Pressure systolic    | mmHg |   21 |\n",
       "| 220060 | Pulmonary Artery Pressure diastolic   | mmHg |   22 |\n",
       "| 220179 | Non Invasive Blood Pressure systolic  | mmHg | 4884 |\n",
       "| 220180 | Non Invasive Blood Pressure diastolic | mmHg | 4879 |\n",
       "| 224167 | Manual Blood Pressure Systolic Left   | mmHg |    5 |\n",
       "| 224643 | Manual Blood Pressure Diastolic Left  | mmHg |    5 |\n",
       "| 225309 | ART BP Systolic                       | mmHg |  295 |\n",
       "| 225310 | ART BP Diastolic                      | mmHg |  295 |\n",
       "| 227242 | Manual Blood Pressure Diastolic Right | mmHg |    1 |\n",
       "| 227243 | Manual Blood Pressure Systolic Right  | mmHg |    1 |\n",
       "\n"
      ],
      "text/plain": [
       "   itemid label                                 valueuom n   \n",
       "1      51 Arterial BP [Systolic]                mmHg     4506\n",
       "2     442 Manual BP [Systolic]                  mmHg        1\n",
       "3     455 NBP [Systolic]                        mmHg     3208\n",
       "4     492 PAP [Systolic]                        mmHg     1446\n",
       "5    6701 Arterial BP #2 [Systolic]             mmHg       27\n",
       "6    8368 Arterial BP [Diastolic]               mmHg     4504\n",
       "7    8440 Manual BP [Diastolic]                 mmHg        1\n",
       "8    8441 NBP [Diastolic]                       mmHg     3205\n",
       "9    8448 PAP [Diastolic]                       mmHg     1445\n",
       "10   8555 Arterial BP #2 [Diastolic]            mmHg       27\n",
       "11 220050 Arterial Blood Pressure systolic      mmHg     3018\n",
       "12 220051 Arterial Blood Pressure diastolic     mmHg     3017\n",
       "13 220059 Pulmonary Artery Pressure systolic    mmHg       21\n",
       "14 220060 Pulmonary Artery Pressure diastolic   mmHg       22\n",
       "15 220179 Non Invasive Blood Pressure systolic  mmHg     4884\n",
       "16 220180 Non Invasive Blood Pressure diastolic mmHg     4879\n",
       "17 224167 Manual Blood Pressure Systolic Left   mmHg        5\n",
       "18 224643 Manual Blood Pressure Diastolic Left  mmHg        5\n",
       "19 225309 ART BP Systolic                       mmHg      295\n",
       "20 225310 ART BP Diastolic                      mmHg      295\n",
       "21 227242 Manual Blood Pressure Diastolic Right mmHg        1\n",
       "22 227243 Manual Blood Pressure Systolic Right  mmHg        1"
      ]
     },
     "metadata": {},
     "output_type": "display_data"
    }
   ],
   "source": [
    "# Mögliche Ausprägungen für den Blutdruck finden\n",
    "mimic.chartevents.annotated %>% filter(valueuom == \"mmHg\", grepl(\"systolic\", tolower(label)) | grepl(\"diastolic\", tolower(label))) %>%\n",
    "    group_by(itemid, label, valueuom) %>%\n",
    "    summarize(n = n(), .groups = \"keep\")"
   ]
  },
  {
   "cell_type": "code",
   "execution_count": 6,
   "id": "mental-jenny",
   "metadata": {
    "tags": []
   },
   "outputs": [
    {
     "data": {
      "text/html": [
       "<table class=\"dataframe\">\n",
       "<caption>A grouped_df: 7 × 4</caption>\n",
       "<thead>\n",
       "\t<tr><th scope=col>itemid</th><th scope=col>label</th><th scope=col>valueuom</th><th scope=col>n</th></tr>\n",
       "\t<tr><th scope=col>&lt;int&gt;</th><th scope=col>&lt;chr&gt;</th><th scope=col>&lt;chr&gt;</th><th scope=col>&lt;int&gt;</th></tr>\n",
       "</thead>\n",
       "<tbody>\n",
       "\t<tr><td>    63</td><td>BIPAP - BPM             </td><td>bpm</td><td>   1</td></tr>\n",
       "\t<tr><td>220045</td><td>Heart Rate              </td><td>bpm</td><td>8094</td></tr>\n",
       "\t<tr><td>220046</td><td>Heart rate Alarm - High </td><td>bpm</td><td> 883</td></tr>\n",
       "\t<tr><td>220047</td><td>Heart Rate Alarm - Low  </td><td>bpm</td><td> 885</td></tr>\n",
       "\t<tr><td>224422</td><td>Spont RR                </td><td>bpm</td><td>  65</td></tr>\n",
       "\t<tr><td>224751</td><td>Temporary Pacemaker Rate</td><td>bpm</td><td>   2</td></tr>\n",
       "\t<tr><td>226764</td><td>HrApacheIIValue         </td><td>bpm</td><td>   1</td></tr>\n",
       "</tbody>\n",
       "</table>\n"
      ],
      "text/latex": [
       "A grouped\\_df: 7 × 4\n",
       "\\begin{tabular}{llll}\n",
       " itemid & label & valueuom & n\\\\\n",
       " <int> & <chr> & <chr> & <int>\\\\\n",
       "\\hline\n",
       "\t     63 & BIPAP - BPM              & bpm &    1\\\\\n",
       "\t 220045 & Heart Rate               & bpm & 8094\\\\\n",
       "\t 220046 & Heart rate Alarm - High  & bpm &  883\\\\\n",
       "\t 220047 & Heart Rate Alarm - Low   & bpm &  885\\\\\n",
       "\t 224422 & Spont RR                 & bpm &   65\\\\\n",
       "\t 224751 & Temporary Pacemaker Rate & bpm &    2\\\\\n",
       "\t 226764 & HrApacheIIValue          & bpm &    1\\\\\n",
       "\\end{tabular}\n"
      ],
      "text/markdown": [
       "\n",
       "A grouped_df: 7 × 4\n",
       "\n",
       "| itemid &lt;int&gt; | label &lt;chr&gt; | valueuom &lt;chr&gt; | n &lt;int&gt; |\n",
       "|---|---|---|---|\n",
       "|     63 | BIPAP - BPM              | bpm |    1 |\n",
       "| 220045 | Heart Rate               | bpm | 8094 |\n",
       "| 220046 | Heart rate Alarm - High  | bpm |  883 |\n",
       "| 220047 | Heart Rate Alarm - Low   | bpm |  885 |\n",
       "| 224422 | Spont RR                 | bpm |   65 |\n",
       "| 224751 | Temporary Pacemaker Rate | bpm |    2 |\n",
       "| 226764 | HrApacheIIValue          | bpm |    1 |\n",
       "\n"
      ],
      "text/plain": [
       "  itemid label                    valueuom n   \n",
       "1     63 BIPAP - BPM              bpm         1\n",
       "2 220045 Heart Rate               bpm      8094\n",
       "3 220046 Heart rate Alarm - High  bpm       883\n",
       "4 220047 Heart Rate Alarm - Low   bpm       885\n",
       "5 224422 Spont RR                 bpm        65\n",
       "6 224751 Temporary Pacemaker Rate bpm         2\n",
       "7 226764 HrApacheIIValue          bpm         1"
      ]
     },
     "metadata": {},
     "output_type": "display_data"
    }
   ],
   "source": [
    "# Mögliche Ausprägungen für den Puls finden\n",
    "mimic.chartevents.annotated %>% filter(valueuom == \"bpm\") %>%\n",
    "    group_by(itemid, label, valueuom) %>%\n",
    "    summarize(n = n(), .groups = \"keep\")"
   ]
  }
 ],
 "metadata": {
  "kernelspec": {
   "display_name": "R",
   "language": "R",
   "name": "ir"
  },
  "language_info": {
   "codemirror_mode": "r",
   "file_extension": ".r",
   "mimetype": "text/x-r-source",
   "name": "R",
   "pygments_lexer": "r",
   "version": "4.2.3"
  }
 },
 "nbformat": 4,
 "nbformat_minor": 5
}
