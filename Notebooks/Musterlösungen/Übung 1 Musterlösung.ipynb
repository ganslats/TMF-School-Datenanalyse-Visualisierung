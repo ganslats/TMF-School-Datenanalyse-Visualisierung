{
 "cells": [
  {
   "cell_type": "markdown",
   "id": "abroad-institute",
   "metadata": {},
   "source": [
    "# Übung 1: Orientierung in den Daten der MIMIC-Tabelle Chartevents"
   ]
  },
  {
   "cell_type": "markdown",
   "id": "streaming-johnston",
   "metadata": {},
   "source": [
    "## Bibliotheken & Konfiguration"
   ]
  },
  {
   "cell_type": "code",
   "execution_count": null,
   "id": "refined-calendar",
   "metadata": {},
   "outputs": [],
   "source": [
    "packages <- c(\"readr\", \"dplyr\")\n",
    "install.packages(setdiff(packages, rownames(installed.packages())))\n",
    "lapply(packages, require, character.only = TRUE)\n",
    "\n",
    "base_url <- \"https://raw.githubusercontent.com/ganslats/TMF-School-Datenanalyse-Visualisierung/master/Rohdaten/\""
   ]
  },
  {
   "cell_type": "markdown",
   "id": "fc80c8ba-6f20-45f7-bf3e-06c73493661d",
   "metadata": {
    "tags": []
   },
   "source": [
    "## Vorbereitende Schritte\n",
    "\n",
    "#### MIMIC III-Daten laden\n",
    "\n",
    "Hinweis: das Laden der Daten (vor allem Chartevents-Tabelle) kann etwas dauern"
   ]
  },
  {
   "cell_type": "code",
   "execution_count": null,
   "id": "excellent-frank",
   "metadata": {},
   "outputs": [],
   "source": [
    "# Chartevents laden\n",
    "mimic.chartevents.raw <- read_csv(paste(base_url, \"mimic-iii-demo/CHARTEVENTS.csv\", sep=\"\"),\n",
    "                                  locale = readr::locale(encoding = \"UTF-8\"),\n",
    "                                  col_types = cols(row_id = col_integer(), subject_id = col_integer(), hadm_id = col_integer(), icustay_id = col_integer(), itemid = col_integer(), charttime = col_datetime(format = \"\"), storetime = col_datetime(format = \"\"), cgid = col_double(), value = col_character(), valuenum = col_double(), valueuom = col_character(), warning = col_double(), error = col_double(), resultstatus = col_character(), stopped = col_character()))\n",
    "\n",
    "# Bezeichner laden\n",
    "mimic.d_items.raw <- read_csv(paste(base_url, \"mimic-iii-demo/D_ITEMS.csv\", sep=\"\"),\n",
    "                              locale = readr::locale(encoding = \"UTF-8\"), \n",
    "                              col_types = cols(row_id = col_integer(), itemid = col_integer(), label = col_character(), abbreviation = col_character(), dbsource = col_character(), linksto = col_character(), category = col_character(), unitname = col_character(), param_type = col_character(), conceptid = col_character()))\n",
    "\n",
    "# Bezeichner hinzufügen & auf relevante Spalten einschränken\n",
    "mimic.chartevents.annotated <- mimic.chartevents.raw %>%\n",
    "  inner_join(mimic.d_items.raw %>% select(itemid, category, label), by = \"itemid\") %>%\n",
    "  select(subject_id, hadm_id, itemid, charttime, valuenum, valueuom, category, label)"
   ]
  },
  {
   "cell_type": "markdown",
   "id": "d2d0138c-8915-4a9b-9a8f-8c0349f39884",
   "metadata": {},
   "source": [
    "## Überblick der geladenen Daten\n",
    "\n",
    "Wir haben die Tabelle `CHARTEVENTS` geladen, in der Ereignisse aus der Patientenkurve gesammelt werden. Da die Ereignisse in dieser Tabelle nur über eine numerische ID (`itemid`) dargestellt sind, haben wir die Tabelle `D_ITEMS` hinzugefügt, in der für jedes Ereignis eine Kategorie und ein Bezeichner geführt werden. Wir haben außerdem alle Spalten entfernt, die wir für diese Übung nicht brauchen.\n",
    "\n",
    "Die zusammengeführte Tabelle hat folgende Spalten:\n",
    "* subject_id: Patienten-ID\n",
    "* hadm_id: Fallnummer\n",
    "* itemid: ID für den Typ des Ereignisses (z.B. für eine Temperaturmessung)\n",
    "* charttime: Zeitpunkt des Ereignisses\n",
    "* valuenum: Ausprägung des Ereignisses als Zahl (z.B. die Temperatur)\n",
    "* valueuom: Einheit der Ausprägung (Unit of measure, z.B. mmol/l)\n",
    "* category: Kategorie des Ereignisses aus der Tabelle `D_ITEMS`\n",
    "* label: Bezeichner des Ereignisses aus der Tabelle `D_ITEMS`"
   ]
  },
  {
   "cell_type": "code",
   "execution_count": null,
   "id": "a26093b2-ccb5-4712-ab81-729e94e8c8ac",
   "metadata": {
    "tags": []
   },
   "outputs": [],
   "source": [
    "# Erste Zeilen der zusammengeführten Chartevents-Tabelle anzeigen\n",
    "head(mimic.chartevents.annotated)"
   ]
  },
  {
   "cell_type": "markdown",
   "id": "353fa8bd-c208-4447-9ba7-09171ab52466",
   "metadata": {
    "tags": []
   },
   "source": [
    "# Demo\n",
    "\n",
    "### Sichtung der Kategorien von Ereignissen in der Patientenkurve\n",
    "\n",
    "Im folgenden Beispiel schauen wir uns an, welche übergeordneten Kategorien von Ereignissen mit welcher Häufigkeit im Datensatz erfasst wurden.\n",
    "\n",
    "Hierzu nutzen wir die Funktionen des `dplyr`-Pakets, um die Datensätze der Tabelle zusammenzufassen.\n",
    "\n",
    "In einem ersten Schritt schauen wir nur, welche Kategorien überhaupt im Datensatz vorkommen. Hierzu nutzen wir \n",
    "die `select()`-Funktion, die Spalte `category` auszuwählen, und fassen sie anschließend mit der `distinct()`-Funktion\n",
    "auf eindeutige Werte zusammen. Die Teilschritte verbinden wir dabei mit dem Pipeline-Symbol `%>%`: "
   ]
  },
  {
   "cell_type": "code",
   "execution_count": null,
   "id": "05c94544-096e-42f4-8af4-f96b32db5a31",
   "metadata": {
    "tags": []
   },
   "outputs": [],
   "source": [
    "# Eindeutige Ausprägungen der Spalte \"category\" abfragen\n",
    "mimic.chartevents.annotated %>%\n",
    "    select(category) %>%\n",
    "    distinct()"
   ]
  },
  {
   "cell_type": "markdown",
   "id": "e6aadad9-0848-42f1-b7e0-806dcd8945c3",
   "metadata": {},
   "source": [
    "Sie sehen eine Liste von 38 Kategorien, die unsortiert ausgegeben werden.\n",
    "\n",
    "Im nächsten Schritt wollen wir zählen, wie häufig die Kategorien im Datensatz erfasst wurden.\n",
    "\n",
    "Hierzu nutzen wir die `group_by()` Funktion, um die `category`-Spalte als Aggregationsmerkmal auszuwählen und zählen anschließend mit der Funktion `summarize(n = n())` die Anzahl der jeweils zugeordneten Datensätze. Um eine Warnmeldung zu vermeiden, nutzen wir dabei die Option `.groups = \"keep\"`. Mit der Funktion `arrange(desc(n))` sortieren wir das Ergebnis absteigend nach der Anzahl:"
   ]
  },
  {
   "cell_type": "code",
   "execution_count": null,
   "id": "71758c53-9680-4588-b5dd-8f68b4b6b12a",
   "metadata": {
    "tags": []
   },
   "outputs": [],
   "source": [
    "# Ereignisse pro Kategorie zählen und absteigend sortiert ausgeben\n",
    "mimic.chartevents.annotated %>%\n",
    "    group_by(category) %>%\n",
    "    summarize(n = n(), .groups = \"keep\") %>%\n",
    "    arrange(desc(n))"
   ]
  },
  {
   "cell_type": "markdown",
   "id": "f6acf677-0747-442e-a672-6f37b94fd77d",
   "metadata": {},
   "source": [
    "Wir sehen, dass am häufigsten \"NA\" angegeben wird, entsprechend Ereignissen ohne Kategorie. Die nächsthäufigste Kategorie ist \"Routine Vital Signs\" für die Vitalzeichen.\n",
    "\n",
    "Wir wollen jetzt genauer nachschauen, welche Ereignisse konkret in dieser Kategorie mit welcher Häufigkeit verwendet werden. Hierzu ergänzen wir das vorherige Statement einfach wie folgt:\n",
    "* wir schränken die Tabelle mit der Funktion `filter(category == \"Routine Vital Signs\")` auf diese Kategorie ein\n",
    "* wir fügen die Spalte `label` als weiteres Gruppierungsmerkmal in der `group_by()`-Funktion hinzu"
   ]
  },
  {
   "cell_type": "code",
   "execution_count": null,
   "id": "3d7e5c14-802a-4527-9105-fb4ce4aad067",
   "metadata": {
    "tags": []
   },
   "outputs": [],
   "source": [
    "# Ereignisse pro Label in der Kategorie \"Routine Vital Signs\" zählen und absteigend sortiert ausgeben\n",
    "mimic.chartevents.annotated %>%\n",
    "    filter(category == \"Routine Vital Signs\") %>%\n",
    "    group_by(category, label) %>%\n",
    "    summarize(n = n(), .groups = \"keep\") %>%\n",
    "    arrange(desc(n))"
   ]
  },
  {
   "cell_type": "markdown",
   "id": "86087550-df3d-4cb3-b57f-ccb60216d345",
   "metadata": {},
   "source": [
    "Wir wollen uns jetzt das Ereignis \"Heart Rate\" näher anschauen und dazu den Median, Minimum und Maximum der numerischen Ausprägung (Spalte `valuenum`) bestimmen.\n",
    "\n",
    "Hierzu passen wir das Statement wie folgt an:\n",
    "* wir fügen `label == \"Heart Rate\"` als zusätzliches Kriterium in der `filter()`-Funktion hinzu\n",
    "* wir streichen die `group_by()`-Funktion, da wir über alle verbleibenden Datensätze aggregieren\n",
    "* wir ersetzen das Zählen der Datensätze in der `summarize()`-Funktion durch Aggregationen für Median, Minimum und Maximum"
   ]
  },
  {
   "cell_type": "code",
   "execution_count": null,
   "id": "8834b120-a74a-4459-8191-5cdfd8d146d5",
   "metadata": {
    "tags": []
   },
   "outputs": [],
   "source": [
    "# Median, Minimum und Maximum der Herzfrequenz berechnen\n",
    "mimic.chartevents.annotated %>%\n",
    "    filter(category == \"Routine Vital Signs\", label == \"Heart Rate\") %>%\n",
    "    summarize(value_median = median(valuenum),\n",
    "              value_min    = min(valuenum),\n",
    "              value_max    = max(valuenum)\n",
    "             ) "
   ]
  },
  {
   "cell_type": "markdown",
   "id": "0d25eecc-3341-4782-ad82-561e0554abe9",
   "metadata": {},
   "source": [
    "Abschließend wollen wir die gleichen Maßzahlen für alle systolischen Blutdruck-Ereignisse bestimmen. Wie Sie oben in der Liste der Ereignistypen in der Kategorie Vitalzeichen sehen können, gibt es für den systolischen Blutdruck anders als bei der Herzfrequenz mehrere unterschiedliche Merkmale. Um alle relevanten Merkmale auszuwerten, könnten Sie alle 5 Bezeichnungen als Kriterien in die `filter()`-Funktion aufnehmen. Einfacher ist es hier, nur das Wort `sytolic` im Text zu suchen, was mit der `grepl()`-Funktion möglich ist. Da das Wort sowohl in Groß- als auch Kleinschreibung auftaucht, müssen wir die Bezeichnung vorher noch auf Kleinschreibung umstellen.\n",
    "\n",
    "Hierzu passen wir das Statement wie folgt an:\n",
    "* Ersetzen des Filterkriteriums `label == \"Heart Rate\"` durch eine Textsuche mit der `grepl()`-Funktion und Kleinschreibung der label-Spalte mit der `tolower()`-Funktion\n",
    "* Wiederaufnahme einer `group_by()`-Funktion für die Spalte label\n",
    "* dazu passend Ergänzung der Option `groups = \"keep\"` in der `summarize()`-Funktion"
   ]
  },
  {
   "cell_type": "code",
   "execution_count": null,
   "id": "502de13b-6d94-431b-b3cf-88db2d0d602b",
   "metadata": {
    "tags": []
   },
   "outputs": [],
   "source": [
    "# Median, Minimum und Maximum aller systolischen Blutdruckereignisse berechnen\n",
    "mimic.chartevents.annotated %>%\n",
    "    filter(category == \"Routine Vital Signs\", grepl(\"systolic\", tolower(label))) %>%\n",
    "    group_by(label) %>%\n",
    "    summarize(value_median = median(valuenum),\n",
    "              value_min    = min(valuenum),\n",
    "              value_max    = max(valuenum),\n",
    "              .groups = \"keep\"\n",
    "             ) "
   ]
  },
  {
   "cell_type": "markdown",
   "id": "86001958-7dc3-4433-9958-6d650fec4fff",
   "metadata": {},
   "source": [
    "Wir können hier erkennen, dass die manuell gemessenen Werte in der Regel niedriger sind, außerdem gibt es einen eindeutigen Ausreißer (11.647) bei der noninvasiven Messung."
   ]
  },
  {
   "cell_type": "markdown",
   "id": "674fa794-45d8-44ef-8b74-b0c9bd650623",
   "metadata": {},
   "source": [
    "# Aufgaben\n",
    "\n",
    "Ab hier sollen Sie sich selbst in den Daten der Chartevents-Tabelle umschauen und dazu für konkrete Fragestellungen die im obigen Beispiel gezeigten Abfragen in kleinen Schritten anpassen.\n",
    "\n",
    "### Aufgabe 1: Befunde der Kategorie \"Labs\" betrachten\n",
    "\n",
    "Statt der Kategorie \"Routine Vital Signs\" soll jetzt die Kategorie \"Labs\" untersucht werden. Konkret wollen wir wissen, wie oft die darin enthaltenen Merkmale im Datensatz vorkommen. Die Ergebnisliste soll absteigend nach Häufigkeit sortiert sein.\n",
    "\n",
    "Sie können hierzu die Abfrage oben für die Zählung der Merkmale bei den Vitalzeichen kopieren und anpassen. Notwendige Änderungen:\n",
    "* Austausch des Kategorienamens"
   ]
  },
  {
   "cell_type": "code",
   "execution_count": null,
   "id": "a059cddb-a1fe-4584-8d40-0d883559eff6",
   "metadata": {
    "tags": []
   },
   "outputs": [],
   "source": [
    "# Ereignisse pro Label in der Kategorie \"Labs\" zählen und absteigend sortiert ausgeben\n",
    "mimic.chartevents.annotated %>%\n",
    "    filter(category == \"Labs\") %>%\n",
    "    group_by(category, label) %>%\n",
    "    summarize(n = n(), .groups = \"keep\") %>%\n",
    "    arrange(desc(n))"
   ]
  },
  {
   "cell_type": "markdown",
   "id": "f65c8ee3-c445-4614-8185-75fab6dad95f",
   "metadata": {},
   "source": [
    "Wir sehen, dass es 83 Merkmale in der Kategorie \"Labs\" gibt, und dass die Glucosemessung per Teststreifen am häufigsten erfasst wurde.\n",
    "\n",
    "### Aufgabe 2: Ausprägungen für der Glucose-Messungen auswerten\n",
    "\n",
    "Als nächstes wollen wir die Auswertung des systolischen Blutdrucks auf die Glucose-Messungen übertragen. Auch hier gibt es mehrere Merkmale, die das Wort Glucose in unterschiedlichen Kombinationen enthalten. Die Auswertung soll das Label, Median, Minimum und Maximum enthalten.\n",
    "\n",
    "Sie können hierzu die Abfrage oben für die Auswertung der systolischen Blutdrücke kopieren und anpassen. Notwendige Änderungen:\n",
    "* Austausch des Kategorienamens gegen \"Labs\"\n",
    "* Austausch des zu filternden Labels gegen \"glucose\""
   ]
  },
  {
   "cell_type": "code",
   "execution_count": null,
   "id": "d9e1f0a1-cd95-499c-a4be-fa35c8049509",
   "metadata": {
    "tags": []
   },
   "outputs": [],
   "source": [
    "# Median, Minimum und Maximum aller Glucose-Messungen berechnen\n",
    "mimic.chartevents.annotated %>%\n",
    "    filter(category == \"Labs\", grepl(\"glucose\", tolower(label))) %>%\n",
    "    group_by(label) %>%\n",
    "    summarize(value_median = median(valuenum),\n",
    "              value_min    = min(valuenum),\n",
    "              value_max    = max(valuenum),\n",
    "              .groups = \"keep\"\n",
    "             ) "
   ]
  },
  {
   "cell_type": "markdown",
   "id": "202801c1-2d25-4dca-b7ae-02716959ad6d",
   "metadata": {},
   "source": [
    "Wir sehen, dass es 3 verschiedene Glucose-Merkmale gibt. "
   ]
  }
 ],
 "metadata": {
  "kernelspec": {
   "display_name": "R",
   "language": "R",
   "name": "ir"
  },
  "language_info": {
   "codemirror_mode": "r",
   "file_extension": ".r",
   "mimetype": "text/x-r-source",
   "name": "R",
   "pygments_lexer": "r",
   "version": "4.2.3"
  }
 },
 "nbformat": 4,
 "nbformat_minor": 5
}
