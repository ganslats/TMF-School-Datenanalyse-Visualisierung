{
 "cells": [
  {
   "cell_type": "markdown",
   "id": "abroad-institute",
   "metadata": {},
   "source": [
    "# Block 7 Übung 2: Visualisierung von Vitalparametern"
   ]
  },
  {
   "cell_type": "markdown",
   "id": "streaming-johnston",
   "metadata": {},
   "source": [
    "## Bibliotheken & Konfiguration"
   ]
  },
  {
   "cell_type": "code",
   "execution_count": null,
   "id": "refined-calendar",
   "metadata": {},
   "outputs": [],
   "source": [
    "packages <- c(\"readr\", \"dplyr\", \"ggplot2\", \"gridExtra\")\n",
    "install.packages(setdiff(packages, rownames(installed.packages())))\n",
    "lapply(packages, require, character.only = TRUE)\n",
    "\n",
    "base_url <- \"https://raw.githubusercontent.com/ganslats/TMF-School-2022-Block-4/master/Rohdaten/\""
   ]
  },
  {
   "cell_type": "markdown",
   "id": "sorted-wedding",
   "metadata": {},
   "source": [
    "## MIMIC III-Basisdaten laden"
   ]
  },
  {
   "cell_type": "code",
   "execution_count": null,
   "id": "excellent-frank",
   "metadata": {},
   "outputs": [],
   "source": [
    "# Patientenstammdaten laden\n",
    "mimic.patients.raw <- read_csv(paste(base_url, \"mimic-iii-demo/PATIENTS.csv\", sep=\"\"),\n",
    "                               col_types = cols(row_id = col_integer(), subject_id = col_integer(), gender = col_character(), dob = col_datetime(format = \"\"), dod = col_datetime(format = \"\"), dod_hosp = col_datetime(format = \"\"), dod_ssn = col_datetime(format = \"\"), expire_flag = col_double()))\n",
    "\n",
    "# Behandlungsfälle laden\n",
    "mimic.admissions.raw <- read_csv(paste(base_url, \"mimic-iii-demo/ADMISSIONS.csv\", sep=\"\"),\n",
    "                                 col_types = cols(  row_id = col_integer(), subject_id = col_integer(), hadm_id = col_integer(), admittime = col_datetime(format = \"\"), dischtime = col_datetime(format = \"\"), deathtime = col_datetime(format = \"\"), admission_type = col_character(), admission_location = col_character(), discharge_location = col_character(), insurance = col_character(), language = col_character(), religion = col_character(), marital_status = col_character(), ethnicity = col_character(), edregtime = col_datetime(format = \"\"), edouttime = col_datetime(format = \"\"), diagnosis = col_character(), hospital_expire_flag = col_double(), has_chartevents_data = col_double()))\n",
    "\n",
    "# Intensivaufenthalte laden\n",
    "mimic.icustays.raw <- read_csv(paste(base_url, \"mimic-iii-demo/ICUSTAYS.csv\", sep=\"\"),\n",
    "                               col_types = cols(row_id = col_integer(), subject_id = col_integer(), hadm_id = col_integer(), icustay_id = col_integer(), dbsource = col_character(), first_careunit = col_character(), last_careunit = col_character(), first_wardid = col_double(), last_wardid = col_double(), intime = col_datetime(format = \"\"), outtime = col_datetime(format = \"\"), los = col_double()))\n"
   ]
  },
  {
   "cell_type": "markdown",
   "id": "gothic-cookbook",
   "metadata": {},
   "source": [
    "## MIMIC III-Chartevents laden\n",
    "\n",
    "Hinweis: dieser Schritt kann wegen der Größe der Tabelle (>75MB) etwas dauern."
   ]
  },
  {
   "cell_type": "code",
   "execution_count": null,
   "id": "front-formula",
   "metadata": {},
   "outputs": [],
   "source": [
    "# Chartevents laden\n",
    "mimic.chartevents.raw <- read_csv(paste(base_url, \"mimic-iii-demo/CHARTEVENTS.csv\", sep=\"\"),\n",
    "                                  col_types = cols(row_id = col_integer(), subject_id = col_integer(), hadm_id = col_integer(), icustay_id = col_integer(), itemid = col_integer(), charttime = col_datetime(format = \"\"), storetime = col_datetime(format = \"\"), cgid = col_double(), value = col_character(), valuenum = col_double(), valueuom = col_character(), warning = col_double(), error = col_double(), resultstatus = col_character(), stopped = col_character()))"
   ]
  },
  {
   "cell_type": "markdown",
   "id": "finnish-density",
   "metadata": {},
   "source": [
    "### Bezeichner ergänzen"
   ]
  },
  {
   "cell_type": "code",
   "execution_count": null,
   "id": "seven-manufacturer",
   "metadata": {},
   "outputs": [],
   "source": [
    "# Bezeichner laden\n",
    "mimic.d_items.raw <- read_csv(paste(base_url, \"mimic-iii-demo/D_ITEMS.csv\", sep=\"\"),\n",
    "                              col_types = cols(row_id = col_integer(), itemid = col_integer(), label = col_character(), abbreviation = col_character(), dbsource = col_character(), linksto = col_character(), category = col_character(), unitname = col_character(), param_type = col_character(), conceptid = col_character()))\n",
    "\n",
    "# Bezeichner hinzufügen\n",
    "mimic.chartevents.annotated <- mimic.chartevents.raw %>%\n",
    "  inner_join(mimic.d_items.raw %>% select(itemid, category, label), by = \"itemid\")"
   ]
  },
  {
   "cell_type": "markdown",
   "id": "extraordinary-wonder",
   "metadata": {},
   "source": [
    "## Bereitgestelltes Mapping der Vitalparameter auf LOINC laden"
   ]
  },
  {
   "cell_type": "code",
   "execution_count": null,
   "id": "prerequisite-greeting",
   "metadata": {},
   "outputs": [],
   "source": [
    "map.vitalparameter <- read_delim(paste(base_url, \"%C3%9Cbung/map_chartevents_vitalzeichen.csv\", sep=\"\"), delim = \";\",\n",
    "                                 col_types = cols(group_id = col_character(), group_name = col_character(), itemid = col_double(), label = col_character(), loinc_code_generic = col_character(), loinc_name_generic = col_character(), loinc_code_specific = col_character(), loinc_name_specific = col_character()))\n",
    "head(map.vitalparameter)"
   ]
  },
  {
   "cell_type": "markdown",
   "id": "conscious-charleston",
   "metadata": {},
   "source": [
    "## Vitalparameter mit Hilfe des Mappings aus den Chartevents auslesen"
   ]
  },
  {
   "cell_type": "code",
   "execution_count": null,
   "id": "animal-jordan",
   "metadata": {},
   "outputs": [],
   "source": [
    "vitalparameter <- mimic.chartevents.annotated %>% \n",
    "    select(subject_id, hadm_id, icustay_id, itemid, charttime, valuenum, valueuom, warning, error) %>%\n",
    "    inner_join(map.vitalparameter, by = \"itemid\")\n",
    "head(vitalparameter)"
   ]
  },
  {
   "cell_type": "markdown",
   "id": "sporting-hamburg",
   "metadata": {},
   "source": [
    "## Aufgabe: Visualisieren Sie Vitalparameterverläufe einzelner Intensiv-Aufenthalte mit ggplot!\n",
    "\n",
    "Hier können Sie das Wissen aus dem Abschnitt 4, Demo 2 (Daten abfragen mit Tidyverse) und dem Abschnitt 6, Demo 1 (Daten visualisieren, Diagramme) anwenden.\n",
    "* zugehörige Notebooks: [teil-4-demo-02-abfragen-tidyverse.ipynb](https://github.com/ganslats/TMF-School-2021-Block-7/blob/main/Notebooks/teil-4-demo-02-abfragen-tidyverse.ipynb), [teil-6-demo-01-visualisieren-diagramme.ipynb](https://github.com/ganslats/TMF-School-2021-Block-7/blob/main/Notebooks/teil-6-demo-01-visualisieren-diagramme.ipynb)\n",
    "* nutzen Sie gerne auch das [ggplot2-Cheat Sheet von RStudio](https://github.com/rstudio/cheatsheets/raw/master/data-visualization-2.1.pdf)\n",
    "\n",
    "Filtern Sie den oben generierten Vitalparameter-Datensatz auf die Inhalte jeweils eines der folgenden Intensivaufenthalte mit Hilfe der Spalte `icustay_id`:\n",
    "* 249805\n",
    "* 276601\n",
    "* weitere `ìcustay_id`-Nummern können Sie aus dem Tibble `mimic.icustays.raw` entnehmen und sich dabei z.B. an der Länge des Aufenthalts in der Spalte `los` (length of stay) orientieren\n",
    "\n",
    "Tipps zu ggplot:\n",
    "* überlegen Sie, welche Variablen Sie für die x- und y-Achsen in der `aes()`-Funktion einsetzen möchten\n",
    "* Sie können mehrere Variablen im gleichen Diagramm unterscheiden, indem Sie z.B. die Farbe (`fill`-Attribut) über die Variable setzen\n",
    "* Sie können Variablen auf mehrere (Teil-)Diagramme aufteilen, indem Sie die `facet_wrap()`-Funktion benutzen\n",
    "* alternativ können Sie auch mehrere Plots getrennt erstellen und über die `grid.arrange()`-Funktion des Pakets gridExtra explizit layouten\n",
    "* mit der `ylim(von, bis)`-Funktion können Sie festlegen welchen Wertebereich die Y-Skala abdecken soll\n",
    "* mit der `ylab(titel)`-Funktion können Sie den Titel der y-Achase festlegen"
   ]
  },
  {
   "cell_type": "markdown",
   "id": "micro-cassette",
   "metadata": {},
   "source": [
    "### Stellen Sie alle Vitalparameter in einer gemeinsamen Grafik dar!"
   ]
  },
  {
   "cell_type": "code",
   "execution_count": null,
   "id": "unlikely-commissioner",
   "metadata": {},
   "outputs": [],
   "source": [
    "# Visualisierung der Vitalparameterverläufe eines Intensivaufenthalts in einer gemeinsamen Grafik\n",
    "options(repr.plot.width = 10, repr.plot.height = 5)\n",
    "ggplot(data = vitalparameter %>% filter(icustay_id == 223177), aes(x = charttime, y = valuenum, shape = group_name, color = loinc_name_generic)) +\n",
    "    geom_point()"
   ]
  },
  {
   "cell_type": "markdown",
   "id": "crazy-plain",
   "metadata": {},
   "source": [
    "### Stellen Sie Blutdruck, Puls & Temperatur in jeweils getrennten Grafiken dar!"
   ]
  },
  {
   "cell_type": "code",
   "execution_count": null,
   "id": "mental-jenny",
   "metadata": {},
   "outputs": [],
   "source": [
    "# Aufteilung der Parameter in mehrere Grafiken\n",
    "# Option 1: Nutzung von facet_wrap()\n",
    "options(repr.plot.width = 10, repr.plot.height = 5)\n",
    "ggplot(data = vitalparameter %>% filter(icustay_id == 223177), aes(x = charttime, y = valuenum, color = loinc_name_generic)) +\n",
    "    geom_point() +\n",
    "    facet_wrap(~group_id, ncol = 1)"
   ]
  },
  {
   "cell_type": "code",
   "execution_count": null,
   "id": "tender-hamburg",
   "metadata": {},
   "outputs": [],
   "source": [
    "# Aufteilung der Parameter in mehrere Grafiken\n",
    "# Option 2: Nutzung von Einzelplots, die anschließend layouted werden\n",
    "# Vorteil: Größe & Skalen können individuell eingestellt werden\n",
    "options(repr.plot.width = 10, repr.plot.height = 5)\n",
    "plot.rr   <- ggplot(data = vitalparameter %>% filter(icustay_id == 223177, group_id == \"BP\"),   aes(x = charttime, y = valuenum, color = loinc_name_generic)) +\n",
    "    geom_point() +\n",
    "    ylim(0, 250) +\n",
    "    ylab(\"Blood pressure [mmHg]\") +\n",
    "    theme(legend.text = element_text(size = 7),\n",
    "          axis.title.y = element_text(size = 7))\n",
    "plot.hr   <- ggplot(data = vitalparameter %>% filter(icustay_id == 223177, group_id == \"HR\"),   aes(x = charttime, y = valuenum, color = loinc_name_generic)) +\n",
    "    geom_point() +\n",
    "    ylim(0, 250) +\n",
    "    ylab(\"Heart rate [bpm]\") +\n",
    "    theme(legend.text = element_text(size = 7),\n",
    "          axis.title.y = element_text(size = 7))\n",
    "plot.temp <- ggplot(data = vitalparameter %>% filter(icustay_id == 223177, group_id == \"Temp\"), aes(x = charttime, y = valuenum, color = loinc_name_generic)) +\n",
    "    geom_point() +\n",
    "    ylim(32, 42) +\n",
    "    ylab(\"Body temperatur [°C]\") +\n",
    "    theme(legend.text = element_text(size = 7),\n",
    "          axis.title.y = element_text(size = 7))\n",
    "\n",
    "# grid.arrange aus dem Paket gridExtra erlaubt es Grafiken explizit auf die Felder einer Matrix zu setzen\n",
    "# im Attribut layout_matrix können werden die vorher angegebenen Plots der Reihe nach in die jeweiligen Zellen der Matrix gesetzt\n",
    "grid.arrange(plot.rr, plot.hr, plot.temp,\n",
    "             layout_matrix = rbind(c(1), c(2), c(3)))"
   ]
  }
 ],
 "metadata": {
  "kernelspec": {
   "display_name": "R",
   "language": "R",
   "name": "ir"
  },
  "language_info": {
   "codemirror_mode": "r",
   "file_extension": ".r",
   "mimetype": "text/x-r-source",
   "name": "R",
   "pygments_lexer": "r",
   "version": "4.0.5"
  }
 },
 "nbformat": 4,
 "nbformat_minor": 5
}
